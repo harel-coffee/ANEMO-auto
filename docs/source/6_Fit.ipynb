{
 "cells": [
  {
   "cell_type": "markdown",
   "metadata": {},
   "source": [
    "# Fit"
   ]
  },
  {
   "cell_type": "raw",
   "metadata": {
    "raw_mimetype": "text/restructuredtext"
   },
   "source": [
    ".. _before using the function:"
   ]
  },
  {
   "cell_type": "markdown",
   "metadata": {},
   "source": [
    "## before using the functions"
   ]
  },
  {
   "cell_type": "markdown",
   "metadata": {},
   "source": [
    "for use these functions, you will need :"
   ]
  },
  {
   "cell_type": "raw",
   "metadata": {
    "raw_mimetype": "text/restructuredtext"
   },
   "source": [
    "- to use :mod:`~ANEMO.ANEMO.ANEMO`"
   ]
  },
  {
   "cell_type": "code",
   "execution_count": 1,
   "metadata": {},
   "outputs": [],
   "source": [
    "from ANEMO import ANEMO\n",
    "\n",
    "param_exp = {'N_trials' : 2, 'N_blocks' : 2,\n",
    "             'dir_target' : [[-1, 1], [1, -1]],\n",
    "             'px_per_deg' : 36.51}\n",
    "\n",
    "A = ANEMO(param_exp)"
   ]
  },
  {
   "cell_type": "raw",
   "metadata": {
    "raw_mimetype": "text/restructuredtext"
   },
   "source": [
    "- to define Fit"
   ]
  },
  {
   "cell_type": "code",
   "execution_count": 2,
   "metadata": {},
   "outputs": [],
   "source": [
    "Fit = A.Fit(param_exp)"
   ]
  },
  {
   "cell_type": "raw",
   "metadata": {
    "raw_mimetype": "text/restructuredtext"
   },
   "source": [
    "- to use :func:`~ANEMO.read_edf`"
   ]
  },
  {
   "cell_type": "code",
   "execution_count": 3,
   "metadata": {},
   "outputs": [],
   "source": [
    "from ANEMO import read_edf\n",
    "\n",
    "datafile = 'name_data_file.asc'\n",
    "data = read_edf(datafile, start='TRIALID')"
   ]
  },
  {
   "cell_type": "raw",
   "metadata": {
    "raw_mimetype": "text/restructuredtext"
   },
   "source": [
    "- to use :func:`~ANEMO.ANEMO.ANEMO.arg`"
   ]
  },
  {
   "cell_type": "code",
   "execution_count": 4,
   "metadata": {},
   "outputs": [],
   "source": [
    "block, trial  = 0, 1\n",
    "trial_data = trial + param_exp['N_trials']*block\n",
    "arg = A.arg(data_trial=data[trial_data], trial=trial, block=block)"
   ]
  },
  {
   "cell_type": "raw",
   "metadata": {
    "raw_mimetype": "text/restructuredtext"
   },
   "source": [
    "- to use :func:`~ANEMO.ANEMO.ANEMO.velocity_NAN`"
   ]
  },
  {
   "cell_type": "code",
   "execution_count": 5,
   "metadata": {},
   "outputs": [],
   "source": [
    "velocity_NAN = A.velocity_NAN(data_x=arg.data_x,\n",
    "                              data_y=arg.data_y,\n",
    "                              saccades=arg.saccades,\n",
    "                              trackertime=arg.trackertime,\n",
    "                              TargetOn=arg.TargetOn)"
   ]
  },
  {
   "cell_type": "raw",
   "metadata": {
    "raw_mimetype": "text/restructuredtext"
   },
   "source": [
    "- to use :func:`~ANEMO.ANEMO.ANEMO.classical_method.Full`"
   ]
  },
  {
   "cell_type": "code",
   "execution_count": 6,
   "metadata": {},
   "outputs": [],
   "source": [
    "# time since the beginning of the trial when the target to follow appears\n",
    "TargetOn_0 = arg.TargetOn-arg.t_0\n",
    "\n",
    "classic_lat, classic_max, classic_ant = A.classical_method.Full(velocity_NAN, TargetOn_0)"
   ]
  },
  {
   "cell_type": "markdown",
   "metadata": {},
   "source": [
    "<hr style=\"height: 0px; width: 100%; border: 1px solid #B1B4B6; margin-left:0\">\n",
    "<hr style=\"height: 0px; width: 1%; border: 10px solid #B1B4B6; margin-left:0; opacity: 0\">"
   ]
  },
  {
   "cell_type": "markdown",
   "metadata": {},
   "source": [
    "## Fit"
   ]
  },
  {
   "cell_type": "raw",
   "metadata": {
    "raw_mimetype": "text/restructuredtext"
   },
   "source": [
    ".. automodule :: ANEMO.ANEMO.ANEMO.Fit\n",
    "    :members:"
   ]
  },
  {
   "cell_type": "markdown",
   "metadata": {},
   "source": [
    "### generation_param_fit"
   ]
  },
  {
   "cell_type": "raw",
   "metadata": {
    "raw_mimetype": "text/restructuredtext"
   },
   "source": [
    ".. autofunction :: ANEMO.ANEMO.ANEMO.Fit.generation_param_fit"
   ]
  },
  {
   "cell_type": "markdown",
   "metadata": {},
   "source": [
    "**Exemple:**"
   ]
  },
  {
   "cell_type": "raw",
   "metadata": {
    "raw_mimetype": "text/restructuredtext"
   },
   "source": [
    "see :ref:`here <before using the function>` before using the function"
   ]
  },
  {
   "cell_type": "code",
   "execution_count": 7,
   "metadata": {},
   "outputs": [],
   "source": [
    "param_fit, inde_var = Fit.generation_param_fit(equation='fct_velocity', data_x=arg.data_x,\n",
    "                                     dir_target=arg.dir_target, trackertime=arg.trackertime,\n",
    "                                     TargetOn=arg.TargetOn, StimulusOf=arg.StimulusOf, saccades=arg.saccades,\n",
    "                                     value_latency=classic_lat, value_maxi=classic_max, value_anti=classic_ant)"
   ]
  },
  {
   "cell_type": "code",
   "execution_count": 8,
   "metadata": {},
   "outputs": [
    {
     "data": {
      "text/plain": [
       "[{'max': 40.0,\n",
       "  'min': 5.0,\n",
       "  'name': 'steady_state',\n",
       "  'value': 15.0,\n",
       "  'vary': True},\n",
       " {'max': None, 'min': None, 'name': 'dir_target', 'value': 1, 'vary': False},\n",
       " {'max': 40.0,\n",
       "  'min': -40.0,\n",
       "  'name': 'a_anti',\n",
       "  'value': 7.1213366201041435,\n",
       "  'vary': True},\n",
       " {'max': 1122, 'min': 997, 'name': 'latency', 'value': 1022, 'vary': True},\n",
       " {'max': 997, 'min': 422, 'name': 'start_anti', 'value': 822, 'vary': 'vary'},\n",
       " {'max': 80.0, 'min': 13.0, 'name': 'tau', 'value': 15.0, 'vary': 'vary'}]"
      ]
     },
     "execution_count": 8,
     "metadata": {},
     "output_type": "execute_result"
    }
   ],
   "source": [
    "param_fit"
   ]
  },
  {
   "cell_type": "code",
   "execution_count": 9,
   "metadata": {
    "scrolled": true
   },
   "outputs": [
    {
     "data": {
      "text/plain": [
       "{'x': array([   0,    1,    2, ..., 1800, 1801, 1802])}"
      ]
     },
     "execution_count": 9,
     "metadata": {},
     "output_type": "execute_result"
    }
   ],
   "source": [
    "inde_var"
   ]
  },
  {
   "cell_type": "markdown",
   "metadata": {},
   "source": [
    "### Fit_trial"
   ]
  },
  {
   "cell_type": "raw",
   "metadata": {
    "raw_mimetype": "text/restructuredtext"
   },
   "source": [
    ".. autofunction :: ANEMO.ANEMO.ANEMO.Fit.Fit_trial"
   ]
  },
  {
   "cell_type": "markdown",
   "metadata": {},
   "source": [
    "**Exemple:**"
   ]
  },
  {
   "cell_type": "raw",
   "metadata": {
    "raw_mimetype": "text/restructuredtext"
   },
   "source": [
    "see :ref:`here <before using the function>` before using the function"
   ]
  },
  {
   "cell_type": "code",
   "execution_count": 10,
   "metadata": {
    "scrolled": true
   },
   "outputs": [],
   "source": [
    "# /!\\ Warning /!\\\n",
    "# inde_var must be the same size as data without time_sup\n",
    "\n",
    "time_sup=280\n",
    "inde_var['x'] = inde_var['x'][:-time_sup]\n",
    "\n",
    "result = Fit.Fit_trial(velocity_NAN, equation='fct_velocity',\n",
    "                       data_x=arg.data_x, dir_target=arg.dir_target,\n",
    "                       trackertime=arg.trackertime, TargetOn=arg.TargetOn,\n",
    "                       StimulusOf=arg.StimulusOf, saccades=arg.saccades,\n",
    "                       time_sup=time_sup,\n",
    "                       param_fit=param_fit, inde_vars=inde_var,\n",
    "                       value_latency=classic_lat, value_maxi=classic_max, value_anti=classic_ant)"
   ]
  },
  {
   "cell_type": "code",
   "execution_count": 11,
   "metadata": {
    "scrolled": true
   },
   "outputs": [
    {
     "name": "stdout",
     "output_type": "stream",
     "text": [
      "steady_state = 14.634110855815893\n",
      "dir_target = 1\n",
      "a_anti = 6.554708005204965\n",
      "latency = 1105.138362590692\n",
      "start_anti = 831.0000514897167\n",
      "tau = 17.394030973092214\n",
      "do_whitening = False\n"
     ]
    }
   ],
   "source": [
    "# to find the values of the fitted parameters:\n",
    "for param in result.params.keys() :\n",
    "    print(param, '=', result.params[param].value)"
   ]
  },
  {
   "cell_type": "raw",
   "metadata": {
    "raw_mimetype": "text/restructuredtext"
   },
   "source": [
    ".. warning::\n",
    "    timing of the values of the fitted parameters is the time relative at the beginning of the trial"
   ]
  },
  {
   "cell_type": "markdown",
   "metadata": {},
   "source": [
    "### Fit_full"
   ]
  },
  {
   "cell_type": "raw",
   "metadata": {
    "raw_mimetype": "text/restructuredtext"
   },
   "source": [
    ".. autofunction :: ANEMO.ANEMO.ANEMO.Fit.Fit_full"
   ]
  },
  {
   "cell_type": "markdown",
   "metadata": {},
   "source": [
    "**Exemple:**"
   ]
  },
  {
   "cell_type": "raw",
   "metadata": {
    "raw_mimetype": "text/restructuredtext"
   },
   "source": [
    "see :ref:`here <before using the function>` before using the function"
   ]
  },
  {
   "cell_type": "code",
   "execution_count": 12,
   "metadata": {},
   "outputs": [
    {
     "name": "stdout",
     "output_type": "stream",
     "text": [
      "block, trial =  0 0\n",
      "block, trial =  0 1\n",
      "block, trial =  1 0\n",
      "block, trial =  1 1\n"
     ]
    },
    {
     "data": {
      "text/plain": [
       "{'N_blocks': 2,\n",
       " 'N_trials': 2,\n",
       " 'a_anti': [[-5.263458603054076, 6.554708176826011],\n",
       "  [17.03446560846193, -23.807584045633114]],\n",
       " 'after_sacc': 15,\n",
       " 'before_sacc': 5,\n",
       " 'cutoff': 30,\n",
       " 'do_whitening': False,\n",
       " 'filt': None,\n",
       " 'latency': [[193.93220612548885, 183.13836277506653],\n",
       "  [147.25542711805315, 211.9987232004114]],\n",
       " 'maxi': [[], []],\n",
       " 'sample_rate': 1000,\n",
       " 'start_anti': [[62.99995480736379, -90.99994851028328],\n",
       "  [20.69861405958261, 74.99999956993747]],\n",
       " 'step_fit': 2,\n",
       " 'stop_search_misac': None,\n",
       " 'tau': [[72.41341850031684, 17.394030973092214],\n",
       "  [63.31132540732852, 13.000015681019875]],\n",
       " 'time_sup': 280}"
      ]
     },
     "execution_count": 12,
     "metadata": {},
     "output_type": "execute_result"
    }
   ],
   "source": [
    "param = Fit.Fit_full(data, equation='fct_velocity',\n",
    "                     list_param_enre=['start_anti', 'a_anti', 'latency',\n",
    "                                      'tau', 'maxi'])\n",
    "param"
   ]
  },
  {
   "cell_type": "raw",
   "metadata": {
    "raw_mimetype": "text/restructuredtext"
   },
   "source": [
    ".. warning::\n",
    "    timing of the values of the fitted parameters is the time relative to the appearance of the target"
   ]
  }
 ],
 "metadata": {
  "celltoolbar": "Format de la Cellule Texte Brut",
  "kernelspec": {
   "display_name": "Python 3",
   "language": "python",
   "name": "python3"
  },
  "language_info": {
   "codemirror_mode": {
    "name": "ipython",
    "version": 3
   },
   "file_extension": ".py",
   "mimetype": "text/x-python",
   "name": "python",
   "nbconvert_exporter": "python",
   "pygments_lexer": "ipython3",
   "version": "3.5.2"
  },
  "toc": {
   "base_numbering": 1,
   "nav_menu": {},
   "number_sections": true,
   "sideBar": true,
   "skip_h1_title": false,
   "title_cell": "Table of Contents",
   "title_sidebar": "Contents",
   "toc_cell": false,
   "toc_position": {},
   "toc_section_display": true,
   "toc_window_display": false
  }
 },
 "nbformat": 4,
 "nbformat_minor": 2
}
