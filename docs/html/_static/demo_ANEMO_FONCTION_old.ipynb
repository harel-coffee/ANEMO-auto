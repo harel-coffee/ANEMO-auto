{
 "cells": [
  {
   "cell_type": "code",
   "execution_count": 10,
   "metadata": {
    "ExecuteTime": {
     "end_time": "2018-05-11T11:02:53.898429Z",
     "start_time": "2018-05-11T11:02:53.532294Z"
    },
    "collapsed": true
   },
   "outputs": [],
   "source": [
    "from ANEMO import ANEMO\n",
    "from ANEMO import read_edf\n",
    "\n",
    "import numpy as np\n",
    "import pickle\n",
    "import matplotlib.pyplot as plt\n",
    "%matplotlib inline"
   ]
  },
  {
   "cell_type": "markdown",
   "metadata": {},
   "source": [
    "# Récupération des données"
   ]
  },
  {
   "cell_type": "code",
   "execution_count": 11,
   "metadata": {
    "ExecuteTime": {
     "end_time": "2018-05-11T11:02:59.663458Z",
     "start_time": "2018-05-11T11:02:53.900516Z"
    },
    "collapsed": true
   },
   "outputs": [],
   "source": [
    "datafile = 'data/enregistrement_AM_2017-10-23_100057.asc'\n",
    "\n",
    "try:\n",
    "    data = read_edf(datafile, 'TRIALID')\n",
    "except:\n",
    "    from urllib.request import urlopen\n",
    "    url = 'https://github.com/chloepasturel/AnticipatorySPEM/raw/master/data/enregistrement_AM_2017-10-23_100057.asc'\n",
    "    \n",
    "    with open(datafile, 'wb') as f:\n",
    "        f.write(urlopen(url).read())\n",
    "    urlopen(url).close()\n",
    "    f.close()\n",
    "    data = read_edf(datafile, 'TRIALID')\n",
    "    \n",
    "\n",
    "\n",
    "expfile = 'data/enregistrement_AM_2017-10-23_100057.pkl'\n",
    "\n",
    "try :\n",
    "    with open(expfile, 'rb') as fichier :\n",
    "        exp = pickle.load(fichier, encoding='latin1')\n",
    "except :\n",
    "    from urllib.request import urlopen\n",
    "    url = 'https://github.com/chloepasturel/AnticipatorySPEM/raw/master/data/enregistrement_AM_2017-10-23_100057.pkl'\n",
    "    \n",
    "    with open(expfile, 'wb') as f:\n",
    "        f.write(urlopen(url).read())\n",
    "    urlopen(url).close()\n",
    "    f.close()\n",
    "    with open(expfile, 'rb') as fichier :\n",
    "        exp = pickle.load(fichier, encoding='latin1')"
   ]
  },
  {
   "cell_type": "code",
   "execution_count": 12,
   "metadata": {
    "collapsed": true
   },
   "outputs": [],
   "source": [
    "A = ANEMO(exp)"
   ]
  },
  {
   "cell_type": "markdown",
   "metadata": {},
   "source": [
    "# Fonction"
   ]
  },
  {
   "cell_type": "code",
   "execution_count": 13,
   "metadata": {
    "collapsed": true
   },
   "outputs": [],
   "source": [
    "def fct_velocity (x, dir_target, start_anti, v_anti, latence, tau, maxi, do_whitening) :\n",
    "    v_anti = v_anti/1000 # pour passer de sec à ms\n",
    "    time = x # np.arange(len(x))\n",
    "    vitesse = []\n",
    "    y = 0\n",
    "\n",
    "    for t in range(len(time)):\n",
    "\n",
    "        if start_anti >= latence :\n",
    "            if time[t] < latence :\n",
    "                vitesse.append(0)\n",
    "            else :\n",
    "                vitesse.append(dir_target*maxi*(1-np.exp(-1/tau*(time[t]-latence))))\n",
    "        else :\n",
    "            if time[t] < start_anti :\n",
    "                vitesse.append(0)\n",
    "            else :\n",
    "                if time[t] < latence :\n",
    "                    vitesse.append((time[t]-start_anti)*v_anti)\n",
    "                    y = (time[t]-start_anti)*v_anti\n",
    "                else :\n",
    "                    vitesse.append(dir_target*maxi*(1-np.exp(-1/tau*(time[t]-latence)))+y)\n",
    "\n",
    "    if do_whitening is True:\n",
    "        vitesse = whitening(vitesse)\n",
    "\n",
    "    return vitesse"
   ]
  },
  {
   "cell_type": "code",
   "execution_count": 14,
   "metadata": {
    "collapsed": true
   },
   "outputs": [],
   "source": []
  },
  {
   "cell_type": "code",
   "execution_count": 15,
   "metadata": {
    "collapsed": true
   },
   "outputs": [],
   "source": [
    "data_trial = data[0]\n",
    "arg = A.arg(data_trial)"
   ]
  },
  {
   "cell_type": "code",
   "execution_count": 16,
   "metadata": {
    "collapsed": true
   },
   "outputs": [],
   "source": [
    "max_latence = []\n",
    "for s in range(len(arg.saccades)) :\n",
    "    if (arg.saccades[s][0]-arg.t_0) >= (arg.TargetOn-arg.t_0+100) :\n",
    "        max_latence.append((arg.saccades[s][0]-arg.t_0))\n",
    "if max_latence==[] :\n",
    "    max_latence.append(len(arg.trackertime))\n",
    "max_latence = max_latence[0]\n",
    "\n",
    "param_fit=[{'name':'tau', 'value':15., 'min':13., 'max':80., 'vary':'vary'},\n",
    "           {'name':'maxi', 'value':15, 'min':1., 'max':40., 'vary':True},\n",
    "           {'name':'dir_target', 'value':arg.dir_target, 'min':None, 'max':None, 'vary':False},\n",
    "           {'name':'v_anti', 'value':0., 'min':-40., 'max':40., 'vary':'vary'},\n",
    "           {'name':'latence', 'value':arg.TargetOn-arg.t_0+100, 'min':arg.TargetOn-arg.t_0+75, 'max':max_latence, 'vary':True},\n",
    "           {'name':'start_anti', 'value':arg.TargetOn-arg.t_0-100, 'min':arg.StimulusOf-arg.t_0-200, 'max':arg.TargetOn-arg.t_0+75, 'vary':'vary'}]\n",
    "\n",
    "\n",
    "inde_vars={'x':np.arange(len(arg.trackertime))}\n",
    "\n",
    "  "
   ]
  },
  {
   "cell_type": "code",
   "execution_count": 17,
   "metadata": {
    "collapsed": true
   },
   "outputs": [],
   "source": [
    "Plot = ANEMO.Plot(exp)"
   ]
  },
  {
   "cell_type": "code",
   "execution_count": 18,
   "metadata": {
    "ExecuteTime": {
     "end_time": "2018-05-11T11:02:59.675017Z",
     "start_time": "2018-05-11T11:02:59.673030Z"
    },
    "collapsed": true
   },
   "outputs": [],
   "source": [
    "trial=11\n",
    "block=1"
   ]
  },
  {
   "cell_type": "markdown",
   "metadata": {},
   "source": [
    "## Plot velocity"
   ]
  },
  {
   "cell_type": "code",
   "execution_count": 20,
   "metadata": {
    "ExecuteTime": {
     "end_time": "2018-05-11T11:02:59.913865Z",
     "start_time": "2018-05-11T11:02:59.676890Z"
    },
    "scrolled": true
   },
   "outputs": [
    {
     "ename": "TypeError",
     "evalue": "fct_velocity() missing 6 required positional arguments: 'start_anti', 'v_anti', 'latence', 'tau', 'maxi', and 'do_whitening'",
     "output_type": "error",
     "traceback": [
      "\u001b[0;31m---------------------------------------------------------------------------\u001b[0m",
      "\u001b[0;31mTypeError\u001b[0m                                 Traceback (most recent call last)",
      "\u001b[0;32m<ipython-input-20-2ef8626fb952>\u001b[0m in \u001b[0;36m<module>\u001b[0;34m()\u001b[0m\n\u001b[0;32m----> 1\u001b[0;31m \u001b[0mfig\u001b[0m\u001b[0;34m,\u001b[0m \u001b[0maxs\u001b[0m \u001b[0;34m=\u001b[0m \u001b[0mPlot\u001b[0m\u001b[0;34m.\u001b[0m\u001b[0mplot_equation\u001b[0m\u001b[0;34m(\u001b[0m\u001b[0mfct_velocity\u001b[0m\u001b[0;34m(\u001b[0m\u001b[0minde_vars\u001b[0m\u001b[0;34m,\u001b[0m \u001b[0mparam_fit\u001b[0m\u001b[0;34m)\u001b[0m\u001b[0;34m)\u001b[0m\u001b[0;34m\u001b[0m\u001b[0m\n\u001b[0m",
      "\u001b[0;31mTypeError\u001b[0m: fct_velocity() missing 6 required positional arguments: 'start_anti', 'v_anti', 'latence', 'tau', 'maxi', and 'do_whitening'"
     ]
    }
   ],
   "source": [
    "fig, axs = Plot.plot_equation(fct_velocity(inde_vars, param_fit))"
   ]
  },
  {
   "cell_type": "raw",
   "metadata": {},
   "source": [
    "fig, axs = Plot.plot_data(data, 'velocity', trial, block)"
   ]
  },
  {
   "cell_type": "raw",
   "metadata": {},
   "source": [
    "fig, axs = Plot.plot_fit(data, 'fct_velocity', trial, block)"
   ]
  },
  {
   "cell_type": "code",
   "execution_count": null,
   "metadata": {
    "collapsed": true
   },
   "outputs": [],
   "source": []
  },
  {
   "cell_type": "markdown",
   "metadata": {},
   "source": [
    "# Enregistrement figure"
   ]
  },
  {
   "cell_type": "raw",
   "metadata": {},
   "source": [
    "Plot.plot_Full_data(data, 'velocity', file_fig='result/velocity')"
   ]
  },
  {
   "cell_type": "raw",
   "metadata": {
    "scrolled": true
   },
   "source": [
    "Plot.plot_Full_data(data, 'position', file_fig='result/position')"
   ]
  },
  {
   "cell_type": "raw",
   "metadata": {
    "scrolled": true
   },
   "source": [
    "Plot.plot_Full_data(data, 'saccade', file_fig='result/saccade',\n",
    "                    fig_width=12/2, t_titre=20/2, t_label=14/2)"
   ]
  },
  {
   "cell_type": "code",
   "execution_count": 18,
   "metadata": {
    "collapsed": true
   },
   "outputs": [],
   "source": [
    "Fit = ANEMO.Fit(exp)"
   ]
  },
  {
   "cell_type": "code",
   "execution_count": null,
   "metadata": {},
   "outputs": [
    {
     "name": "stdout",
     "output_type": "stream",
     "text": [
      "block, trial =  0 0\n",
      "block, trial =  0 1\n",
      "block, trial =  0 2\n",
      "block, trial =  0 3\n",
      "block, trial =  0 4\n",
      "block, trial =  0 5\n",
      "block, trial =  0 6\n",
      "block, trial =  0 7\n",
      "block, trial =  0 8\n",
      "block, trial =  0 9\n",
      "block, trial =  1 0\n",
      "block, trial =  1 1\n",
      "block, trial =  1 2\n",
      "block, trial =  1 3\n",
      "block, trial =  1 4\n",
      "block, trial =  1 5\n",
      "block, trial =  1 6\n"
     ]
    }
   ],
   "source": [
    "param = Fit.Fit_full(data[:30], equation='fct_velocity', plot=True,\n",
    "                     N_blocks=3, N_trials=10, file_fig='result/Fit_velocity')\n",
    "\n",
    "# enregistre les paramêtres des fits\n",
    "with open('result/param_Fit_AM.pkl', 'wb') as fichier:\n",
    "    f = pickle.Pickler(fichier)\n",
    "    f.dump(param)"
   ]
  }
 ],
 "metadata": {
  "kernelspec": {
   "display_name": "Python 3",
   "language": "python",
   "name": "python3"
  },
  "language_info": {
   "codemirror_mode": {
    "name": "ipython",
    "version": 3
   },
   "file_extension": ".py",
   "mimetype": "text/x-python",
   "name": "python",
   "nbconvert_exporter": "python",
   "pygments_lexer": "ipython3",
   "version": "3.5.2"
  },
  "toc": {
   "base_numbering": 1,
   "nav_menu": {},
   "number_sections": true,
   "sideBar": true,
   "skip_h1_title": false,
   "title_cell": "Table of Contents",
   "title_sidebar": "Contents",
   "toc_cell": false,
   "toc_position": {},
   "toc_section_display": true,
   "toc_window_display": false
  }
 },
 "nbformat": 4,
 "nbformat_minor": 2
}
