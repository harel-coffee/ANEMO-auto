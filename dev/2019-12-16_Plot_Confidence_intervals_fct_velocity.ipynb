{
  "cells": [
    {
      "cell_type": "code",
      "source": [
        "import numpy as np\n",
        "import matplotlib.pyplot as plt\n",
        "%matplotlib inline"
      ],
      "outputs": [],
      "execution_count": null,
      "metadata": {
        "ExecuteTime": {
          "end_time": "2018-06-26T12:38:04.141125Z",
          "start_time": "2018-06-26T12:38:03.240588Z"
        }
      }
    },
    {
      "cell_type": "code",
      "source": [
        "def fct_velocity(x, latency, tau, steady_state) :\n",
        "\n",
        "    time = x\n",
        "    velocity = []\n",
        "    maxi = steady_state\n",
        "    for t in range(len(time)) :\n",
        "\n",
        "        if time[t] < latency :\n",
        "            velocity.append(0)\n",
        "        else :\n",
        "            velocity.append(maxi*(1-np.exp(-1/tau*(time[t]-latency))))\n",
        "\n",
        "    return velocity\n"
      ],
      "outputs": [],
      "execution_count": null,
      "metadata": {}
    },
    {
      "cell_type": "code",
      "source": [
        "x = np.asarray(range(0, 1000, 2))\n",
        "latency = 500\n",
        "tau = 50\n",
        "steady_state = 15\n",
        "np.random.seed(0)\n",
        "\n",
        "velo = fct_velocity(x, latency, tau, steady_state)\n",
        "velo += 1*np.random.randn(x.size)\n",
        "\n",
        "plt.plot(x, velo, 'k');"
      ],
      "outputs": [],
      "execution_count": null,
      "metadata": {}
    },
    {
      "cell_type": "code",
      "source": [
        "param_fit = [{'name':'steady_state', 'value':12,  'min':5.,  'max':40.},\n",
        "             {'name':'latency',      'value':500, 'min':100, 'max':700},\n",
        "             {'name':'tau',          'value':15., 'min':13., 'max':80.}]\n",
        "\n",
        "inde_vars = {'x': x}\n",
        "\n",
        "from lmfit import  Model, Parameters\n",
        "\n",
        "equation = fct_velocity\n",
        "\n",
        "params = Parameters()\n",
        "model = Model(equation, independent_vars=inde_vars.keys())\n",
        "\n",
        "for num_par in range(len(param_fit)) :\n",
        "    params.add(param_fit[num_par]['name'],\n",
        "               value = param_fit[num_par]['value'],\n",
        "               min   = param_fit[num_par]['min'],\n",
        "               max   = param_fit[num_par]['max'])\n",
        "\n",
        "result_deg = model.fit(velo, params, nan_policy='omit', **inde_vars)\n"
      ],
      "outputs": [],
      "execution_count": null,
      "metadata": {}
    },
    {
      "cell_type": "code",
      "source": [
        "result_deg"
      ],
      "outputs": [],
      "execution_count": null,
      "metadata": {
        "scrolled": true
      }
    },
    {
      "cell_type": "code",
      "source": [
        "result_deg.values['latency']"
      ],
      "outputs": [],
      "execution_count": null,
      "metadata": {}
    },
    {
      "cell_type": "markdown",
      "source": [
        "# NaN"
      ],
      "metadata": {}
    },
    {
      "cell_type": "code",
      "source": [
        "y1=100\n",
        "y2 = y1+40\n",
        "    \n",
        "velo = fct_velocity(x, latency, tau, steady_state)\n",
        "velo += 1*np.random.randn(x.size)\n",
        "velo[y1:y2] = np.nan\n",
        "\n",
        "plt.bar(200, 10, width=80, color='r', bottom=-5, align='edge', alpha=.5)\n",
        "plt.plot(x, velo, 'k');"
      ],
      "outputs": [],
      "execution_count": null,
      "metadata": {}
    },
    {
      "cell_type": "code",
      "source": [
        "N_test = 200\n",
        "\n",
        "std_lat = []\n",
        "for y1 in range(0, 500, 20) :\n",
        "    \n",
        "    y2 = y1+40\n",
        "    \n",
        "    velo = fct_velocity(x, latency, tau, steady_state)\n",
        "    velo += 1*np.random.randn(x.size)\n",
        "    \n",
        "    velo[y1:y2] = np.nan\n",
        "    \n",
        "    Lats = []\n",
        "    for i_test in range(N_test):\n",
        "        \n",
        "\n",
        "        for num_par in range(len(param_fit)) :\n",
        "            params.add(param_fit[num_par]['name'],\n",
        "                       value = param_fit[num_par]['value']+np.random.choice([1, -1])*(100*np.random.rand()),\n",
        "                       min   = param_fit[num_par]['min'],\n",
        "                       max   = param_fit[num_par]['max'])\n",
        "\n",
        "        result_deg = model.fit(velo, params, nan_policy='omit', **inde_vars)\n",
        "        Lats.append(result_deg.values['latency'])\n",
        "        \n",
        "    std_lat.append(np.std(Lats))\n",
        "    # print('y[', y1*2, ',', y2*2, '] =', np.mean(Lats), '+/-', np.std(Lats))\n",
        "    print(f'y[{y1*2} , {y2*2}] = {np.mean(Lats):.2f} +/- {np.std(Lats):.2f} (ms)')"
      ],
      "outputs": [],
      "execution_count": null,
      "metadata": {
        "scrolled": true
      }
    },
    {
      "cell_type": "code",
      "source": [
        "plt.plot(range(0, 1000, 40), std_lat, 'k');"
      ],
      "outputs": [],
      "execution_count": null,
      "metadata": {}
    },
    {
      "cell_type": "markdown",
      "source": [
        "## just latency\n"
      ],
      "metadata": {}
    },
    {
      "cell_type": "code",
      "source": [
        "N_test = 200\n",
        "\n",
        "std_lat = []\n",
        "for y1 in range(0, 500, 20) :\n",
        "    \n",
        "    y2 = y1+40\n",
        "    \n",
        "    velo = fct_velocity(x, latency, tau, steady_state)\n",
        "    velo += 1*np.random.randn(x.size)\n",
        "    \n",
        "    velo[y1:y2] = np.nan\n",
        "    \n",
        "    Lats = []\n",
        "    for i_test in range(N_test):\n",
        "        \n",
        "\n",
        "        for num_par in range(len(param_fit)) :\n",
        "            params.add(param_fit[num_par]['name'],\n",
        "                       value = param_fit[num_par]['value']+100*np.random.rand() if num_par == 'latency' else  param_fit[num_par]['value'],\n",
        "                       min   = param_fit[num_par]['min'],\n",
        "                       max   = param_fit[num_par]['max'])\n",
        "\n",
        "        result_deg = model.fit(velo, params, nan_policy='omit', **inde_vars)\n",
        "        Lats.append(result_deg.values['latency'])\n",
        "        \n",
        "    std_lat.append(np.std(Lats))\n",
        "    # print('y[', y1*2, ',', y2*2, '] =', np.mean(Lats), '+/-', np.std(Lats))\n",
        "    print(f'y[{y1*2} , {y2*2}] = {np.mean(Lats):.2f} +/- {np.std(Lats):.2f} (ms)')"
      ],
      "outputs": [],
      "execution_count": null,
      "metadata": {
        "scrolled": true
      }
    },
    {
      "cell_type": "code",
      "source": [
        "N_test = 200\n",
        "\n",
        "std_lat = []\n",
        "for y1 in range(0, 500, 20) :\n",
        "    \n",
        "    y2 = y1+40\n",
        "    \n",
        "    velo = fct_velocity(x, latency, tau, steady_state)\n",
        "    velo += 1*np.random.randn(x.size)\n",
        "    \n",
        "    velo[y1:y2] = np.nan\n",
        "    \n",
        "    Lats = []\n",
        "    for i_test in range(N_test):\n",
        "        \n",
        "\n",
        "        for num_par in range(len(param_fit)) :\n",
        "            params.add(param_fit[num_par]['name'],\n",
        "                       value = param_fit[num_par]['value']+np.random.choice([1, -1])*(100*np.random.rand()) if num_par == 'latency' else  param_fit[num_par]['value'],\n",
        "                       min   = param_fit[num_par]['min'],\n",
        "                       max   = param_fit[num_par]['max'])\n",
        "\n",
        "        result_deg = model.fit(velo, params, nan_policy='omit', **inde_vars)\n",
        "        Lats.append(result_deg.values['latency'])\n",
        "        \n",
        "    std_lat.append(np.std(Lats))\n",
        "    # print('y[', y1*2, ',', y2*2, '] =', np.mean(Lats), '+/-', np.std(Lats))\n",
        "    print(f'y[{y1*2} , {y2*2}] = {np.mean(Lats):.2f} +/- {np.std(Lats):.2f} (ms)')"
      ],
      "outputs": [],
      "execution_count": null,
      "metadata": {
        "scrolled": true
      }
    },
    {
      "cell_type": "code",
      "source": [],
      "outputs": [],
      "execution_count": null,
      "metadata": {
        "collapsed": false,
        "outputHidden": false,
        "inputHidden": false
      }
    },
    {
      "cell_type": "code",
      "source": [
        "plt.plot(range(0, 1000, 40), std_lat, 'k');"
      ],
      "outputs": [],
      "execution_count": null,
      "metadata": {}
    }
  ],
  "metadata": {
    "kernelspec": {
      "name": "python3",
      "language": "python",
      "display_name": "Python 3"
    },
    "language_info": {
      "name": "python",
      "version": "3.7.5",
      "mimetype": "text/x-python",
      "codemirror_mode": {
        "name": "ipython",
        "version": 3
      },
      "pygments_lexer": "ipython3",
      "nbconvert_exporter": "python",
      "file_extension": ".py"
    },
    "toc": {
      "toc_position": {},
      "skip_h1_title": false,
      "number_sections": true,
      "title_cell": "Table of Contents",
      "toc_window_display": false,
      "base_numbering": 1,
      "toc_section_display": true,
      "title_sidebar": "Contents",
      "toc_cell": false,
      "nav_menu": {},
      "sideBar": true
    },
    "kernel_info": {
      "name": "python3"
    },
    "nteract": {
      "version": "0.15.0"
    }
  },
  "nbformat": 4,
  "nbformat_minor": 4
}