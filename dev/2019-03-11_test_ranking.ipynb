{
 "cells": [
  {
   "cell_type": "code",
   "execution_count": 1,
   "metadata": {},
   "outputs": [],
   "source": [
    "import numpy as np"
   ]
  },
  {
   "cell_type": "code",
   "execution_count": 2,
   "metadata": {},
   "outputs": [],
   "source": [
    "import pickle\n",
    "import os\n",
    "file = os.path.join('extraction_svm.pkl')\n",
    "with open(file, 'rb') as fichier : extraction_svm = pickle.load(fichier, encoding='latin1')"
   ]
  },
  {
   "cell_type": "code",
   "execution_count": 3,
   "metadata": {},
   "outputs": [],
   "source": [
    "grid = extraction_svm['grid']\n",
    "y_train0 = extraction_svm['y_train']\n",
    "y_test0 = extraction_svm['y_test']\n",
    "y_pred0 = extraction_svm['y_pred']\n",
    "X_test0 = extraction_svm['X_test']\n",
    "X_train0 = extraction_svm['X_train']\n",
    "var = extraction_svm['var']"
   ]
  },
  {
   "cell_type": "code",
   "execution_count": 4,
   "metadata": {
    "scrolled": true
   },
   "outputs": [
    {
     "name": "stdout",
     "output_type": "stream",
     "text": [
      "{'C': 0.23378038720396177, 'gamma': 0.38233342215886723, 'kernel': 'rbf'} --> 0.8359167321876522\n"
     ]
    }
   ],
   "source": [
    "print(grid.best_params_, '-->', grid.best_score_)"
   ]
  },
  {
   "cell_type": "code",
   "execution_count": 5,
   "metadata": {},
   "outputs": [
    {
     "name": "stdout",
     "output_type": "stream",
     "text": [
      "(2160, 16) (2160, 15)\n"
     ]
    }
   ],
   "source": [
    "X_train, y_train = X_train0[:, :-1], y_train0\n",
    "X_test, y_test = X_test0[:, :-1], y_test0\n",
    "\n",
    "print(X_test0.shape, X_test.shape)"
   ]
  },
  {
   "cell_type": "code",
   "execution_count": 6,
   "metadata": {},
   "outputs": [],
   "source": [
    "from sklearn.model_selection import GridSearchCV\n",
    "from sklearn.svm import SVC\n",
    "\n",
    "size_c = 32\n",
    "C_range = np.logspace(-5, 10., size_c, base=2.)\n",
    "\n",
    "param_grid = [{'kernel': ['linear'], 'C': C_range}]\n",
    "\n",
    "\n",
    "grid = GridSearchCV(SVC(verbose=False, tol=1e-3, max_iter = -1, class_weight='balanced', probability=True),\n",
    "                    param_grid, verbose=0, scoring='balanced_accuracy', n_jobs=1,) #cv=50, n_jobs=-1"
   ]
  },
  {
   "cell_type": "code",
   "execution_count": 7,
   "metadata": {},
   "outputs": [
    {
     "name": "stderr",
     "output_type": "stream",
     "text": [
      "/usr/local/lib/python3.6/dist-packages/sklearn/model_selection/_split.py:2053: FutureWarning: You should specify a value for 'cv' instead of relying on the default value. The default value will change from 3 to 5 in version 0.22.\n",
      "  warnings.warn(CV_WARNING, FutureWarning)\n"
     ]
    },
    {
     "data": {
      "text/plain": [
       "GridSearchCV(cv='warn', error_score='raise-deprecating',\n",
       "       estimator=SVC(C=1.0, cache_size=200, class_weight='balanced', coef0=0.0,\n",
       "  decision_function_shape='ovr', degree=3, gamma='auto_deprecated',\n",
       "  kernel='rbf', max_iter=-1, probability=True, random_state=None,\n",
       "  shrinking=True, tol=0.001, verbose=False),\n",
       "       fit_params=None, iid='warn', n_jobs=1,\n",
       "       param_grid=[{'kernel': ['linear'], 'C': array([3.12500e-02, 4.37028e-02, 6.11180e-02, 8.54730e-02, 1.19533e-01,\n",
       "       1.67166e-01, 2.33780e-01, 3.26940e-01, 4.57222e-01, 6.39421e-01,\n",
       "       8.94225e-01, 1.25057e+00, 1.74890e+00, 2.44583e+00, 3.42047e+00,\n",
       "       4.78349e+00, 6.68967e+00, 9.35545e+00...1.36881e+02, 1.91426e+02, 2.67708e+02, 3.74387e+02, 5.23577e+02,\n",
       "       7.32218e+02, 1.02400e+03])}],\n",
       "       pre_dispatch='2*n_jobs', refit=True, return_train_score='warn',\n",
       "       scoring='balanced_accuracy', verbose=0)"
      ]
     },
     "execution_count": 7,
     "metadata": {},
     "output_type": "execute_result"
    }
   ],
   "source": [
    "X_train_ = np.zeros((len(X_train), 0))\n",
    "X_train_ = np.hstack((X_train_, X_train))\n",
    "grid.fit(X_train, y_train.ravel())"
   ]
  },
  {
   "cell_type": "code",
   "execution_count": 8,
   "metadata": {},
   "outputs": [
    {
     "name": "stdout",
     "output_type": "stream",
     "text": [
      "{'C': 0.043702843700726655, 'kernel': 'linear'} --> 0.7932419783593545\n"
     ]
    }
   ],
   "source": [
    "print(grid.best_params_, '-->', grid.best_score_)"
   ]
  },
  {
   "cell_type": "code",
   "execution_count": 9,
   "metadata": {
    "scrolled": true
   },
   "outputs": [],
   "source": [
    "from sklearn.feature_selection import RFE\n",
    "\n",
    "svc = SVC(C=grid.best_params_['C'], kernel=grid.best_params_['kernel'])\n",
    "\n",
    "rfe = RFE(estimator=svc, n_features_to_select=1)\n",
    "rfe.fit(X_train, y_train.ravel())\n",
    "ranking = rfe.ranking_"
   ]
  },
  {
   "cell_type": "code",
   "execution_count": 10,
   "metadata": {},
   "outputs": [],
   "source": [
    "import matplotlib.pyplot as plt\n",
    "%matplotlib inline"
   ]
  },
  {
   "cell_type": "code",
   "execution_count": 11,
   "metadata": {},
   "outputs": [
    {
     "data": {
      "image/png": "[encoded data removed]",
      "text/plain": [
       "<Figure size 1152x144 with 1 Axes>"
      ]
     },
     "metadata": {
      "needs_background": "light"
     },
     "output_type": "display_data"
    }
   ],
   "source": [
    "plt.matshow(ranking.reshape((1,15)), cmap=plt.cm.Reds)\n",
    "for x in range(len(ranking)) :\n",
    "    plt.text(x, -0.045, ranking[x], color=\"white\" if ranking[x] > np.max(ranking)/2 else \"black\")\n",
    "plt.xticks(range(len(var)), var, rotation=45)\n",
    "plt.yticks([]);"
   ]
  },
  {
   "cell_type": "code",
   "execution_count": null,
   "metadata": {},
   "outputs": [],
   "source": []
  }
 ],
 "metadata": {
  "kernelspec": {
   "display_name": "Python 3",
   "language": "python",
   "name": "python3"
  },
  "language_info": {
   "codemirror_mode": {
    "name": "ipython",
    "version": 3
   },
   "file_extension": ".py",
   "mimetype": "text/x-python",
   "name": "python",
   "nbconvert_exporter": "python",
   "pygments_lexer": "ipython3",
   "version": "3.6.7"
  }
 },
 "nbformat": 4,
 "nbformat_minor": 2
}
