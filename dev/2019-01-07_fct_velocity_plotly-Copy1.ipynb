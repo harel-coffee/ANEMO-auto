{
 "cells": [
  {
   "cell_type": "markdown",
   "metadata": {},
   "source": [
    "https://plot.ly/python/reference/#layout-updatemenus"
   ]
  },
  {
   "cell_type": "code",
   "execution_count": 1,
   "metadata": {},
   "outputs": [],
   "source": [
    "import ANEMO.ANEMO as A\n",
    "import numpy as np\n",
    "import pandas as pd\n",
    "import matplotlib.pyplot as plt"
   ]
  },
  {
   "cell_type": "code",
   "execution_count": 2,
   "metadata": {},
   "outputs": [
    {
     "data": {
      "text/html": [
       "<script type=\"text/javascript\">window.PlotlyConfig = {MathJaxConfig: 'local'};</script><script type=\"text/javascript\">if (window.MathJax) {MathJax.Hub.Config({SVG: {font: \"STIX-Web\"}});}</script><script>requirejs.config({paths: { 'plotly': ['https://cdn.plot.ly/plotly-latest.min']},});if(!window._Plotly) {require(['plotly'],function(plotly) {window._Plotly=plotly;});}</script>"
      ],
      "text/vnd.plotly.v1+html": [
       "<script type=\"text/javascript\">window.PlotlyConfig = {MathJaxConfig: 'local'};</script><script type=\"text/javascript\">if (window.MathJax) {MathJax.Hub.Config({SVG: {font: \"STIX-Web\"}});}</script><script>requirejs.config({paths: { 'plotly': ['https://cdn.plot.ly/plotly-latest.min']},});if(!window._Plotly) {require(['plotly'],function(plotly) {window._Plotly=plotly;});}</script>"
      ]
     },
     "metadata": {},
     "output_type": "display_data"
    }
   ],
   "source": [
    "from plotly import __version__\n",
    "from plotly.offline import download_plotlyjs, init_notebook_mode, plot, iplot\n",
    "import plotly.graph_objs as go\n",
    "\n",
    "init_notebook_mode(connected=True)"
   ]
  },
  {
   "cell_type": "code",
   "execution_count": 3,
   "metadata": {},
   "outputs": [],
   "source": [
    "time = np.arange(-750, 750, 1)\n",
    "x=np.arange(len(time))\n",
    "\n",
    "dir_target, start_anti, latence, v_anti, tau, maxi = 1, 650, 850, 10, 15, 15"
   ]
  },
  {
   "cell_type": "code",
   "execution_count": 29,
   "metadata": {},
   "outputs": [],
   "source": [
    "list_dir_target = [-1,1]\n",
    "\n",
    "# step 1\n",
    "list_lat = np.linspace(835, 1500, 1)\n",
    "list_v_anti = np.linspace(-40, 40, 1)\n",
    "list_max = np.linspace(1, 40, 1)\n",
    "\n",
    "# step 2\n",
    "list_start = np.linspace(250,835, 1)\n",
    "list_tau = np.linspace(13, 80, 1)"
   ]
  },
  {
   "cell_type": "code",
   "execution_count": 30,
   "metadata": {},
   "outputs": [],
   "source": [
    "param = dict(x=x,\n",
    "            start_anti=start_anti,\n",
    "            latence=latence,\n",
    "            v_anti=v_anti,\n",
    "            tau=tau,\n",
    "            maxi=maxi,\n",
    "            dir_target=dir_target)\n",
    "\n",
    "\n",
    "def generat_data(do_whitening=False) :\n",
    "    \n",
    "    data = []\n",
    "    \n",
    "    for var, liste in zip(['dir_target', 'latence', 'v_anti',  'maxi',  'start_anti', 'tau',],\n",
    "                          [list_dir_target, list_lat, list_v_anti, list_max, list_start, list_tau]):\n",
    "        \n",
    "        for a in range(len(liste)) :\n",
    "            new_param = param.copy()\n",
    "            new_param[var] = liste[a]\n",
    "            new_param['do_whitening']=do_whitening\n",
    "            data.append(dict(visible=False, line=dict(color='black', width=1),\n",
    "                             x=time, y=list(A.Equation.fct_velocity(**new_param)), name=''))\n",
    "    \n",
    "   \n",
    "    return data"
   ]
  },
  {
   "cell_type": "code",
   "execution_count": 31,
   "metadata": {
    "scrolled": true
   },
   "outputs": [],
   "source": [
    "data_false = generat_data(do_whitening=False)\n",
    "#data_true = generat_data(do_whitening=True)"
   ]
  },
  {
   "cell_type": "code",
   "execution_count": 44,
   "metadata": {
    "scrolled": true
   },
   "outputs": [
    {
     "ename": "ValueError",
     "evalue": "Invalid property specified for object of type plotly.graph_objs.layout.Slider: 'layout'\n\n    Valid properties:\n        active\n            Determines which button (by index starting from 0) is\n            considered active.\n        activebgcolor\n            Sets the background color of the slider grip while\n            dragging.\n        bgcolor\n            Sets the background color of the slider.\n        bordercolor\n            Sets the color of the border enclosing the slider.\n        borderwidth\n            Sets the width (in px) of the border enclosing the\n            slider.\n        currentvalue\n            plotly.graph_objs.layout.slider.Currentvalue instance\n            or dict with compatible properties\n        font\n            Sets the font of the slider step labels.\n        len\n            Sets the length of the slider This measure excludes the\n            padding of both ends. That is, the slider's length is\n            this length minus the padding on both ends.\n        lenmode\n            Determines whether this slider length is set in units\n            of plot \"fraction\" or in *pixels. Use `len` to set the\n            value.\n        minorticklen\n            Sets the length in pixels of minor step tick marks\n        name\n            When used in a template, named items are created in the\n            output figure in addition to any items the figure\n            already has in this array. You can modify these items\n            in the output figure by making your own item with\n            `templateitemname` matching this `name` alongside your\n            modifications (including `visible: false` or `enabled:\n            false` to hide it). Has no effect outside of a\n            template.\n        pad\n            Set the padding of the slider component along each\n            side.\n        steps\n            plotly.graph_objs.layout.slider.Step instance or dict\n            with compatible properties\n        stepdefaults\n            When used in a template (as\n            layout.template.layout.slider.stepdefaults), sets the\n            default property values to use for elements of\n            layout.slider.steps\n        templateitemname\n            Used to refer to a named item in this array in the\n            template. Named items from the template will be created\n            even without a matching item in the input figure, but\n            you can modify one by making an item with\n            `templateitemname` matching its `name`, alongside your\n            modifications (including `visible: false` or `enabled:\n            false` to hide it). If there is no template or no\n            matching item, this item will be hidden unless you\n            explicitly show it with `visible: true`.\n        tickcolor\n            Sets the color of the border enclosing the slider.\n        ticklen\n            Sets the length in pixels of step tick marks\n        tickwidth\n            Sets the tick width (in px).\n        transition\n            plotly.graph_objs.layout.slider.Transition instance or\n            dict with compatible properties\n        visible\n            Determines whether or not the slider is visible.\n        x\n            Sets the x position (in normalized coordinates) of the\n            slider.\n        xanchor\n            Sets the slider's horizontal position anchor. This\n            anchor binds the `x` position to the \"left\", \"center\"\n            or \"right\" of the range selector.\n        y\n            Sets the y position (in normalized coordinates) of the\n            slider.\n        yanchor\n            Sets the slider's vertical position anchor This anchor\n            binds the `y` position to the \"top\", \"middle\" or\n            \"bottom\" of the range selector.\n        ",
     "output_type": "error",
     "traceback": [
      "\u001b[0;31m---------------------------------------------------------------------------\u001b[0m",
      "\u001b[0;31mValueError\u001b[0m                                Traceback (most recent call last)",
      "\u001b[0;32m<ipython-input-44-aa074661cd0d>\u001b[0m in \u001b[0;36m<module>\u001b[0;34m()\u001b[0m\n\u001b[1;32m     36\u001b[0m                 \u001b[0mxaxis\u001b[0m\u001b[0;34m=\u001b[0m\u001b[0mdict\u001b[0m\u001b[0;34m(\u001b[0m\u001b[0mtitle\u001b[0m\u001b[0;34m=\u001b[0m\u001b[0;34m'Time (ms)'\u001b[0m\u001b[0;34m,\u001b[0m \u001b[0mrange\u001b[0m\u001b[0;34m=\u001b[0m\u001b[0;34m[\u001b[0m\u001b[0;34m-\u001b[0m\u001b[0;36m750\u001b[0m\u001b[0;34m,\u001b[0m \u001b[0;36m750\u001b[0m\u001b[0;34m]\u001b[0m\u001b[0;34m,\u001b[0m \u001b[0mtickfont\u001b[0m\u001b[0;34m=\u001b[0m\u001b[0;34m{\u001b[0m\u001b[0;34m'size'\u001b[0m\u001b[0;34m:\u001b[0m\u001b[0;36m10\u001b[0m\u001b[0;34m}\u001b[0m\u001b[0;34m)\u001b[0m\u001b[0;34m,\u001b[0m\u001b[0;34m\u001b[0m\u001b[0m\n\u001b[1;32m     37\u001b[0m                 \u001b[0myaxis\u001b[0m\u001b[0;34m=\u001b[0m\u001b[0mdict\u001b[0m\u001b[0;34m(\u001b[0m\u001b[0mtitle\u001b[0m\u001b[0;34m=\u001b[0m\u001b[0;34m'Velocity (°/s)'\u001b[0m\u001b[0;34m,\u001b[0m\u001b[0mrange\u001b[0m\u001b[0;34m=\u001b[0m\u001b[0;34m[\u001b[0m\u001b[0;34m-\u001b[0m\u001b[0;36m40\u001b[0m\u001b[0;34m,\u001b[0m \u001b[0;36m40\u001b[0m\u001b[0;34m]\u001b[0m\u001b[0;34m,\u001b[0m \u001b[0mtickfont\u001b[0m\u001b[0;34m=\u001b[0m\u001b[0;34m{\u001b[0m\u001b[0;34m'size'\u001b[0m\u001b[0;34m:\u001b[0m\u001b[0;36m10\u001b[0m\u001b[0;34m}\u001b[0m\u001b[0;34m)\u001b[0m\u001b[0;34m,\u001b[0m\u001b[0;34m\u001b[0m\u001b[0m\n\u001b[0;32m---> 38\u001b[0;31m                 sliders=sliders,  showlegend=False, font={'size':15})\n\u001b[0m\u001b[1;32m     39\u001b[0m \u001b[0;34m\u001b[0m\u001b[0m\n\u001b[1;32m     40\u001b[0m \u001b[0;34m\u001b[0m\u001b[0m\n",
      "\u001b[0;32m/usr/local/lib/python3.5/dist-packages/plotly/graph_objs/_layout.py\u001b[0m in \u001b[0;36m__init__\u001b[0;34m(self, arg, angularaxis, annotations, annotationdefaults, autosize, bargap, bargroupgap, barmode, barnorm, boxgap, boxgroupgap, boxmode, calendar, clickmode, colorway, datarevision, direction, dragmode, extendpiecolors, font, geo, grid, height, hiddenlabels, hiddenlabelssrc, hidesources, hoverdistance, hoverlabel, hovermode, images, imagedefaults, legend, mapbox, margin, modebar, orientation, paper_bgcolor, piecolorway, plot_bgcolor, polar, radialaxis, scene, selectdirection, separators, shapes, shapedefaults, showlegend, sliders, sliderdefaults, spikedistance, template, ternary, title, titlefont, updatemenus, updatemenudefaults, violingap, violingroupgap, violinmode, width, xaxis, yaxis, **kwargs)\u001b[0m\n\u001b[1;32m   4313\u001b[0m         \u001b[0mself\u001b[0m\u001b[0;34m[\u001b[0m\u001b[0;34m'showlegend'\u001b[0m\u001b[0;34m]\u001b[0m \u001b[0;34m=\u001b[0m \u001b[0mshowlegend\u001b[0m \u001b[0;32mif\u001b[0m \u001b[0mshowlegend\u001b[0m \u001b[0;32mis\u001b[0m \u001b[0;32mnot\u001b[0m \u001b[0;32mNone\u001b[0m \u001b[0;32melse\u001b[0m \u001b[0m_v\u001b[0m\u001b[0;34m\u001b[0m\u001b[0m\n\u001b[1;32m   4314\u001b[0m         \u001b[0m_v\u001b[0m \u001b[0;34m=\u001b[0m \u001b[0marg\u001b[0m\u001b[0;34m.\u001b[0m\u001b[0mpop\u001b[0m\u001b[0;34m(\u001b[0m\u001b[0;34m'sliders'\u001b[0m\u001b[0;34m,\u001b[0m \u001b[0;32mNone\u001b[0m\u001b[0;34m)\u001b[0m\u001b[0;34m\u001b[0m\u001b[0m\n\u001b[0;32m-> 4315\u001b[0;31m         \u001b[0mself\u001b[0m\u001b[0;34m[\u001b[0m\u001b[0;34m'sliders'\u001b[0m\u001b[0;34m]\u001b[0m \u001b[0;34m=\u001b[0m \u001b[0msliders\u001b[0m \u001b[0;32mif\u001b[0m \u001b[0msliders\u001b[0m \u001b[0;32mis\u001b[0m \u001b[0;32mnot\u001b[0m \u001b[0;32mNone\u001b[0m \u001b[0;32melse\u001b[0m \u001b[0m_v\u001b[0m\u001b[0;34m\u001b[0m\u001b[0m\n\u001b[0m\u001b[1;32m   4316\u001b[0m         \u001b[0m_v\u001b[0m \u001b[0;34m=\u001b[0m \u001b[0marg\u001b[0m\u001b[0;34m.\u001b[0m\u001b[0mpop\u001b[0m\u001b[0;34m(\u001b[0m\u001b[0;34m'sliderdefaults'\u001b[0m\u001b[0;34m,\u001b[0m \u001b[0;32mNone\u001b[0m\u001b[0;34m)\u001b[0m\u001b[0;34m\u001b[0m\u001b[0m\n\u001b[1;32m   4317\u001b[0m         self['sliderdefaults'\n",
      "\u001b[0;32m/usr/local/lib/python3.5/dist-packages/plotly/basedatatypes.py\u001b[0m in \u001b[0;36m__setitem__\u001b[0;34m(self, prop, value)\u001b[0m\n\u001b[1;32m   3727\u001b[0m         \u001b[0;32mif\u001b[0m \u001b[0mmatch\u001b[0m \u001b[0;32mis\u001b[0m \u001b[0;32mNone\u001b[0m\u001b[0;34m:\u001b[0m\u001b[0;34m\u001b[0m\u001b[0m\n\u001b[1;32m   3728\u001b[0m             \u001b[0;31m# Set as ordinary property\u001b[0m\u001b[0;34m\u001b[0m\u001b[0;34m\u001b[0m\u001b[0m\n\u001b[0;32m-> 3729\u001b[0;31m             \u001b[0msuper\u001b[0m\u001b[0;34m(\u001b[0m\u001b[0mBaseLayoutHierarchyType\u001b[0m\u001b[0;34m,\u001b[0m \u001b[0mself\u001b[0m\u001b[0;34m)\u001b[0m\u001b[0;34m.\u001b[0m\u001b[0m__setitem__\u001b[0m\u001b[0;34m(\u001b[0m\u001b[0mprop\u001b[0m\u001b[0;34m,\u001b[0m \u001b[0mvalue\u001b[0m\u001b[0;34m)\u001b[0m\u001b[0;34m\u001b[0m\u001b[0m\n\u001b[0m\u001b[1;32m   3730\u001b[0m         \u001b[0;32melse\u001b[0m\u001b[0;34m:\u001b[0m\u001b[0;34m\u001b[0m\u001b[0m\n\u001b[1;32m   3731\u001b[0m             \u001b[0;31m# Set as subplotid property\u001b[0m\u001b[0;34m\u001b[0m\u001b[0;34m\u001b[0m\u001b[0m\n",
      "\u001b[0;32m/usr/local/lib/python3.5/dist-packages/plotly/basedatatypes.py\u001b[0m in \u001b[0;36m__setitem__\u001b[0;34m(self, prop, value)\u001b[0m\n\u001b[1;32m   2804\u001b[0m             elif isinstance(validator,\n\u001b[1;32m   2805\u001b[0m                             (CompoundArrayValidator, BaseDataValidator)):\n\u001b[0;32m-> 2806\u001b[0;31m                 \u001b[0mself\u001b[0m\u001b[0;34m.\u001b[0m\u001b[0m_set_array_prop\u001b[0m\u001b[0;34m(\u001b[0m\u001b[0mprop\u001b[0m\u001b[0;34m,\u001b[0m \u001b[0mvalue\u001b[0m\u001b[0;34m)\u001b[0m\u001b[0;34m\u001b[0m\u001b[0m\n\u001b[0m\u001b[1;32m   2807\u001b[0m \u001b[0;34m\u001b[0m\u001b[0m\n\u001b[1;32m   2808\u001b[0m             \u001b[0;31m# ### Handle simple property ###\u001b[0m\u001b[0;34m\u001b[0m\u001b[0;34m\u001b[0m\u001b[0m\n",
      "\u001b[0;32m/usr/local/lib/python3.5/dist-packages/plotly/basedatatypes.py\u001b[0m in \u001b[0;36m_set_array_prop\u001b[0;34m(self, prop, val)\u001b[0m\n\u001b[1;32m   3177\u001b[0m         \u001b[0mvalidator\u001b[0m \u001b[0;34m=\u001b[0m \u001b[0mself\u001b[0m\u001b[0;34m.\u001b[0m\u001b[0m_validators\u001b[0m\u001b[0;34m.\u001b[0m\u001b[0mget\u001b[0m\u001b[0;34m(\u001b[0m\u001b[0mprop\u001b[0m\u001b[0;34m)\u001b[0m\u001b[0;34m\u001b[0m\u001b[0m\n\u001b[1;32m   3178\u001b[0m         \u001b[0;31m# type: Tuple[BasePlotlyType]\u001b[0m\u001b[0;34m\u001b[0m\u001b[0;34m\u001b[0m\u001b[0m\n\u001b[0;32m-> 3179\u001b[0;31m         \u001b[0mval\u001b[0m \u001b[0;34m=\u001b[0m \u001b[0mvalidator\u001b[0m\u001b[0;34m.\u001b[0m\u001b[0mvalidate_coerce\u001b[0m\u001b[0;34m(\u001b[0m\u001b[0mval\u001b[0m\u001b[0;34m,\u001b[0m \u001b[0mskip_invalid\u001b[0m\u001b[0;34m=\u001b[0m\u001b[0mself\u001b[0m\u001b[0;34m.\u001b[0m\u001b[0m_skip_invalid\u001b[0m\u001b[0;34m)\u001b[0m\u001b[0;34m\u001b[0m\u001b[0m\n\u001b[0m\u001b[1;32m   3180\u001b[0m \u001b[0;34m\u001b[0m\u001b[0m\n\u001b[1;32m   3181\u001b[0m         \u001b[0;31m# Save deep copies of current and new states\u001b[0m\u001b[0;34m\u001b[0m\u001b[0;34m\u001b[0m\u001b[0m\n",
      "\u001b[0;32m/usr/local/lib/python3.5/dist-packages/_plotly_utils/basevalidators.py\u001b[0m in \u001b[0;36mvalidate_coerce\u001b[0;34m(self, v, skip_invalid)\u001b[0m\n\u001b[1;32m   2162\u001b[0m                 \u001b[0;32melif\u001b[0m \u001b[0misinstance\u001b[0m\u001b[0;34m(\u001b[0m\u001b[0mv_el\u001b[0m\u001b[0;34m,\u001b[0m \u001b[0mdict\u001b[0m\u001b[0;34m)\u001b[0m\u001b[0;34m:\u001b[0m\u001b[0;34m\u001b[0m\u001b[0m\n\u001b[1;32m   2163\u001b[0m                     res.append(self.data_class(v_el,\n\u001b[0;32m-> 2164\u001b[0;31m                                                skip_invalid=skip_invalid))\n\u001b[0m\u001b[1;32m   2165\u001b[0m                 \u001b[0;32melse\u001b[0m\u001b[0;34m:\u001b[0m\u001b[0;34m\u001b[0m\u001b[0m\n\u001b[1;32m   2166\u001b[0m                     \u001b[0;32mif\u001b[0m \u001b[0mskip_invalid\u001b[0m\u001b[0;34m:\u001b[0m\u001b[0;34m\u001b[0m\u001b[0m\n",
      "\u001b[0;32m/usr/local/lib/python3.5/dist-packages/plotly/graph_objs/layout/_slider.py\u001b[0m in \u001b[0;36m__init__\u001b[0;34m(self, arg, active, activebgcolor, bgcolor, bordercolor, borderwidth, currentvalue, font, len, lenmode, minorticklen, name, pad, steps, stepdefaults, templateitemname, tickcolor, ticklen, tickwidth, transition, visible, x, xanchor, y, yanchor, **kwargs)\u001b[0m\n\u001b[1;32m   1132\u001b[0m         \u001b[0;31m# Process unknown kwargs\u001b[0m\u001b[0;34m\u001b[0m\u001b[0;34m\u001b[0m\u001b[0m\n\u001b[1;32m   1133\u001b[0m         \u001b[0;31m# ----------------------\u001b[0m\u001b[0;34m\u001b[0m\u001b[0;34m\u001b[0m\u001b[0m\n\u001b[0;32m-> 1134\u001b[0;31m         \u001b[0mself\u001b[0m\u001b[0;34m.\u001b[0m\u001b[0m_process_kwargs\u001b[0m\u001b[0;34m(\u001b[0m\u001b[0;34m**\u001b[0m\u001b[0mdict\u001b[0m\u001b[0;34m(\u001b[0m\u001b[0marg\u001b[0m\u001b[0;34m,\u001b[0m \u001b[0;34m**\u001b[0m\u001b[0mkwargs\u001b[0m\u001b[0;34m)\u001b[0m\u001b[0;34m)\u001b[0m\u001b[0;34m\u001b[0m\u001b[0m\n\u001b[0m\u001b[1;32m   1135\u001b[0m \u001b[0;34m\u001b[0m\u001b[0m\n\u001b[1;32m   1136\u001b[0m         \u001b[0;31m# Reset skip_invalid\u001b[0m\u001b[0;34m\u001b[0m\u001b[0;34m\u001b[0m\u001b[0m\n",
      "\u001b[0;32m/usr/local/lib/python3.5/dist-packages/plotly/basedatatypes.py\u001b[0m in \u001b[0;36m_process_kwargs\u001b[0;34m(self, **kwargs)\u001b[0m\n\u001b[1;32m   2378\u001b[0m         \"\"\"\n\u001b[1;32m   2379\u001b[0m         \u001b[0;32mif\u001b[0m \u001b[0;32mnot\u001b[0m \u001b[0mself\u001b[0m\u001b[0;34m.\u001b[0m\u001b[0m_skip_invalid\u001b[0m\u001b[0;34m:\u001b[0m\u001b[0;34m\u001b[0m\u001b[0m\n\u001b[0;32m-> 2380\u001b[0;31m             \u001b[0mself\u001b[0m\u001b[0;34m.\u001b[0m\u001b[0m_raise_on_invalid_property_error\u001b[0m\u001b[0;34m(\u001b[0m\u001b[0;34m*\u001b[0m\u001b[0mkwargs\u001b[0m\u001b[0;34m.\u001b[0m\u001b[0mkeys\u001b[0m\u001b[0;34m(\u001b[0m\u001b[0;34m)\u001b[0m\u001b[0;34m)\u001b[0m\u001b[0;34m\u001b[0m\u001b[0m\n\u001b[0m\u001b[1;32m   2381\u001b[0m \u001b[0;34m\u001b[0m\u001b[0m\n\u001b[1;32m   2382\u001b[0m     \u001b[0;34m@\u001b[0m\u001b[0mproperty\u001b[0m\u001b[0;34m\u001b[0m\u001b[0m\n",
      "\u001b[0;32m/usr/local/lib/python3.5/dist-packages/plotly/basedatatypes.py\u001b[0m in \u001b[0;36m_raise_on_invalid_property_error\u001b[0;34m(self, *args)\u001b[0m\n\u001b[1;32m   2972\u001b[0m                                  \u001b[0mfull_obj_name\u001b[0m\u001b[0;34m=\u001b[0m\u001b[0mfull_obj_name\u001b[0m\u001b[0;34m,\u001b[0m\u001b[0;34m\u001b[0m\u001b[0m\n\u001b[1;32m   2973\u001b[0m                                  \u001b[0minvalid_str\u001b[0m\u001b[0;34m=\u001b[0m\u001b[0minvalid_str\u001b[0m\u001b[0;34m,\u001b[0m\u001b[0;34m\u001b[0m\u001b[0m\n\u001b[0;32m-> 2974\u001b[0;31m                                  prop_descriptions=self._prop_descriptions))\n\u001b[0m\u001b[1;32m   2975\u001b[0m \u001b[0;34m\u001b[0m\u001b[0m\n\u001b[1;32m   2976\u001b[0m     \u001b[0;32mdef\u001b[0m \u001b[0mupdate\u001b[0m\u001b[0;34m(\u001b[0m\u001b[0mself\u001b[0m\u001b[0;34m,\u001b[0m \u001b[0mdict1\u001b[0m\u001b[0;34m=\u001b[0m\u001b[0;32mNone\u001b[0m\u001b[0;34m,\u001b[0m \u001b[0;34m**\u001b[0m\u001b[0mkwargs\u001b[0m\u001b[0;34m)\u001b[0m\u001b[0;34m:\u001b[0m\u001b[0;34m\u001b[0m\u001b[0m\n",
      "\u001b[0;31mValueError\u001b[0m: Invalid property specified for object of type plotly.graph_objs.layout.Slider: 'layout'\n\n    Valid properties:\n        active\n            Determines which button (by index starting from 0) is\n            considered active.\n        activebgcolor\n            Sets the background color of the slider grip while\n            dragging.\n        bgcolor\n            Sets the background color of the slider.\n        bordercolor\n            Sets the color of the border enclosing the slider.\n        borderwidth\n            Sets the width (in px) of the border enclosing the\n            slider.\n        currentvalue\n            plotly.graph_objs.layout.slider.Currentvalue instance\n            or dict with compatible properties\n        font\n            Sets the font of the slider step labels.\n        len\n            Sets the length of the slider This measure excludes the\n            padding of both ends. That is, the slider's length is\n            this length minus the padding on both ends.\n        lenmode\n            Determines whether this slider length is set in units\n            of plot \"fraction\" or in *pixels. Use `len` to set the\n            value.\n        minorticklen\n            Sets the length in pixels of minor step tick marks\n        name\n            When used in a template, named items are created in the\n            output figure in addition to any items the figure\n            already has in this array. You can modify these items\n            in the output figure by making your own item with\n            `templateitemname` matching this `name` alongside your\n            modifications (including `visible: false` or `enabled:\n            false` to hide it). Has no effect outside of a\n            template.\n        pad\n            Set the padding of the slider component along each\n            side.\n        steps\n            plotly.graph_objs.layout.slider.Step instance or dict\n            with compatible properties\n        stepdefaults\n            When used in a template (as\n            layout.template.layout.slider.stepdefaults), sets the\n            default property values to use for elements of\n            layout.slider.steps\n        templateitemname\n            Used to refer to a named item in this array in the\n            template. Named items from the template will be created\n            even without a matching item in the input figure, but\n            you can modify one by making an item with\n            `templateitemname` matching its `name`, alongside your\n            modifications (including `visible: false` or `enabled:\n            false` to hide it). If there is no template or no\n            matching item, this item will be hidden unless you\n            explicitly show it with `visible: true`.\n        tickcolor\n            Sets the color of the border enclosing the slider.\n        ticklen\n            Sets the length in pixels of step tick marks\n        tickwidth\n            Sets the tick width (in px).\n        transition\n            plotly.graph_objs.layout.slider.Transition instance or\n            dict with compatible properties\n        visible\n            Determines whether or not the slider is visible.\n        x\n            Sets the x position (in normalized coordinates) of the\n            slider.\n        xanchor\n            Sets the slider's horizontal position anchor. This\n            anchor binds the `x` position to the \"left\", \"center\"\n            or \"right\" of the range selector.\n        y\n            Sets the y position (in normalized coordinates) of the\n            slider.\n        yanchor\n            Sets the slider's vertical position anchor This anchor\n            binds the `y` position to the \"top\", \"middle\" or\n            \"bottom\" of the range selector.\n        "
     ]
    }
   ],
   "source": [
    "sliders=[]\n",
    "d, t = 0, 0\n",
    "\n",
    "for var, liste in zip(['dir_target', 'latence', 'v_anti',  'maxi',  'start_anti', 'tau',],\n",
    "                      [list_dir_target, list_lat, list_v_anti, list_max, list_start, list_tau]):\n",
    "    \n",
    "    dic = []\n",
    "    for a in range(len(liste)) :\n",
    "        \n",
    "        if var in ['latence', 'start_anti'] :\n",
    "            label =  str(int(liste[a]-750))\n",
    "        else :\n",
    "            label =  str(int(liste[a]))\n",
    "        \n",
    "        di = dict(method = 'restyle', args = ['visible', [False] * len(data_false)],\n",
    "                     label = label)\n",
    "        di['args'][1][d] = True\n",
    "        \n",
    "        dic.append(di)\n",
    "        d=d+1\n",
    "    \n",
    "\n",
    "    pre = \"%s: \"%var\n",
    "    sliders.append(dict(x=-0.7, y=1.1, ticklen=0, font=dict(size=10),\n",
    "                        active = len(liste),\n",
    "                        currentvalue = {\"prefix\": pre, 'font':{'size':15}},\n",
    "                        pad = {\"t\": t-10, 'b': 1}, len=0.5, steps = dic,\n",
    "                        bgcolor='#BABABA', bordercolor='#BABABA', borderwidth=0, layout={'wi':1}))\n",
    "    \n",
    "\n",
    "\n",
    "    t=t+70 #70\n",
    "\n",
    "\n",
    "layout = go.Layout(title=\"Fonction Velocity\", titlefont={'size':20},\n",
    "                xaxis=dict(title='Time (ms)', range=[-750, 750], tickfont={'size':10}),\n",
    "                yaxis=dict(title='Velocity (°/s)',range=[-40, 40], tickfont={'size':10}),\n",
    "                sliders=sliders,  showlegend=False, font={'size':15})\n",
    "                \n",
    "\n",
    "\n",
    "data = data_false\n",
    "\n",
    "config = {'showLink':False,\n",
    "          'displaylogo':False,\n",
    "         'modeBarButtonsToRemove':['zoom2d', 'pan2d', 'toImage',\n",
    "                                   'toggleSpikelines','hoverClosestCartesian',\n",
    "                                   'hoverCompareCartesian', 'sendDataToCloud']}\n",
    "\n",
    "fig = go.Figure(data=data, layout=layout)\n",
    "\n",
    "iplot(fig, config=config)"
   ]
  },
  {
   "cell_type": "code",
   "execution_count": 33,
   "metadata": {},
   "outputs": [
    {
     "data": {
      "text/plain": [
       "'file:///home/drone/Bureau/Git/ANEMO/docs/source/_static/test.html'"
      ]
     },
     "execution_count": 33,
     "metadata": {},
     "output_type": "execute_result"
    }
   ],
   "source": [
    "plot(fig, filename='../docs/source/_static/test.html', auto_open=True, config=config)"
   ]
  },
  {
   "cell_type": "code",
   "execution_count": null,
   "metadata": {},
   "outputs": [],
   "source": []
  }
 ],
 "metadata": {
  "kernelspec": {
   "display_name": "Python 3",
   "language": "python",
   "name": "python3"
  },
  "language_info": {
   "codemirror_mode": {
    "name": "ipython",
    "version": 3
   },
   "file_extension": ".py",
   "mimetype": "text/x-python",
   "name": "python",
   "nbconvert_exporter": "python",
   "pygments_lexer": "ipython3",
   "version": "3.5.2"
  }
 },
 "nbformat": 4,
 "nbformat_minor": 2
}
