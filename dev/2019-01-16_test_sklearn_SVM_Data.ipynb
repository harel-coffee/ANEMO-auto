{
 "cells": [
  {
   "cell_type": "code",
   "execution_count": 1,
   "metadata": {},
   "outputs": [],
   "source": [
    "import numpy as np\n",
    "import matplotlib.pyplot as plt\n",
    "#from sklearn import svm, datasets\n",
    "%matplotlib inline\n",
    "import warnings\n",
    "warnings.filterwarnings('ignore')  # \"error\", \"ignore\", \"always\", \"default\", \"module\" or \"once\""
   ]
  },
  {
   "cell_type": "code",
   "execution_count": 2,
   "metadata": {},
   "outputs": [],
   "source": [
    "#------------------------------------------------------------------------------\n",
    "# 1- Split into a training set and a test set using a ShuffleSplit\n",
    "#    + doing that in parallel for the differrent features to test\n",
    "#------------------------------------------------------------------------------\n",
    "\n",
    "from sklearn.model_selection import ShuffleSplit\n",
    "def split_data(X, y, test_size=.25, train_size=None) :\n",
    "    \n",
    "\n",
    "    rs = ShuffleSplit(n_splits=1, test_size=test_size, train_size=train_size, random_state=0)\n",
    "    for index_train, index_test in rs.split(y): pass\n",
    "\n",
    "    X_train, X_test = {}, {}\n",
    "    X_train, X_test = X[index_train, :], X[index_test, :]\n",
    "    y_train, y_test =  y[index_train].copy(), y[index_test].copy()\n",
    "\n",
    "    print('nb_trial_train : %s, nb_trial_test : %s'%(y_train.shape[0], y_test.shape[0]))\n",
    "    return X_train, X_test, y_train, y_test"
   ]
  },
  {
   "cell_type": "code",
   "execution_count": 27,
   "metadata": {},
   "outputs": [],
   "source": [
    " #------------------------------------------------------------------------------\n",
    "# 4- Train a SVM classification model\n",
    "#------------------------------------------------------------------------------\n",
    "\n",
    "# When training an SVM with the Radial Basis Function (RBF) kernel,\n",
    "#    two parameters must be considered: C and gamma.\n",
    "\n",
    "#The parameter C, common to all SVM kernels, trades off misclassification\n",
    "#of training examples against simplicity of the decision surface.\n",
    "#    A low C makes the decision surface smooth,\n",
    "#    while a high C aims at classifying all training examples correctly.\n",
    "\n",
    "#gamma defines how much influence a single training example has.\n",
    "#    The larger gamma is, the closer other examples must be to be affected.\n",
    "\n",
    "\n",
    "from sklearn.grid_search import GridSearchCV # see http://scikit-learn.org/stable/modules/grid_search.html\n",
    "from sklearn.svm import SVC\n",
    "\n",
    "def Train_SVM(X_train, y_train, size_c_gamma=32) :\n",
    "\n",
    "\n",
    "    C_range = np.logspace(-5, 10., size_c_gamma, base=2.)\n",
    "    gamma_range = np.logspace(-14, 3, size_c_gamma, base=2.)\n",
    "\n",
    "    \n",
    "\n",
    "    param_grid = [{'kernel': ['rbf', 'poly', 'sigmoid'], 'gamma': gamma_range, 'C': C_range},\n",
    "                  {'kernel': ['linear'], 'C': C_range}]\n",
    "\n",
    "    \n",
    "    grid = GridSearchCV(SVC(verbose=False, tol=1e-3, max_iter = -1, ),\n",
    "                        param_grid, verbose=1, scoring='f1_weighted', n_jobs=1,) #cv=50, \n",
    "\n",
    "    X_train_ = np.zeros((len(X_train), 0))\n",
    "    X_train_ = np.hstack((X_train_, X_train))\n",
    "    grid.fit(X_train, y_train.ravel())\n",
    "\n",
    "\n",
    "    # plot the scores of the grid\n",
    "    score_dict = grid.grid_scores_ # grid_scores_ contains parameter settings and scores\n",
    "    \n",
    "    scores_mean, scores_std ={}, {}\n",
    "    for params, mean_score, scores in score_dict:\n",
    "        try :\n",
    "            scores_mean[params['kernel']].append(scores.mean())\n",
    "            scores_std[params['kernel']].append(scores.std()/2)\n",
    "        except:\n",
    "            scores_mean[params['kernel']] = []\n",
    "            scores_std[params['kernel']] = []\n",
    "            scores_mean[params['kernel']].append(scores.mean())\n",
    "            scores_std[params['kernel']].append(scores.std()/2)\n",
    "\n",
    "\n",
    "    # draw heatmap of accuracy as a function of gamma and C\n",
    "    fig1, ax1 = plt.subplots(1,4,figsize=(5*4,5))\n",
    "\n",
    "    \n",
    "    for x, k in enumerate(['rbf', 'poly', 'sigmoid']) :\n",
    "        scores = np.array(scores_mean[k]).reshape((gamma_range.shape[0], C_range.shape[0]))\n",
    "        im = ax1[x].imshow(scores, interpolation='nearest', cmap=plt.cm.gray)\n",
    "        ax1[x].set_xlabel('gamma')\n",
    "        ax1[x].set_ylabel('C')\n",
    "        #ax.set_colorbar()\n",
    "        ax1[x].set_title(k)\n",
    "        fig1.colorbar(im, ax=ax1[x], pad=0.01, fraction=.047)\n",
    "    \n",
    "    scores = np.array(scores_mean['linear']) #.reshape((gamma_range.shape[0], C_range.shape[0]))\n",
    "    #im = ax1.imshow(scores, interpolation='nearest', cmap=plt.cm.gray)\n",
    "    \n",
    "    ax1[-1].set_title('linear')\n",
    "    ax1[-1].plot(C_range, scores, 'k')\n",
    "    ax1[-1].set_xlabel('C')\n",
    "    ax1[-1].set_ylabel('Score')\n",
    "    \n",
    "    fig1.tight_layout()\n",
    "    plt.show()\n",
    "    \n",
    "    print(\"The best parameters are %s with a score of %0.2f\" % (grid.best_params_, grid.best_score_))\n",
    "    \n",
    "    return grid"
   ]
  },
  {
   "cell_type": "code",
   "execution_count": 28,
   "metadata": {},
   "outputs": [],
   "source": [
    "#------------------------------------------------------------------------------\n",
    "# 5- Quantitative evaluation of the model quality on the test set\n",
    "#------------------------------------------------------------------------------\n",
    "def Quantitative_evaluation(grid, X_test, classes) :\n",
    "\n",
    "    import itertools\n",
    "    from sklearn import metrics\n",
    "    from sklearn.metrics import classification_report\n",
    "    from sklearn.metrics import confusion_matrix\n",
    "\n",
    "    \n",
    "    y_pred = grid.predict(X_test)\n",
    "    # see https://en.wikipedia.org/wiki/F1_score\n",
    "    fone_score = np.array(metrics.f1_score(y_test, y_pred, average=None)).mean()\n",
    "    \n",
    "    print(\"Predicting the category names on the testing set\")\n",
    "    print('\\nclassification_report on test \\n', classification_report(y_test, y_pred, target_names=classes))\n",
    "    \n",
    "    \n",
    "    cm = confusion_matrix(y_test, y_pred)\n",
    "    norm_cm = cm.astype('float') / cm.sum(axis=1)[:, np.newaxis]\n",
    "    \n",
    "    fig, ax = plt.subplots(1,1,figsize=(5,5))\n",
    "    im = ax.imshow(norm_cm, interpolation='nearest', cmap=plt.cm.Reds)\n",
    "    \n",
    "    ax.set_title('Confusion matrix\\n(fone_score on test => Accuracy = %0.2f)' % (fone_score))\n",
    "    fig.colorbar(im, ax=ax, pad=0.01, fraction=.047)\n",
    "    \n",
    "    tick_marks = np.arange(len(classes))\n",
    "    ax.set_xticks(tick_marks)\n",
    "    ax.set_yticks(tick_marks)\n",
    "    ax.set_xticklabels(classes)\n",
    "    ax.set_yticklabels(classes)\n",
    "    \n",
    "    thresh = norm_cm.max() / 2.\n",
    "    for i, j in itertools.product(range(cm.shape[0]), range(cm.shape[1])):\n",
    "        ax.text(j, i, 'nb_trial = %s\\n\\n(%.0f %%)'%(cm[i, j], norm_cm[i, j]*100),\n",
    "                 horizontalalignment=\"center\",\n",
    "                 color=\"white\" if norm_cm[i, j] > thresh else \"black\")\n",
    "        if i==j :\n",
    "            ax.text(j, i+0.2, 'f1_score = %.2f'%(metrics.f1_score(y_test, y_pred, average=None)[i]),\n",
    "                 horizontalalignment=\"center\",\n",
    "                 color=\"white\" if norm_cm[i, j] > thresh else \"black\")\n",
    "        \n",
    "\n",
    "    ax.set_ylabel('True label')\n",
    "    ax.set_xlabel('Predicted label')\n",
    "    plt.tight_layout()\n",
    "    plt.show()\n",
    "    \n",
    "    return y_pred"
   ]
  },
  {
   "cell_type": "code",
   "execution_count": 29,
   "metadata": {
    "scrolled": false
   },
   "outputs": [],
   "source": [
    "from sklearn import metrics\n",
    "\n",
    "def fig_final(grid, X_train, y_train, X_test, y_test, y_pred, var) :\n",
    "    \n",
    "    #nb = int((X_train.shape[1]-1)*(X_train.shape[1]-(X_train.shape[1]/2)))\n",
    "    \n",
    "    #fig, ax = plt.subplots(1,nb,figsize=(10*(nb),10/1.68))\n",
    "\n",
    "    #x = 0\n",
    "    for x1 in range(X_train.shape[1]) :\n",
    "\n",
    "        nb = len(range(x1, X_train.shape[1]-1))\n",
    "        fig, axs = plt.subplots(1,nb,figsize=(10*(nb),10/1.68))\n",
    "        \n",
    "        x=0\n",
    "        for x2 in range(x1, X_train.shape[1]) :\n",
    "            if x2 != x1 :\n",
    "                \n",
    "                if nb==1: ax = axs\n",
    "                else : ax =axs[x]\n",
    "                \n",
    "                xlim = [min(X_train[:, x1]), max(X_train[:, x1])]\n",
    "                ylim = [min(X_train[:, x2]), max(X_train[:, x2])]\n",
    "                \n",
    "                # create grid to evaluate model\n",
    "                a = 1\n",
    "                xx = np.linspace(xlim[0]-a, xlim[1]+a, len(X_train[:, x1]))\n",
    "                yy = np.linspace(ylim[0]-a, ylim[1]+a, len(X_train[:, x2]))\n",
    "                YY, XX = np.meshgrid(yy, xx)\n",
    "                xy = np.vstack([XX.ravel(), YY.ravel()]).T\n",
    "\n",
    "                clf = SVC(kernel=grid.best_params_['kernel'], C=grid.best_params_['C'],\n",
    "                          gamma=grid.best_params_['gamma'])\n",
    "                \n",
    "                X_fit = [[],[]]\n",
    "                X_fit[0], X_fit[1] = X_train[:, x1], X_train[:, x2]\n",
    "                X_fit = np.array(X_fit).transpose()\n",
    "                \n",
    "                clf.fit(X_fit, y_train)\n",
    "                Z = clf.decision_function(xy).reshape(XX.shape)\n",
    "\n",
    "\n",
    "\n",
    "                # plot decision boundary and margins\n",
    "                ax.contour(XX, YY, Z, colors='k', levels=[-1, 0, 1], alpha=1, linestyles=['--', '-', '--'])\n",
    "                ax.contourf(XX, YY, Z, cmap=plt.cm.RdGy, alpha=0.5)\n",
    "\n",
    "                # plot support vectors\n",
    "                ax.scatter(X_train[:, x1], X_train[:, x2], c=y_train, s=200, cmap=plt.cm.RdGy, alpha=0.3)\n",
    "                #ax[x].scatter(clf.support_vectors_[:, 0], clf.support_vectors_[:, 1], s=150, linewidth=1, facecolors='none', edgecolors='k')\n",
    "\n",
    "                #X_test_2d = X_test[:, x_:x_+2]:\n",
    "                \n",
    "                X_t = [[],[]]\n",
    "                X_t[0], X_t[1] = X_test[:, x1], X_test[:, x2]\n",
    "                X_t = np.array(X_t).transpose()\n",
    "                y_pred2 = clf.predict(X_t)\n",
    "\n",
    "                print('%s-%s'%(var[x1], var[x2]), '\\tscore grid :', clf.score(X_t, y_pred), '\\tscore clf :',\n",
    "                      clf.score(X_t, y_pred2))\n",
    "                print('\\t\\tf1_score grid: \\t%.2f'%np.array(metrics.f1_score(y_test, y_pred, average=None)).mean(),\n",
    "                      '\\tf1_score clf: %.2f'%np.array(metrics.f1_score(y_test, y_pred2, average=None)).mean(),\n",
    "                     end='\\n\\n')\n",
    "\n",
    "\n",
    "                ax.scatter(X_test[:, x1], X_test[:, x2], c=y_pred, s=40, cmap=plt.cm.RdGy)\n",
    "\n",
    "                for a in range(len(y_test)) :\n",
    "                    if y_test[a]!=y_pred[a] :\n",
    "                        if y_test[a] == 1 : c='k'\n",
    "                        else : c='r'\n",
    "                        ax.scatter(X_test[a, x1], X_test[a, x2], facecolors='none', s=60, lw=2,\n",
    "                                   edgecolors=c)\n",
    "\n",
    "                ax.set_xlabel('%s'%var[x1])\n",
    "                ax.set_ylabel('%s'%var[x2])\n",
    "                x=x+1\n",
    "\n",
    "        plt.show()"
   ]
  },
  {
   "cell_type": "markdown",
   "metadata": {},
   "source": [
    "# Data"
   ]
  },
  {
   "cell_type": "code",
   "execution_count": 30,
   "metadata": {},
   "outputs": [],
   "source": [
    "import pickle\n",
    "import os\n",
    "from ANEMO import read_edf\n",
    "from ANEMO import ANEMO\n",
    "import numpy as np\n",
    "\n",
    "import matplotlib.pyplot as plt\n",
    "%matplotlib inline\n",
    "sujet = ['AM','BMC','CS','DC','FM','IP','LB','OP','RS','SR','TN','YK']\n",
    "time = ['2017-10-23_100057','2017-09-26_095637',\n",
    "        '2017-10-03_134421','2017-09-27_161040',\n",
    "        '2017-10-03_143803','2017-09-28_115250',\n",
    "        '2017-09-20_151043','2017-10-26_121823',\n",
    "        '2017-11-08_094717','2017-11-16_153313',\n",
    "        '2017-11-08_150410','2017-11-17_172706']\n",
    "file = os.path.join('parametre', 'Delete_list_trials_velocity_fct.pkl')\n",
    "with open(file, 'rb') as fichier :\n",
    "    Delete_list_trials = pickle.load(fichier, encoding='latin1')\n",
    "\n",
    "file = os.path.join('parametre', 'Delete_list_Bad_trials_velocity.pkl')\n",
    "with open(file, 'rb') as fichier :\n",
    "    Bad_Fit = pickle.load(fichier, encoding='latin1')"
   ]
  },
  {
   "cell_type": "code",
   "execution_count": 31,
   "metadata": {
    "scrolled": true
   },
   "outputs": [
    {
     "name": "stdout",
     "output_type": "stream",
     "text": [
      "FM\n",
      "[[14, 29, 35, 48, 50, 58, 59, 60, 71, 73, 77, 80, 104, 157, 161, 167, 173, 174, 175, 178, 191, 198], [12, 31, 64, 68, 69, 70, 96, 98, 121, 129, 194], [100, 158, 177]] [[29, 73, 104], [12, 70, 76], [78, 79, 116]]\n"
     ]
    }
   ],
   "source": [
    "X, y, var = [], [], []\n",
    "a = 0\n",
    "for x in [4] : #in range(len(sujet)) :\n",
    "\n",
    "    print(sujet[x])\n",
    "    print(Delete_list_trials[sujet[x]], Bad_Fit[sujet[x]])\n",
    "    #-------------------------------------------------------------------------\n",
    "    file = os.path.join('data', 'enregistrement_' + sujet[x] + '_' + time[x] + '.pkl')\n",
    "    with open(file, 'rb') as fichier :\n",
    "        param_exp = pickle.load(fichier, encoding='latin1')\n",
    "    A = ANEMO(param_exp)\n",
    "    N_trials, N_blocks = param_exp['N_trials'], param_exp['N_blocks']\n",
    "\n",
    "    resultats = os.path.join('data', 'enregistrement_' + sujet[x] + '_' + time[x] + '.asc')\n",
    "    data = read_edf(resultats, 'TRIALID')\n",
    "\n",
    "    file = os.path.join('parametre/goodness_of_fit_'+ sujet[x] +'.pkl')\n",
    "    with open(file, 'rb') as fichier :\n",
    "        goodness_of_fit = pickle.load(fichier, encoding='latin1')\n",
    "    #-------------------------------------------------------------------------\n",
    "\n",
    "    for block in [0] :# in range(N_blocks) :\n",
    "        for trial in range(N_trials) :\n",
    "\n",
    "            if trial in Delete_list_trials[sujet[x]][block] : y.append(1)\n",
    "            elif trial in Bad_Fit[sujet[x]][block] : y.append(1)\n",
    "            else : y.append(0)\n",
    "\n",
    "            if a==0 :\n",
    "                var.append('nb_nan')\n",
    "                X.append([])\n",
    "                for key in goodness_of_fit.keys() :\n",
    "                    if key!='residual' :\n",
    "                        var.append(key)\n",
    "                        X.append([])\n",
    "                a=1\n",
    "            \n",
    "            trial_data = trial + N_trials*block\n",
    "            arg = A.arg(data[trial_data], trial=trial, block=block)\n",
    "            velocity_NAN = A.velocity_NAN(**arg)[0]\n",
    "\n",
    "            nb_nan = [x for x in velocity_NAN[arg.StimulusOf-arg.t_0:] if str(x)=='nan']\n",
    "            X[0].append(len(nb_nan))\n",
    "            \n",
    "            k = 1\n",
    "            for key in goodness_of_fit.keys() :\n",
    "                if key!='residual' :\n",
    "                    X[k].append(goodness_of_fit[key][block][trial])\n",
    "                    k=k+1"
   ]
  },
  {
   "cell_type": "code",
   "execution_count": 32,
   "metadata": {},
   "outputs": [
    {
     "name": "stdout",
     "output_type": "stream",
     "text": [
      "(200, 6)\n"
     ]
    }
   ],
   "source": [
    "classes = ['good', 'Bad']\n",
    "\n",
    "X1 = np.array(X)\n",
    "y1 = np.array(y)\n",
    "X1 = X1.transpose()\n",
    "print(X1.shape)"
   ]
  },
  {
   "cell_type": "code",
   "execution_count": 33,
   "metadata": {},
   "outputs": [
    {
     "name": "stdout",
     "output_type": "stream",
     "text": [
      "nb_trial_train : 40, nb_trial_test : 160\n",
      "[1 1 1 1]\n"
     ]
    }
   ],
   "source": [
    "X_train, X_test, y_train, y_test = split_data(X1, y1, test_size=.8, train_size=None)\n",
    "print(y_train[y_train>0])"
   ]
  },
  {
   "cell_type": "code",
   "execution_count": 36,
   "metadata": {
    "scrolled": true
   },
   "outputs": [
    {
     "name": "stdout",
     "output_type": "stream",
     "text": [
      "Fitting 3 folds for each of 30 candidates, totalling 90 fits\n"
     ]
    },
    {
     "name": "stderr",
     "output_type": "stream",
     "text": [
      "[Parallel(n_jobs=1)]: Done  90 out of  90 | elapsed:   37.5s finished\n"
     ]
    },
    {
     "data": {
      "image/png": "[encoded data removed]",
      "text/plain": [
       "<Figure size 1440x360 with 7 Axes>"
      ]
     },
     "metadata": {
      "needs_background": "light"
     },
     "output_type": "display_data"
    },
    {
     "name": "stdout",
     "output_type": "stream",
     "text": [
      "The best parameters are {'C': 0.03125, 'kernel': 'linear'} with a score of 0.90\n"
     ]
    }
   ],
   "source": [
    "grid = Train_SVM(X_train, y_train, size_c_gamma=3)"
   ]
  },
  {
   "cell_type": "code",
   "execution_count": 37,
   "metadata": {},
   "outputs": [
    {
     "name": "stdout",
     "output_type": "stream",
     "text": [
      "Predicting the category names on the testing set\n",
      "\n",
      "classification_report on test \n",
      "              precision    recall  f1-score   support\n",
      "\n",
      "       good       0.90      0.93      0.92       142\n",
      "        Bad       0.29      0.22      0.25        18\n",
      "\n",
      "avg / total       0.83      0.85      0.84       160\n",
      "\n"
     ]
    },
    {
     "data": {
      "image/png": "[encoded data removed]",
      "text/plain": [
       "<Figure size 360x360 with 2 Axes>"
      ]
     },
     "metadata": {
      "needs_background": "light"
     },
     "output_type": "display_data"
    }
   ],
   "source": [
    "y_pred = Quantitative_evaluation(grid, X_test, classes)"
   ]
  },
  {
   "cell_type": "code",
   "execution_count": 38,
   "metadata": {
    "scrolled": false
   },
   "outputs": [
    {
     "ename": "KeyError",
     "evalue": "'gamma'",
     "output_type": "error",
     "traceback": [
      "\u001b[0;31m-------------------------------------------------\u001b[0m",
      "\u001b[0;31mKeyError\u001b[0m        Traceback (most recent call last)",
      "\u001b[0;32m<ipython-input-38-3754a1027908>\u001b[0m in \u001b[0;36m<module>\u001b[0;34m()\u001b[0m\n\u001b[0;32m----> 1\u001b[0;31m \u001b[0mfig_final\u001b[0m\u001b[0;34m(\u001b[0m\u001b[0mgrid\u001b[0m\u001b[0;34m,\u001b[0m \u001b[0mX_train\u001b[0m\u001b[0;34m,\u001b[0m \u001b[0my_train\u001b[0m\u001b[0;34m,\u001b[0m \u001b[0mX_test\u001b[0m\u001b[0;34m,\u001b[0m \u001b[0my_test\u001b[0m\u001b[0;34m,\u001b[0m \u001b[0my_pred\u001b[0m\u001b[0;34m,\u001b[0m \u001b[0mvar\u001b[0m\u001b[0;34m)\u001b[0m\u001b[0;34m\u001b[0m\u001b[0m\n\u001b[0m",
      "\u001b[0;32m<ipython-input-29-cb33e82af41c>\u001b[0m in \u001b[0;36mfig_final\u001b[0;34m(grid, X_train, y_train, X_test, y_test, y_pred, var)\u001b[0m\n\u001b[1;32m     31\u001b[0m \u001b[0;34m\u001b[0m\u001b[0m\n\u001b[1;32m     32\u001b[0m                 clf = SVC(kernel=grid.best_params_['kernel'], C=grid.best_params_['C'],\n\u001b[0;32m---> 33\u001b[0;31m                           gamma=grid.best_params_['gamma'])\n\u001b[0m\u001b[1;32m     34\u001b[0m \u001b[0;34m\u001b[0m\u001b[0m\n\u001b[1;32m     35\u001b[0m                 \u001b[0mX_fit\u001b[0m \u001b[0;34m=\u001b[0m \u001b[0;34m[\u001b[0m\u001b[0;34m[\u001b[0m\u001b[0;34m]\u001b[0m\u001b[0;34m,\u001b[0m\u001b[0;34m[\u001b[0m\u001b[0;34m]\u001b[0m\u001b[0;34m]\u001b[0m\u001b[0;34m\u001b[0m\u001b[0m\n",
      "\u001b[0;31mKeyError\u001b[0m: 'gamma'"
     ]
    },
    {
     "data": {
      "image/png": "[encoded data removed]",
      "text/plain": [
       "<Figure size 3600x428.571 with 5 Axes>"
      ]
     },
     "metadata": {
      "needs_background": "light"
     },
     "output_type": "display_data"
    }
   ],
   "source": [
    "fig_final(grid, X_train, y_train, X_test, y_test, y_pred, var) "
   ]
  },
  {
   "cell_type": "code",
   "execution_count": null,
   "metadata": {},
   "outputs": [],
   "source": []
  }
 ],
 "metadata": {
  "kernelspec": {
   "display_name": "Python 3",
   "language": "python",
   "name": "python3"
  },
  "language_info": {
   "codemirror_mode": {
    "name": "ipython",
    "version": 3
   },
   "file_extension": ".py",
   "mimetype": "text/x-python",
   "name": "python",
   "nbconvert_exporter": "python",
   "pygments_lexer": "ipython3",
   "version": "3.5.2"
  }
 },
 "nbformat": 4,
 "nbformat_minor": 2
}
