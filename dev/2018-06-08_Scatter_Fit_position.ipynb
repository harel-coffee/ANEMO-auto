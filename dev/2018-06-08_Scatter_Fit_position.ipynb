{
 "cells": [
  {
   "cell_type": "code",
   "execution_count": 1,
   "metadata": {},
   "outputs": [
    {
     "data": {
      "text/plain": [
       "'0.9.10'"
      ]
     },
     "execution_count": 1,
     "metadata": {},
     "output_type": "execute_result"
    }
   ],
   "source": [
    "from ANEMO import ANEMO\n",
    "from ANEMO.edfreader import read_edf\n",
    "import numpy as np\n",
    "import matplotlib.pyplot as plt\n",
    "%matplotlib inline\n",
    "import sympy as sp\n",
    "import lmfit\n",
    "from lmfit import  Model, Parameters\n",
    "lmfit.__version__"
   ]
  },
  {
   "cell_type": "code",
   "execution_count": 2,
   "metadata": {
    "collapsed": true
   },
   "outputs": [],
   "source": [
    "def position(x, bino, start_anti, v_anti, latence, tau, maxi, nan=False, do_numpy=True):\n",
    "    \n",
    "    saccades = data[trial_data]['events']['Esac'] #[starttime, endtime, duration, startx, starty, endx, endy]\n",
    "    data_x = data[trial_data]['x']\n",
    "    \n",
    "    #gradient_deg = gradient_x * 1/px_per_deg * 1000 # gradient en deg/sec\n",
    "    ms = 1000\n",
    "    v_anti = (v_anti/1000) #/ms # pour passer de sec à ms\n",
    "    maxi = maxi /ms\n",
    "    \n",
    "    speed = ANEMO.fct_exponentiel(x, bino, start_anti, v_anti, latence, tau, maxi)\n",
    "    pos = np.cumsum(speed)\n",
    "\n",
    "    if nan == True :\n",
    "        avant, apres =  5, 10 #15\n",
    "        for sacc in saccades :\n",
    "            if sacc[0]-t_0 < len(pos) :\n",
    "                if sacc[0]-t_0 > int(latence) :\n",
    "                    if int(sacc[1]-t_0)+apres <= len(pos) :\n",
    "                        # [starttime, endtime, duration, startx, starty, endx, endy]\n",
    "                        #pos[int(sacc[1]-t_0+1):] += (sacc[5]-sacc[3])/ exp['px_per_deg'] - np.sum(speed[int(sacc[0]-t_0):int(sacc[1]-t_0)]) * sacc[2]\n",
    "                        pos[int(sacc[0]-t_0)-avant:int(sacc[1]-t_0)+apres] = np.nan \n",
    "                        pos[int(sacc[1]-t_0)+apres:] += ((data_x[int(sacc[1]-t_0)+apres]-data_x[int(sacc[0]-t_0)-avant-1])/exp['px_per_deg']) - np.mean(speed[int(sacc[0]-t_0):int(sacc[1]-t_0)]) * sacc[2]\n",
    "\n",
    "                    else :\n",
    "                        pos[int(sacc[0]-t_0)-avant:] = np.nan\n",
    " \n",
    "    return pos"
   ]
  },
  {
   "cell_type": "code",
   "execution_count": 3,
   "metadata": {
    "collapsed": true
   },
   "outputs": [],
   "source": [
    "def Fit_position(velocity_x, trackertime, bino,  TargetOn, StimulusOf, saccades, trial_data, param_fit=None,\n",
    "                 sup=False, time_sup=-280, step=2, nan=True) :\n",
    "\n",
    "    from lmfit import  Model, Parameters\n",
    "\n",
    "    t_0 = trackertime[0]\n",
    "\n",
    "    if param_fit is None :\n",
    "        param_fit={'tau':[15.,13.,80.], 'maxi':[15.,0.,40], 'v_anti':[0.,-40.,40.], 'latence':[TargetOn-t_0+100,TargetOn-t_0+75,'STOP'],\n",
    "                   'start_anti':[TargetOn-t_0-100, StimulusOf-t_0-200, TargetOn-t_0+75]}\n",
    "\n",
    "\n",
    "    if param_fit['latence'][2]=='STOP' :\n",
    "        stop_latence = []\n",
    "        for s in range(len(saccades)) :\n",
    "            if (saccades[s][0]-t_0) >= (TargetOn-t_0+100) :\n",
    "                stop_latence.append((saccades[s][0]-t_0)-1)\n",
    "        if stop_latence==[] :\n",
    "            stop_latence.append(len(time))\n",
    "        stop = stop_latence[0]\n",
    "    else :\n",
    "        stop = param_fit['latence'][2]\n",
    "\n",
    "\n",
    "    if sup==True :\n",
    "        velocity_x = velocity_x[:time_sup]\n",
    "        trackertime = trackertime[:time_sup]\n",
    "\n",
    "    model = Model(position)\n",
    "\n",
    "    params = Parameters()\n",
    "\n",
    "    if step == 1 :\n",
    "        vava = True\n",
    "    elif step == 2 :\n",
    "        vava = False\n",
    "\n",
    "    params.add('nan', value=nan, vary=False)\n",
    "    params.add('trial_data', value=trial_data, vary=False)\n",
    "    params.add('bino', value=bino, vary=False)\n",
    "    \n",
    "    params.add('maxi', value=param_fit['maxi'][0], min=param_fit['maxi'][1], max=param_fit['maxi'][2])\n",
    "    params.add('latence', value=param_fit['latence'][0], min=param_fit['latence'][1], max=stop)\n",
    "    \n",
    "    params.add('tau', value=param_fit['tau'][0], min=param_fit['tau'][1], max=param_fit['tau'][2], vary=vava)\n",
    "    params.add('start_anti', value=param_fit['start_anti'][0], min=param_fit['start_anti'][1], max=param_fit['start_anti'][2], vary=vava)\n",
    "    params.add('v_anti', value=param_fit['v_anti'][0], min=param_fit['v_anti'][1], max=param_fit['v_anti'][2], vary=vava)\n",
    "\n",
    "    if step == 1 :\n",
    "        result_deg = model.fit(velocity_x, params, x=np.arange(len(trackertime)), nan_policy='omit')\n",
    "\n",
    "    elif step == 2 :\n",
    "        out = model.fit(velocity_x, params, x=np.arange(len(trackertime)), nan_policy='omit')\n",
    "        out.params['tau'].set(vary=True)\n",
    "        out.params['start_anti'].set(vary=True)\n",
    "        out.params['v_anti'].set(vary=True)\n",
    "\n",
    "        result_deg = model.fit(velocity_x, out.params, x=np.arange(len(trackertime)), method='nelder', nan_policy='omit')\n",
    "                                \n",
    "    return result_deg\n"
   ]
  },
  {
   "cell_type": "code",
   "execution_count": 4,
   "metadata": {
    "collapsed": true
   },
   "outputs": [],
   "source": [
    "import pickle\n",
    "with open('../demo/result/param_Fit_AM.pkl', 'rb') as fichier :\n",
    "    param = pickle.load(fichier, encoding='latin1')\n",
    "with open('../demo/data/enregistrement_AM_2017-10-23_100057.pkl', 'rb') as fichier :\n",
    "    exp = pickle.load(fichier, encoding='latin1')\n",
    "    \n",
    "datafile = '../demo/data/enregistrement_AM_2017-10-23_100057.asc'\n",
    "data = read_edf(datafile, 'TRIALID')"
   ]
  },
  {
   "cell_type": "code",
   "execution_count": 5,
   "metadata": {
    "collapsed": true
   },
   "outputs": [],
   "source": [
    "N_trials = exp['N_trials']\n",
    "screen_width_px = exp['screen_width_px']\n",
    "V_X = exp['V_X']\n",
    "RashBass = exp['RashBass']\n",
    "stim_tau = exp['stim_tau']\n",
    "p = exp['p']"
   ]
  },
  {
   "cell_type": "code",
   "execution_count": 6,
   "metadata": {
    "scrolled": true
   },
   "outputs": [
    {
     "name": "stdout",
     "output_type": "stream",
     "text": [
      "0\n",
      "1\n",
      "2\n",
      "3\n",
      "4\n",
      "5\n",
      "6\n",
      "7\n",
      "8\n",
      "9\n",
      "10\n",
      "11\n",
      "12\n",
      "13\n",
      "14\n"
     ]
    },
    {
     "data": {
      "image/png": "[encoded data removed]",
      "text/plain": [
       "<Figure size 360x1112.48 with 5 Axes>"
      ]
     },
     "metadata": {},
     "output_type": "display_data"
    }
   ],
   "source": [
    "block = 0\n",
    "#trial = 131\n",
    "fig_width= 5\n",
    "fig, axs = plt.subplots(5, 1, figsize=(fig_width, 5*(fig_width)/1.6180))\n",
    "\n",
    "for trial in range(15) :\n",
    "    print(trial)\n",
    "    trial_data = trial + N_trials*block\n",
    "\n",
    "    time = data[trial_data]['trackertime']\n",
    "    StimulusOn = data[trial_data]['events']['msg'][10][0]\n",
    "    StimulusOf = data[trial_data]['events']['msg'][14][0]\n",
    "    TargetOn = data[trial_data]['events']['msg'][15][0]\n",
    "    TargetOff = data[trial_data]['events']['msg'][16][0]\n",
    "    saccades = data[trial_data]['events']['Esac']\n",
    "    t_0 = time[0]\n",
    "\n",
    "    DATA_x = data[trial_data]['x']\n",
    "    data_x = DATA_x-(DATA_x[StimulusOf-t_0])\n",
    "    #data_x = DATA_x-(exp['screen_width_px']/2)\n",
    "\n",
    "    bino=p[trial, block, 0]\n",
    "\n",
    "    start = TargetOn\n",
    "    start1 = TargetOn-t_0\n",
    "    \n",
    "    \n",
    "    data_da = np.copy(data_x)\n",
    "  \n",
    "    avant, apres =  5, 10 #15\n",
    "    for s in range(len(saccades)) :\n",
    "        if saccades[s][1]-t_0+apres <= (len(time)) :\n",
    "            for x_data in np.arange((saccades[s][0]-t_0-avant), (saccades[s][1]-t_0+apres)) :\n",
    "                data_da[x_data] = np.nan\n",
    "        else :\n",
    "            for x_data in np.arange((saccades[s][0]-t_0-avant), (len(time))) :\n",
    "                data_da[x_data] = np.nan\n",
    "\n",
    "    data3 = np.copy(data_da)\n",
    "    a = 0\n",
    "    for s in range(len(saccades)) :\n",
    "        if saccades[s][1]-t_0+apres < len(data_da) :\n",
    "            a = a + (data_da[saccades[s][1]-t_0+apres]-data_da[saccades[s][0]-t_0-avant-1])\n",
    "        else :\n",
    "            a = a + (data_da[len(data_da)-1]-data_da[saccades[s][0]-t_0-avant-1])\n",
    "        b = ((data_da[saccades[s][0]-t_0-avant-1]-data_da[saccades[s][0]-t_0-avant-11])/10)           \n",
    "        if s < len(saccades)-1 :\n",
    "            for x_data in np.arange((saccades[s][1]-t_0+apres), (saccades[s+1][0]-t_0-avant)) :\n",
    "                data3[x_data] = data3[x_data]-a + ((saccades[s][1]-t_0+apres)-(saccades[s][0]-t_0-avant))*b\n",
    "        else :\n",
    "            for x_data in np.arange((saccades[s][1]-t_0+apres), len(time)) :\n",
    "                data3[x_data] = data3[x_data]-a +((saccades[s][1]-t_0+apres)-(saccades[s][0]-t_0-avant))*b\n",
    "\n",
    "    data3 = data3 - data3[StimulusOf-t_0]\n",
    "    data_2 = data3 * 1/exp['px_per_deg']\n",
    "\n",
    "\n",
    "\n",
    "    a = Fit_position(data_2,time, bino, TargetOn, StimulusOf, saccades, trial_data, step=2, sup=True, nan=False)\n",
    "    c = Fit_position(data_2,time, bino, TargetOn, StimulusOf, saccades, trial_data, step=2, sup=True, nan=True)\n",
    "    \n",
    "    axs[0].scatter(param['start_anti'][block][trial], a.values['start_anti']-start1, c='k')\n",
    "    axs[0].scatter(param['start_anti'][block][trial], c.values['start_anti']-start1, c='r')\n",
    "    axs[1].scatter(param['v_anti'][block][trial], a.values['v_anti'], c='k')\n",
    "    axs[1].scatter(param['v_anti'][block][trial], c.values['v_anti'], c='r')\n",
    "    axs[2].scatter(param['latence'][block][trial], a.values['latence']-start1, c='k')\n",
    "    axs[2].scatter(param['latence'][block][trial], c.values['latence']-start1, c='r')\n",
    "    axs[3].scatter(param['tau'][block][trial], a.values['tau'], c='k')\n",
    "    axs[3].scatter(param['tau'][block][trial], c.values['tau'], c='r')\n",
    "    axs[4].scatter(param['maxi'][block][trial], a.values['maxi'], c='k')\n",
    "    axs[4].scatter(param['maxi'][block][trial], c.values['maxi'], c='r')\n",
    "    \n",
    "plt.show()"
   ]
  },
  {
   "cell_type": "code",
   "execution_count": null,
   "metadata": {
    "collapsed": true
   },
   "outputs": [],
   "source": []
  }
 ],
 "metadata": {
  "kernelspec": {
   "display_name": "Python 3",
   "language": "python",
   "name": "python3"
  },
  "language_info": {
   "codemirror_mode": {
    "name": "ipython",
    "version": 3
   },
   "file_extension": ".py",
   "mimetype": "text/x-python",
   "name": "python",
   "nbconvert_exporter": "python",
   "pygments_lexer": "ipython3",
   "version": "3.6.5"
  },
  "toc": {
   "base_numbering": 1,
   "nav_menu": {},
   "number_sections": true,
   "sideBar": true,
   "skip_h1_title": false,
   "title_cell": "Table of Contents",
   "title_sidebar": "Contents",
   "toc_cell": false,
   "toc_position": {},
   "toc_section_display": true,
   "toc_window_display": false
  }
 },
 "nbformat": 4,
 "nbformat_minor": 2
}
