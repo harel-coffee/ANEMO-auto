{
 "cells": [
  {
   "cell_type": "code",
   "execution_count": null,
   "metadata": {},
   "outputs": [],
   "source": [
    "from ANEMO import ANEMO\n",
    "from ANEMO.edfreader import read_edf\n",
    "import pickle\n",
    "import numpy as np\n",
    "%matplotlib inline"
   ]
  },
  {
   "cell_type": "code",
   "execution_count": null,
   "metadata": {},
   "outputs": [],
   "source": [
    "exp = {'px_per_deg': 27,\n",
    "      'N_trials': 400,\n",
    "      'N_blocks': 1,\n",
    "      'list_events': ['StimulusOn\\n', 'StimulusOff\\n',\n",
    "                      'TargetOn\\n', 'TargetOff\\n']}"
   ]
  },
  {
   "cell_type": "code",
   "execution_count": null,
   "metadata": {},
   "outputs": [],
   "source": [
    "def show(sujet) :\n",
    "    \n",
    "    if sujet < 13 : datafile = 'data/new_data/s%sBLa50.asc'%(sujet)\n",
    "    else :          datafile = 'data/new_data/s%sBL50.asc'%(sujet)\n",
    "    data = read_edf(datafile, 'Trialinfo')\n",
    "    \n",
    "    f = open('data/new_data/s%s_BL50_trials_errors.txt'%sujet, 'r')\n",
    "    delete = f.read()\n",
    "    delete = [[int(y) for y in x.split(' ')] for x in delete.split('\\n') if x!='']\n",
    "    \n",
    "    list_trial = [delete[t][0]-1 for t in range(len(delete))]\n",
    "    exp['dir_target'] = [[]]\n",
    "    for t in range(len(list_trial)):\n",
    "        if t not in list_trial : exp['dir_target'][0].append(None)\n",
    "        else : exp['dir_target'][0].append([(abs(delete[x][1]-1)*2)-1 for x in range(len(list_trial)) if list_trial[x]==t][0])\n",
    "\n",
    "    liste_delete = [delete[t][0]-1 for t in range(len(delete)) if delete[t][2]==1]\n",
    "    \n",
    "    print(liste_delete)\n",
    "    \n",
    "    Plot = ANEMO.Plot(exp)\n",
    "    fig, ax = Plot.plot_fit(data, trials=liste_delete, plot_detail=None)\n",
    "    fig.savefig('figures/suppresion/new_data/sujet_%s.pdf'%sujet)"
   ]
  },
  {
   "cell_type": "code",
   "execution_count": null,
   "metadata": {},
   "outputs": [],
   "source": [
    "sujets = np.arange(1, 20)\n",
    "sujets = np.delete(sujets, 8)\n",
    "sujets = np.delete(sujets, 12)\n",
    "\n",
    "for s in sujets[14:] :\n",
    "    print(s, '-->', end=' ')\n",
    "    show(s)"
   ]
  },
  {
   "cell_type": "code",
   "execution_count": null,
   "metadata": {},
   "outputs": [],
   "source": []
  }
 ],
 "metadata": {
  "kernel_info": {
   "name": "python3"
  },
  "kernelspec": {
   "display_name": "Python 3",
   "language": "python",
   "name": "python3"
  },
  "language_info": {
   "codemirror_mode": {
    "name": "ipython",
    "version": 3
   },
   "file_extension": ".py",
   "mimetype": "text/x-python",
   "name": "python",
   "nbconvert_exporter": "python",
   "pygments_lexer": "ipython3",
   "version": "3.6.9"
  },
  "nteract": {
   "version": "0.15.0"
  }
 },
 "nbformat": 4,
 "nbformat_minor": 2
}
