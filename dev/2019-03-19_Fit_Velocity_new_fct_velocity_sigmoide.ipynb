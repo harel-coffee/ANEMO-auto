{
 "cells": [
  {
   "cell_type": "code",
   "execution_count": 1,
   "metadata": {},
   "outputs": [],
   "source": [
    "from ANEMO import ANEMO\n",
    "from ANEMO.edfreader import read_edf\n",
    "import numpy as np\n",
    "import matplotlib.pyplot as plt\n",
    "%matplotlib inline\n",
    "\n",
    "import pickle\n",
    "import lmfit\n",
    "from lmfit import  Model, Parameters"
   ]
  },
  {
   "cell_type": "code",
   "execution_count": 2,
   "metadata": {},
   "outputs": [],
   "source": [
    "def new_vitesse(x, dir_target, start_anti, v_anti, latence, maxi, ramp_pursuit, do_whitening) :\n",
    "\n",
    "    v_anti = v_anti/1000 # to switch from sec to ms\n",
    "    ramp_pursuit = -ramp_pursuit/1000\n",
    "    time = x\n",
    "    vitesse = []\n",
    "    y = 0\n",
    "    \n",
    "    e = np.exp(1)\n",
    "    time_r = np.arange(-e, len(time), 1)\n",
    "    \n",
    "    start_rampe = dir_target*(maxi/(1+np.exp(((ramp_pursuit*time_r[0])+e))))\n",
    "    \n",
    "    for t in range(len(time)):\n",
    "        \n",
    "        if start_anti >= latence :\n",
    "            \n",
    "            if time[t] < latence : vitesse.append(0)\n",
    "            else :                 vitesse.append(((dir_target*maxi)/(1+np.exp(((ramp_pursuit*time_r[int(time[t]-latence)])+e))))-start_rampe)\n",
    "        #-------------------------------------------------------------------------------\n",
    "        else :\n",
    "            if time[t] < start_anti :\n",
    "                vitesse.append(0)\n",
    "            else :\n",
    "                if time[t] < latence :\n",
    "                    vitesse.append((time[t]-start_anti)*v_anti)\n",
    "                    y = (time[t]-start_anti)*v_anti\n",
    "                else :\n",
    "                    vitesse.append(((dir_target*maxi)/(1+np.exp(((ramp_pursuit*time_r[int(time[t]-latence)])+e))))+(y-start_rampe))\n",
    "        \n",
    "    return vitesse"
   ]
  },
  {
   "cell_type": "code",
   "execution_count": 3,
   "metadata": {
    "scrolled": true
   },
   "outputs": [
    {
     "data": {
      "image/png": "[encoded data removed]",
      "text/plain": [
       "<Figure size 432x288 with 1 Axes>"
      ]
     },
     "metadata": {
      "needs_background": "light"
     },
     "output_type": "display_data"
    }
   ],
   "source": [
    "time = np.arange(-750, 1000)\n",
    "\n",
    "new = new_vitesse(time, 1, -300, 2, 250, 10, 30, False)\n",
    "\n",
    "plt.plot(time, new, 'k');"
   ]
  },
  {
   "cell_type": "code",
   "execution_count": 4,
   "metadata": {
    "scrolled": true
   },
   "outputs": [],
   "source": [
    "def new_fit(num_s) :\n",
    "\n",
    "    \n",
    "    sujets = ['AM','BMC','CS','DC','FM','IP','LB','OP','RS','SR','TN','YK']\n",
    "    time_s = ['2017-10-23_100057','2017-09-26_095637', '2017-10-03_134421','2017-09-27_161040',\n",
    "            '2017-10-03_143803','2017-09-28_115250', '2017-09-20_151043','2017-10-26_121823',\n",
    "            '2017-11-08_094717','2017-11-16_153313', '2017-11-08_150410','2017-11-17_172706']\n",
    "    \n",
    "    print(sujets[num_s])\n",
    "    \n",
    "    with open('data/enregistrement_%s_%s.pkl'%(sujets[num_s], time_s[num_s]), 'rb') as fichier :\n",
    "        exp = pickle.load(fichier, encoding='latin1')\n",
    "    \n",
    "    A = ANEMO(exp)\n",
    "    \n",
    "    datafile = 'data/enregistrement_%s_%s.asc'%(sujets[num_s], time_s[num_s])\n",
    "    data = read_edf(datafile, 'TRIALID')\n",
    "    \n",
    "    list_param_enre = ['start_anti', 'v_anti', 'latence', 'maxi', 'ramp_pursuit']\n",
    "\n",
    "    param = {}\n",
    "    for name in list_param_enre : param[name] = []\n",
    "\n",
    "    for block in range(exp['N_blocks']) :\n",
    "        for name in list_param_enre : param[name].append([])\n",
    "\n",
    "        for trial in range(exp['N_trials']) :\n",
    "\n",
    "            print('block, trial = ', block, trial)\n",
    "\n",
    "            time_sup = 280\n",
    "\n",
    "            trial_data = trial + exp['N_trials']*block\n",
    "            arg = A.arg(data[trial_data], trial=trial, block=block)\n",
    "\n",
    "            velocity_NAN = A.velocity_NAN(**arg, filt='velocity')\n",
    "\n",
    "            data_trial = velocity_NAN[:-time_sup]\n",
    "            trackertime = arg.trackertime[:-time_sup]\n",
    "\n",
    "            max_latence = []\n",
    "            for s in range(len(arg.saccades)) :\n",
    "                if (arg.saccades[s][0]-arg.t_0) >= (arg.TargetOn-arg.t_0+100) :\n",
    "                    max_latence.append((arg.saccades[s][0]-arg.t_0))\n",
    "            if max_latence == [] :\n",
    "                max_latence.append(len(trackertime))\n",
    "            max_latence = max_latence[0]\n",
    "\n",
    "            value_latence, value_maxi, value_anti = A.classical_method.Full(data_trial, arg.TargetOn-arg.t_0)\n",
    "\n",
    "            if np.isnan(value_latence): value_latence= arg.TargetOn-arg.t_0+100\n",
    "            if np.isnan(value_anti): value_anti= 0.\n",
    "            if np.isnan(value_maxi): value_maxi= 15.\n",
    "\n",
    "\n",
    "            if value_latence >= max_latence-50 : value_latence = max_latence-150\n",
    "            if value_latence > 250 :             value_latence = arg.TargetOn-arg.t_0+100\n",
    "\n",
    "            param_fit=[{'name':'ramp_pursuit', 'value':40, 'min':40, 'max':80, 'vary':'vary'},\n",
    "                       {'name':'maxi', 'value':value_maxi, 'min':5., 'max':40., 'vary':True},\n",
    "                       {'name':'dir_target', 'value':arg.dir_target, 'min':None,\n",
    "                        'max':None, 'vary':False },\n",
    "                       {'name':'v_anti', 'value':value_anti, 'min':-40., 'max':40., 'vary':True  },\n",
    "                       {'name':'latence', 'value':value_latence, 'min':arg.TargetOn-arg.t_0+75,\n",
    "                        'max':max_latence, 'vary':True  },\n",
    "                       {'name':'start_anti', 'value':arg.TargetOn-arg.t_0-100, 'min':arg.StimulusOf-arg.t_0-200,\n",
    "                        'max':arg.TargetOn-arg.t_0+75, 'vary':'vary'}]\n",
    "\n",
    "            inde_vars={'x':np.arange(len(trackertime))}\n",
    "\n",
    "            equation = new_vitesse\n",
    "            model = Model(equation, independent_vars=inde_vars.keys())\n",
    "\n",
    "            vary = False\n",
    "            params = Parameters()\n",
    "            for num_par in range(len(param_fit)) :\n",
    "                if param_fit[num_par]['vary'] == 'vary' : var = vary\n",
    "                else :                                    var = param_fit[num_par]['vary']\n",
    "                params.add(param_fit[num_par]['name'],\n",
    "                           value=param_fit[num_par]['value'],\n",
    "                           min=param_fit[num_par]['min'],\n",
    "                           max=param_fit[num_par]['max'],\n",
    "                           vary=var)\n",
    "\n",
    "            params.add('do_whitening', value=False, vary=False)\n",
    "\n",
    "            out = model.fit(data_trial, params, nan_policy='omit', **inde_vars)\n",
    "\n",
    "            # make the other parameters vary now\n",
    "            for num_par in range(len(param_fit)) :\n",
    "                if param_fit[num_par]['vary'] == 'vary' :\n",
    "                    out.params[param_fit[num_par]['name']].set(vary=True)\n",
    "\n",
    "            f = model.fit(data_trial, out.params, method='nelder', nan_policy='omit', **inde_vars)\n",
    "\n",
    "            #------------------------------------------------------------------------------------------------\n",
    "            time = arg.trackertime[:-time_sup]-arg.TargetOn\n",
    "            onset = arg.TargetOn - arg.t_0\n",
    "\n",
    "            \n",
    "            for name in list_param_enre :\n",
    "                if name in f.values.keys() :\n",
    "                    if name in ['start_anti', 'latence'] : val = f.values[name] - onset\n",
    "                    else :                                 val = f.values[name]\n",
    "                    param[name][block].append(val)\n",
    "                    \n",
    "                    \n",
    "    # saves the fit parameters\n",
    "    with open('param_Fit_%s_fct_Vsigmo_filt_30.pkl'%sujets[num_s], 'wb') as fichier:\n",
    "        f = pickle.Pickler(fichier)\n",
    "        f.dump(param)"
   ]
  },
  {
   "cell_type": "code",
   "execution_count": null,
   "metadata": {},
   "outputs": [],
   "source": [
    "new_fit(1)"
   ]
  }
 ],
 "metadata": {
  "kernelspec": {
   "display_name": "Python 3",
   "language": "python",
   "name": "python3"
  },
  "language_info": {
   "codemirror_mode": {
    "name": "ipython",
    "version": 3
   },
   "file_extension": ".py",
   "mimetype": "text/x-python",
   "name": "python",
   "nbconvert_exporter": "python",
   "pygments_lexer": "ipython3",
   "version": "3.7.2"
  }
 },
 "nbformat": 4,
 "nbformat_minor": 2
}
