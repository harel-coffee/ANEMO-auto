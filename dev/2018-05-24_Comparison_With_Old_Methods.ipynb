{
 "cells": [
  {
   "cell_type": "code",
   "execution_count": 1,
   "metadata": {
    "ExecuteTime": {
     "end_time": "2018-05-29T09:09:40.415088Z",
     "start_time": "2018-05-29T09:09:39.700291Z"
    }
   },
   "outputs": [
    {
     "data": {
      "text/plain": [
       "'0.9.10'"
      ]
     },
     "execution_count": 1,
     "metadata": {},
     "output_type": "execute_result"
    }
   ],
   "source": [
    "from ANEMO import ANEMO\n",
    "import numpy as np\n",
    "import matplotlib.pyplot as plt\n",
    "%matplotlib inline\n",
    "import lmfit\n",
    "from lmfit import  Model, Parameters\n",
    "lmfit.__version__"
   ]
  },
  {
   "cell_type": "markdown",
   "metadata": {},
   "source": [
    "# Loading eye movement data\n"
   ]
  },
  {
   "cell_type": "code",
   "execution_count": 2,
   "metadata": {
    "ExecuteTime": {
     "end_time": "2018-05-29T09:09:40.647124Z",
     "start_time": "2018-05-29T09:09:40.416610Z"
    }
   },
   "outputs": [],
   "source": [
    "import pickle\n",
    "with open('../demo/result/param_Fit_AM.pkl', 'rb') as fichier :\n",
    "    param = pickle.load(fichier, encoding='latin1')\n",
    "with open('../demo/data/enregistrement_AM_2017-10-23_100057.pkl', 'rb') as fichier :\n",
    "    exp = pickle.load(fichier, encoding='latin1')"
   ]
  },
  {
   "cell_type": "code",
   "execution_count": 3,
   "metadata": {
    "ExecuteTime": {
     "end_time": "2018-05-29T09:09:40.785474Z",
     "start_time": "2018-05-29T09:09:40.649146Z"
    }
   },
   "outputs": [
    {
     "ename": "ModuleNotFoundError",
     "evalue": "No module named 'edfreader'",
     "output_type": "error",
     "traceback": [
      "\u001b[0;31m---------------------------------------------------------------------------\u001b[0m",
      "\u001b[0;31mModuleNotFoundError\u001b[0m                       Traceback (most recent call last)",
      "\u001b[0;32m<ipython-input-3-8898671d898a>\u001b[0m in \u001b[0;36m<module>\u001b[0;34m()\u001b[0m\n\u001b[0;32m----> 1\u001b[0;31m \u001b[0;32mfrom\u001b[0m \u001b[0medfreader\u001b[0m \u001b[0;32mimport\u001b[0m \u001b[0mread_edf\u001b[0m\u001b[0;34m\u001b[0m\u001b[0m\n\u001b[0m\u001b[1;32m      2\u001b[0m \u001b[0mdatafile\u001b[0m \u001b[0;34m=\u001b[0m \u001b[0;34m'../demo/data/enregistrement_AM_2017-10-23_100057.asc'\u001b[0m\u001b[0;34m\u001b[0m\u001b[0m\n\u001b[1;32m      3\u001b[0m \u001b[0mdata\u001b[0m \u001b[0;34m=\u001b[0m \u001b[0mread_edf\u001b[0m\u001b[0;34m(\u001b[0m\u001b[0mdatafile\u001b[0m\u001b[0;34m,\u001b[0m \u001b[0;34m'TRIALID'\u001b[0m\u001b[0;34m)\u001b[0m\u001b[0;34m\u001b[0m\u001b[0m\n",
      "\u001b[0;31mModuleNotFoundError\u001b[0m: No module named 'edfreader'"
     ]
    }
   ],
   "source": [
    "from edfreader import read_edf\n",
    "datafile = '../demo/data/enregistrement_AM_2017-10-23_100057.asc'\n",
    "data = read_edf(datafile, 'TRIALID')"
   ]
  },
  {
   "cell_type": "code",
   "execution_count": null,
   "metadata": {
    "ExecuteTime": {
     "end_time": "2018-05-29T09:09:40.786208Z",
     "start_time": "2018-05-29T09:09:39.699Z"
    }
   },
   "outputs": [],
   "source": [
    "N_trials = exp['N_trials']\n",
    "N_blocks = exp['N_blocks']\n",
    "screen_width_px = exp['screen_width_px']\n",
    "screen_height_px = exp['screen_height_px']\n",
    "V_X = exp['V_X']\n",
    "RashBass = exp['RashBass']\n",
    "stim_tau = exp['stim_tau']\n",
    "p = exp['p']"
   ]
  },
  {
   "cell_type": "code",
   "execution_count": null,
   "metadata": {
    "ExecuteTime": {
     "end_time": "2018-05-29T09:09:40.787171Z",
     "start_time": "2018-05-29T09:09:39.702Z"
    }
   },
   "outputs": [],
   "source": [
    "def Fit(data, nb=10, plot=True, nb_plot=10) :\n",
    "\n",
    "    result_fit={'start_anti':[], 'start_anti2':[], 'v_anti':[], 'v_anti2':[],\n",
    "                'latence':[], 'latence2':[], 'old_latence':[],\n",
    "                'tau':[], 'tau2':[], 'maxi':[], 'maxi2':[], 'old_max':[]}\n",
    "\n",
    "    if plot is True :\n",
    "        fig, axs = plt.subplots(nb_plot, 1, figsize=(15, nb_plot*(15*1/2)/1.6180))\n",
    "    \n",
    "    \n",
    "    for trial_data in range(nb) :\n",
    "\n",
    "        if trial_data < 200 :\n",
    "            block = 0\n",
    "        elif trial_data < 400 :\n",
    "            block = 1\n",
    "        else :\n",
    "            block = 2\n",
    "\n",
    "        trial = trial_data - N_trials*block #trial_data = trial + N_trials*block\n",
    "\n",
    "        data_x = data[trial_data]['x']\n",
    "        data_y = data[trial_data]['y']\n",
    "        trackertime = data[trial_data]['trackertime']\n",
    "\n",
    "        StimulusOn = data[trial_data]['events']['msg'][10][0]\n",
    "        StimulusOf = data[trial_data]['events']['msg'][14][0]\n",
    "        TargetOn = data[trial_data]['events']['msg'][15][0]\n",
    "        TargetOff = data[trial_data]['events']['msg'][16][0]\n",
    "        saccades = data[trial_data]['events']['Esac']\n",
    "        trackertime_0 = data[trial_data]['trackertime'][0]\n",
    "        bino = p[trial, block, 0]\n",
    "        \n",
    "        gradientx_deg =ANEMO.velocity_deg(data_x, exp['px_per_deg']) \n",
    "        gradienty_deg =ANEMO.velocity_deg(data_y, exp['px_per_deg']) \n",
    "        \n",
    "        \n",
    "        #-------------------------------------------------\n",
    "        # SUPPRESSION DES SACCADES\n",
    "        #-------------------------------------------------\n",
    "        stop_recherche_misac = TargetOn-trackertime_0+100\n",
    "        misac = ANEMO.Microsaccade(gradientx_deg[:stop_recherche_misac], gradienty_deg[:stop_recherche_misac], trackertime_0=trackertime_0)\n",
    "        saccades.extend(misac)\n",
    "\n",
    "        gradient_deg_NAN = ANEMO.suppression_saccades(gradientx_deg, saccades, trackertime)\n",
    "        #-------------------------------------------------\n",
    "\n",
    "        start = TargetOn\n",
    "        StimulusOn_s = StimulusOn - start\n",
    "        StimulusOf_s = StimulusOf - start\n",
    "        TargetOn_s = TargetOn - start\n",
    "        TargetOff_s = TargetOff - start\n",
    "        trackertime_s = trackertime - start\n",
    "\n",
    "        debut  = TargetOn - trackertime_0\n",
    "        vitesse, x = gradient_deg_NAN, np.arange(len(trackertime))\n",
    "\n",
    "        #-------------------------------------------------\n",
    "        # FIT\n",
    "        #-------------------------------------------------\n",
    "\n",
    "        result_deg = ANEMO.Fit_exponentiel(gradient_deg_NAN, trackertime, TargetOn=TargetOn,\n",
    "                                           StimulusOf=StimulusOf, saccades=saccades, bino=bino)\n",
    "\n",
    "        result_fit['start_anti'].append(result_deg.values['start_anti']-debut)\n",
    "        result_fit['v_anti'].append(result_deg.values['v_anti'])\n",
    "        result_fit['latence'].append(result_deg.values['latence']-debut)\n",
    "        result_fit['tau'].append(result_deg.values['tau'])\n",
    "        result_fit['maxi'].append(result_deg.values['maxi'])\n",
    "        #-------------------------------------------------\n",
    "        \n",
    "        \n",
    "        #-----------------------------------------------------------------------------------------------------------\n",
    "        # FIT avec vieux paramètres\n",
    "        # TODO faire une fonction + import from ANEMO\n",
    "        #-----------------------------------------------------------------------------------------------------------\n",
    "        \"\"\" /!\\ vérifier si c'est bien ça \"\"\"\n",
    "        \n",
    "        tau_init = [15.,13.,80.]\n",
    "        maxi_init = [15.,1.,40.]\n",
    "        latence_init = [TargetOn-trackertime_0+100,TargetOn-trackertime_0+75,'STOP']\n",
    "        start_anti_init = [TargetOn-trackertime_0-100, StimulusOf-trackertime_0-200, TargetOn-trackertime_0-75]\n",
    "        v_anti_init = [0.,-40.,40.]\n",
    "        \n",
    "        \n",
    "        a, b = StimulusOn-trackertime_0, StimulusOf-trackertime_0\n",
    "        c, seuil = TargetOn-trackertime_0+100, 3\n",
    "        lat = np.where(np.abs(gradient_deg_NAN[c:]) > np.abs(np.nanmean(gradient_deg_NAN[a:b]))+np.abs(np.nanstd(gradient_deg_NAN[a:b])*seuil))\n",
    "        old_latence = lat[0][0]+c\n",
    "        result_fit['old_latence'].append(old_latence-debut)\n",
    "        \n",
    "        \n",
    "        a1, b1 = TargetOn-trackertime_0+400, TargetOn-trackertime_0+600\n",
    "        maxmax = np.where(np.abs(gradient_deg_NAN) > np.abs(np.nanmean(gradient_deg_NAN[a1:b1])))\n",
    "        old_max = np.abs(gradient_deg_NAN[maxmax[0][0]])\n",
    "        result_fit['old_max'].append(old_max)\n",
    "        \n",
    "        \n",
    "        maxi2_init = [old_max,1.,40.]\n",
    "        #latence2_init = [old_latence-100,TargetOn-trackertime_0+50,'STOP']\n",
    "        latence2_init = [old_latence,TargetOn-trackertime_0+50,'STOP']\n",
    "\n",
    "        param_fit2 = {'tau':tau_init, 'maxi':maxi2_init, 'v_anti':v_anti_init, 'latence':latence2_init, 'start_anti':start_anti_init}\n",
    "\n",
    "        \n",
    "        result_deg2 = ANEMO.Fit_exponentiel(gradient_deg_NAN, trackertime, param_fit=param_fit2,\n",
    "                                            TargetOn=TargetOn, StimulusOf=StimulusOf, saccades=saccades, bino=bino)\n",
    "        \n",
    "        result_fit['start_anti2'].append(result_deg2.values['start_anti']-debut)\n",
    "        result_fit['v_anti2'].append(result_deg2.values['v_anti'])\n",
    "        result_fit['latence2'].append(result_deg2.values['latence']-debut)\n",
    "        result_fit['tau2'].append(result_deg2.values['tau'])\n",
    "        result_fit['maxi2'].append(result_deg2.values['maxi'])\n",
    "        #-------------------------------------------------\n",
    "        \n",
    "        \n",
    "        if trial_data < nb_plot :\n",
    "            \n",
    "            axs[trial_data].axvspan(StimulusOn_s, StimulusOf_s, color='k', alpha=0.2)\n",
    "            axs[trial_data].axvspan(StimulusOf_s, TargetOn_s, color='r', alpha=0.2)\n",
    "            axs[trial_data].axvspan(TargetOn_s, TargetOff_s, color='k', alpha=0.15)\n",
    "            for s in range(len(saccades)) :\n",
    "                axs[trial_data].axvspan(saccades[s][0]-start, saccades[s][1]-start, color='k', alpha=0.2)\n",
    "\n",
    "            axs[trial_data].axis([StimulusOn_s-10, TargetOff_s+10, -40, 40])\n",
    "            axs[trial_data].plot(trackertime_s, gradient_deg_NAN, color='k', alpha=0.6)\n",
    "            \n",
    "            init_fit = ANEMO.fct_exponentiel(np.arange(len(trackertime[:-250])), bino, start_anti_init[0],\n",
    "                                             v_anti_init[0], latence_init[0], tau_init[0], maxi_init[0])\n",
    "            best_fit = ANEMO.fct_exponentiel(np.arange(len(trackertime[:-250])), bino, result_fit['start_anti'][trial_data]+debut, result_fit['v_anti'][trial_data],\n",
    "                                             result_fit['latence'][trial_data]+debut, result_fit['tau'][trial_data], result_fit['maxi'][trial_data])\n",
    "            axs[trial_data].plot(trackertime_s[:-250], init_fit, 'r--', linewidth=1)\n",
    "            axs[trial_data].plot(trackertime_s[:-250], best_fit, color='r', linewidth=1)\n",
    "\n",
    "            init_fit2 = ANEMO.fct_exponentiel(np.arange(len(trackertime[:-250])), bino, start_anti_init[0], v_anti_init[0], latence2_init[0], tau_init[0], maxi2_init[0])\n",
    "            best_fit2 = ANEMO.fct_exponentiel(np.arange(len(trackertime[:-250])), bino, result_fit['start_anti2'][trial_data]+debut, result_fit['v_anti2'][trial_data],\n",
    "                                              result_fit['latence2'][trial_data]+debut, result_fit['tau2'][trial_data], result_fit['maxi2'][trial_data])\n",
    "            axs[trial_data].plot(trackertime_s[:-250], init_fit2, 'g--', linewidth=1)\n",
    "            axs[trial_data].plot(trackertime_s[:-250], best_fit2, color='g', linewidth=1)\n",
    "            \n",
    "            axs[trial_data].plot(trackertime_s, np.ones(np.shape(trackertime_s)[0])*(bino*2-1)*result_fit['old_max'][trial_data], color='k', alpha=0.2)\n",
    "            axs[trial_data].bar(result_fit['old_latence'][trial_data], 80, bottom=-40, color='g', width=4, linewidth=0)\n",
    "\n",
    "            axs[trial_data].text(StimulusOn_s+15, 18, \"start_anti: %0.3f \\nv_anti: %0.3f\"%(result_fit['start_anti'][trial_data], result_fit['v_anti'][trial_data]), color='k', fontsize=14, va='bottom')\n",
    "            axs[trial_data].text(StimulusOn_s+15, -18, \"latence: %0.3f \\nmaxi: %0.3f \\ntau: %0.3f\"%(result_fit['latence'][trial_data], result_fit['maxi'][trial_data], result_fit['tau'][trial_data]), color='k', fontsize=14, va='top')\n",
    "            axs[trial_data].text(StimulusOn_s+400, 18, \"start_anti: %0.3f \\nv_anti: %0.3f\"%(result_fit['start_anti2'][trial_data], result_fit['v_anti2'][trial_data]), color='k', fontsize=14, va='bottom')\n",
    "            axs[trial_data].text(StimulusOn_s+400, -18, \"latence: %0.3f \\nmaxi: %0.3f \\ntau: %0.3f\"%(result_fit['latence2'][trial_data], result_fit['maxi2'][trial_data], result_fit['tau2'][trial_data]), color='k', fontsize=14, va='top')\n",
    "            axs[trial_data].text(StimulusOn_s+800, -18, \"lat: %0.3f \\nmaximax: %0.3f\"%(result_fit['old_latence'][trial_data], result_fit['old_max'][trial_data]), color='k', fontsize=14, va='top')\n",
    "    \n",
    "    if plot is True :\n",
    "        plt.show()\n",
    "    \n",
    "    return result_fit"
   ]
  },
  {
   "cell_type": "code",
   "execution_count": null,
   "metadata": {
    "ExecuteTime": {
     "end_time": "2018-05-29T09:09:40.788211Z",
     "start_time": "2018-05-29T09:09:39.706Z"
    }
   },
   "outputs": [],
   "source": [
    "def regress(ax, p, data, y1, y2, t_label=12) :\n",
    "    from scipy import stats\n",
    "    slope, intercept, r_, p_value, std_err = stats.linregress(p, data)\n",
    "    x_test = np.linspace(np.min(p), np.max(p), 100)\n",
    "    fitLine = slope * x_test + intercept\n",
    "    ax.plot(x_test, fitLine, c='k', linewidth=2)\n",
    "    ax.text(y1,y2, 'r = %0.3f'%(r_), fontsize=t_label/1.2)\n",
    "\n",
    "    return ax"
   ]
  },
  {
   "cell_type": "code",
   "execution_count": null,
   "metadata": {
    "ExecuteTime": {
     "end_time": "2018-05-29T09:09:40.789230Z",
     "start_time": "2018-05-29T09:09:39.710Z"
    }
   },
   "outputs": [],
   "source": [
    "def plot(result_fit, num_plot) :\n",
    "    \n",
    "    if num_plot==0 :\n",
    "        fig, axs = plt.subplots(3, 2, figsize=(5*2, (5*3)/1.6180))\n",
    "        \n",
    "        axs[0][0].set_title('start_anti')\n",
    "        axs[0][1].set_title('v_anti')\n",
    "        axs[1][0].set_title('latence')\n",
    "        axs[1][1].set_title('tau')\n",
    "        axs[2][0].set_title('maxi')\n",
    "        for a in range(3) :\n",
    "            for b in range(2) :\n",
    "                axs[a][b].set_xlabel('fit_new')\n",
    "                axs[a][b].set_ylabel('fit_old')\n",
    "\n",
    "        axs[0][0].scatter(result_fit['start_anti'], result_fit['start_anti2'], c='k', alpha=0.5)\n",
    "        axs[0][0].plot(np.arange(min(result_fit['start_anti']), max(result_fit['start_anti'])),\n",
    "                      np.arange(min(result_fit['start_anti']), max(result_fit['start_anti'])), '--r')\n",
    "        axs[0][0] = regress(axs[0][0], result_fit['start_anti'], result_fit['start_anti2'], -500, 0)\n",
    "        \n",
    "        \n",
    "        axs[0][1].scatter(result_fit['v_anti'], result_fit['v_anti2'] , c='k', alpha=0.5)\n",
    "        axs[0][1].plot(np.arange(min(result_fit['v_anti']), max(result_fit['v_anti'])),\n",
    "                      np.arange(min(result_fit['v_anti']), max(result_fit['v_anti'])), '--r')\n",
    "        axs[0][1] = regress(axs[0][1], result_fit['v_anti'], result_fit['v_anti2'], -15, 30)\n",
    "        \n",
    "        \n",
    "        axs[1][0].scatter(result_fit['latence'], result_fit['latence2'] , c='k', alpha=0.5)\n",
    "        axs[1][0].plot(np.arange(min(result_fit['latence']), max(result_fit['latence'])),\n",
    "                      np.arange(min(result_fit['latence']), max(result_fit['latence'])), '--r')\n",
    "        axs[1][0] = regress(axs[1][0], result_fit['latence'], result_fit['latence2'], 130, 180)\n",
    "        \n",
    "        \n",
    "        axs[1][1].scatter(result_fit['tau'], result_fit['tau2'] , c='k', alpha=0.5)\n",
    "        axs[1][1].plot(np.arange(min(result_fit['tau']), max(result_fit['tau'])),\n",
    "                      np.arange(min(result_fit['tau']), max(result_fit['tau'])), '--r')\n",
    "        axs[1][1] = regress(axs[1][1], result_fit['tau'], result_fit['tau2'], 20, 60)\n",
    "        \n",
    "        axs[2][0].scatter(result_fit['maxi'], result_fit['maxi2'] , c='k', alpha=0.5)\n",
    "        axs[2][0].plot(np.arange(min(result_fit['maxi']), max(result_fit['maxi'])),\n",
    "                      np.arange(min(result_fit['maxi']), max(result_fit['maxi'])), '--r')\n",
    "        axs[2][0] = regress(axs[2][0], result_fit['maxi'], result_fit['maxi2'], 7, 16)\n",
    "        \n",
    "        \n",
    "\n",
    "    if num_plot==1 :\n",
    "        fig, axs = plt.subplots(1, 2, figsize=(5*2, (5*1)/1.6180))\n",
    "        axs[0].set_title('latence')\n",
    "        axs[1].set_title('maxi')\n",
    "        for a in range(2) :\n",
    "            axs[a].set_xlabel('old')\n",
    "            axs[a].set_ylabel('new')\n",
    "\n",
    "        axs[0].scatter(result_fit['old_latence'], result_fit['latence'], c='k', alpha=0.5)\n",
    "        axs[1].scatter(result_fit['old_max'], result_fit['maxi'], c='k', alpha=0.5)\n",
    "        \n",
    "        axs[0].plot(np.arange(min(result_fit['old_latence']), max(result_fit['old_latence'])),\n",
    "                    np.arange(min(result_fit['old_latence']), max(result_fit['old_latence'])), '--r')\n",
    "        axs[0] = regress(axs[0], result_fit['old_latence'], result_fit['latence'], 125, 250)\n",
    "        \n",
    "        axs[1].plot(np.arange(min(result_fit['old_max']), max(result_fit['old_max'])),\n",
    "                    np.arange(min(result_fit['old_max']), max(result_fit['old_max'])), '--r')\n",
    "        axs[1] = regress(axs[1], result_fit['old_max'], result_fit['maxi'], 5, 25)\n",
    "    \n",
    "   \n",
    "    plt.tight_layout() \n",
    "    plt.show()"
   ]
  },
  {
   "cell_type": "markdown",
   "metadata": {},
   "source": [
    "## old vs new"
   ]
  },
  {
   "cell_type": "code",
   "execution_count": null,
   "metadata": {
    "ExecuteTime": {
     "end_time": "2018-05-29T09:09:40.790397Z",
     "start_time": "2018-05-29T09:09:39.712Z"
    },
    "scrolled": false
   },
   "outputs": [],
   "source": [
    "result_fit = Fit(data, nb=50)"
   ]
  },
  {
   "cell_type": "code",
   "execution_count": null,
   "metadata": {
    "ExecuteTime": {
     "end_time": "2018-05-29T09:09:40.791240Z",
     "start_time": "2018-05-29T09:09:39.714Z"
    },
    "scrolled": true
   },
   "outputs": [],
   "source": [
    "plot(result_fit, num_plot=1)"
   ]
  },
  {
   "cell_type": "markdown",
   "metadata": {},
   "source": [
    "## old (after fitting with old as init) vs new\n",
    "\n"
   ]
  },
  {
   "cell_type": "code",
   "execution_count": null,
   "metadata": {
    "ExecuteTime": {
     "end_time": "2018-05-29T09:09:40.792296Z",
     "start_time": "2018-05-29T09:09:39.716Z"
    },
    "scrolled": false
   },
   "outputs": [],
   "source": [
    "plot(result_fit, num_plot=0)"
   ]
  },
  {
   "cell_type": "code",
   "execution_count": null,
   "metadata": {},
   "outputs": [],
   "source": []
  }
 ],
 "metadata": {
  "kernelspec": {
   "display_name": "Python 3",
   "language": "python",
   "name": "python3"
  },
  "language_info": {
   "codemirror_mode": {
    "name": "ipython",
    "version": 3
   },
   "file_extension": ".py",
   "mimetype": "text/x-python",
   "name": "python",
   "nbconvert_exporter": "python",
   "pygments_lexer": "ipython3",
   "version": "3.6.5"
  },
  "toc": {
   "base_numbering": 1,
   "nav_menu": {},
   "number_sections": true,
   "sideBar": true,
   "skip_h1_title": false,
   "title_cell": "Table of Contents",
   "title_sidebar": "Contents",
   "toc_cell": false,
   "toc_position": {},
   "toc_section_display": true,
   "toc_window_display": false
  }
 },
 "nbformat": 4,
 "nbformat_minor": 2
}
