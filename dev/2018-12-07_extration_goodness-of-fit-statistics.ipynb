{
 "cells": [
  {
   "cell_type": "code",
   "execution_count": 1,
   "metadata": {},
   "outputs": [],
   "source": [
    "import pickle\n",
    "import os\n",
    "from ANEMO import read_edf\n",
    "from ANEMO import ANEMO\n",
    "import numpy as np\n",
    "from lmfit import  Model, Parameters"
   ]
  },
  {
   "cell_type": "code",
   "execution_count": 2,
   "metadata": {},
   "outputs": [],
   "source": [
    "sujet = ['AM','BMC','CS','DC','FM','IP','LB','OP','RS','SR','TN','YK']\n",
    "time = ['2017-10-23_100057','2017-09-26_095637',\n",
    "        '2017-10-03_134421','2017-09-27_161040',\n",
    "        '2017-10-03_143803','2017-09-28_115250',\n",
    "        '2017-09-20_151043','2017-10-26_121823',\n",
    "        '2017-11-08_094717','2017-11-16_153313',\n",
    "        '2017-11-08_150410','2017-11-17_172706']"
   ]
  },
  {
   "cell_type": "code",
   "execution_count": 3,
   "metadata": {},
   "outputs": [],
   "source": [
    "equation='fct_velocity'\n",
    "time_sup = 280\n",
    "opt_base = {'stop_search_misac': None, 'time_sup': 280,\n",
    "            'param_fit': None, 'inde_vars': None,\n",
    "            'step_fit':2, 'do_whitening': False,\n",
    "            'before_sacc': 5, 'after_sacc': 15}    "
   ]
  },
  {
   "cell_type": "code",
   "execution_count": null,
   "metadata": {},
   "outputs": [],
   "source": [
    "for x in range(len(sujet)) :\n",
    "    timeStr = time[x]\n",
    "    observer = sujet[x]\n",
    "    mode = 'enregistrement'\n",
    "\n",
    "    print(observer,timeStr)\n",
    "\n",
    "    file = os.path.join('data', mode + '_' + observer + '_' + timeStr + '.pkl')\n",
    "    with open(file, 'rb') as fichier :\n",
    "        param_exp = pickle.load(fichier, encoding='latin1')\n",
    "\n",
    "    resultats = os.path.join('data', mode + '_' + observer + '_' + timeStr + '.asc')\n",
    "    data = read_edf(resultats, 'TRIALID')\n",
    "\n",
    "    A = ANEMO(param_exp)\n",
    "    Fit = ANEMO.Fit(param_exp)\n",
    "\n",
    "    N_trials = param_exp['N_trials']\n",
    "    N_blocks = param_exp['N_blocks']\n",
    "\n",
    "    goodness_of_fit = {}\n",
    "\n",
    "    for s in ['nfev', 'residual', 'chisqr', 'redchi', 'aic', 'bic'] :\n",
    "        goodness_of_fit[s] = []\n",
    "\n",
    "    for block in range(N_blocks) :\n",
    "\n",
    "        for s in ['nfev', 'residual', 'chisqr', 'redchi', 'aic', 'bic'] :\n",
    "            goodness_of_fit[s].append([])\n",
    "\n",
    "        for trial in range(N_trials) :\n",
    "\n",
    "            print(block, trial)\n",
    "\n",
    "            trial_data = trial + N_trials*block\n",
    "            arg = A.arg(data[trial_data], trial=trial, block=block)\n",
    "            opt = opt_base.copy()\n",
    "            opt.update(arg)\n",
    "\n",
    "            velocity_NAN = A.velocity_NAN(**opt, filt='velocity')\n",
    "\n",
    "            #-------------------------------------------------\n",
    "            # FIT\n",
    "            #-------------------------------------------------\n",
    "            if equation=='fct_velocity' :\n",
    "                data_trial = velocity_NAN\n",
    "            else :\n",
    "                data_trial = A.data_deg(data=arg.data_x, **opt)\n",
    "\n",
    "            old_latence, old_max, old_anti = A.classical_method.Full(velocity_NAN, arg.TargetOn-arg.t_0)\n",
    "            f = Fit.Fit_trial(data_trial, equation=equation, value_latence=old_latence, value_max=old_max, value_anti=old_anti, **opt)\n",
    "            #-------------------------------------------------\n",
    "            goodness_of_fit['nfev'][block].append(f.nfev)\n",
    "            goodness_of_fit['residual'][block].append(f.residual)\n",
    "            goodness_of_fit['chisqr'][block].append(f.chisqr)\n",
    "            goodness_of_fit['redchi'][block].append(f.redchi)\n",
    "            goodness_of_fit['aic'][block].append(f.aic)\n",
    "            goodness_of_fit['bic'][block].append(f.bic)\n",
    "            \n",
    "            \n",
    "    file = os.path.join('parametre', 'goodness_of_fit_%s_fct_velocity_filt_30.pkl'%(observer))\n",
    "    with open(file, 'wb') as fichier:\n",
    "        f = pickle.Pickler(fichier)\n",
    "        f.dump(goodness_of_fit)"
   ]
  },
  {
   "cell_type": "code",
   "execution_count": null,
   "metadata": {},
   "outputs": [],
   "source": []
  },
  {
   "cell_type": "code",
   "execution_count": null,
   "metadata": {
    "collapsed": true
   },
   "outputs": [],
   "source": []
  }
 ],
 "metadata": {
  "kernelspec": {
   "display_name": "Python 3",
   "language": "python",
   "name": "python3"
  },
  "language_info": {
   "codemirror_mode": {
    "name": "ipython",
    "version": 3
   },
   "file_extension": ".py",
   "mimetype": "text/x-python",
   "name": "python",
   "nbconvert_exporter": "python",
   "pygments_lexer": "ipython3",
   "version": "3.5.2"
  }
 },
 "nbformat": 4,
 "nbformat_minor": 2
}
