{
 "cells": [
  {
   "cell_type": "code",
   "execution_count": 1,
   "metadata": {},
   "outputs": [],
   "source": [
    "import matplotlib.pyplot as plt\n",
    "%matplotlib inline\n",
    "\n",
    "import numpy as np\n",
    "import pickle\n",
    "import os"
   ]
  },
  {
   "cell_type": "code",
   "execution_count": 2,
   "metadata": {},
   "outputs": [],
   "source": [
    "file = os.path.join('extraction_svm.pkl')\n",
    "with open(file, 'rb') as fichier : extraction_svm = pickle.load(fichier, encoding='latin1')"
   ]
  },
  {
   "cell_type": "code",
   "execution_count": 3,
   "metadata": {},
   "outputs": [
    {
     "name": "stdout",
     "output_type": "stream",
     "text": [
      "{'C': 0.23378038720396177, 'gamma': 0.38233342215886723, 'kernel': 'rbf'} --> 0.8359167321876522\n"
     ]
    }
   ],
   "source": [
    "grid = extraction_svm['grid']\n",
    "y_train0 = extraction_svm['y_train']\n",
    "y_test0 = extraction_svm['y_test']\n",
    "y_pred0 = extraction_svm['y_pred']\n",
    "X_test0 = extraction_svm['X_test']\n",
    "X_train0 = extraction_svm['X_train']\n",
    "var = extraction_svm['var']\n",
    "\n",
    "print(grid.best_params_, '-->', grid.best_score_)"
   ]
  },
  {
   "cell_type": "code",
   "execution_count": 4,
   "metadata": {
    "scrolled": true
   },
   "outputs": [
    {
     "name": "stdout",
     "output_type": "stream",
     "text": [
      "(2160, 16) (2160, 15)\n"
     ]
    }
   ],
   "source": [
    "X_train, y_train = X_train0[:, :-1], y_train0\n",
    "X_test, y_test = X_test0[:, :-1], y_test0\n",
    "\n",
    "print(X_test0.shape, X_test.shape)"
   ]
  },
  {
   "cell_type": "code",
   "execution_count": 5,
   "metadata": {},
   "outputs": [
    {
     "name": "stderr",
     "output_type": "stream",
     "text": [
      "/usr/local/lib/python3.6/dist-packages/sklearn/model_selection/_split.py:2053: FutureWarning: You should specify a value for 'cv' instead of relying on the default value. The default value will change from 3 to 5 in version 0.22.\n",
      "  warnings.warn(CV_WARNING, FutureWarning)\n"
     ]
    },
    {
     "name": "stdout",
     "output_type": "stream",
     "text": [
      "{'C': 0.25555555555555554, 'kernel': 'linear'} --> 0.7915047362312329\n",
      "[[0.79029166 0.78985735 0.79078962 0.79035531 0.79046389 0.79046389\n",
      "  0.79035531 0.79150474 0.79046389 0.79024673]]\n"
     ]
    },
    {
     "data": {
      "image/png": "[encoded data removed]",
      "text/plain": [
       "<Figure size 1440x720 with 2 Axes>"
      ]
     },
     "metadata": {
      "needs_background": "light"
     },
     "output_type": "display_data"
    }
   ],
   "source": [
    "from sklearn.model_selection import GridSearchCV\n",
    "from sklearn.svm import SVC\n",
    "\n",
    "#C_range = np.logspace(-5, 10., 32, base=2.)\n",
    "C_range =  np.linspace(0.1, 0.3, 10)\n",
    "tol = 1e-3 #, 1e-2, 1e-1]\n",
    "\n",
    "\n",
    "param_grid = [{'kernel': ['linear'], 'C': C_range}]\n",
    "\n",
    "\n",
    "grid = GridSearchCV(SVC(verbose=False, max_iter = -1, tol=tol, class_weight='balanced', probability=True),\n",
    "                    param_grid, verbose=0, scoring='balanced_accuracy', n_jobs=1,) #cv=50, n_jobs=-1\n",
    "\n",
    "\n",
    "X_train_ = np.zeros((len(X_train), 0))\n",
    "X_train_ = np.hstack((X_train_, X_train))\n",
    "grid.fit(X_train, y_train.ravel())\n",
    "\n",
    "print(grid.best_params_, '-->', grid.best_score_)\n",
    "\n",
    "means, stds = grid.cv_results_['mean_test_score'], grid.cv_results_['std_test_score']\n",
    "    \n",
    "scores_mean, scores_std = {}, {}\n",
    "for i, (mean_score, std, params) in enumerate(zip(means, stds, grid.cv_results_['params'])):\n",
    "    if i==0 :\n",
    "        scores_mean[params['kernel']] = []\n",
    "        scores_std[params['kernel']] = []\n",
    "    \n",
    "    scores_mean[params['kernel']].append(mean_score)\n",
    "    scores_std[params['kernel']].append(std)\n",
    "\n",
    "# draw heatmap of accuracy as a function of gamma and C\n",
    "\n",
    "fig, ax = plt.subplots(1,1,figsize=(20,10))\n",
    "scores = np.array(scores_mean[params['kernel']]).reshape((1, C_range.shape[0]))\n",
    "print(scores)\n",
    "im = ax.imshow(scores, interpolation='nearest', cmap=plt.cm.gray)#, vmin=0, vmax=1)\n",
    "\n",
    "ax.set_xticks(range(0, len(C_range), 1))\n",
    "plt.yticks([]);\n",
    "\n",
    "ax.set_xticklabels(['%0.2f'%C_range[num] for num in range(0, len(C_range), 1)])\n",
    "\n",
    "ax.set_title('param C, kernel '+params['kernel'])\n",
    "fig.colorbar(im, ax=ax, pad=0.2, fraction=0.5, orientation='horizontal');"
   ]
  },
  {
   "cell_type": "code",
   "execution_count": 6,
   "metadata": {
    "scrolled": true
   },
   "outputs": [],
   "source": [
    "from sklearn.feature_selection import RFE\n",
    "\n",
    "svc = SVC(C=grid.best_params_['C'], kernel=grid.best_params_['kernel'])\n",
    "\n",
    "rfe = RFE(estimator=svc, n_features_to_select=1)\n",
    "rfe.fit(X_train, y_train.ravel())\n",
    "ranking = rfe.ranking_"
   ]
  },
  {
   "cell_type": "code",
   "execution_count": 7,
   "metadata": {},
   "outputs": [
    {
     "data": {
      "image/png": "[encoded data removed]",
      "text/plain": [
       "<Figure size 1152x144 with 1 Axes>"
      ]
     },
     "metadata": {
      "needs_background": "light"
     },
     "output_type": "display_data"
    }
   ],
   "source": [
    "plt.matshow(ranking.reshape((1,15)), cmap=plt.cm.Reds)\n",
    "for x in range(len(ranking)) :\n",
    "    plt.text(x, -0.045, ranking[x], color=\"white\" if ranking[x] > np.max(ranking)/2 else \"black\")\n",
    "plt.xticks(range(len(var)), var, rotation=45)\n",
    "plt.yticks([]);"
   ]
  },
  {
   "cell_type": "code",
   "execution_count": null,
   "metadata": {},
   "outputs": [],
   "source": []
  }
 ],
 "metadata": {
  "kernelspec": {
   "display_name": "Python 3",
   "language": "python",
   "name": "python3"
  },
  "language_info": {
   "codemirror_mode": {
    "name": "ipython",
    "version": 3
   },
   "file_extension": ".py",
   "mimetype": "text/x-python",
   "name": "python",
   "nbconvert_exporter": "python",
   "pygments_lexer": "ipython3",
   "version": "3.6.7"
  }
 },
 "nbformat": 4,
 "nbformat_minor": 2
}
