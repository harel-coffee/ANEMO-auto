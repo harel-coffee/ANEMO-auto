{
 "cells": [
  {
   "cell_type": "code",
   "execution_count": 1,
   "metadata": {},
   "outputs": [],
   "source": [
    "import matplotlib.pyplot as plt\n",
    "%matplotlib inline\n",
    "\n",
    "import numpy as np\n",
    "import pickle\n",
    "import os"
   ]
  },
  {
   "cell_type": "code",
   "execution_count": 2,
   "metadata": {},
   "outputs": [
    {
     "name": "stderr",
     "output_type": "stream",
     "text": [
      "/usr/local/lib/python3.5/dist-packages/sklearn/base.py:253: UserWarning: Trying to unpickle estimator SVC from version 0.20.2 when using version 0.20.3. This might lead to breaking code or invalid results. Use at your own risk.\n",
      "  UserWarning)\n",
      "/usr/local/lib/python3.5/dist-packages/sklearn/base.py:253: UserWarning: Trying to unpickle estimator GridSearchCV from version 0.20.2 when using version 0.20.3. This might lead to breaking code or invalid results. Use at your own risk.\n",
      "  UserWarning)\n"
     ]
    }
   ],
   "source": [
    "file = os.path.join('extraction_svm.pkl')\n",
    "with open(file, 'rb') as fichier : extraction_svm = pickle.load(fichier, encoding='latin1')"
   ]
  },
  {
   "cell_type": "code",
   "execution_count": 3,
   "metadata": {},
   "outputs": [
    {
     "name": "stdout",
     "output_type": "stream",
     "text": [
      "{'C': 0.2333333333333333, 'gamma': 0.16666666666666669, 'kernel': 'rbf'} --> 0.8853372268162145\n"
     ]
    }
   ],
   "source": [
    "grid = extraction_svm['grid']\n",
    "y_train0 = extraction_svm['y_train']\n",
    "y_test0 = extraction_svm['y_test']\n",
    "y_pred0 = extraction_svm['y_pred']\n",
    "X_test0 = extraction_svm['X_test']\n",
    "X_train0 = extraction_svm['X_train']\n",
    "var = extraction_svm['var']\n",
    "\n",
    "print(grid.best_params_, '-->', grid.best_score_)"
   ]
  },
  {
   "cell_type": "code",
   "execution_count": 4,
   "metadata": {
    "scrolled": true
   },
   "outputs": [
    {
     "name": "stdout",
     "output_type": "stream",
     "text": [
      "(2160, 17) (2160, 16)\n"
     ]
    }
   ],
   "source": [
    "X_train, y_train = X_train0[:, :-1], y_train0\n",
    "X_test, y_test = X_test0[:, :-1], y_test0\n",
    "\n",
    "print(X_test0.shape, X_test.shape)"
   ]
  },
  {
   "cell_type": "code",
   "execution_count": 7,
   "metadata": {},
   "outputs": [
    {
     "name": "stderr",
     "output_type": "stream",
     "text": [
      "/usr/local/lib/python3.5/dist-packages/sklearn/model_selection/_split.py:2053: FutureWarning: You should specify a value for 'cv' instead of relying on the default value. The default value will change from 3 to 5 in version 0.22.\n",
      "  warnings.warn(CV_WARNING, FutureWarning)\n"
     ]
    },
    {
     "name": "stdout",
     "output_type": "stream",
     "text": [
      "{'C': 0.4905263157894737, 'kernel': 'linear'} --> 0.8466345781762544\n",
      "[[0.84174242 0.84494978 0.84630863 0.84663458 0.84619998 0.84538438\n",
      "  0.84380823 0.84435147 0.84516708 0.84424282 0.84484114 0.84369958\n",
      "  0.84369958 0.84549303 0.84494978 0.84516708 0.84516708 0.84516708\n",
      "  0.84527573 0.84538438]]\n"
     ]
    },
    {
     "data": {
      "text/plain": [
       "<matplotlib.colorbar.Colorbar at 0x7fe3bab8e668>"
      ]
     },
     "execution_count": 7,
     "metadata": {},
     "output_type": "execute_result"
    },
    {
     "data": {
      "image/png": "[encoded data removed]",
      "text/plain": [
       "<Figure size 432x288 with 2 Axes>"
      ]
     },
     "metadata": {
      "needs_background": "light"
     },
     "output_type": "display_data"
    }
   ],
   "source": [
    "from sklearn.model_selection import GridSearchCV\n",
    "from sklearn.svm import SVC\n",
    "\n",
    "#C_range = np.logspace(-5, 10., 32, base=2.)\n",
    "C_range =  np.linspace(0.02, 3, 20)\n",
    "tol = 1e-1 #, 1e-2, 1e-1]\n",
    "\n",
    "\n",
    "param_grid = [{'kernel': ['linear'], 'C': C_range}]\n",
    "\n",
    "\n",
    "grid = GridSearchCV(SVC(verbose=False, max_iter = -1, tol=tol, class_weight='balanced', probability=True),\n",
    "                    param_grid, verbose=0, scoring='balanced_accuracy', n_jobs=1,) #cv=50, n_jobs=-1\n",
    "\n",
    "\n",
    "X_train_ = np.zeros((len(X_train), 0))\n",
    "X_train_ = np.hstack((X_train_, X_train))\n",
    "grid.fit(X_train, y_train.ravel())\n",
    "\n",
    "print(grid.best_params_, '-->', grid.best_score_)\n",
    "\n",
    "means, stds = grid.cv_results_['mean_test_score'], grid.cv_results_['std_test_score']\n",
    "    \n",
    "scores_mean, scores_std = {}, {}\n",
    "for i, (mean_score, std, params) in enumerate(zip(means, stds, grid.cv_results_['params'])):\n",
    "    if i==0 :\n",
    "        scores_mean[params['kernel']] = []\n",
    "        scores_std[params['kernel']] = []\n",
    "    \n",
    "    scores_mean[params['kernel']].append(mean_score)\n",
    "    scores_std[params['kernel']].append(std)\n",
    "\n",
    "# draw heatmap of accuracy as a function of gamma and C\n",
    "\n",
    "fig, ax = plt.subplots(1,1,figsize=(10,5))\n",
    "scores = np.array(scores_mean[params['kernel']]).reshape((1, C_range.shape[0]))\n",
    "print(scores)\n",
    "im = ax.imshow(scores, interpolation='nearest', cmap=plt.cm.gray)#, vmin=0, vmax=1)\n",
    "\n",
    "ax.set_xticks(range(0, len(C_range), 1))\n",
    "plt.yticks([]);\n",
    "\n",
    "ax.set_xticklabels(['%0.2f'%C_range[num] for num in range(0, len(C_range), 1)])\n",
    "\n",
    "ax.set_title('param C, kernel '+params['kernel'])\n",
    "fig.colorbar(im, ax=ax, pad=0.2, fraction=0.5, orientation='horizontal');"
   ]
  },
  {
   "cell_type": "code",
   "execution_count": 5,
   "metadata": {},
   "outputs": [
    {
     "name": "stderr",
     "output_type": "stream",
     "text": [
      "/usr/local/lib/python3.5/dist-packages/sklearn/model_selection/_split.py:2053: FutureWarning: You should specify a value for 'cv' instead of relying on the default value. The default value will change from 3 to 5 in version 0.22.\n",
      "  warnings.warn(CV_WARNING, FutureWarning)\n"
     ]
    },
    {
     "name": "stdout",
     "output_type": "stream",
     "text": [
      "{'C': 1.7452631578947368, 'kernel': 'linear'} --> 0.8442428247396904\n",
      "[[0.84223208 0.84413418 0.84391688 0.84391688 0.84380823 0.84402553\n",
      "  0.84391688 0.84413418 0.84391688 0.84413418 0.84413418 0.84424282\n",
      "  0.84424282 0.84413418 0.84413418 0.84413418 0.84413418 0.84424282\n",
      "  0.84424282 0.84413418]]\n"
     ]
    },
    {
     "data": {
      "text/plain": [
       "<matplotlib.colorbar.Colorbar at 0x7fe3bccf0438>"
      ]
     },
     "execution_count": 5,
     "metadata": {},
     "output_type": "execute_result"
    },
    {
     "data": {
      "image/png": "[encoded data removed]",
      "text/plain": [
       "<Figure size 432x288 with 2 Axes>"
      ]
     },
     "metadata": {
      "needs_background": "light"
     },
     "output_type": "display_data"
    }
   ],
   "source": [
    "tol = 1e-3 #, 1e-2, 1e-1]"
   ]
  },
  {
   "cell_type": "code",
   "execution_count": 7,
   "metadata": {},
   "outputs": [
    {
     "name": "stderr",
     "output_type": "stream",
     "text": [
      "/usr/local/lib/python3.5/dist-packages/sklearn/model_selection/_split.py:2053: FutureWarning: You should specify a value for 'cv' instead of relying on the default value. The default value will change from 3 to 5 in version 0.22.\n",
      "  warnings.warn(CV_WARNING, FutureWarning)\n"
     ]
    },
    {
     "data": {
      "text/plain": [
       "GridSearchCV(cv='warn', error_score='raise-deprecating',\n",
       "       estimator=SVC(C=1.0, cache_size=200, class_weight='balanced', coef0=0.0,\n",
       "  decision_function_shape='ovr', degree=3, gamma='auto_deprecated',\n",
       "  kernel='rbf', max_iter=-1, probability=True, random_state=None,\n",
       "  shrinking=True, tol=0.001, verbose=False),\n",
       "       fit_params=None, iid='warn', n_jobs=1,\n",
       "       param_grid=[{'C': array([0.1    , 0.17778, 0.25556, 0.33333, 0.41111, 0.48889, 0.56667,\n",
       "       0.64444, 0.72222, 0.8    ]), 'kernel': ['linear']}],\n",
       "       pre_dispatch='2*n_jobs', refit=True, return_train_score='warn',\n",
       "       scoring='balanced_accuracy', verbose=0)"
      ]
     },
     "execution_count": 7,
     "metadata": {},
     "output_type": "execute_result"
    }
   ],
   "source": [
    "X_train_ = np.zeros((len(X_train), 0))\n",
    "X_train_ = np.hstack((X_train_, X_train))\n",
    "grid.fit(X_train, y_train.ravel())"
   ]
  },
  {
   "cell_type": "code",
   "execution_count": 8,
   "metadata": {},
   "outputs": [
    {
     "name": "stdout",
     "output_type": "stream",
     "text": [
      "{'C': 0.17777777777777778, 'kernel': 'linear'} --> 0.8441341763259571\n"
     ]
    }
   ],
   "source": [
    "print(grid.best_params_, '-->', grid.best_score_)"
   ]
  },
  {
   "cell_type": "code",
   "execution_count": 9,
   "metadata": {
    "scrolled": true
   },
   "outputs": [],
   "source": [
    "from sklearn.feature_selection import RFE\n",
    "\n",
    "svc = SVC(C=grid.best_params_['C'], kernel=grid.best_params_['kernel'])\n",
    "\n",
    "rfe = RFE(estimator=svc, n_features_to_select=1)\n",
    "rfe.fit(X_train, y_train.ravel())\n",
    "ranking = rfe.ranking_"
   ]
  },
  {
   "cell_type": "code",
   "execution_count": 11,
   "metadata": {},
   "outputs": [
    {
     "data": {
      "image/png": "[encoded data removed]",
      "text/plain": [
       "<Figure size 1152x144 with 1 Axes>"
      ]
     },
     "metadata": {
      "needs_background": "light"
     },
     "output_type": "display_data"
    }
   ],
   "source": [
    "plt.matshow(ranking.reshape((1,16)), cmap=plt.cm.Reds)\n",
    "for x in range(len(ranking)) :\n",
    "    plt.text(x, -0.045, ranking[x], color=\"white\" if ranking[x] > np.max(ranking)/2 else \"black\")\n",
    "plt.xticks(range(len(var)), var, rotation=45)\n",
    "plt.yticks([]);"
   ]
  },
  {
   "cell_type": "code",
   "execution_count": null,
   "metadata": {},
   "outputs": [],
   "source": []
  }
 ],
 "metadata": {
  "kernelspec": {
   "display_name": "Python 3",
   "language": "python",
   "name": "python3"
  },
  "language_info": {
   "codemirror_mode": {
    "name": "ipython",
    "version": 3
   },
   "file_extension": ".py",
   "mimetype": "text/x-python",
   "name": "python",
   "nbconvert_exporter": "python",
   "pygments_lexer": "ipython3",
   "version": "3.5.2"
  }
 },
 "nbformat": 4,
 "nbformat_minor": 2
}
