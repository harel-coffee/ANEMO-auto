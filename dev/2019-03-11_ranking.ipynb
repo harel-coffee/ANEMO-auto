{
 "cells": [
  {
   "cell_type": "code",
   "execution_count": 1,
   "metadata": {},
   "outputs": [],
   "source": [
    "import numpy as np"
   ]
  },
  {
   "cell_type": "code",
   "execution_count": 2,
   "metadata": {},
   "outputs": [],
   "source": [
    "import pickle\n",
    "import os\n",
    "file = os.path.join('extraction_svm.pkl')\n",
    "with open(file, 'rb') as fichier : extraction_svm = pickle.load(fichier, encoding='latin1')"
   ]
  },
  {
   "cell_type": "code",
   "execution_count": 3,
   "metadata": {},
   "outputs": [],
   "source": [
    "grid = extraction_svm['grid']\n",
    "y_train0 = extraction_svm['y_train']\n",
    "y_test0 = extraction_svm['y_test']\n",
    "y_pred0 = extraction_svm['y_pred']\n",
    "X_test0 = extraction_svm['X_test']\n",
    "X_train0 = extraction_svm['X_train']\n",
    "var = extraction_svm['var']"
   ]
  },
  {
   "cell_type": "code",
   "execution_count": 4,
   "metadata": {
    "scrolled": true
   },
   "outputs": [
    {
     "name": "stdout",
     "output_type": "stream",
     "text": [
      "{'C': 0.23378038720396177, 'kernel': 'rbf', 'gamma': 0.26143353705562145} --> 0.8798577107296766\n"
     ]
    }
   ],
   "source": [
    "print(grid.best_params_, '-->', grid.best_score_)"
   ]
  },
  {
   "cell_type": "code",
   "execution_count": 5,
   "metadata": {},
   "outputs": [
    {
     "name": "stdout",
     "output_type": "stream",
     "text": [
      "(2160, 16) (2160, 15)\n"
     ]
    }
   ],
   "source": [
    "X_train, y_train = X_train0[:, :-1], y_train0\n",
    "X_test, y_test = X_test0[:, :-1], y_test0\n",
    "\n",
    "print(X_test0.shape, X_test.shape)"
   ]
  },
  {
   "cell_type": "code",
   "execution_count": 6,
   "metadata": {},
   "outputs": [],
   "source": [
    "from sklearn.model_selection import GridSearchCV\n",
    "from sklearn.svm import SVC\n",
    "\n",
    "size_c = 32\n",
    "C_range = np.logspace(-5, 10., size_c, base=2.)\n",
    "\n",
    "param_grid = [{'kernel': ['linear'], 'C': C_range}]\n",
    "\n",
    "\n",
    "grid = GridSearchCV(SVC(verbose=False, tol=1e-3, max_iter = -1, class_weight='balanced', probability=True),\n",
    "                    param_grid, verbose=0, scoring='balanced_accuracy', n_jobs=-1,) #cv=50, n_jobs=-1"
   ]
  },
  {
   "cell_type": "code",
   "execution_count": null,
   "metadata": {},
   "outputs": [
    {
     "name": "stderr",
     "output_type": "stream",
     "text": [
      "/usr/local/lib/python3.5/dist-packages/sklearn/model_selection/_split.py:2053: FutureWarning: You should specify a value for 'cv' instead of relying on the default value. The default value will change from 3 to 5 in version 0.22.\n",
      "  warnings.warn(CV_WARNING, FutureWarning)\n"
     ]
    }
   ],
   "source": [
    "X_train_ = np.zeros((len(X_train), 0))\n",
    "X_train_ = np.hstack((X_train_, X_train))\n",
    "grid.fit(X_train, y_train.ravel())"
   ]
  },
  {
   "cell_type": "code",
   "execution_count": null,
   "metadata": {},
   "outputs": [],
   "source": [
    "print(grid.best_params_, '-->', grid.best_score_)"
   ]
  },
  {
   "cell_type": "code",
   "execution_count": null,
   "metadata": {
    "scrolled": true
   },
   "outputs": [],
   "source": [
    "from sklearn.feature_selection import RFE\n",
    "\n",
    "svc = SVC(C=grid.best_params_['C'], kernel=grid.best_params_['kernel'])\n",
    "\n",
    "rfe = RFE(estimator=svc, n_features_to_select=1)\n",
    "rfe.fit(X_train, y_train.ravel())\n",
    "ranking = rfe.ranking_"
   ]
  },
  {
   "cell_type": "code",
   "execution_count": null,
   "metadata": {},
   "outputs": [],
   "source": [
    "import matplotlib.pyplot as plt\n",
    "%matplotlib inline"
   ]
  },
  {
   "cell_type": "code",
   "execution_count": null,
   "metadata": {},
   "outputs": [],
   "source": [
    "plt.matshow(ranking.reshape((1,16)), cmap=plt.cm.Reds)\n",
    "for x in range(len(ranking)) :\n",
    "    plt.text(x, -0.045, ranking[x], color=\"white\" if ranking[x] > np.max(ranking)/2 else \"black\")\n",
    "plt.xticks(range(len(var)), var, rotation=45)\n",
    "plt.yticks([]);"
   ]
  },
  {
   "cell_type": "code",
   "execution_count": null,
   "metadata": {},
   "outputs": [],
   "source": []
  }
 ],
 "metadata": {
  "kernelspec": {
   "display_name": "Python 3",
   "language": "python",
   "name": "python3"
  },
  "language_info": {
   "codemirror_mode": {
    "name": "ipython",
    "version": 3
   },
   "file_extension": ".py",
   "mimetype": "text/x-python",
   "name": "python",
   "nbconvert_exporter": "python",
   "pygments_lexer": "ipython3",
   "version": "3.5.2"
  }
 },
 "nbformat": 4,
 "nbformat_minor": 2
}
