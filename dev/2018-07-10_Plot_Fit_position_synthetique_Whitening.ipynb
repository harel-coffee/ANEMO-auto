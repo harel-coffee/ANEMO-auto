{
 "cells": [
  {
   "cell_type": "code",
   "execution_count": 1,
   "metadata": {
    "ExecuteTime": {
     "end_time": "2018-07-09T09:14:23.721844Z",
     "start_time": "2018-07-09T09:14:22.991011Z"
    },
    "collapsed": true
   },
   "outputs": [],
   "source": [
    "import numpy as np\n",
    "import matplotlib.pyplot as plt\n",
    "%matplotlib inline"
   ]
  },
  {
   "cell_type": "markdown",
   "metadata": {},
   "source": [
    "# extracting data and doing the fit on velocity"
   ]
  },
  {
   "cell_type": "code",
   "execution_count": 2,
   "metadata": {
    "ExecuteTime": {
     "end_time": "2018-07-09T09:14:32.910128Z",
     "start_time": "2018-07-09T09:14:23.728655Z"
    },
    "collapsed": true
   },
   "outputs": [],
   "source": [
    "from ANEMO.edfreader import read_edf\n",
    "\n",
    "import pickle\n",
    "with open('../demo/result/param_Fit_AM.pkl', 'rb') as fichier:\n",
    "    param = pickle.load(fichier, encoding='latin1')\n",
    "with open('../demo/data/enregistrement_AM_2017-10-23_100057.pkl', 'rb') as fichier:\n",
    "    file_exp = pickle.load(fichier, encoding='latin1')\n",
    "\n",
    "datafile = '../demo/data/enregistrement_AM_2017-10-23_100057.asc'\n",
    "data = read_edf(datafile, 'TRIALID')"
   ]
  },
  {
   "cell_type": "markdown",
   "metadata": {},
   "source": [
    "# Fonction"
   ]
  },
  {
   "cell_type": "code",
   "execution_count": 3,
   "metadata": {
    "ExecuteTime": {
     "end_time": "2018-07-09T09:14:33.182146Z",
     "start_time": "2018-07-09T09:14:33.174912Z"
    },
    "collapsed": true
   },
   "outputs": [],
   "source": [
    "from ANEMO import ANEMO\n",
    "ANEMO = ANEMO(file_exp)"
   ]
  },
  {
   "cell_type": "code",
   "execution_count": 4,
   "metadata": {
    "ExecuteTime": {
     "end_time": "2018-07-09T09:14:33.205814Z",
     "start_time": "2018-07-09T09:14:33.189076Z"
    }
   },
   "outputs": [
    {
     "data": {
      "text/plain": [
       "200"
      ]
     },
     "execution_count": 4,
     "metadata": {},
     "output_type": "execute_result"
    }
   ],
   "source": [
    "arg = ANEMO.arg(data, 0, 0)\n",
    "arg.N_trials"
   ]
  },
  {
   "cell_type": "code",
   "execution_count": 5,
   "metadata": {
    "collapsed": true
   },
   "outputs": [],
   "source": [
    "block = 0\n",
    "trial = 13"
   ]
  },
  {
   "cell_type": "code",
   "execution_count": 8,
   "metadata": {
    "ExecuteTime": {
     "end_time": "2018-07-09T09:19:53.781745Z",
     "start_time": "2018-07-09T09:14:33.213426Z"
    },
    "scrolled": true
   },
   "outputs": [],
   "source": [
    "arg = ANEMO.arg(data, trial, block)\n",
    "start, start1 = arg.TargetOn, arg.TargetOn-arg.t_0\n",
    "data_x = arg.data_x - (arg.data_x[arg.StimulusOf-arg.t_0])\n",
    "\n",
    "debut, fin = 0, 15\n",
    "kwarg = {'data_x': data_x, 'trackertime': arg.trackertime, 'dir_target': (arg.bino*2)-1, 'TargetOn': arg.TargetOn,\n",
    "         'StimulusOf': arg.StimulusOf, 'saccades': arg.saccades,\n",
    "         'param_fit': None,  'avant': debut, 'apres': fin, 'fct_fit': 'fct_position',\n",
    "         'sup': True, 'time_sup': -280, 'step': 2}\n",
    "\n",
    "sacc = np.zeros(len(arg.trackertime))\n",
    "i = 0\n",
    "for s in range(len(arg.saccades)):\n",
    "    sacc[i] = arg.saccades[s][0]  # debut sacc\n",
    "    sacc[i+1] = arg.saccades[s][1]  # fin sacc\n",
    "    sacc[i+2] = arg.saccades[s][2]  # tps sacc\n",
    "    i = i+3\n",
    "\n",
    "popo = ANEMO.Fct_position(range(len(arg.trackertime)), data_x, sacc, int(len(arg.saccades)), (arg.bino*2)-1,\n",
    "                param['start_anti'][block][trial] +\n",
    "                start1, param['a_anti'][block][trial],\n",
    "                param['latency'][block][trial] +\n",
    "                start1, param['tau'][block][trial],\n",
    "                param['maxi'][block][trial], arg.t_0, arg.px_per_deg,  debut, fin,\n",
    "                do_whitening=False)\n",
    "\n",
    "fi = {}\n",
    "for do_whitening in [False, True]:\n",
    "\n",
    "    # print(do_whitening)\n",
    "    kwarg.update(do_whitening=do_whitening)\n",
    "    c = ANEMO.Fit_trial(popo, **kwarg)\n",
    "\n",
    "    fi['%s'%do_whitening] = ( ANEMO.Fct_position(range(len(arg.trackertime)), data_x, sacc,\n",
    "                                          int(len(arg.saccades)), (arg.bino*2)-1,\n",
    "                                          c.values['start_anti'], c.values['a_anti'],\n",
    "                                          c.values['latency'], c.values['tau'],\n",
    "                                          c.values['maxi'], arg.t_0, arg.px_per_deg, debut,\n",
    "                                          fin, do_whitening=False))"
   ]
  },
  {
   "cell_type": "markdown",
   "metadata": {},
   "source": [
    "# Comparaison"
   ]
  },
  {
   "cell_type": "code",
   "execution_count": 9,
   "metadata": {
    "collapsed": true
   },
   "outputs": [],
   "source": [
    "def deco(axs) :\n",
    "    axs.axvspan(arg.StimulusOn-start, arg.StimulusOf-start, color='k', alpha=0.2)\n",
    "    axs.axvspan(arg.StimulusOf-start, arg.TargetOn-start, color='r', alpha=0.2)\n",
    "    axs.axvspan(arg.TargetOn-start, arg.TargetOff-start, color='k', alpha=0.15)\n",
    "    for s in range(len(arg.saccades)) :\n",
    "        axs.axvspan(arg.saccades[s][0]-start, arg.saccades[s][1]-start, color='k', alpha=0.2)"
   ]
  },
  {
   "cell_type": "code",
   "execution_count": 11,
   "metadata": {},
   "outputs": [
    {
     "data": {
      "image/png": "[encoded data removed]",
      "text/plain": [
       "<Figure size 1080x333.745 with 1 Axes>"
      ]
     },
     "metadata": {},
     "output_type": "display_data"
    }
   ],
   "source": [
    "fig_width= 15\n",
    "fig, ax = plt.subplots(1, 1, figsize=(1*fig_width, 1*(fig_width/2)/1.6180))\n",
    "\n",
    "deco(ax)\n",
    "ax.plot(range(len(arg.trackertime))-start1, popo, 'k', lw=3)\n",
    "ax.plot(range(len(arg.trackertime))-start1, fi['True'], 'g')\n",
    "ax.plot(range(len(arg.trackertime))-start1, fi['False'], 'r');"
   ]
  },
  {
   "cell_type": "code",
   "execution_count": null,
   "metadata": {
    "collapsed": true
   },
   "outputs": [],
   "source": []
  }
 ],
 "metadata": {
  "kernelspec": {
   "display_name": "Python 3",
   "language": "python",
   "name": "python3"
  },
  "language_info": {
   "codemirror_mode": {
    "name": "ipython",
    "version": 3
   },
   "file_extension": ".py",
   "mimetype": "text/x-python",
   "name": "python",
   "nbconvert_exporter": "python",
   "pygments_lexer": "ipython3",
   "version": "3.7.0"
  },
  "toc": {
   "base_numbering": 1,
   "nav_menu": {},
   "number_sections": true,
   "sideBar": true,
   "skip_h1_title": false,
   "title_cell": "Table of Contents",
   "title_sidebar": "Contents",
   "toc_cell": false,
   "toc_position": {},
   "toc_section_display": true,
   "toc_window_display": false
  }
 },
 "nbformat": 4,
 "nbformat_minor": 2
}
