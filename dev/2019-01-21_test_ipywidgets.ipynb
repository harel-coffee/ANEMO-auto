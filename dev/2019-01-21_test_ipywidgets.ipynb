{
 "cells": [
  {
   "cell_type": "code",
   "execution_count": 1,
   "metadata": {},
   "outputs": [],
   "source": [
    "%matplotlib inline\n",
    "%config InlineBackend.close_figures=False \n",
    "\n",
    "import matplotlib.pyplot as plt\n",
    "import numpy as np\n",
    "\n",
    "import ipywidgets as widgets\n",
    "from IPython.display import display,clear_output"
   ]
  },
  {
   "cell_type": "code",
   "execution_count": 2,
   "metadata": {},
   "outputs": [],
   "source": [
    "from ANEMO import ANEMO\n",
    "from ANEMO import read_edf\n",
    "\n",
    "import os\n",
    "import pickle\n",
    "import matplotlib.pyplot as plt\n",
    "%matplotlib inline"
   ]
  },
  {
   "cell_type": "code",
   "execution_count": 3,
   "metadata": {},
   "outputs": [],
   "source": [
    "sujet = ['AM','BMC','CS','DC','FM','IP','LB','OP','RS','SR','TN','YK']\n",
    "time = ['2017-10-23_100057','2017-09-26_095637',\n",
    "        '2017-10-03_134421','2017-09-27_161040',\n",
    "        '2017-10-03_143803','2017-09-28_115250',\n",
    "        '2017-09-20_151043','2017-10-26_121823',\n",
    "        '2017-11-08_094717','2017-11-16_153313',\n",
    "        '2017-11-08_150410','2017-11-17_172706']"
   ]
  },
  {
   "cell_type": "code",
   "execution_count": 4,
   "metadata": {},
   "outputs": [],
   "source": [
    "x = 0"
   ]
  },
  {
   "cell_type": "code",
   "execution_count": 5,
   "metadata": {},
   "outputs": [
    {
     "name": "stdout",
     "output_type": "stream",
     "text": [
      "parametre/param_Fit_AM_fct_saccade_2_step_False_whitening.pkl\n",
      "parametre/param_Fit_AM_fct_velocity_2_step_False_whitening.pkl\n",
      "parametre/param_Fit_AM_fct_position_2_step_False_whitening.pkl\n"
     ]
    }
   ],
   "source": [
    "file = os.path.join('data', 'enregistrement_' + sujet[x] + '_' + time[x] + '.pkl')\n",
    "with open(file, 'rb') as fichier :\n",
    "    param_exp = pickle.load(fichier, encoding='latin1')\n",
    "\n",
    "\n",
    "resultats = os.path.join('data', 'enregistrement_' + sujet[x] + '_' + time[x] + '.asc')\n",
    "data = read_edf(resultats, 'TRIALID')\n",
    "\n",
    "list_fct = {'fct_velocity':'velocity', 'fct_position':'position', 'fct_saccade':'position'}\n",
    "Full_param_fit = {}\n",
    "for fct in list_fct.keys() :\n",
    "    try :\n",
    "        file = os.path.join('parametre/param_Fit_'+ sujet[x] +'_' + fct + '_2_step_False_whitening.pkl')\n",
    "        print(file)\n",
    "        with open(file, 'rb') as fichier :\n",
    "            Full_param_fit[fct] = pickle.load(fichier, encoding='latin1')\n",
    "    except :\n",
    "        Full_param_fit[fct] = None"
   ]
  },
  {
   "cell_type": "code",
   "execution_count": 6,
   "metadata": {},
   "outputs": [],
   "source": [
    "Plot = ANEMO.Plot(param_exp)\n",
    "Fit = ANEMO.Fit(param_exp)\n",
    "ANEMO = ANEMO(param_exp)"
   ]
  },
  {
   "cell_type": "code",
   "execution_count": 7,
   "metadata": {},
   "outputs": [
    {
     "data": {
      "text/plain": [
       "'fct_saccade'"
      ]
     },
     "execution_count": 7,
     "metadata": {},
     "output_type": "execute_result"
    }
   ],
   "source": [
    "list(list_fct.keys())[0]"
   ]
  },
  {
   "cell_type": "code",
   "execution_count": 8,
   "metadata": {
    "scrolled": false
   },
   "outputs": [],
   "source": [
    "def test_fig(param_exp, data, list_fct, Full_param_fit) :\n",
    "    \n",
    "    N_trials, N_blocks = param_exp['N_trials'], param_exp['N_blocks']\n",
    "    list_param_enre=['start_anti', 'v_anti', 'latence', 'tau', 'maxi']\n",
    "        \n",
    "        \n",
    "    \n",
    "    list_ok, list_bad = {}, {}\n",
    "    for fct in list_fct.keys() :\n",
    "        list_ok[fct], list_bad[fct] = [], []\n",
    "        for block in range(N_blocks) :\n",
    "            list_ok[fct].append([])\n",
    "            list_bad[fct].append([])\n",
    "    \n",
    "    trial, block = 0, 0\n",
    "    fct= list(list_fct.keys())[2]\n",
    "    param_fit = Full_param_fit[fct]\n",
    "    fitted_data = list_fct[fct]\n",
    "\n",
    "    plt.ioff()\n",
    "    fig, ax = plt.subplots(1, 1, figsize=(12, (12*(1/2)/1.6180)))\n",
    "\n",
    "    h = '%spx'%((fig.get_figheight()+1)*fig.get_dpi())\n",
    "    w = '%spx'%((fig.get_figwidth()+1)*fig.get_dpi())\n",
    "    \n",
    "    out = widgets.Output(layout=widgets.Layout(grid_area='out'))\n",
    "    \n",
    "    button = {}\n",
    "    for b, style in zip(['Previews', 'Next', 'OK', 'Bad'], ['', '', 'success', 'danger']) :\n",
    "        button[b] = widgets.Button(description=b, button_style=style,\n",
    "                                  layout=widgets.Layout(grid_area=b, margin='auto 0%', width='90%'))\n",
    "    \n",
    "    _fct_fit = widgets.Dropdown(value=fct, options=list_fct.keys(),\n",
    "                                description='fct_fit', disabled=False,\n",
    "                                layout=widgets.Layout(grid_area='fct_fit', margin='auto 0%', width='90%'))\n",
    "    \n",
    "    _trial = widgets.IntSlider(value=trial, min=0, max=N_trials-1, step=1, description='Trial', readout=True,\n",
    "                                 layout=widgets.Layout(grid_area='trial', margin='auto 0%', width='90%'))\n",
    "    \n",
    "    \n",
    "    \n",
    "    _block = widgets.Dropdown(value='%s'%block, options=['0', '1', '2'], description='Block', disabled=False,\n",
    "                                 layout=widgets.Layout(grid_area='block', margin='auto 0%', width='90%'))\n",
    "    \n",
    "    grid = widgets.GridBox(children=[button['OK'], button['Bad'], _fct_fit,\n",
    "                                     button['Previews'], _trial, _block, out, button['Next']],\n",
    "                           layout=widgets.Layout(grid_template_columns='10% 10% 50% 10% 10% 10%',\n",
    "                                                 grid_template_areas=''' \"OK Bad . fct_fit fct_fit .\"\n",
    "                                                                        \"out out out out out out\"\n",
    "                                                                       \"Previews . trial block . Next\" '''))\n",
    "    \n",
    "    display(grid)\n",
    "    \n",
    "\n",
    "    \n",
    "    def fig(title, c, out) :\n",
    "        nonlocal trial, block, ax, fct, fitted_data, param_fit\n",
    "        param_f = Plot.show_fit(ax, trial, block, title, c, out, data=data,\n",
    "                                param_fit=param_fit, equation=fct, fitted_data=fitted_data,\n",
    "                                list_param_enre=list_param_enre)\n",
    "    \n",
    "    def check_fct(b) :\n",
    "        nonlocal fct, fitted_data, param_fit\n",
    "        \n",
    "        fct = _fct_fit.value\n",
    "        fitted_data = list_fct[fct]\n",
    "        param_fit = Full_param_fit[fct]\n",
    "        \n",
    "        c, title = check_list()\n",
    "        fig(title, c, out)\n",
    "    \n",
    "    def check_list() :\n",
    "        nonlocal trial, block, fct, list_bad, list_ok\n",
    "        \n",
    "        if trial in list_bad[fct][block] : c='darkred' ; title=' -- Bad'\n",
    "        elif trial in list_ok[fct][block] : c='darkgreen' ; title=' -- OK'\n",
    "        else : c='k' ; title=''\n",
    "        return c, title\n",
    "    \n",
    "    def check_trial(b) :\n",
    "        nonlocal trial\n",
    "        trial =  _trial.value\n",
    "        c, title = check_list()\n",
    "        fig(title, c, out)\n",
    "    \n",
    "    def check_block(b) :\n",
    "        nonlocal block\n",
    "        block = int(_block.value)\n",
    "        c, title = check_list()\n",
    "        fig(title, c, out)\n",
    "    \n",
    "    def Next(b):\n",
    "        nonlocal trial, block\n",
    "        trial = trial+1\n",
    "        if trial >= N_trials : trial = 0 ; block = block+1\n",
    "        if block >= N_blocks : trial = N_trials-1 ; block = N_blocks-1\n",
    "        _trial.value, _block.value = trial, '%s'%block\n",
    "\n",
    "    def Previews(b):\n",
    "        nonlocal trial, block\n",
    "        trial = trial-1\n",
    "        if trial < 0 : trial = N_trials-1 ; block = block-1\n",
    "        if block < 0 : trial = 0 ; block = 0\n",
    "        _trial.value, _block.value = trial, '%s'%block\n",
    "        \n",
    "    def Bad(b):\n",
    "        nonlocal trial, block, list_bad, list_ok\n",
    "        if trial not in list_bad[fct][block] :\n",
    "            list_bad[fct][block].append(trial) ; list_bad[fct][block].sort()\n",
    "        if trial in list_ok[fct][block] :\n",
    "            del list_ok[fct][block][list_ok[fct][block].index(trial)] ; list_ok[fct][block].sort()\n",
    "        fig(' -- Bad', 'r', out)\n",
    "\n",
    "    def no_Bad(b):\n",
    "        nonlocal trial, block, list_bad, list_ok\n",
    "        if trial not in list_ok[fct][block] :\n",
    "            list_ok[fct][block].append(trial) ; list_ok[fct][block].sort()\n",
    "        if trial in list_bad[fct][block] :\n",
    "            del list_bad[fct][block][list_bad[fct][block].index(trial)] ; list_bad[fct][block].sort()\n",
    "        fig(' -- OK', 'g', out)\n",
    "    \n",
    "    button['Previews'].on_click(Previews)\n",
    "    button['Bad'].on_click(Bad)\n",
    "    button['OK'].on_click(no_Bad)\n",
    "    button['Next'].on_click(Next)\n",
    "    \n",
    "    _trial.observe(check_trial, names='value')\n",
    "    _block.observe(check_block, names='value')\n",
    "    _fct_fit.observe(check_fct, names='value')\n",
    "\n",
    "    check_trial(None)\n",
    "    return list_bad, list_ok"
   ]
  },
  {
   "cell_type": "code",
   "execution_count": 9,
   "metadata": {
    "scrolled": false
   },
   "outputs": [
    {
     "data": {
      "application/vnd.jupyter.widget-view+json": {
       "model_id": "a3b63056321845fab2b88bb0affcef01",
       "version_major": 2,
       "version_minor": 0
      },
      "text/plain": [
       "GridBox(children=(Button(button_style='success', description='OK', layout=Layout(grid_area='OK', margin='auto …"
      ]
     },
     "metadata": {},
     "output_type": "display_data"
    }
   ],
   "source": [
    "list_bad, list_ok = test_fig(param_exp, data, list_fct, Full_param_fit)"
   ]
  },
  {
   "cell_type": "code",
   "execution_count": 14,
   "metadata": {
    "scrolled": false
   },
   "outputs": [
    {
     "name": "stdout",
     "output_type": "stream",
     "text": [
      "{'fct_saccade': [[], [113], []], 'fct_velocity': [[], [], []], 'fct_position': [[198, 199], [113], [16, 57, 199]]}\n",
      "{'fct_saccade': [[113], [], []], 'fct_velocity': [[], [5], []], 'fct_position': [[191, 194], [5], [183]]}\n"
     ]
    }
   ],
   "source": [
    "print(list_bad)\n",
    "print(list_ok)"
   ]
  },
  {
   "cell_type": "code",
   "execution_count": null,
   "metadata": {},
   "outputs": [],
   "source": []
  }
 ],
 "metadata": {
  "kernelspec": {
   "display_name": "Python 3",
   "language": "python",
   "name": "python3"
  },
  "language_info": {
   "codemirror_mode": {
    "name": "ipython",
    "version": 3
   },
   "file_extension": ".py",
   "mimetype": "text/x-python",
   "name": "python",
   "nbconvert_exporter": "python",
   "pygments_lexer": "ipython3",
   "version": "3.5.2"
  }
 },
 "nbformat": 4,
 "nbformat_minor": 2
}
