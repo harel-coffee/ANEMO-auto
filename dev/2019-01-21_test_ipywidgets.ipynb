{
 "cells": [
  {
   "cell_type": "code",
   "execution_count": 1,
   "metadata": {},
   "outputs": [],
   "source": [
    "%matplotlib inline\n",
    "%config InlineBackend.close_figures=False \n",
    "\n",
    "from ANEMO import ANEMO\n",
    "from ANEMO import read_edf\n",
    "\n",
    "import os\n",
    "import pickle\n",
    "import numpy as np"
   ]
  },
  {
   "cell_type": "code",
   "execution_count": 2,
   "metadata": {},
   "outputs": [],
   "source": [
    "sujet = ['AM','BMC','CS','DC','FM','IP','LB','OP','RS','SR','TN','YK']\n",
    "time = ['2017-10-23_100057','2017-09-26_095637',\n",
    "        '2017-10-03_134421','2017-09-27_161040',\n",
    "        '2017-10-03_143803','2017-09-28_115250',\n",
    "        '2017-09-20_151043','2017-10-26_121823',\n",
    "        '2017-11-08_094717','2017-11-16_153313',\n",
    "        '2017-11-08_150410','2017-11-17_172706']"
   ]
  },
  {
   "cell_type": "code",
   "execution_count": 3,
   "metadata": {},
   "outputs": [],
   "source": [
    "x = 0"
   ]
  },
  {
   "cell_type": "code",
   "execution_count": 4,
   "metadata": {},
   "outputs": [
    {
     "name": "stdout",
     "output_type": "stream",
     "text": [
      "parametre/param_Fit_AM_fct_velocity_2_step_False_whitening.pkl\n",
      "parametre/param_Fit_AM_fct_position_2_step_False_whitening.pkl\n",
      "parametre/param_Fit_AM_fct_saccade_2_step_False_whitening.pkl\n"
     ]
    }
   ],
   "source": [
    "file = os.path.join('data', 'enregistrement_' + sujet[x] + '_' + time[x] + '.pkl')\n",
    "with open(file, 'rb') as fichier :\n",
    "    param_exp = pickle.load(fichier, encoding='latin1')\n",
    "\n",
    "\n",
    "resultats = os.path.join('data', 'enregistrement_' + sujet[x] + '_' + time[x] + '.asc')\n",
    "data = read_edf(resultats, 'TRIALID')\n",
    "\n",
    "list_fct = {'fct_velocity':'velocity', 'fct_position':'position', 'fct_saccade':'position'}\n",
    "Full_param_fit = {}\n",
    "for fct in list_fct.keys() :\n",
    "    try :\n",
    "        file = os.path.join('parametre/param_Fit_'+ sujet[x] +'_' + fct + '_2_step_False_whitening.pkl')\n",
    "        print(file)\n",
    "        with open(file, 'rb') as fichier :\n",
    "            Full_param_fit[fct] = pickle.load(fichier, encoding='latin1')\n",
    "    except :\n",
    "        Full_param_fit[fct] = None"
   ]
  },
  {
   "cell_type": "code",
   "execution_count": 5,
   "metadata": {},
   "outputs": [],
   "source": [
    "Plot = ANEMO.Plot(param_exp)\n",
    "Fit = ANEMO.Fit(param_exp)\n",
    "ANEMO = ANEMO(param_exp)"
   ]
  },
  {
   "cell_type": "code",
   "execution_count": 6,
   "metadata": {
    "scrolled": false
   },
   "outputs": [
    {
     "data": {
      "application/vnd.jupyter.widget-view+json": {
       "model_id": "0b270130165f47f891955385e51b1fea",
       "version_major": 2,
       "version_minor": 0
      },
      "text/plain": [
       "GridBox(children=(Button(button_style='success', description='OK', layout=Layout(grid_area='OK', margin='auto …"
      ]
     },
     "metadata": {},
     "output_type": "display_data"
    }
   ],
   "source": [
    "list_bad, list_ok = Plot.show_fit(data, list_fct, Full_param_fit, fct1='fct_velocity')"
   ]
  },
  {
   "cell_type": "code",
   "execution_count": 8,
   "metadata": {
    "scrolled": false
   },
   "outputs": [
    {
     "name": "stdout",
     "output_type": "stream",
     "text": [
      "{'fct_velocity': [[], [], []], 'fct_position': [[], [], []], 'fct_saccade': [[0, 37, 39, 41, 43], [], []]}\n",
      "{'fct_velocity': [[], [], []], 'fct_position': [[], [], []], 'fct_saccade': [[40, 42], [], []]}\n"
     ]
    }
   ],
   "source": [
    "print(list_bad)\n",
    "print(list_ok)"
   ]
  },
  {
   "cell_type": "code",
   "execution_count": null,
   "metadata": {},
   "outputs": [],
   "source": []
  },
  {
   "cell_type": "code",
   "execution_count": null,
   "metadata": {},
   "outputs": [],
   "source": []
  }
 ],
 "metadata": {
  "kernelspec": {
   "display_name": "Python 3",
   "language": "python",
   "name": "python3"
  },
  "language_info": {
   "codemirror_mode": {
    "name": "ipython",
    "version": 3
   },
   "file_extension": ".py",
   "mimetype": "text/x-python",
   "name": "python",
   "nbconvert_exporter": "python",
   "pygments_lexer": "ipython3",
   "version": "3.6.7"
  }
 },
 "nbformat": 4,
 "nbformat_minor": 2
}
