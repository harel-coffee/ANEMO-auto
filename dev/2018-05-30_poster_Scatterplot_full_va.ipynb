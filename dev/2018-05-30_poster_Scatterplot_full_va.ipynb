{
 "cells": [
  {
   "cell_type": "markdown",
   "metadata": {},
   "source": [
    "Goal:\n",
    "\n",
    "- show that our fitting procedure is robust to noise\n",
    "- that an incorrect choice of initial parameters may give wrong results\n"
   ]
  },
  {
   "cell_type": "code",
   "execution_count": 1,
   "metadata": {
    "ExecuteTime": {
     "end_time": "2018-05-29T08:57:45.486576Z",
     "start_time": "2018-05-29T08:57:44.646109Z"
    },
    "scrolled": true
   },
   "outputs": [
    {
     "data": {
      "text/plain": [
       "'0.9.10'"
      ]
     },
     "execution_count": 1,
     "metadata": {},
     "output_type": "execute_result"
    }
   ],
   "source": [
    "from ANEMO import ANEMO\n",
    "import numpy as np\n",
    "import matplotlib.pyplot as plt\n",
    "%matplotlib inline\n",
    "import lmfit\n",
    "from lmfit import  Model, Parameters\n",
    "lmfit.__version__"
   ]
  },
  {
   "cell_type": "markdown",
   "metadata": {},
   "source": [
    "# Loading eye movement data"
   ]
  },
  {
   "cell_type": "code",
   "execution_count": 2,
   "metadata": {
    "ExecuteTime": {
     "end_time": "2018-05-29T08:57:45.732815Z",
     "start_time": "2018-05-29T08:57:45.488090Z"
    },
    "collapsed": true
   },
   "outputs": [],
   "source": [
    "import pickle\n",
    "with open('../demo/result/param_Fit_AM.pkl', 'rb') as fichier :\n",
    "    param = pickle.load(fichier, encoding='latin1')\n",
    "with open('../demo/data/enregistrement_AM_2017-10-23_100057.pkl', 'rb') as fichier :\n",
    "    exp = pickle.load(fichier, encoding='latin1')"
   ]
  },
  {
   "cell_type": "markdown",
   "metadata": {},
   "source": [
    "# Creating a fitting procedure"
   ]
  },
  {
   "cell_type": "code",
   "execution_count": 3,
   "metadata": {
    "collapsed": true
   },
   "outputs": [],
   "source": [
    "fig_width=15/3\n",
    "t_titre=35/2\n",
    "t_label=20/2\n",
    "dpi=400\n",
    "block = 1"
   ]
  },
  {
   "cell_type": "code",
   "execution_count": 4,
   "metadata": {
    "ExecuteTime": {
     "end_time": "2018-05-29T08:57:45.746115Z",
     "start_time": "2018-05-29T08:57:45.743077Z"
    },
    "collapsed": true
   },
   "outputs": [],
   "source": [
    "def regress(ax, p, data, minx, miny, maxx, maxy, t_label=12) :\n",
    "    from scipy import stats\n",
    "    slope, intercept, r_, p_value, std_err = stats.linregress(p, data)\n",
    "    x_test = np.linspace(np.min(p), np.max(p), 100)\n",
    "    fitLine = slope * x_test + intercept\n",
    "    ax.plot(x_test, fitLine, c='k', linewidth=2)\n",
    "    ax.text(maxx-((maxx-minx)/16.180),miny+((maxy-miny)/10), 'r = %0.3f'%(r_), fontsize=t_label/1.2, ha='right')\n",
    "\n",
    "    return ax"
   ]
  },
  {
   "cell_type": "code",
   "execution_count": 5,
   "metadata": {
    "ExecuteTime": {
     "end_time": "2018-05-29T08:57:45.741498Z",
     "start_time": "2018-05-29T08:57:45.734769Z"
    },
    "collapsed": true
   },
   "outputs": [],
   "source": [
    "def fit(x, start_anti_fit, v_anti_fit, latence_fit, tau_fit, maxi_fit, step_fit, bruit,\n",
    "        TargetOn, StimulusOf, start_sac=770, stop_sac=820):\n",
    "\n",
    "    np.random.seed(7)\n",
    "    \n",
    "    param_fit={'tau':tau_fit, 'maxi':maxi_fit, 'v_anti':v_anti_fit, 'latence':latence_fit,\n",
    "               'start_anti':start_anti_fit}\n",
    "    \n",
    "    result_fit={'old_v_anti':[], 'old_v_anti_true_50':[], 'old_v_anti_true_start':[], 'old_v_anti_fit':[]}\n",
    "    \n",
    "    for N_trial in range(200) :\n",
    "        trial = N_trial\n",
    "        print(block, trial)\n",
    "        \n",
    "        \n",
    "        bino = exp['p'][trial][block][0]\n",
    "        start_anti_true = param['start_anti'][block][trial]+TargetOn\n",
    "        v_anti_true = param['v_anti'][block][trial]\n",
    "        latence_true = param['latence'][block][trial]+TargetOn\n",
    "        tau_true = param['tau'][block][trial]\n",
    "        maxi_true = param['maxi'][block][trial]\n",
    "\n",
    "        #------------------------------------------------------------------------------------\n",
    "        true_test = ANEMO.fct_velocity(x, bino, start_anti_true, v_anti_true, latence_true, tau_true, maxi_true)\n",
    "        test = ANEMO.fct_velocity(x, bino, start_anti_true, v_anti_true, latence_true, tau_true, maxi_true)+np.random.rand(len(x))*bruit\n",
    "        test = test-np.random.rand(len(x))*bruit\n",
    "        #test[start_sac:stop_sac] = np.arange(0, (stop_sac-start_sac), 1)*np.nan\n",
    "\n",
    "        #------------------------------------------------------------------------------------\n",
    "        result_deg = ANEMO.Fit_velocity(test, x, bino, param_fit=param_fit, sup=None, step=step_fit)\n",
    "\n",
    "        \n",
    "        start_anti_fit = result_deg.values['start_anti']\n",
    "        v_anti_fit = result_deg.values['v_anti']\n",
    "        latence_fit = result_deg.values['latence']\n",
    "        tau_fit = result_deg.values['tau']\n",
    "        maxi_fit = result_deg.values['maxi']\n",
    "        \n",
    "        best_fit = ANEMO.fct_velocity(x, bino, start_anti_fit, v_anti_fit, latence_fit, tau_fit, maxi_fit)\n",
    "        #------------------------------------------------------------------------------------\n",
    "        result_fit['old_v_anti'].append(np.nanmean(test[TargetOn-50:TargetOn+50]))\n",
    "        result_fit['old_v_anti_true_50'].append(np.nanmean(true_test[TargetOn-50:TargetOn+50]))\n",
    "        result_fit['old_v_anti_fit'].append(np.nanmean(best_fit[int(start_anti_fit):int(latence_fit)]))\n",
    "        result_fit['old_v_anti_true_start'].append(np.nanmean(true_test[int(start_anti_true):int(latence_true)]))\n",
    "        #------------------------------------------------------------------------------------\n",
    "        \n",
    "    return result_fit"
   ]
  },
  {
   "cell_type": "code",
   "execution_count": 6,
   "metadata": {
    "ExecuteTime": {
     "end_time": "2018-05-29T08:57:45.760134Z",
     "start_time": "2018-05-29T08:57:45.757873Z"
    },
    "collapsed": true
   },
   "outputs": [],
   "source": [
    "x = np.arange(0, 1500, 1)\n",
    "TargetOn, StimulusOf = 750, 750-300"
   ]
  },
  {
   "cell_type": "code",
   "execution_count": 7,
   "metadata": {
    "ExecuteTime": {
     "end_time": "2018-05-29T08:57:45.764281Z",
     "start_time": "2018-05-29T08:57:45.761656Z"
    },
    "collapsed": true
   },
   "outputs": [],
   "source": [
    "def defaut():\n",
    "    start_anti_fit = [TargetOn-100, StimulusOf-200, TargetOn+75]\n",
    "    latence_fit = [TargetOn+100, TargetOn+75, len(x)]\n",
    "    v_anti_fit = [0., -40., 40.]\n",
    "    tau_fit = [15., 13., 80.]\n",
    "    maxi_fit = [15., 1., 40.]\n",
    "\n",
    "    return(start_anti_fit, latence_fit, v_anti_fit, tau_fit, maxi_fit)"
   ]
  },
  {
   "cell_type": "code",
   "execution_count": 8,
   "metadata": {
    "scrolled": true
   },
   "outputs": [
    {
     "name": "stdout",
     "output_type": "stream",
     "text": [
      "1 0\n",
      "1 1\n",
      "1 2\n",
      "1 3\n",
      "1 4\n",
      "1 5\n",
      "1 6\n",
      "1 7\n",
      "1 8\n",
      "1 9\n",
      "1 10\n",
      "1 11\n",
      "1 12\n",
      "1 13\n",
      "1 14\n",
      "1 15\n",
      "1 16\n",
      "1 17\n",
      "1 18\n",
      "1 19\n",
      "1 20\n",
      "1 21\n",
      "1 22\n",
      "1 23\n",
      "1 24\n",
      "1 25\n",
      "1 26\n",
      "1 27\n",
      "1 28\n",
      "1 29\n",
      "1 30\n",
      "1 31\n",
      "1 32\n",
      "1 33\n",
      "1 34\n",
      "1 35\n",
      "1 36\n",
      "1 37\n",
      "1 38\n",
      "1 39\n",
      "1 40\n",
      "1 41\n",
      "1 42\n",
      "1 43\n",
      "1 44\n",
      "1 45\n",
      "1 46\n",
      "1 47\n",
      "1 48\n",
      "1 49\n",
      "1 50\n",
      "1 51\n",
      "1 52\n",
      "1 53\n",
      "1 54\n",
      "1 55\n",
      "1 56\n",
      "1 57\n",
      "1 58\n",
      "1 59\n",
      "1 60\n",
      "1 61\n",
      "1 62\n",
      "1 63\n",
      "1 64\n",
      "1 65\n",
      "1 66\n",
      "1 67\n",
      "1 68\n",
      "1 69\n",
      "1 70\n",
      "1 71\n",
      "1 72\n",
      "1 73\n",
      "1 74\n",
      "1 75\n",
      "1 76\n",
      "1 77\n",
      "1 78\n",
      "1 79\n",
      "1 80\n",
      "1 81\n",
      "1 82\n",
      "1 83\n",
      "1 84\n",
      "1 85\n",
      "1 86\n",
      "1 87\n",
      "1 88\n",
      "1 89\n",
      "1 90\n",
      "1 91\n",
      "1 92\n",
      "1 93\n",
      "1 94\n",
      "1 95\n",
      "1 96\n",
      "1 97\n",
      "1 98\n",
      "1 99\n",
      "1 100\n",
      "1 101\n",
      "1 102\n",
      "1 103\n",
      "1 104\n",
      "1 105\n",
      "1 106\n",
      "1 107\n",
      "1 108\n",
      "1 109\n",
      "1 110\n",
      "1 111\n",
      "1 112\n",
      "1 113\n",
      "1 114\n",
      "1 115\n",
      "1 116\n",
      "1 117\n",
      "1 118\n",
      "1 119\n",
      "1 120\n",
      "1 121\n",
      "1 122\n",
      "1 123\n",
      "1 124\n",
      "1 125\n",
      "1 126\n",
      "1 127\n",
      "1 128\n",
      "1 129\n",
      "1 130\n",
      "1 131\n",
      "1 132\n",
      "1 133\n",
      "1 134\n",
      "1 135\n",
      "1 136\n",
      "1 137\n",
      "1 138\n",
      "1 139\n",
      "1 140\n",
      "1 141\n",
      "1 142\n",
      "1 143\n",
      "1 144\n",
      "1 145\n",
      "1 146\n",
      "1 147\n",
      "1 148\n",
      "1 149\n",
      "1 150\n",
      "1 151\n",
      "1 152\n",
      "1 153\n",
      "1 154\n",
      "1 155\n",
      "1 156\n",
      "1 157\n",
      "1 158\n",
      "1 159\n",
      "1 160\n",
      "1 161\n",
      "1 162\n",
      "1 163\n",
      "1 164\n",
      "1 165\n",
      "1 166\n",
      "1 167\n",
      "1 168\n",
      "1 169\n",
      "1 170\n",
      "1 171\n",
      "1 172\n",
      "1 173\n",
      "1 174\n",
      "1 175\n",
      "1 176\n",
      "1 177\n",
      "1 178\n",
      "1 179\n",
      "1 180\n",
      "1 181\n",
      "1 182\n",
      "1 183\n",
      "1 184\n",
      "1 185\n",
      "1 186\n",
      "1 187\n",
      "1 188\n",
      "1 189\n",
      "1 190\n",
      "1 191\n",
      "1 192\n",
      "1 193\n",
      "1 194\n",
      "1 195\n",
      "1 196\n",
      "1 197\n",
      "1 198\n",
      "1 199\n"
     ]
    }
   ],
   "source": [
    "start_anti_fit, latence_fit, v_anti_fit, tau_fit, maxi_fit = defaut()\n",
    "result_fit = fit(x, start_anti_fit, v_anti_fit, latence_fit, tau_fit, maxi_fit, 2, 10,TargetOn, StimulusOf)"
   ]
  },
  {
   "cell_type": "code",
   "execution_count": 9,
   "metadata": {
    "collapsed": true
   },
   "outputs": [],
   "source": [
    "def V_a(x, result_fit, start_anti_fit, v_anti_fit, latence_fit, tau_fit, maxi_fit, TargetOn, StimulusOf) :\n",
    "    fig1, axs1 = plt.subplots(1, 1, figsize=(fig_width*1, (fig_width*1)/1.6180))\n",
    "    fig2, axs2 = plt.subplots(1, 1, figsize=(fig_width*1, (fig_width*1)/1.6180))\n",
    "    #-----------------------------------------------------------------------------------\n",
    "    axs1.set_xlabel('True V$_a$ onset (°/s)', fontsize=t_label)\n",
    "    axs1.set_ylabel('Fit V$_a$ (°/s)', fontsize=t_label)\n",
    "    axs1.scatter(result_fit['old_v_anti_true_start'], result_fit['old_v_anti_fit'], c='r', alpha=0.5)\n",
    "    #-----------------------------------------------------------------------------------\n",
    "    axs2.set_xlabel('True V$_a$ 50 (°/s)', fontsize=t_label)\n",
    "    axs2.set_ylabel('Classical V$_a$ (°/s)', fontsize=t_label)\n",
    "    axs2.scatter(result_fit['old_v_anti_true_50'], result_fit['old_v_anti'], c='c', alpha=0.5)\n",
    "    #-----------------------------------------------------------------------------------\n",
    "    min_y1, max_y1 = min(result_fit['old_v_anti_fit']), max(result_fit['old_v_anti_fit'])\n",
    "    min_y2, max_y2 = min(result_fit['old_v_anti']), max(result_fit['old_v_anti'])\n",
    "    min_x1, min_x2 = min(result_fit['old_v_anti_true_start']),  min(result_fit['old_v_anti_true_50'])\n",
    "    max_x1, max_x2 = max(result_fit['old_v_anti_true_start']), max(result_fit['old_v_anti_true_50'])\n",
    "    \n",
    "    min_x, min_y = min(min_x1, min_x2), min(min_y1, min_y2)\n",
    "    max_x, max_y = max(max_x1, max_x2), max(max_y1, max_y2)\n",
    "    \n",
    "    axs1 = regress(axs1, result_fit['old_v_anti_true_start'], result_fit['old_v_anti_fit'], min_x, min_y, max_x, max_y, t_label=t_titre/1.5)\n",
    "    axs2 = regress(axs2, result_fit['old_v_anti_true_50'], result_fit['old_v_anti'], min_x, min_y, max_x, max_y, t_label=t_titre/1.5)\n",
    "    \n",
    "    \n",
    "    for a in [axs1, axs2] :\n",
    "        a.plot([-2000, 2000], [-2000, 2000], '--k', alpha=0.5)\n",
    "        a.set_title('Anticipatory velocity', fontsize=t_titre, x=0.5, y=1.05) #Velocity of anticipation\n",
    "        a.axis([min_x-((max_x-min_x)/10), max_x+((max_x-min_x)/10), min_y-((max_y-min_y)/10), max_y+((max_y-min_y)/10)]) \n",
    "    \n",
    "    fig1.tight_layout()\n",
    "    fig2.tight_layout()\n",
    "    fig1.savefig('../2018-05-04_Poster_Grenobe/figures/old_v_anti_fit_true_Full_2_%s.png'%block, dpi=dpi)    \n",
    "    fig2.savefig('../2018-05-04_Poster_Grenobe/figures/old_v_anti_true_classique_Full_2_%s.png'%block, dpi=dpi)\n",
    "    plt.show()"
   ]
  },
  {
   "cell_type": "code",
   "execution_count": 10,
   "metadata": {
    "scrolled": true
   },
   "outputs": [
    {
     "data": {
      "image/png": "[encoded data removed]",
      "text/plain": [
       "<Figure size 360x222.497 with 1 Axes>"
      ]
     },
     "metadata": {},
     "output_type": "display_data"
    },
    {
     "data": {
      "image/png": "[encoded data removed]",
      "text/plain": [
       "<Figure size 360x222.497 with 1 Axes>"
      ]
     },
     "metadata": {},
     "output_type": "display_data"
    }
   ],
   "source": [
    "V_a(x, result_fit, start_anti_fit, v_anti_fit, latence_fit, tau_fit, maxi_fit, TargetOn, StimulusOf)"
   ]
  },
  {
   "cell_type": "code",
   "execution_count": null,
   "metadata": {
    "collapsed": true
   },
   "outputs": [],
   "source": []
  }
 ],
 "metadata": {
  "kernelspec": {
   "display_name": "Python 3",
   "language": "python",
   "name": "python3"
  },
  "language_info": {
   "codemirror_mode": {
    "name": "ipython",
    "version": 3
   },
   "file_extension": ".py",
   "mimetype": "text/x-python",
   "name": "python",
   "nbconvert_exporter": "python",
   "pygments_lexer": "ipython3",
   "version": "3.5.2"
  },
  "toc": {
   "base_numbering": 1,
   "nav_menu": {},
   "number_sections": true,
   "sideBar": true,
   "skip_h1_title": false,
   "title_cell": "Table of Contents",
   "title_sidebar": "Contents",
   "toc_cell": false,
   "toc_position": {},
   "toc_section_display": true,
   "toc_window_display": false
  }
 },
 "nbformat": 4,
 "nbformat_minor": 2
}
