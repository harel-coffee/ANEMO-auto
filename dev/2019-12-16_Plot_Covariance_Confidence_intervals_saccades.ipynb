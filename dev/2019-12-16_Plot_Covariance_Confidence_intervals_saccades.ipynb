{
 "cells": [
  {
   "cell_type": "code",
   "execution_count": 1,
   "metadata": {
    "ExecuteTime": {
     "end_time": "2018-06-26T12:38:04.141125Z",
     "start_time": "2018-06-26T12:38:03.240588Z"
    }
   },
   "outputs": [],
   "source": [
    "import numpy as np\n",
    "import matplotlib.pyplot as plt\n",
    "%matplotlib inline"
   ]
  },
  {
   "cell_type": "code",
   "execution_count": 2,
   "metadata": {},
   "outputs": [],
   "source": [
    "def fct_velocity(x, latency, tau, steady_state) :\n",
    "\n",
    "    time = x\n",
    "    velocity = []\n",
    "    maxi = steady_state\n",
    "    for t in range(len(time)) :\n",
    "\n",
    "        if time[t] < latency :\n",
    "            velocity.append(0)\n",
    "        else :\n",
    "            velocity.append(maxi*(1-np.exp(-1/tau*(time[t]-latency))))\n",
    "\n",
    "    return velocity\n"
   ]
  },
  {
   "cell_type": "code",
   "execution_count": 3,
   "metadata": {},
   "outputs": [
    {
     "data": {
      "image/png": "[encoded data removed]",
      "text/plain": [
       "<Figure size 432x288 with 1 Axes>"
      ]
     },
     "metadata": {
      "needs_background": "light"
     },
     "output_type": "display_data"
    }
   ],
   "source": [
    "x = np.asarray(range(0, 1000, 2))\n",
    "latency = 500\n",
    "tau = 50\n",
    "steady_state = 15\n",
    "np.random.seed(0)\n",
    "\n",
    "velo = fct_velocity(x, latency, tau, steady_state)\n",
    "velo += 1*np.random.randn(x.size)\n",
    "\n",
    "plt.plot(x, velo, 'k');"
   ]
  },
  {
   "cell_type": "code",
   "execution_count": 4,
   "metadata": {},
   "outputs": [],
   "source": [
    "param_fit = [{'name':'steady_state', 'value':12,  'min':5.,  'max':40.},\n",
    "             {'name':'latency',      'value':500, 'min':100, 'max':700},\n",
    "             {'name':'tau',          'value':15., 'min':13., 'max':80.}]\n",
    "\n",
    "inde_vars = {'x': x}\n",
    "\n",
    "from lmfit import  Model, Parameters\n",
    "\n",
    "equation = fct_velocity\n",
    "\n",
    "params = Parameters()\n",
    "model = Model(equation, independent_vars=inde_vars.keys())\n",
    "\n",
    "for num_par in range(len(param_fit)) :\n",
    "    params.add(param_fit[num_par]['name'],\n",
    "               value = param_fit[num_par]['value'],\n",
    "               min   = param_fit[num_par]['min'],\n",
    "               max   = param_fit[num_par]['max'])\n",
    "\n",
    "result_deg = model.fit(velo, params, nan_policy='omit', **inde_vars)\n"
   ]
  },
  {
   "cell_type": "code",
   "execution_count": 5,
   "metadata": {
    "scrolled": true
   },
   "outputs": [
    {
     "data": {
      "text/html": [
       "<h2> Model</h2> Model(fct_velocity) <h2>Fit Statistics</h2><table><tr><td>fitting method</td><td>leastsq</td><td></td></tr><tr><td># function evals</td><td>36</td><td></td></tr><tr><td># data points</td><td>500</td><td></td></tr><tr><td># variables</td><td>3</td><td></td></tr><tr><td>chi-square</td><td> 495.871131</td><td></td></tr><tr><td>reduced chi-square</td><td> 0.99772863</td><td></td></tr><tr><td>Akaike info crit.</td><td> 1.85398933</td><td></td></tr><tr><td>Bayesian info crit.</td><td> 14.4978136</td><td></td></tr></table><h2>Variables</h2><table><tr><th> name </th><th> value </th><th> standard error </th><th> relative error </th><th> initial value </th><th> min </th><th> max </th><th> vary </th></tr><tr><td> steady_state </td><td>  14.9039223 </td><td>  0.08097143 </td><td> (0.54%) </td><td> 12 </td><td>  5.00000000 </td><td>  40.0000000 </td><td> True </td></tr><tr><td> latency </td><td>  501.507192 </td><td>  1.31713015 </td><td> (0.26%) </td><td> 500 </td><td>  100.000000 </td><td>  700.000000 </td><td> True </td></tr><tr><td> tau </td><td>  48.4425146 </td><td>  2.12057505 </td><td> (4.38%) </td><td> 15.0 </td><td>  13.0000000 </td><td>  80.0000000 </td><td> True </td></tr></table><h2>Correlations (unreported correlations are < 0.100)</h2><table><tr><td>latency</td><td>tau</td><td>-0.6925</td></tr><tr><td>steady_state</td><td>tau</td><td>0.4911</td></tr><tr><td>steady_state</td><td>latency</td><td>-0.1916</td></tr></table>"
      ],
      "text/plain": [
       "<lmfit.model.ModelResult at 0x7fe1f11e9470>"
      ]
     },
     "execution_count": 5,
     "metadata": {},
     "output_type": "execute_result"
    }
   ],
   "source": [
    "result_deg"
   ]
  },
  {
   "cell_type": "code",
   "execution_count": 6,
   "metadata": {},
   "outputs": [
    {
     "data": {
      "text/plain": [
       "501.5071921687859"
      ]
     },
     "execution_count": 6,
     "metadata": {},
     "output_type": "execute_result"
    }
   ],
   "source": [
    "result_deg.values['latency']"
   ]
  },
  {
   "cell_type": "markdown",
   "metadata": {},
   "source": [
    "# NaN"
   ]
  },
  {
   "cell_type": "code",
   "execution_count": 7,
   "metadata": {
    "scrolled": true
   },
   "outputs": [
    {
     "name": "stdout",
     "output_type": "stream",
     "text": [
      "y[0, 80] = 499.17 +/- 0.00 (ms); covar = 1.78 +/- 0.00 \n",
      "y[40, 120] = 500.16 +/- 0.00 (ms); covar = 1.93 +/- 0.00 \n",
      "y[80, 160] = 502.57 +/- 0.00 (ms); covar = 1.75 +/- 0.00 \n",
      "y[120, 200] = 499.42 +/- 0.00 (ms); covar = 1.69 +/- 0.00 \n",
      "y[160, 240] = 500.07 +/- 0.00 (ms); covar = 2.13 +/- 0.00 \n",
      "y[200, 280] = 500.59 +/- 0.00 (ms); covar = 1.89 +/- 0.00 \n",
      "y[240, 320] = 497.68 +/- 0.00 (ms); covar = 1.92 +/- 0.00 \n",
      "y[280, 360] = 498.03 +/- 0.00 (ms); covar = 2.00 +/- 0.00 \n",
      "y[320, 400] = 500.07 +/- 0.00 (ms); covar = 2.28 +/- 0.00 \n",
      "y[360, 440] = 500.85 +/- 0.00 (ms); covar = 1.54 +/- 0.00 \n",
      "y[400, 480] = 499.27 +/- 0.00 (ms); covar = 1.74 +/- 0.00 \n",
      "y[440, 520] = 506.24 +/- 0.00 (ms); covar = 4.70 +/- 0.00 \n",
      "y[480, 560] = 481.19 +/- 6.25 (ms); covar = 127.53 +/- 106.46 \n",
      "y[520, 600] = 499.82 +/- 0.70 (ms); covar = 2.01 +/- 0.05 \n",
      "y[560, 640] = 500.00 +/- 0.00 (ms); covar = 2.41 +/- 0.16 \n",
      "y[600, 680] = 498.86 +/- 0.00 (ms); covar = 2.16 +/- 0.00 \n",
      "y[640, 720] = 502.05 +/- 0.26 (ms); covar = 1.81 +/- 0.10 \n",
      "y[680, 760] = 501.24 +/- 0.00 (ms); covar = 1.57 +/- 0.00 \n",
      "y[720, 800] = 501.28 +/- 0.00 (ms); covar = 1.69 +/- 0.00 \n",
      "y[760, 840] = 498.35 +/- 0.75 (ms); covar = 1.88 +/- 0.01 \n",
      "y[800, 880] = 500.44 +/- 0.00 (ms); covar = 1.82 +/- 0.00 \n",
      "y[840, 920] = 501.61 +/- 0.00 (ms); covar = 1.64 +/- 0.00 \n",
      "y[880, 960] = 498.76 +/- 0.00 (ms); covar = 1.73 +/- 0.00 \n",
      "y[920, 1000] = 498.84 +/- 0.00 (ms); covar = 1.93 +/- 0.00 \n",
      "y[960, 1040] = 499.59 +/- 0.00 (ms); covar = 1.73 +/- 0.00 \n"
     ]
    }
   ],
   "source": [
    "N_test = 200\n",
    "\n",
    "std_lat, covars = [], []\n",
    "for y1 in range(0, 500, 20) :\n",
    "    \n",
    "    y2 = y1+40\n",
    "    \n",
    "    velo = fct_velocity(x, latency, tau, steady_state)\n",
    "    velo += 1*np.random.randn(x.size)\n",
    "    \n",
    "    velo[y1:y2] = np.nan\n",
    "    \n",
    "    Lats, covars_ = [], []\n",
    "    for i_test in range(N_test):\n",
    "        \n",
    "        for num_par in range(len(param_fit)) :\n",
    "            if param_fit[num_par]['name'] == 'latency' :\n",
    "                val = param_fit[num_par]['value']+50*np.random.randn()\n",
    "            else :\n",
    "                val = param_fit[num_par]['value']\n",
    "            params.add(param_fit[num_par]['name'],\n",
    "                       value =  val,\n",
    "                       min   = param_fit[num_par]['min'],\n",
    "                       max   = param_fit[num_par]['max'])\n",
    "\n",
    "        result_deg = model.fit(velo, params, nan_policy='omit', **inde_vars)\n",
    "        Lats.append(result_deg.values['latency'])\n",
    "        covars_.append(result_deg.covar[1, 1])\n",
    "        \n",
    "    covars.append(np.mean(covars_))\n",
    "    std_lat.append(np.std(Lats))\n",
    "    print(f'y[{y1*2}, {y2*2}] = {np.mean(Lats):.2f} +/- {np.std(Lats):.2f} (ms); covar = {np.mean(covars_):.2f} +/- {np.std(covars_):.2f} ')"
   ]
  },
  {
   "cell_type": "code",
   "execution_count": 8,
   "metadata": {},
   "outputs": [
    {
     "data": {
      "image/png": "[encoded data removed]",
      "text/plain": [
       "<Figure size 432x288 with 1 Axes>"
      ]
     },
     "metadata": {
      "needs_background": "light"
     },
     "output_type": "display_data"
    }
   ],
   "source": [
    "plt.plot(range(0, 1000, 40), std_lat, 'k')\n",
    "plt.plot(range(0, 1000, 40), np.array(covars)/10, 'r');"
   ]
  },
  {
   "cell_type": "code",
   "execution_count": 9,
   "metadata": {},
   "outputs": [
    {
     "data": {
      "image/png": "[encoded data removed]",
      "text/plain": [
       "<Figure size 432x288 with 1 Axes>"
      ]
     },
     "metadata": {
      "needs_background": "light"
     },
     "output_type": "display_data"
    }
   ],
   "source": [
    "velo = fct_velocity(x, latency, tau, steady_state)\n",
    "velo += 1*np.random.randn(x.size)\n",
    "\n",
    "plt.bar(480, 20, width=80, color='r', bottom=-5, align='edge', alpha=.5)\n",
    "plt.plot(x, velo, 'k');"
   ]
  },
  {
   "cell_type": "code",
   "execution_count": 22,
   "metadata": {},
   "outputs": [
    {
     "data": {
      "text/plain": [
       "['steady_state', 'latency', 'tau']"
      ]
     },
     "execution_count": 22,
     "metadata": {},
     "output_type": "execute_result"
    }
   ],
   "source": [
    "result_deg.var_names"
   ]
  },
  {
   "cell_type": "code",
   "execution_count": 23,
   "metadata": {},
   "outputs": [
    {
     "data": {
      "text/plain": [
       "array([[ 0.0074622 , -0.02333864,  0.09684424],\n",
       "       [-0.02333864,  1.72766668, -1.95758811],\n",
       "       [ 0.09684424, -1.95758811,  4.64520089]])"
      ]
     },
     "execution_count": 23,
     "metadata": {},
     "output_type": "execute_result"
    }
   ],
   "source": [
    "result_deg.covar"
   ]
  },
  {
   "cell_type": "code",
   "execution_count": null,
   "metadata": {},
   "outputs": [],
   "source": []
  }
 ],
 "metadata": {
  "kernel_info": {
   "name": "python3"
  },
  "kernelspec": {
   "display_name": "Python 3",
   "language": "python",
   "name": "python3"
  },
  "language_info": {
   "codemirror_mode": {
    "name": "ipython",
    "version": 3
   },
   "file_extension": ".py",
   "mimetype": "text/x-python",
   "name": "python",
   "nbconvert_exporter": "python",
   "pygments_lexer": "ipython3",
   "version": "3.6.8"
  },
  "nteract": {
   "version": "0.15.0"
  },
  "toc": {
   "base_numbering": 1,
   "nav_menu": {},
   "number_sections": true,
   "sideBar": true,
   "skip_h1_title": false,
   "title_cell": "Table of Contents",
   "title_sidebar": "Contents",
   "toc_cell": false,
   "toc_position": {},
   "toc_section_display": true,
   "toc_window_display": false
  }
 },
 "nbformat": 4,
 "nbformat_minor": 4
}
