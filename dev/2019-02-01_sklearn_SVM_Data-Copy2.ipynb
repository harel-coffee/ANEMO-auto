{
 "cells": [
  {
   "cell_type": "markdown",
   "metadata": {},
   "source": [
    " - utiliser juste deux classes : keep / reject\n",
    " - multi-variate X en fonction du dictionaire incluant list_keys_param_fit et goodness_of_fit\n"
   ]
  },
  {
   "cell_type": "code",
   "execution_count": 1,
   "metadata": {},
   "outputs": [],
   "source": [
    "import numpy as np\n",
    "import matplotlib.pyplot as plt\n",
    "#from sklearn import svm, datasets\n",
    "%matplotlib inline\n",
    "import warnings\n",
    "warnings.filterwarnings('ignore')  # \"error\", \"ignore\", \"always\", \"default\", \"module\" or \"once\""
   ]
  },
  {
   "cell_type": "code",
   "execution_count": 2,
   "metadata": {},
   "outputs": [],
   "source": [
    "#------------------------------------------------------------------------------\n",
    "# 1- Split into a training set and a test set using a ShuffleSplit + doing that in parallel for the differrent features to test\n",
    "#------------------------------------------------------------------------------\n",
    "\n",
    "from sklearn.model_selection import ShuffleSplit\n",
    "def split_data(X, y, test_size=.25, train_size=None) :\n",
    "    \n",
    "\n",
    "    rs = ShuffleSplit(n_splits=1, test_size=test_size, train_size=train_size, random_state=0)\n",
    "    for index_train, index_test in rs.split(y): pass\n",
    "\n",
    "    X_train, X_test = {}, {}\n",
    "    X_train, X_test = X[index_train, :], X[index_test, :]\n",
    "    y_train, y_test =  y[index_train].copy(), y[index_test].copy()\n",
    "\n",
    "    print('nb_trial_train : X: %s, y: %s'%(X_train.shape[0], y_train.shape[0]), end='\\t')\n",
    "    print('nb_trial_test : X: %s,  y: %s'%(X_test.shape[0], y_test.shape[0]))\n",
    "    return X_train, X_test, y_train, y_test"
   ]
  },
  {
   "cell_type": "code",
   "execution_count": 3,
   "metadata": {},
   "outputs": [
    {
     "name": "stderr",
     "output_type": "stream",
     "text": [
      "/usr/local/lib/python3.5/dist-packages/sklearn/cross_validation.py:44: DeprecationWarning: This module was deprecated in version 0.18 in favor of the model_selection module into which all the refactored classes and functions are moved. Also note that the interface of the new CV iterators are different from that of this module. This module will be removed in 0.20.\n",
      "  \"This module will be removed in 0.20.\", DeprecationWarning)\n",
      "/usr/local/lib/python3.5/dist-packages/sklearn/grid_search.py:43: DeprecationWarning: This module was deprecated in version 0.18 in favor of the model_selection module into which all the refactored classes and functions are moved. This module will be removed in 0.20.\n",
      "  DeprecationWarning)\n"
     ]
    }
   ],
   "source": [
    "#------------------------------------------------------------------------------\n",
    "# 4- Train a SVM classification model\n",
    "#------------------------------------------------------------------------------\n",
    "\n",
    "from sklearn.grid_search import GridSearchCV\n",
    "from sklearn.svm import SVC\n",
    "\n",
    "def Train_SVM(X_train, y_train, size_c_gamma=32) :\n",
    "\n",
    "\n",
    "    C_range = np.logspace(-5, 10., size_c_gamma, base=2.)\n",
    "    gamma_range = np.logspace(-14, 3, size_c_gamma, base=2.)\n",
    "\n",
    "    \n",
    "    liste_kernel = ['rbf']#, 'poly', 'sigmoid']\n",
    "    param_grid = [{'kernel': liste_kernel, 'gamma': gamma_range, 'C': C_range}]\n",
    "\n",
    "    \n",
    "    grid = GridSearchCV(SVC(verbose=False, tol=1e-3, max_iter = -1, ),\n",
    "                        param_grid, verbose=0, scoring='f1_weighted', n_jobs=1,) #cv=50, \n",
    "\n",
    "    X_train_ = np.zeros((len(X_train), 0))\n",
    "    X_train_ = np.hstack((X_train_, X_train))\n",
    "    grid.fit(X_train, y_train.ravel())\n",
    "\n",
    "    return grid"
   ]
  },
  {
   "cell_type": "code",
   "execution_count": 4,
   "metadata": {},
   "outputs": [],
   "source": [
    "#------------------------------------------------------------------------------\n",
    "# 5- Quantitative evaluation of the model quality on the test set\n",
    "#------------------------------------------------------------------------------\n",
    "def Quantitative_evaluation(grid, X_test, classes) :\n",
    "\n",
    "    import itertools\n",
    "    from sklearn import metrics\n",
    "    \n",
    "    y_pred = grid.predict(X_test)\n",
    "    fone_score = np.array(metrics.f1_score(y_test, y_pred, average=None)).mean()\n",
    "    \n",
    "    return fone_score"
   ]
  },
  {
   "cell_type": "markdown",
   "metadata": {},
   "source": [
    "# Data"
   ]
  },
  {
   "cell_type": "code",
   "execution_count": 5,
   "metadata": {},
   "outputs": [],
   "source": [
    "import pickle\n",
    "import os\n",
    "from ANEMO import read_edf\n",
    "from ANEMO import ANEMO\n",
    "import numpy as np\n",
    "\n",
    "import matplotlib.pyplot as plt\n",
    "%matplotlib inline\n",
    "sujet = ['AM','BMC','CS','DC','FM','IP','LB','OP','RS','SR','TN','YK']\n",
    "time = ['2017-10-23_100057','2017-09-26_095637', '2017-10-03_134421','2017-09-27_161040',\n",
    "        '2017-10-03_143803','2017-09-28_115250', '2017-09-20_151043','2017-10-26_121823',\n",
    "        '2017-11-08_094717','2017-11-16_153313', '2017-11-08_150410','2017-11-17_172706']\n",
    "file = os.path.join('parametre', 'Delete_list_trials_velocity_fct.pkl')\n",
    "with open(file, 'rb') as fichier :\n",
    "    Delete_list_trials = pickle.load(fichier, encoding='latin1')\n",
    "\n",
    "file = os.path.join('parametre', 'Delete_list_Bad_trials_velocity.pkl')\n",
    "with open(file, 'rb') as fichier :\n",
    "    Bad_Fit = pickle.load(fichier, encoding='latin1')"
   ]
  },
  {
   "cell_type": "code",
   "execution_count": 6,
   "metadata": {
    "scrolled": true
   },
   "outputs": [
    {
     "name": "stdout",
     "output_type": "stream",
     "text": [
      "AM -- nb_Delete_trials = [0, 1, 0], nb_Bad_Fit = [1, 0, 0]\n",
      "BMC -- nb_Delete_trials = [2, 7, 2], nb_Bad_Fit = [0, 1, 3]\n",
      "CS -- nb_Delete_trials = [0, 0, 2], nb_Bad_Fit = [3, 16, 10]\n",
      "DC -- nb_Delete_trials = [3, 7, 2], nb_Bad_Fit = [6, 7, 6]\n",
      "FM -- nb_Delete_trials = [22, 11, 3], nb_Bad_Fit = [3, 3, 3]\n",
      "IP -- nb_Delete_trials = [0, 1, 0], nb_Bad_Fit = [0, 0, 0]\n",
      "LB -- nb_Delete_trials = [10, 7, 7], nb_Bad_Fit = [12, 11, 6]\n",
      "OP -- nb_Delete_trials = [29, 19, 22], nb_Bad_Fit = [16, 29, 32]\n",
      "RS -- nb_Delete_trials = [0, 2, 5], nb_Bad_Fit = [1, 7, 1]\n",
      "SR -- nb_Delete_trials = [8, 2, 2], nb_Bad_Fit = [5, 23, 5]\n",
      "TN -- nb_Delete_trials = [7, 3, 5], nb_Bad_Fit = [11, 7, 4]\n",
      "YK -- nb_Delete_trials = [66, 35, 22], nb_Bad_Fit = [64, 75, 66]\n"
     ]
    }
   ],
   "source": [
    "list_keys_param_fit = ['start_anti', 'tau', 'v_anti', 'latence', 'maxi']\n",
    "X, y, var = [], [], []\n",
    "a = 0\n",
    "for x in range(len(sujet)) :\n",
    "    \n",
    "    #-------------------------------------------------------------------------\n",
    "    file = os.path.join('data', 'enregistrement_' + sujet[x] + '_' + time[x] + '.pkl')\n",
    "    with open(file, 'rb') as fichier : param_exp = pickle.load(fichier, encoding='latin1')\n",
    "    A = ANEMO(param_exp)\n",
    "    N_trials, N_blocks = param_exp['N_trials'], param_exp['N_blocks']\n",
    "\n",
    "    resultats = os.path.join('data', 'enregistrement_' + sujet[x] + '_' + time[x] + '.asc')\n",
    "    data = read_edf(resultats, 'TRIALID')\n",
    "\n",
    "    file = os.path.join('parametre/goodness_of_fit_'+ sujet[x] +'.pkl')\n",
    "    with open(file, 'rb') as fichier : goodness_of_fit = pickle.load(fichier, encoding='latin1')\n",
    "    \n",
    "    file = os.path.join('parametre/param_Fit_'+ sujet[x] +'_fct_velocity_2_step_False_whitening.pkl')\n",
    "    with open(file, 'rb') as fichier : param_fit = pickle.load(fichier, encoding='latin1')\n",
    "    #-------------------------------------------------------------------------\n",
    "\n",
    "    nb_del_trial = [len(Delete_list_trials[sujet[x]][b]) for b in range(N_blocks)]\n",
    "    nb_bad_trial = [len(Bad_Fit[sujet[x]][b]) for b in range(N_blocks)]\n",
    "    print('%s -- nb_Delete_trials = %s, nb_Bad_Fit = %s'%(sujet[x], nb_del_trial, nb_bad_trial))\n",
    "    #-------------------------------------------------------------------------\n",
    "    \n",
    "    for block in range(N_blocks) :\n",
    "        for trial in range(N_trials) :\n",
    "\n",
    "            if trial in Delete_list_trials[sujet[x]][block] : y.append(1)\n",
    "            elif trial in Bad_Fit[sujet[x]][block] : y.append(1)\n",
    "            else : y.append(0)\n",
    "\n",
    "            if a==0 :\n",
    "                var.append('nb_nan') ; X.append([])\n",
    "                var.append('residu') ; X.append([])\n",
    "                for key in goodness_of_fit.keys() :\n",
    "                    if key!='residual' : var.append(key) ; X.append([])\n",
    "                for key in param_fit.keys() :\n",
    "                    if key in list_keys_param_fit : var.append(key) ; X.append([])\n",
    "                a=1\n",
    "            \n",
    "            trial_data = trial + N_trials*block\n",
    "            arg = A.arg(data[trial_data], trial=trial, block=block)\n",
    "            velocity_NAN = A.velocity_NAN(**arg)[0]\n",
    "\n",
    "            nb_nan = [x for x in velocity_NAN[arg.StimulusOf-arg.t_0:] if str(x)=='nan']\n",
    "            X[0].append(len(nb_nan)/len(velocity_NAN[arg.StimulusOf-arg.t_0:]))\n",
    "            \n",
    "            t1 , res = 0, np.zeros(len(velocity_NAN)-280)\n",
    "            for t in range(len(velocity_NAN)-280) :\n",
    "                if np.isnan(velocity_NAN[t]) : res[t] = np.nan\n",
    "                else : res[t] = abs(goodness_of_fit['residual'][block][trial][t1]) ; t1 = t1+1\n",
    "            residu = np.nanmean(res[arg.StimulusOf-arg.t_0:])\n",
    "            \n",
    "            X[1].append(residu)\n",
    "            \n",
    "            k = 2\n",
    "            for key in goodness_of_fit.keys() :\n",
    "                if key!='residual' : X[k].append(goodness_of_fit[key][block][trial]) ; k=k+1\n",
    "    \n",
    "            for key in param_fit.keys() :\n",
    "                if key in list_keys_param_fit : X[k].append(param_fit[key][block][trial]) ; k=k+1"
   ]
  },
  {
   "cell_type": "code",
   "execution_count": 7,
   "metadata": {
    "scrolled": false
   },
   "outputs": [
    {
     "name": "stdout",
     "output_type": "stream",
     "text": [
      "['nb_nan', 'residu', 'chisqr', 'redchi', 'aic', 'bic', 'nfev', 'tau', 'latence', 'start_anti', 'maxi', 'v_anti']\n",
      "(12, 7200)\n"
     ]
    }
   ],
   "source": [
    "print(var)\n",
    "print(np.shape(X))"
   ]
  },
  {
   "cell_type": "raw",
   "metadata": {},
   "source": [
    "liste = ['nb_nan', 'residu', 'aic', 'redchi', 'bic', 'start_anti', 'maxi', 'latence', 'v_anti', 'tau']\n",
    "\n",
    "l = []\n",
    "_ = [[[[[[[[[[\n",
    "    l.append([liste[a], liste[b], liste[c], liste[d],\n",
    "              liste[e], liste[f], liste[g], liste[h],\n",
    "              liste[i]])\n",
    "    for i in range(h+1, len(liste))] for h in range(g+1, len(liste))]\n",
    "    for g in range(f+1, len(liste))] for f in range(e+1, len(liste))]\n",
    "    for e in range(d+1, len(liste))] for d in range(c+1, len(liste))]\n",
    "    for c in range(b+1, len(liste))] for b in range(a+1, len(liste))]\n",
    "    for a in range(len(liste))]]\n",
    "'''\n",
    "_ = [[[[[[[[[[[[\n",
    "    l.append([liste[a], liste[b], liste[c], liste[d],\n",
    "              liste[e], liste[f], liste[g], liste[h],\n",
    "              liste[i], liste[j], liste[k]])\n",
    "    for k in range(j+1, len(liste))] for j in range(i+1, len(liste))]\n",
    "    for i in range(h+1, len(liste))] for h in range(g+1, len(liste))]\n",
    "    for g in range(f+1, len(liste))] for f in range(e+1, len(liste))]\n",
    "    for e in range(d+1, len(liste))] for d in range(c+1, len(liste))]\n",
    "    for c in range(b+1, len(liste))] for b in range(a+1, len(liste))]\n",
    "    for a in range(len(liste))]]\n",
    "'''\n",
    "\n",
    "print(l)"
   ]
  },
  {
   "cell_type": "code",
   "execution_count": 23,
   "metadata": {},
   "outputs": [
    {
     "name": "stdout",
     "output_type": "stream",
     "text": [
      "['residu', 'aic', 'redchi', 'nfev', 'bic', 'start_anti', 'maxi', 'latence', 'v_anti', 'tau']\n",
      "(10, 7200)\n"
     ]
    }
   ],
   "source": [
    "l_ = ['residu', 'aic', 'redchi', 'nfev', 'bic', 'start_anti', 'maxi', 'latence', 'v_anti', 'tau']\n",
    "print(l_)\n",
    "\n",
    "X0 = []\n",
    "for a in l_ :\n",
    "    for b in range(len(var)) :\n",
    "        if a==var[b] :\n",
    "            X0.append(X[b])\n",
    "\n",
    "print(np.shape(X0))"
   ]
  },
  {
   "cell_type": "code",
   "execution_count": 24,
   "metadata": {},
   "outputs": [
    {
     "name": "stdout",
     "output_type": "stream",
     "text": [
      "nb_trial_train : X: 2160, y: 2160\tnb_trial_test : X: 5040,  y: 5040\n",
      "nb_Bad_trial -- y_train : 184 -- y_test : 431\n"
     ]
    }
   ],
   "source": [
    "classes = ['keep', 'reject']\n",
    "\n",
    "X1 = np.array(X0) ; y1 = np.array(y)\n",
    "X1 = X1.transpose()\n",
    "\n",
    "X_train, X_test, y_train, y_test = split_data(X1, y1, test_size=.7, train_size=None)\n",
    "print('nb_Bad_trial -- y_train : %s -- y_test : %s'%(len(y_train[y_train>0]), len(y_test[y_test>0])))"
   ]
  },
  {
   "cell_type": "code",
   "execution_count": 25,
   "metadata": {
    "scrolled": false
   },
   "outputs": [
    {
     "name": "stdout",
     "output_type": "stream",
     "text": [
      "['residu', 'aic', 'redchi', 'nfev', 'bic', 'start_anti', 'maxi', 'latence', 'v_anti', 'tau'] --> 0.5262826141017767\n"
     ]
    }
   ],
   "source": [
    "X_fit = X_train ; X_t = X_test\n",
    "grid = Train_SVM(X_fit, y_train, size_c_gamma=32)\n",
    "fone_score = Quantitative_evaluation(grid, X_t, classes)\n",
    "print('%s --> %s'%(l_, fone_score))"
   ]
  },
  {
   "cell_type": "raw",
   "metadata": {},
   "source": [
    "--------------------------------------------------------------------------------------------------------\n",
    "    FULL-3\n",
    "[nb_nan, residu, aic,         redchi,       bic, start_anti, maxi, latence, v_anti, tau] --> 0.552 1315221999005\n",
    "--------------------------------------------------------------------------------------------------------\n",
    "[nb_nan, residu, aic,         redchi,       bic, start_anti, maxi, latence, v_anti     ]\n",
    "[nb_nan, residu, aic,         redchi,       bic, start_anti, maxi, latence,         tau]\n",
    "[nb_nan, residu, aic,         redchi,       bic, start_anti, maxi,          v_anti, tau]\n",
    "[nb_nan, residu, aic,         redchi,       bic, start_anti,       latence, v_anti, tau]\n",
    "[nb_nan, residu, aic,         redchi,       bic,             maxi, latence, v_anti, tau]\n",
    "[nb_nan, residu, aic,         redchi,            start_anti, maxi, latence, v_anti, tau]\n",
    "[nb_nan, residu, aic,                       bic, start_anti, maxi, latence, v_anti, tau]\n",
    "[nb_nan, residu,              redchi,       bic, start_anti, maxi, latence, v_anti, tau]\n",
    "[nb_nan,         aic,         redchi,       bic, start_anti, maxi, latence, v_anti, tau]\n",
    "[        residu, aic,         redchi,       bic, start_anti, maxi, latence, v_anti, tau]\n",
    "--------------------------------------------------------------------------------------------------------\n",
    "\n",
    "--------------------------------------------------------------------------------------------------------\n",
    "['nb_nan', 'residu', 'aic', 'redchi', 'bic', 'start_anti', 'maxi', 'latence', 'v_anti']\n",
    "['nb_nan', 'residu', 'aic', 'redchi', 'bic', 'start_anti', 'maxi', 'latence', 'tau']\n",
    "['nb_nan', 'residu', 'aic', 'redchi', 'bic', 'start_anti', 'maxi', 'v_anti', 'tau']\n",
    "['nb_nan', 'residu', 'aic', 'redchi', 'bic', 'start_anti', 'latence', 'v_anti', 'tau']\n",
    "['nb_nan', 'residu', 'aic', 'redchi', 'bic', 'maxi', 'latence', 'v_anti', 'tau']\n",
    "['nb_nan', 'residu', 'aic', 'redchi', 'start_anti', 'maxi', 'latence', 'v_anti', 'tau']\n",
    "['nb_nan', 'residu', 'aic', 'bic', 'start_anti', 'maxi', 'latence', 'v_anti', 'tau']\n",
    "['nb_nan', 'residu', 'redchi', 'bic', 'start_anti', 'maxi', 'latence', 'v_anti', 'tau']\n",
    "['nb_nan', 'aic', 'redchi', 'bic', 'start_anti', 'maxi', 'latence', 'v_anti', 'tau']\n",
    "['residu', 'aic', 'redchi', 'bic', 'start_anti', 'maxi', 'latence', 'v_anti', 'tau']"
   ]
  },
  {
   "cell_type": "raw",
   "metadata": {},
   "source": [
    "--------------------------------------------------------------------------------------------------------\n",
    "    FULL-2\n",
    "[nb_nan, residu, aic,         redchi, nfev, bic, start_anti, maxi, latence, v_anti, tau] --> 0.487 4028016225118\n",
    "--------------------------------------------------------------------------------------------------------\n",
    "[nb_nan, residu, aic,         redchi, nfev, bic, start_anti, maxi, latence, v_anti     ] --> 0.512 2977528954755\n",
    "[nb_nan, residu, aic,         redchi, nfev, bic, start_anti, maxi, latence,         tau] --> 0.496 49543485315467\n",
    "[nb_nan, residu, aic,         redchi, nfev, bic, start_anti, maxi,          v_anti, tau] --> 0.530 6028269039834\n",
    "[nb_nan, residu, aic,         redchi, nfev, bic, start_anti,       latence, v_anti, tau] --> 0.486 8593744998239\n",
    "[nb_nan, residu, aic,         redchi, nfev, bic,             maxi, latence, v_anti, tau] --> 0.515 0733356073056\n",
    "[nb_nan, residu, aic,         redchi, nfev,      start_anti, maxi, latence, v_anti, tau] --> 0.509 5558960375522\n",
    "\n",
    "[nb_nan, residu, aic,         redchi,       bic, start_anti, maxi, latence, v_anti, tau] --> 0.552 1315221999005\n",
    "\n",
    "[nb_nan, residu, aic,                 nfev, bic, start_anti, maxi, latence, v_anti, tau] --> 0.530 4812003580941\n",
    "[nb_nan, residu,              redchi, nfev, bic, start_anti, maxi, latence, v_anti, tau] --> 0.531 7126431109357\n",
    "[nb_nan,         aic,         redchi, nfev, bic, start_anti, maxi, latence, v_anti, tau] --> 0.526 2826141017767\n",
    "[        residu, aic,         redchi, nfev, bic, start_anti, maxi, latence, v_anti, tau] --> 0.526 2826141017767\n",
    "--------------------------------------------------------------------------------------------------------"
   ]
  },
  {
   "cell_type": "raw",
   "metadata": {},
   "source": [
    "--------------------------------------------------------------------------------------------------------\n",
    "    FULL-1\n",
    "[nb_nan, residu, aic, chisqr, redchi, nfev, bic, start_anti, maxi, latence, v_anti, tau] --> 0.477 6660793864649\n",
    "--------------------------------------------------------------------------------------------------------\n",
    "[nb_nan, residu, aic, chisqr, redchi, nfev, bic, start_anti, maxi, latence, v_anti     ] --> 0.477 6660793864649\n",
    "[nb_nan, residu, aic, chisqr, redchi, nfev, bic, start_anti, maxi, latence,         tau] --> 0.477 6660793864649\n",
    "[nb_nan, residu, aic, chisqr, redchi, nfev, bic, start_anti, maxi,          v_anti, tau] --> 0.477 6660793864649\n",
    "[nb_nan, residu, aic, chisqr, redchi, nfev, bic, start_anti,       latence, v_anti, tau] --> 0.477 6660793864649\n",
    "[nb_nan, residu, aic, chisqr, redchi, nfev, bic,             maxi, latence, v_anti, tau] --> 0.477 6660793864649\n",
    "[nb_nan, residu, aic, chisqr, redchi, nfev,      start_anti, maxi, latence, v_anti, tau] --> 0.477 6660793864649\n",
    "[nb_nan, residu, aic, chisqr, redchi,       bic, start_anti, maxi, latence, v_anti, tau] --> 0.477 6660793864649\n",
    "[nb_nan, residu, aic, chisqr,         nfev, bic, start_anti, maxi, latence, v_anti, tau] --> 0.477 6660793864649\n",
    "\n",
    "[nb_nan, residu, aic,         redchi, nfev, bic, start_anti, maxi, latence, v_anti, tau] --> 0.487 4028016225118\n",
    "\n",
    "[nb_nan, residu,      chisqr, redchi, nfev, bic, start_anti, maxi, latence, v_anti, tau] --> 0.477 6660793864649\n",
    "[nb_nan,         aic, chisqr, redchi, nfev, bic, start_anti, maxi, latence, v_anti, tau] --> 0.477 6660793864649\n",
    "[        residu, aic, chisqr, redchi, nfev, bic, start_anti, maxi, latence, v_anti, tau] --> 0.477 6660793864649"
   ]
  },
  {
   "cell_type": "raw",
   "metadata": {},
   "source": [
    "|-------------------------------------|\n",
    "|      Moyenne quand fit 2 par 2      |\n",
    "|-------------------------------------|\n",
    "| nb_nan ------> 0.592 7272727272727  |\n",
    "| maxi --------> 0.586 3636363636363  |\n",
    "| latence -----> 0.561 8181818181819  |\n",
    "| redchi ------> 0.545 4545454545454  |\n",
    "| residu ------> 0.538 1818181818182  |\n",
    "| start_anti --> 0.529 0909090909092  |\n",
    "| v_anti ------> 0.519 090909090909   |\n",
    "| tau ---------> 0.510 9090909090909  |\n",
    "| aic ---------> 0.507 2727272727273  |\n",
    "| nfev --------> 0.502 7272727272728  |\n",
    "| chisqr ------> 0.496 3636363636363  |\n",
    "| bic ---------> 0.495 45454545454554 |\n",
    "|-------------------------------------| "
   ]
  },
  {
   "cell_type": "raw",
   "metadata": {},
   "source": [
    "-------------------------\n",
    "> 60 --- nb_nan-6(.65) - maxi-4(.63) - redchi-3(.63) - latence-3(.62) - residu-2(.66) - v_anti-1(.63) - start_anti-1(.62)\n",
    "-------------------------\n",
    "nb_nan - residu = 0.69\n",
    "nb_nan - redchi = 0.67\n",
    "nb_nan - maxi = 0.67\n",
    "nb_nan - latence = 0.64\n",
    "nb_nan - v_anti = 0.63\n",
    "maxi - residu = 0.63\n",
    "nb_nan - start_anti = 0.62\n",
    "maxi - latence = 0.62\n",
    "redchi - latence = 0.62\n",
    "maxi - redchi = 0.61\n",
    "\n",
    "-------------------------\n",
    "> 55 --- maxi-5(.58) - latence-4(.56) - start_anti-3(.55) - tau-2(.58) - aic-2(.57) - nb_nan-2(.56) - residu-2(.56) - nfev-2(.56) - v_anti-1(.59) - bic-1(.56)\n",
    "-------------------------\n",
    "maxi - tau = 0.59\n",
    "maxi - v_anti = 0.59\n",
    "maxi - start_anti = 0.58\n",
    "maxi - aic = 0.58\n",
    "latence - residu = 0.57\n",
    "nb_nan - tau = 0.57\n",
    "maxi - nfev = 0.56\n",
    "latence - aic = 0.56\n",
    "latence - bic = 0.56\n",
    "nb_nan - nfev = 0.56\n",
    "latence - start_anti = 0.55\n",
    "residu - start_anti = 0.55\n",
    "\n",
    "\n",
    "-------------------------\n",
    "> 50 --- redchi-7(.51) - chisqr-7(.50) - v_anti-5(.51) - start_anti-4(.51) - residu-4(.51) - latence-4(.51) - tau-3(.51) - nfev-3(.50) - aic-3(.51) - bic-3(.50) - maxi-2(.51) - nb_nan-1(.51)\n",
    "-------------------------\n",
    "redchi - aic = 0.54\n",
    "v_anti - latence = 0.54\n",
    "redchi - start_anti = 0.53\n",
    "redchi - tau = 0.52\n",
    "v_anti - start_anti = 0.52\n",
    "residu - tau  = 0.52\n",
    "redchi - chisqr = 0.51\n",
    "redchi - residu  = 0.51\n",
    "redchi - v_anti = 0.51\n",
    "chisqr - nb_nan = 0.51\n",
    "chisqr - residu = 0.51\n",
    "chisqr - maxi = 0.51\n",
    "start_anti - aic  = 0.51\n",
    "latence - tau = 0.51\n",
    "latence - nfev = 0.51\n",
    "bic - maxi = 0.51\n",
    "redchi - bic  = 0.50\n",
    "chisqr - nfev = 0.50\n",
    "chisqr - v_anti = 0.50\n",
    "chisqr - latence = 0.50\n",
    "v_anti - residu = 0.50\n",
    "start_anti - bic = 0.50\n",
    "nfev - aic = 0.50\n",
    "\n",
    "-------------------------\n",
    "< 50 --- bic-7(.48) - aic-6(.48) - nfev-6(.48) - tau-6(.48) - chisqr-4(.48) - v_anti-4(.48) - residu-3(.48) - start_anti-3(.48) - nb_nan-2(.48) - redchi-1(.48)\n",
    "-------------------------\n",
    "nfev - bic = 0.49\n",
    "nfev - start_anti = 0.49\n",
    "start_anti - tau = 0.49\n",
    "nb_nan - aic = 0.48\n",
    "nb_nan - bic = 0.48\n",
    "residu - aic = 0.48\n",
    "residu - bic = 0.48\n",
    "residu - nfev = 0.48\n",
    "nfev - redchi = 0.48\n",
    "nfev - tau = 0.48\n",
    "nfev - v_anti = 0.48\n",
    "chisqr - aic = 0.48\n",
    "chisqr - bic = 0.48\n",
    "chisqr - start_anti = 0.48\n",
    "chisqr - tau = 0.48\n",
    "aic - bic = 0.48\n",
    "aic - tau = 0.49\n",
    "aic - v_anti = 0.48\n",
    "bic - tau = 0.49\n",
    "bic - v_anti = 0.48\n",
    "tau - v_anti = 0.48"
   ]
  },
  {
   "cell_type": "raw",
   "metadata": {},
   "source": [
    "--------------------------------------------\n",
    "nb_nan - residu = 0.69\n",
    "nb_nan - redchi = 0.67\n",
    "nb_nan - maxi = 0.67\n",
    "--------------------------------------------\n",
    "['nb_nan', 'residu', 'redchi', 'maxi'] - 0.68\n",
    "['nb_nan', 'residu', 'redchi'] - 0.66\n",
    "['nb_nan', 'residu', 'maxi'] - 0.69\n",
    "['nb_nan', 'redchi', 'maxi'] - 0.68\n",
    "['residu', 'redchi', 'maxi'] - 0.61\n",
    "--------------------------------------------\n",
    "nb_nan - latence = 0.64\n",
    "--------------------------------------------\n",
    "['nb_nan', 'residu', 'redchi', 'maxi', 'latence'] - 0.63\n",
    "['nb_nan', 'residu', 'redchi', 'latence']  - 0.61\n",
    "['nb_nan', 'residu', 'maxi', 'latence'] - 0.68\n",
    "['nb_nan', 'residu', 'latence'] - 0.62\n",
    "['nb_nan', 'redchi', 'maxi', 'latence'] - 0.63\n",
    "\n",
    "--------------------------------------------\n",
    "nb_nan - v_anti = 0.63\n",
    "---------------------------------------------\n",
    "['nb_nan', 'residu', 'redchi', 'maxi', 'latence', 'v_anti'] - 0.65\n",
    "['nb_nan', 'residu', 'redchi', 'maxi', 'v_anti']  - 0.69\n",
    "['nb_nan', 'residu', 'maxi', 'latence', 'v_anti']   - 0.67\n",
    "\n",
    "----------------------------------------------\n",
    "residu - maxi = 0.63\n",
    "nb_nan - start_anti = 0.62\n",
    "--------------------------------------------\n",
    "\n",
    "['nb_nan', 'residu', 'v_anti', 'maxi', 'latence', 'start_anti'] - 0.64\n",
    "['nb_nan', 'residu', 'redchi', 'v_anti', 'maxi', 'latence', 'start_anti'] - 0.63\n",
    "['nb_nan', 'residu', 'maxi', 'latence', 'start_anti'] - 0.62\n",
    "\n"
   ]
  }
 ],
 "metadata": {
  "kernelspec": {
   "display_name": "Python 3",
   "language": "python",
   "name": "python3"
  },
  "language_info": {
   "codemirror_mode": {
    "name": "ipython",
    "version": 3
   },
   "file_extension": ".py",
   "mimetype": "text/x-python",
   "name": "python",
   "nbconvert_exporter": "python",
   "pygments_lexer": "ipython3",
   "version": "3.5.2"
  }
 },
 "nbformat": 4,
 "nbformat_minor": 2
}
