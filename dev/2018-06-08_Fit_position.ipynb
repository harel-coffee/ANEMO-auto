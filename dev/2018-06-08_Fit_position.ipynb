{
 "cells": [
  {
   "cell_type": "code",
   "execution_count": 1,
   "metadata": {},
   "outputs": [
    {
     "data": {
      "text/plain": [
       "'0.9.10'"
      ]
     },
     "execution_count": 1,
     "metadata": {},
     "output_type": "execute_result"
    }
   ],
   "source": [
    "from ANEMO import ANEMO\n",
    "from ANEMO.edfreader import read_edf\n",
    "import numpy as np\n",
    "import matplotlib.pyplot as plt\n",
    "%matplotlib inline\n",
    "import sympy as sp\n",
    "import lmfit\n",
    "from lmfit import  Model, Parameters\n",
    "lmfit.__version__"
   ]
  },
  {
   "cell_type": "code",
   "execution_count": 2,
   "metadata": {},
   "outputs": [
    {
     "name": "stdout",
     "output_type": "stream",
     "text": [
      "v_anti*x_start -> v_anti*x_start**2/2\n",
      "didi*maxi*(1 - exp(-x_lat/tau)) -> didi*maxi*tau*exp(-x_lat/tau) + didi*maxi*x_lat\n"
     ]
    }
   ],
   "source": [
    "''' -------------------------------------------------------------------------\n",
    "def velocity (x, bino, start_anti, v_anti, latence, tau, maxi) :\n",
    "    v_anti = v_anti/1000 # pour passer de sec à ms\n",
    "    time = x # np.arange(len(x))\n",
    "    vitesse = []\n",
    "    didi = (bino*2-1)\n",
    "    \n",
    "    for t in range(len(time)):\n",
    "        x_lat = time[t]-latence\n",
    "        x_start = time[t]-start_anti\n",
    "        \n",
    "        if start_anti >= latence :\n",
    "            if time[t] < latence :\n",
    "                vitesse.append(0)\n",
    "            else :\n",
    "                vitesse.append(didi*maxi*(1-np.exp(-x_lat/tau)))\n",
    "        else :\n",
    "            if time[t] < start_anti :\n",
    "                vitesse.append(0)\n",
    "            else :\n",
    "                if time[t] < latence :\n",
    "                    vitesse.append(x_start*v_anti)\n",
    "                    y = x_start*v_anti\n",
    "                else :\n",
    "                    vitesse.append(didi*maxi*(1-np.exp(-x_lat/tau))+y)\n",
    "\n",
    "    return vitesse\n",
    "-------------------------------------------------------------------------------'''\n",
    "\n",
    "x_lat, x_start, didi, v_anti, tau, maxi, y = sp.symbols('x_lat,x_start, didi, v_anti, tau, maxi, y')\n",
    "\n",
    "F1 = x_start*v_anti\n",
    "F2 = didi*maxi*(1-sp.exp(-x_lat/tau))\n",
    "\n",
    "print(F1, '->', sp.integrate(F1, x_start))\n",
    "print(F2, '->', sp.integrate(F2, x_lat))"
   ]
  },
  {
   "cell_type": "code",
   "execution_count": 3,
   "metadata": {
    "collapsed": true
   },
   "outputs": [],
   "source": [
    "import pickle\n",
    "with open('../demo/result/param_Fit_AM.pkl', 'rb') as fichier :\n",
    "    param = pickle.load(fichier, encoding='latin1')\n",
    "with open('../demo/data/enregistrement_AM_2017-10-23_100057.pkl', 'rb') as fichier :\n",
    "    exp = pickle.load(fichier, encoding='latin1')\n",
    "    \n",
    "datafile = '../demo/data/enregistrement_AM_2017-10-23_100057.asc'\n",
    "data = read_edf(datafile, 'TRIALID')"
   ]
  },
  {
   "cell_type": "code",
   "execution_count": 4,
   "metadata": {},
   "outputs": [],
   "source": [
    "block = 0\n",
    "trial = 131\n",
    "\n",
    "#-----------------------------------------\n",
    "N_trials = exp['N_trials']\n",
    "screen_width_px = exp['screen_width_px']\n",
    "V_X = exp['V_X']\n",
    "RashBass = exp['RashBass']\n",
    "stim_tau = exp['stim_tau']\n",
    "p = exp['p']\n",
    "#-----------------------------------------\n",
    "\n",
    "trial_data = trial + N_trials*block\n",
    "\n",
    "time = data[trial_data]['trackertime']\n",
    "StimulusOn = data[trial_data]['events']['msg'][10][0]\n",
    "StimulusOf = data[trial_data]['events']['msg'][14][0]\n",
    "TargetOn = data[trial_data]['events']['msg'][15][0]\n",
    "TargetOff = data[trial_data]['events']['msg'][16][0]\n",
    "saccades = data[trial_data]['events']['Esac'] #[starttime, endtime, duration, startx, starty, endx, endy]\n",
    "t_0 = time[0]\n",
    "\n",
    "DATA_x = data[trial_data]['x']\n",
    "data_x = DATA_x-(DATA_x[StimulusOf-t_0])\n",
    "#data_x = DATA_x-(exp['screen_width_px']/2)\n",
    "\n",
    "bino=p[trial, block, 0]\n",
    "\n",
    "start = TargetOn\n",
    "start1 = TargetOn-t_0"
   ]
  },
  {
   "cell_type": "raw",
   "metadata": {},
   "source": [
    "def target(time, bino, TargetOn, RashBass, V_X):\n",
    "    dir_bool = bino*2 - 1\n",
    "    Target_trial = []\n",
    "    x = 0\n",
    "    for t in range(len(time)):\n",
    "        if t < (TargetOn) :\n",
    "            x = 0\n",
    "        elif t == (TargetOn) :\n",
    "            # la cible à t=0 recule de sa vitesse * latence=RashBass (ici mis en ms)\n",
    "            x = x -(dir_bool * ((V_X/1000)*RashBass))\n",
    "        elif (t > (TargetOn) and t <= ((TargetOn)+stim_tau*1000)) :\n",
    "            x = x + (dir_bool*(V_X/1000))\n",
    "        else :\n",
    "            x = x\n",
    "        Target_trial.append(x)\n",
    "    return Target_trial"
   ]
  },
  {
   "cell_type": "code",
   "execution_count": 5,
   "metadata": {
    "collapsed": true
   },
   "outputs": [],
   "source": [
    "def deco(axs) :\n",
    "    #axs.plot(time-start,target(time, bino, TargetOn-t_0, RashBass, V_X), '--k', alpha=0.4, linewidth=1.5)\n",
    "    axs.axvspan(StimulusOn-start, StimulusOf-start, color='k', alpha=0.2)\n",
    "    axs.axvspan(StimulusOf-start, TargetOn-start, color='r', alpha=0.2)\n",
    "    axs.axvspan(TargetOn-start, TargetOff-start, color='k', alpha=0.15)\n",
    "    for s in range(len(saccades)) :\n",
    "        axs.axvspan(saccades[s][0]-start, saccades[s][1]-start, color='k', alpha=0.2)"
   ]
  },
  {
   "cell_type": "code",
   "execution_count": 6,
   "metadata": {
    "collapsed": true
   },
   "outputs": [],
   "source": [
    "def position(x, bino, start_anti, v_anti, latence, tau, maxi, nan=False) :\n",
    "    \n",
    "    #gradient_deg = gradient_x * 1/px_per_deg * 1000 # gradient en deg/sec\n",
    "    ms = 1000\n",
    "    v_anti = (v_anti/1000)/ms # pour passer de sec à ms\n",
    "    time = x\n",
    "    maxi = maxi /ms\n",
    "    didi  = (bino*2-1)\n",
    "    vitesse = []\n",
    "    \n",
    "    if nan == True :\n",
    "        avant, apres = 0, 0 #5, 10 #15\n",
    "        lala = []\n",
    "        for s in range(len(saccades)) :\n",
    "            if saccades[s][1]-t_0+apres <= (len(time)) :\n",
    "                lala.append(saccades[s][1]-t_0+apres)\n",
    "            else :\n",
    "                lala.append(len(time))\n",
    "        \n",
    "    a, s = 0, 0\n",
    "    for t in range(len(time)):\n",
    "\n",
    "        x_lat = time[t]-latence\n",
    "        x_start = time[t]-start_anti\n",
    "        \n",
    "        if nan == True :\n",
    "            baba = np.arange((saccades[s][0]-t_0-avant), lala[s])\n",
    "        else :\n",
    "            baba = np.arange(len(time)+1, len(time)+2)\n",
    "            \n",
    "        if t in baba :\n",
    "            if t > 0 :\n",
    "                vitesse.append(np.nan)\n",
    "                a = vitesse[saccades[s][0]-t_0-avant-1]+((saccades[s][5]-saccades[s][3])/exp['px_per_deg'])\n",
    "            else :\n",
    "                vitesse.append(np.nan)\n",
    "                a = 0+((saccades[s][5]-saccades[s][3])/exp['px_per_deg'])\n",
    "\n",
    "            if t == lala[s]-1 :\n",
    "                if s < len(saccades)-1 :\n",
    "                    s = s+1\n",
    "\n",
    "        else :\n",
    "            if start_anti >= latence :\n",
    "                if time[t] < latence :\n",
    "                    vitesse.append(a)\n",
    "                else :\n",
    "                    #vitesse.append(a + didi*maxi*(x_lat + tau*np.exp(-x_lat/tau)))\n",
    "                    #vitesse.append(a + didi*maxi*(x_lat + (1/tau)*(np.exp(-x_lat/tau)-1))) \n",
    "                    vitesse.append(a + didi*maxi*(x_lat + (1/tau)*(np.exp(-x_lat/tau)))) \n",
    "                    \n",
    "                    \n",
    "            else :\n",
    "                if time[t] < start_anti :\n",
    "                    vitesse.append(a)\n",
    "                else :\n",
    "                    if time[t] < latence :\n",
    "                        vitesse.append(a + ((v_anti*x_start**2)/2))\n",
    "                        y = a + ((v_anti*x_start**2)/2)\n",
    "                    else :\n",
    "                        #vitesse.append(y + didi*maxi*(x_lat + tau*np.exp(-x_lat/tau)))\n",
    "                        #vitesse.append(y + didi*maxi*(x_lat + (1/tau)*(np.exp(-x_lat/tau)-1)))\n",
    "                        vitesse.append(y + didi*maxi*(x_lat + (1/tau)*(np.exp(-x_lat/tau))))\n",
    "                        \n",
    "                        \n",
    "\n",
    "    return vitesse"
   ]
  },
  {
   "cell_type": "code",
   "execution_count": 7,
   "metadata": {},
   "outputs": [],
   "source": [
    "data = np.copy(data_x)\n",
    "  \n",
    "avant, apres =  5, 10 #15\n",
    "for s in range(len(saccades)) :\n",
    "    if saccades[s][1]-t_0+apres <= (len(time)) :\n",
    "        for x_data in np.arange((saccades[s][0]-t_0-avant), (saccades[s][1]-t_0+apres)) :\n",
    "            data[x_data] = np.nan\n",
    "    else :\n",
    "        for x_data in np.arange((saccades[s][0]-t_0-avant), (len(time))) :\n",
    "            data[x_data] = np.nan\n",
    "            \n",
    "# data2 = np.copy(data)           \n",
    "data3 = np.copy(data)\n",
    "a = 0\n",
    "for s in range(len(saccades)) :\n",
    "    a = a + (data[saccades[s][1]-t_0+apres]-data[saccades[s][0]-t_0-avant-1])\n",
    "    b = ((data[saccades[s][0]-t_0-avant-1]-data[saccades[s][0]-t_0-avant-11])/10)\n",
    "    if s < len(saccades)-1 :\n",
    "        for x_data in np.arange((saccades[s][1]-t_0+apres), (saccades[s+1][0]-t_0-avant)) :\n",
    "            # data2[x_data] = data2[x_data]-a\n",
    "            data3[x_data] = data3[x_data]-a + ((saccades[s][1]-t_0+apres)-(saccades[s][0]-t_0-avant))*b\n",
    "    else :\n",
    "        for x_data in np.arange((saccades[s][1]-t_0+apres), len(time)) :\n",
    "            # data2[x_data] = data2[x_data]-a\n",
    "            data3[x_data] = data3[x_data]-a +((saccades[s][1]-t_0+apres)-(saccades[s][0]-t_0-avant))*b\n",
    "            \n",
    "data3 = data3 - data3[StimulusOf-t_0]"
   ]
  },
  {
   "cell_type": "code",
   "execution_count": 8,
   "metadata": {},
   "outputs": [
    {
     "data": {
      "image/png": "[encoded data removed]",
      "text/plain": [
       "<Figure size 1080x333.745 with 1 Axes>"
      ]
     },
     "metadata": {},
     "output_type": "display_data"
    }
   ],
   "source": [
    "fig_width= 15\n",
    "fig, axs = plt.subplots(1, 1, figsize=(fig_width, (fig_width/2)/1.6180))\n",
    "deco(axs)\n",
    "\n",
    "a = position(np.arange(len(time)), bino, param['start_anti'][block][trial]+start1,\n",
    "             param['v_anti'][block][trial], param['latence'][block][trial]+start1,\n",
    "             param['tau'][block][trial], param['maxi'][block][trial])\n",
    "axs.plot(time-start, a-np.ones(len(a))*(a[StimulusOf-t_0]), c='r')\n",
    "\n",
    "b = position(np.arange(len(time)), bino, param['start_anti'][block][trial]+start1,\n",
    "             param['v_anti'][block][trial], param['latence'][block][trial]+start1,\n",
    "             param['tau'][block][trial], param['maxi'][block][trial], nan=True)\n",
    "axs.plot(time-start, b-np.ones(len(b))*(b[StimulusOf-t_0]), '--k')\n",
    "\n",
    "\n",
    "axs.plot(time-start, data_x / exp['px_per_deg'], color='k', alpha=0.4)\n",
    "axs.plot(time-start, data3 / exp['px_per_deg'] , color='darkred', alpha=0.4);\n"
   ]
  },
  {
   "cell_type": "code",
   "execution_count": 9,
   "metadata": {
    "collapsed": true
   },
   "outputs": [],
   "source": [
    "def Fit_position(velocity_x, trackertime, bino, param_fit=None, TargetOn=TargetOn,\n",
    "                 StimulusOf=StimulusOf, saccades=saccades, sup=False, time_sup=-280, step=2,\n",
    "                 nan=True) :\n",
    "\n",
    "    from lmfit import  Model, Parameters\n",
    "\n",
    "    t_0 = trackertime[0]\n",
    "\n",
    "    if param_fit is None :\n",
    "        param_fit={'tau':[15.,13.,80.], 'maxi':[15.,0.,40], 'v_anti':[0.,-40.,40.], 'latence':[TargetOn-t_0+100,TargetOn-t_0+75,'STOP'],\n",
    "                   'start_anti':[TargetOn-t_0-100, StimulusOf-t_0-200, TargetOn-t_0+75]}\n",
    "\n",
    "\n",
    "    if param_fit['latence'][2]=='STOP' :\n",
    "        stop_latence = []\n",
    "        for s in range(len(saccades)) :\n",
    "            if (saccades[s][0]-t_0) >= (TargetOn-t_0+100) :\n",
    "                stop_latence.append((saccades[s][0]-t_0))\n",
    "        if stop_latence==[] :\n",
    "            stop_latence.append(len(time))\n",
    "        stop = stop_latence[0]\n",
    "    else :\n",
    "        stop = param_fit['latence'][2]\n",
    "\n",
    "\n",
    "    if sup==True :\n",
    "        velocity_x = velocity_x[:time_sup]\n",
    "        trackertime = trackertime[:time_sup]\n",
    "\n",
    "    model = Model(position)\n",
    "\n",
    "    params = Parameters()\n",
    "\n",
    "    if step == 1 :\n",
    "        vary = True\n",
    "    elif step == 2 :\n",
    "        vary = False\n",
    "\n",
    "    params.add('nan', value=nan, vary=False)\n",
    "    params.add('maxi', value=param_fit['maxi'][0], min=param_fit['maxi'][1], max=param_fit['maxi'][2])\n",
    "    params.add('latence', value=param_fit['latence'][0], min=param_fit['latence'][1], max=stop)\n",
    "    params.add('bino', value=bino, vary=False)\n",
    "    params.add('tau', value=param_fit['tau'][0], min=param_fit['tau'][1], max=param_fit['tau'][2], vary=vary)\n",
    "    params.add('start_anti', value=param_fit['start_anti'][0], min=param_fit['start_anti'][1], max=param_fit['start_anti'][2], vary=vary)\n",
    "    params.add('v_anti', value=param_fit['v_anti'][0], min=param_fit['v_anti'][1], max=param_fit['v_anti'][2], vary=vary)\n",
    "\n",
    "    if step == 1 :\n",
    "        result_deg = model.fit(velocity_x, params, x=np.arange(len(trackertime)), nan_policy='omit')\n",
    "\n",
    "    elif step == 2 :\n",
    "        out = model.fit(velocity_x, params, x=np.arange(len(trackertime)), nan_policy='omit')\n",
    "        out.params['tau'].set(vary=True)\n",
    "        out.params['start_anti'].set(vary=True)\n",
    "        out.params['v_anti'].set(vary=True)\n",
    "\n",
    "        result_deg = model.fit(velocity_x, out.params, x=np.arange(len(trackertime)), method='nelder', nan_policy='omit')\n",
    "                                \n",
    "    return result_deg\n"
   ]
  },
  {
   "cell_type": "code",
   "execution_count": 10,
   "metadata": {},
   "outputs": [
    {
     "data": {
      "image/png": "[encoded data removed]",
      "text/plain": [
       "<Figure size 1080x333.745 with 1 Axes>"
      ]
     },
     "metadata": {},
     "output_type": "display_data"
    }
   ],
   "source": [
    "fig_width= 15\n",
    "fig, axs = plt.subplots(1, 1, figsize=(fig_width, (fig_width/2)/1.6180))\n",
    "deco(axs)\n",
    "#axs.plot(time-start, data_x, color='k', alpha=0.6)\n",
    "\n",
    "#gradient_deg = gradient_x * 1/px_per_deg * 1000 # gradient en deg/sec\n",
    "data_2 = np.copy(data3) #data_x)\n",
    "data_2 = data_2 * 1/exp['px_per_deg']\n",
    "\n",
    "axs.plot(time-start, data_x / exp['px_per_deg'], color='k', alpha=0.4)\n",
    "axs.plot(time-start, data3 / exp['px_per_deg'] , color='darkred', alpha=0.4)\n",
    "\n",
    "\n",
    "a = Fit_position(data_2,time, bino,step=2, sup=True, time_sup=-280, nan=False)\n",
    "b = position(np.arange(len(time)), bino, a.values['start_anti'], a.values['v_anti'], a.values['latence'], a.values['tau'], a.values['maxi'])\n",
    "axs.plot(time-start, b-np.ones(len(b))*(b[StimulusOf-t_0]) , c='r')\n",
    "\n",
    "c = Fit_position(data_2,time, bino,step=2, sup=True, time_sup=-280, nan=True)\n",
    "d = position(np.arange(len(time)), bino, c.values['start_anti'], c.values['v_anti'],\n",
    "             c.values['latence'], c.values['tau'], c.values['maxi'], nan=True)\n",
    "axs.plot(time-start, d-np.ones(len(d))*(d[StimulusOf-t_0]) , '--k');"
   ]
  },
  {
   "cell_type": "code",
   "execution_count": 11,
   "metadata": {},
   "outputs": [
    {
     "name": "stdout",
     "output_type": "stream",
     "text": [
      "start_anti : -262.930    a -> -211.585, c -> -211.584 \n",
      "v_anti : -2.390    a -> -3.376, c -> -3.376 \n",
      "latence : 160.213    a -> 189.776, c -> 187.720 \n",
      "tau : 18.885    a -> 80.000, c -> 80.000 \n",
      "maxi : 13.538    a -> 13.053, c -> 12.971\n"
     ]
    }
   ],
   "source": [
    "print('start_anti : %0.3f    a -> %0.3f, c -> %0.3f'%(param['start_anti'][block][trial], a.values['start_anti']-start1, c.values['start_anti']-start1), \n",
    "      '\\nv_anti : %0.3f    a -> %0.3f, c -> %0.3f'%(param['v_anti'][block][trial], a.values['v_anti'], c.values['v_anti']), \n",
    "      '\\nlatence : %0.3f    a -> %0.3f, c -> %0.3f'%(param['latence'][block][trial], a.values['latence']-start1, c.values['latence']-start1),\n",
    "      '\\ntau : %0.3f    a -> %0.3f, c -> %0.3f'%(param['tau'][block][trial], a.values['tau'], c.values['tau']),\n",
    "      '\\nmaxi : %0.3f    a -> %0.3f, c -> %0.3f'%(param['maxi'][block][trial], a.values['maxi'], c.values['maxi']))"
   ]
  },
  {
   "cell_type": "code",
   "execution_count": null,
   "metadata": {
    "collapsed": true
   },
   "outputs": [],
   "source": []
  }
 ],
 "metadata": {
  "kernelspec": {
   "display_name": "Python 3",
   "language": "python",
   "name": "python3"
  },
  "language_info": {
   "codemirror_mode": {
    "name": "ipython",
    "version": 3
   },
   "file_extension": ".py",
   "mimetype": "text/x-python",
   "name": "python",
   "nbconvert_exporter": "python",
   "pygments_lexer": "ipython3",
   "version": "3.5.2"
  }
 },
 "nbformat": 4,
 "nbformat_minor": 2
}
