{
 "cells": [
  {
   "cell_type": "code",
   "execution_count": 1,
   "metadata": {},
   "outputs": [
    {
     "data": {
      "text/plain": [
       "'0.9.10'"
      ]
     },
     "execution_count": 1,
     "metadata": {},
     "output_type": "execute_result"
    }
   ],
   "source": [
    "from ANEMO import ANEMO\n",
    "from ANEMO.edfreader import read_edf\n",
    "import numpy as np\n",
    "import matplotlib.pyplot as plt\n",
    "%matplotlib inline\n",
    "import lmfit\n",
    "from lmfit import  Model, Parameters\n",
    "lmfit.__version__"
   ]
  },
  {
   "cell_type": "code",
   "execution_count": 2,
   "metadata": {},
   "outputs": [
    {
     "name": "stdout",
     "output_type": "stream",
     "text": [
      "didi*maxi*(1 - exp(-x_lat/tau)) -> didi*maxi*tau*exp(-x_lat/tau) + didi*maxi*x_lat\n",
      "v_anti*x_start -> v_anti*x_start**2/2\n",
      "didi*maxi*(1 - exp(-x_lat/tau)) -> didi*maxi*tau*exp(-x_lat/tau) + didi*maxi*x_lat\n"
     ]
    }
   ],
   "source": [
    "from sympy import *\n",
    "#from sympy.interactive import printing # Pour avoir des belles sorties ...\n",
    "#printing.init_printing(use_latex=True) # ... en LaTeX\n",
    "#from IPython.display import display\n",
    "\n",
    "''' -------------------------------------------------------------------------\n",
    "def velocity (x, bino, start_anti, v_anti, latence, tau, maxi) :\n",
    "    v_anti = v_anti/1000 # pour passer de sec à ms\n",
    "    time = x # np.arange(len(x))\n",
    "    vitesse = []\n",
    "\n",
    "    didi = (bino*2-1)\n",
    "    \n",
    "    for t in range(len(time)):\n",
    "        x_lat = time[t]-latence\n",
    "        x_start = time[t]-start_anti\n",
    "        \n",
    "        if start_anti >= latence :\n",
    "            if time[t] < latence :\n",
    "                vitesse.append(0)\n",
    "            else :\n",
    "                vitesse.append(didi*maxi*(1-np.exp(-x_lat/tau)))\n",
    "        else :\n",
    "            if time[t] < start_anti :\n",
    "                vitesse.append(0)\n",
    "            else :\n",
    "                if time[t] < latence :\n",
    "                    vitesse.append(x_start*v_anti)\n",
    "                    y = x_start*v_anti\n",
    "                else :\n",
    "                    vitesse.append(didi*maxi*(1-np.exp(-x_lat/tau))+y)\n",
    "\n",
    "    return vitesse\n",
    "-------------------------------------------------------------------------------'''\n",
    "\n",
    "x, x_lat, x_start, didi, start_anti, v_anti, latence, tau, maxi, y = symbols('x, x_lat,x_start, didi, start_anti, v_anti, latence, tau, maxi, y')\n",
    "\n",
    "F1 = didi*maxi*(1-exp(-x_lat/tau))\n",
    "print(F1, '->', integrate(F1, x_lat)) #display(F1, integrate(F1, xlat))\n",
    "\n",
    "F2 = x_start*v_anti # (x-start_anti)*v_anti\n",
    "print(F2, '->', integrate(F2, x_start)) #display(F2, integrate(F2, xstart))\n",
    "\n",
    "F3 = didi*maxi*(1-exp(-x_lat/tau))\n",
    "print(F3, '->', integrate(F3, x_lat)) #display(F3, integrate(F3, xlat))"
   ]
  },
  {
   "cell_type": "code",
   "execution_count": 3,
   "metadata": {
    "collapsed": true
   },
   "outputs": [],
   "source": [
    "import pickle\n",
    "with open('../demo/result/param_Fit_AM.pkl', 'rb') as fichier :\n",
    "    param = pickle.load(fichier, encoding='latin1')\n",
    "with open('../demo/data/enregistrement_AM_2017-10-23_100057.pkl', 'rb') as fichier :\n",
    "    exp = pickle.load(fichier, encoding='latin1')\n",
    "    \n",
    "datafile = '../demo/data/enregistrement_AM_2017-10-23_100057.asc'\n",
    "data = read_edf(datafile, 'TRIALID')"
   ]
  },
  {
   "cell_type": "code",
   "execution_count": 4,
   "metadata": {
    "collapsed": true
   },
   "outputs": [],
   "source": [
    "block = 0\n",
    "trial = 78\n",
    "\n",
    "#-----------------------------------------\n",
    "N_trials = exp['N_trials']\n",
    "screen_width_px = exp['screen_width_px']\n",
    "V_X = exp['V_X']\n",
    "RashBass = exp['RashBass']\n",
    "stim_tau = exp['stim_tau']\n",
    "p = exp['p']\n",
    "#-----------------------------------------\n",
    "\n",
    "trial_data = trial + N_trials*block\n",
    "\n",
    "time = data[trial_data]['trackertime']\n",
    "StimulusOn = data[trial_data]['events']['msg'][10][0]\n",
    "StimulusOf = data[trial_data]['events']['msg'][14][0]\n",
    "TargetOn = data[trial_data]['events']['msg'][15][0]\n",
    "TargetOff = data[trial_data]['events']['msg'][16][0]\n",
    "saccades = data[trial_data]['events']['Esac'] #[starttime, endtime, duration, startx, starty, endx, endy]\n",
    "t_0 = data[trial_data]['trackertime'][0]\n",
    "\n",
    "DATA_x = data[trial_data]['x']\n",
    "data_x = DATA_x-(DATA_x[StimulusOf-t_0-100])\n",
    "#data_x = DATA_x-(exp['screen_width_px']/2)\n",
    "\n",
    "bino=p[trial, block, 0]\n",
    "\n",
    "start = TargetOn\n",
    "start1 = TargetOn-t_0"
   ]
  },
  {
   "cell_type": "code",
   "execution_count": 5,
   "metadata": {},
   "outputs": [
    {
     "name": "stdout",
     "output_type": "stream",
     "text": [
      "1871 0\n"
     ]
    },
    {
     "data": {
      "image/png": "[encoded data removed]",
      "text/plain": [
       "<Figure size 432x288 with 1 Axes>"
      ]
     },
     "metadata": {},
     "output_type": "display_data"
    }
   ],
   "source": [
    "def position_nan (x, bino, start_anti, v_anti, latence, tau, maxi) :\n",
    "    v_anti = v_anti/1000 # pour passer de sec à ms\n",
    "    time = x\n",
    "    \n",
    "    didi, avant, apres = (bino*2-1), 5, 10 #15\n",
    "    vitesse, lala = [], []\n",
    "    \n",
    "    #--------------------------------------------------\n",
    "    for s in range(len(saccades)) :\n",
    "        \n",
    "        if saccades[s][1]-t_0+apres <= (len(time)) :\n",
    "            lala.append(saccades[s][1]-t_0+apres)\n",
    "        else :\n",
    "            lala.append(len(time))\n",
    "    #--------------------------------------------------\n",
    "    a, s = 0, 0\n",
    "\n",
    "    for t in range(len(time)):\n",
    "        \n",
    "        x_lat = time[t]-latence\n",
    "        x_start = time[t]-start_anti\n",
    "        \n",
    "        if t in np.arange((saccades[s][0]-t_0-avant), lala[s]) :\n",
    "            if t > 0 :\n",
    "                vitesse.append(np.nan)\n",
    "                a = vitesse[saccades[s][0]-t_0-avant-1]+((saccades[s][5]-saccades[s][3]))\n",
    "            else :\n",
    "                vitesse.append(np.nan)\n",
    "                a = 0+((saccades[s][5]-saccades[s][3]))\n",
    "            \n",
    "            if t == lala[s]-1 :\n",
    "                if s < len(saccades)-1 :\n",
    "                    s = s+1\n",
    "            \n",
    "        else :\n",
    "            if start_anti >= latence :\n",
    "                if time[t] < latence :\n",
    "                    vitesse.append(0)\n",
    "                else :\n",
    "                    #vitesse.append(a + didi*maxi*(x_lat + (1/tau)*(np.exp(-x_lat/tau)-1))) \n",
    "                    vitesse.append(a + didi*maxi*(x_lat + tau*(np.exp(-x_lat/tau)))) \n",
    "            else :\n",
    "                if time[t] < start_anti :\n",
    "                    vitesse.append(0)\n",
    "                else :\n",
    "                    if time[t] < latence :\n",
    "                        vitesse.append(a + (v_anti*x_start**2)/2)\n",
    "                        y = a + (v_anti*x_start**2)/2\n",
    "                    else :\n",
    "                        #vitesse.append(didi*maxi*(x_lat + (1/tau)*(np.exp(-x_lat/tau)-1)) + y)\n",
    "                        vitesse.append(didi*maxi*(tau*np.exp(-x_lat/tau)+x_lat) +y)\n",
    "\n",
    "                    \n",
    "    return vitesse\n",
    "\n",
    "a = position_nan (np.arange(len(time)), 1, 100, 1.2, -100, 1, 1)\n",
    "plt.plot(a);\n",
    "print(len(time), len(time)-len(a))"
   ]
  },
  {
   "cell_type": "code",
   "execution_count": 23,
   "metadata": {},
   "outputs": [
    {
     "data": {
      "image/png": "[encoded data removed]",
      "text/plain": [
       "<Figure size 432x288 with 1 Axes>"
      ]
     },
     "metadata": {},
     "output_type": "display_data"
    }
   ],
   "source": [
    "def position (x, bino, start_anti, v_anti, latence, tau, maxi) :\n",
    "    v_anti = v_anti/1000 # pour passer de sec à ms\n",
    "    time = x\n",
    "    vitesse = []\n",
    "    didi = (bino*2-1)\n",
    "\n",
    "    for t in range(len(time)):\n",
    "        \n",
    "        x_lat = time[t]-latence\n",
    "        x_start = time[t]-start_anti\n",
    "        \n",
    "        \n",
    "        if start_anti >= latence :\n",
    "            if time[t] < latence :\n",
    "                vitesse.append(0)\n",
    "            else :\n",
    "                #vitesse.append((didi*maxi*tau*np.exp((-(time[t]-latence))/tau)) + (didi*maxi*(time[t]-latence)))\n",
    "                #vitesse.append(didi*maxi*(x_lat + (tau)*(np.exp(-x_lat/tau)-1)))\n",
    "                vitesse.append(didi*maxi*(tau*np.exp(-x_lat/tau)+x_lat) +y)\n",
    "        else :\n",
    "\n",
    "            if time[t] < start_anti :\n",
    "                vitesse.append(0)\n",
    "            else :\n",
    "                if time[t] < latence :\n",
    "                    vitesse.append((v_anti*x_start**2)/2)\n",
    "                    y = (v_anti*x_start**2)/2\n",
    "                else :\n",
    "                    vitesse.append(didi*maxi*(tau*np.exp(-x_lat/tau)+x_lat) +y)\n",
    "                    #vitesse.append(didi*maxi*(x_lat + (tau)*(np.exp(-x_lat/tau)-1)) + y)\n",
    "                    \n",
    "                    \n",
    "    return vitesse\n",
    "\n",
    "a = position (np.arange(len(time)), 1,-481, -7.6, 100, 37.6, 1.3)\n",
    "plt.plot(a);"
   ]
  },
  {
   "cell_type": "code",
   "execution_count": 24,
   "metadata": {
    "collapsed": true
   },
   "outputs": [],
   "source": [
    "def target(time, bino, TargetOn, RashBass, V_X):\n",
    "    dir_bool = bino*2 - 1\n",
    "    Target_trial = []\n",
    "    x = 0\n",
    "    for t in range(len(time)):\n",
    "        if t < (TargetOn) :\n",
    "            x = 0\n",
    "        elif t == (TargetOn) :\n",
    "            # la cible à t=0 recule de sa vitesse * latence=RashBass (ici mis en ms)\n",
    "            x = x -(dir_bool * ((V_X/1000)*RashBass))\n",
    "        elif (t > (TargetOn) and t <= ((TargetOn)+stim_tau*1000)) :\n",
    "            x = x + (dir_bool*(V_X/1000))\n",
    "        else :\n",
    "            x = x\n",
    "        Target_trial.append(x)\n",
    "    return Target_trial\n",
    "\n",
    "def deco(axs) :\n",
    "    axs.plot(time-start,target(time, bino, TargetOn-t_0, RashBass, V_X), '--k', alpha=0.4, linewidth=1.5)\n",
    "    axs.axvspan(StimulusOn-start, StimulusOf-start, color='k', alpha=0.2)\n",
    "    axs.axvspan(StimulusOf-start, TargetOn-start, color='r', alpha=0.2)\n",
    "    axs.axvspan(TargetOn-start, TargetOff-start, color='k', alpha=0.15)\n",
    "    for s in range(len(saccades)) :\n",
    "        axs.axvspan(saccades[s][0]-start, saccades[s][1]-start, color='k', alpha=0.2)"
   ]
  },
  {
   "cell_type": "code",
   "execution_count": 25,
   "metadata": {
    "collapsed": true
   },
   "outputs": [],
   "source": [
    "def Fit_position(velocity_x, trackertime, bino, param_fit=None, TargetOn=TargetOn,\n",
    "                 StimulusOf=StimulusOf, saccades=saccades, sup=False, time_sup=-280, step=2,\n",
    "                 nan=False) :\n",
    "\n",
    "    from lmfit import  Model, Parameters\n",
    "\n",
    "    t_0 = trackertime[0]\n",
    "\n",
    "    if param_fit is None :\n",
    "        param_fit={'tau':[15.,13.,80.], 'maxi':[15.,0.,40], 'v_anti':[0.,-40.,40.], 'latence':[TargetOn-t_0+100,TargetOn-t_0+75,'STOP'],\n",
    "                   'start_anti':[TargetOn-t_0-100, StimulusOf-t_0-200, TargetOn-t_0+75]}\n",
    "\n",
    "    if param_fit['latence'][2]=='STOP' :\n",
    "        stop_latence = []\n",
    "        for s in range(len(saccades)) :\n",
    "            if (saccades[s][0]-t_0) >= (TargetOn-t_0+100) :\n",
    "                stop_latence.append((saccades[s][0]-t_0))\n",
    "        if stop_latence==[] :\n",
    "            stop_latence.append(len(time))\n",
    "        stop = stop_latence[0]\n",
    "    else :\n",
    "        stop = param_fit['latence'][2]\n",
    "\n",
    "\n",
    "    if sup==True :\n",
    "        velocity_x = velocity_x[:time_sup]\n",
    "        trackertime = trackertime[:time_sup]\n",
    "\n",
    "    if nan==True :\n",
    "        model = Model(position_nan)\n",
    "    else :\n",
    "        model = Model(position)\n",
    "    params = Parameters()\n",
    "\n",
    "    if step == 1 :\n",
    "        vary = True\n",
    "    elif step == 2 :\n",
    "        vary = False\n",
    "\n",
    "    params.add('maxi', value=param_fit['maxi'][0], min=param_fit['maxi'][1], max=param_fit['maxi'][2])\n",
    "    params.add('latence', value=param_fit['latence'][0], min=param_fit['latence'][1], max=stop)\n",
    "    params.add('bino', value=bino, vary=False)\n",
    "    params.add('tau', value=param_fit['tau'][0], min=param_fit['tau'][1], max=param_fit['tau'][2], vary=vary)\n",
    "    params.add('start_anti', value=param_fit['start_anti'][0], min=param_fit['start_anti'][1], max=param_fit['start_anti'][2], vary=vary)\n",
    "    params.add('v_anti', value=param_fit['v_anti'][0], min=param_fit['v_anti'][1], max=param_fit['v_anti'][2], vary=vary)\n",
    "\n",
    "    if step == 1 :\n",
    "        result_deg = model.fit(velocity_x, params, x=np.arange(len(trackertime)), nan_policy='omit')\n",
    "\n",
    "    elif step == 2 :\n",
    "        out = model.fit(velocity_x, params, x=np.arange(len(trackertime)), nan_policy='omit')\n",
    "        out.params['tau'].set(vary=True)\n",
    "        out.params['start_anti'].set(vary=True)\n",
    "        out.params['v_anti'].set(vary=True)\n",
    "\n",
    "        result_deg = model.fit(velocity_x, out.params, x=np.arange(len(trackertime)), method='nelder', nan_policy='omit')\n",
    "                                \n",
    "    return result_deg\n"
   ]
  },
  {
   "cell_type": "code",
   "execution_count": 26,
   "metadata": {
    "collapsed": true
   },
   "outputs": [],
   "source": [
    "data = np.copy(data_x)\n",
    "  \n",
    "t_0 = time[0]\n",
    "avant=5\n",
    "apres=10 #15\n",
    "for s in range(len(saccades)) :\n",
    "    if saccades[s][1]-t_0+apres <= (len(time)) :\n",
    "        for x_data in np.arange((saccades[s][0]-t_0-avant), (saccades[s][1]-t_0+apres)) :\n",
    "            data[x_data] = np.nan\n",
    "    else :\n",
    "        for x_data in np.arange((saccades[s][0]-t_0-avant), (len(time))) :\n",
    "            data[x_data] = np.nan\n",
    "            \n",
    "# data2 = np.copy(data)           \n",
    "data3 = np.copy(data)\n",
    "a = 0\n",
    "for s in range(len(saccades)) :\n",
    "    a = a + (data[saccades[s][1]-t_0+apres]-data[saccades[s][0]-t_0-avant-1])\n",
    "    b = ((data[saccades[s][0]-t_0-avant-1]-data[saccades[s][0]-t_0-avant-101])/100)\n",
    "    if s < len(saccades)-1 :\n",
    "        for x_data in np.arange((saccades[s][1]-t_0+apres), (saccades[s+1][0]-t_0-avant)) :\n",
    "            # data2[x_data] = data2[x_data]-a\n",
    "            data3[x_data] = data3[x_data]-a+((saccades[s][1]-t_0+apres)-(saccades[s][0]-t_0-avant))*b\n",
    "    else :\n",
    "        for x_data in np.arange((saccades[s][1]-t_0+apres), len(time)) :\n",
    "            # data2[x_data] = data2[x_data]-a\n",
    "            data3[x_data] = data3[x_data]-a+((saccades[s][1]-t_0+apres)-(saccades[s][0]-t_0-avant))*b"
   ]
  },
  {
   "cell_type": "code",
   "execution_count": 27,
   "metadata": {},
   "outputs": [
    {
     "name": "stdout",
     "output_type": "stream",
     "text": [
      "-383.29161415578903 -17.081461615095108 100.00173818124426 13.540658581176961 0.4830403988029852\n",
      "-100.24264675152494 -1.7686904643562684 99.9999985186198 64.12388841076647 0.5972041001525685\n"
     ]
    },
    {
     "data": {
      "image/png": "[encoded data removed]",
      "text/plain": [
       "<Figure size 1440x444.994 with 1 Axes>"
      ]
     },
     "metadata": {},
     "output_type": "display_data"
    }
   ],
   "source": [
    "fig_width= 20\n",
    "fig, axs = plt.subplots(1, 1, figsize=(fig_width, (fig_width/2)/1.6180))\n",
    "deco(axs)\n",
    "\n",
    "data3 = data3-(data3[StimulusOf-t_0-100])\n",
    "\n",
    "axs.plot(time-start, data_x, color='r', alpha=0.6)\n",
    "axs.plot(time-start, data, c='k')\n",
    "# axs.plot(time-start, data2, c='k', alpha=0.5)           \n",
    "axs.plot(time-start, data3, c='r')\n",
    "\n",
    "#--------------------------------------------------------------------------------------------\n",
    "axs.plot(time-start, position (time-start, 0, -100, -2.47, 121.2, 78, 0.5))\n",
    "#--------------------------------------------------------------------------------------------\n",
    "\n",
    "a = Fit_position(data3,time, bino,step=1)\n",
    "b = position(np.arange(len(time)), bino, a.values['start_anti'], a.values['v_anti'], a.values['latence'], a.values['tau'], a.values['maxi'])\n",
    "#c = position(np.arange(len(time)), bino, a.init_values['start_anti'], a.init_values['v_anti'], a.init_values['latence'], a.init_values['tau'], a.init_values['maxi'])\n",
    "print(a.values['start_anti']-start1, a.values['v_anti'], a.values['latence']-start1, a.values['tau'], a.values['maxi'])\n",
    "axs.plot(time-start, b, c='g')\n",
    "\n",
    "\n",
    "\n",
    "a = Fit_position(data,time, bino,step=1, nan=True)\n",
    "b = position(np.arange(len(time)), bino, a.values['start_anti'], a.values['v_anti'], a.values['latence'], a.values['tau'], a.values['maxi'])\n",
    "print(a.values['start_anti']-start1, a.values['v_anti'], a.values['latence']-start1, a.values['tau'], a.values['maxi'])\n",
    "axs.plot(time-start, b, c='m');"
   ]
  },
  {
   "cell_type": "code",
   "execution_count": 22,
   "metadata": {},
   "outputs": [
    {
     "data": {
      "text/plain": [
       "67.92511812740463"
      ]
     },
     "execution_count": 22,
     "metadata": {},
     "output_type": "execute_result"
    }
   ],
   "source": [
    "param['start_anti'][block][trial]"
   ]
  },
  {
   "cell_type": "code",
   "execution_count": 12,
   "metadata": {},
   "outputs": [
    {
     "data": {
      "text/plain": [
       "-30.583410736466785"
      ]
     },
     "execution_count": 12,
     "metadata": {},
     "output_type": "execute_result"
    }
   ],
   "source": [
    "param['v_anti'][block][trial]"
   ]
  },
  {
   "cell_type": "code",
   "execution_count": 13,
   "metadata": {},
   "outputs": [
    {
     "data": {
      "text/plain": [
       "161.98752404899938"
      ]
     },
     "execution_count": 13,
     "metadata": {},
     "output_type": "execute_result"
    }
   ],
   "source": [
    "param['latence'][block][trial]"
   ]
  },
  {
   "cell_type": "code",
   "execution_count": 14,
   "metadata": {},
   "outputs": [
    {
     "data": {
      "text/plain": [
       "45.86681922544738"
      ]
     },
     "execution_count": 14,
     "metadata": {},
     "output_type": "execute_result"
    }
   ],
   "source": [
    "param['tau'][block][trial]"
   ]
  },
  {
   "cell_type": "code",
   "execution_count": 15,
   "metadata": {},
   "outputs": [
    {
     "data": {
      "text/plain": [
       "13.041872931017215"
      ]
     },
     "execution_count": 15,
     "metadata": {},
     "output_type": "execute_result"
    }
   ],
   "source": [
    "param['maxi'][block][trial]"
   ]
  },
  {
   "cell_type": "code",
   "execution_count": null,
   "metadata": {
    "collapsed": true
   },
   "outputs": [],
   "source": []
  }
 ],
 "metadata": {
  "kernelspec": {
   "display_name": "Python 3",
   "language": "python",
   "name": "python3"
  },
  "language_info": {
   "codemirror_mode": {
    "name": "ipython",
    "version": 3
   },
   "file_extension": ".py",
   "mimetype": "text/x-python",
   "name": "python",
   "nbconvert_exporter": "python",
   "pygments_lexer": "ipython3",
   "version": "3.5.2"
  }
 },
 "nbformat": 4,
 "nbformat_minor": 2
}
