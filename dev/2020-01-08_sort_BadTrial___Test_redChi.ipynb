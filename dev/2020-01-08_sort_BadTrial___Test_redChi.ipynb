{
 "cells": [
  {
   "cell_type": "code",
   "execution_count": 1,
   "metadata": {
    "ExecuteTime": {
     "end_time": "2018-06-26T12:38:04.141125Z",
     "start_time": "2018-06-26T12:38:03.240588Z"
    }
   },
   "outputs": [],
   "source": [
    "import pickle\n",
    "import numpy as np\n",
    "import matplotlib.pyplot as plt\n",
    "%matplotlib inline"
   ]
  },
  {
   "cell_type": "markdown",
   "metadata": {},
   "source": [
    "# Old Data"
   ]
  },
  {
   "cell_type": "code",
   "execution_count": 2,
   "metadata": {},
   "outputs": [
    {
     "name": "stdout",
     "output_type": "stream",
     "text": [
      "good\n",
      "good\n",
      "bad\n",
      "bad\n",
      "bad\n",
      "bad\n"
     ]
    }
   ],
   "source": [
    "sujets = ['AM','BMC','CS','DC','FM','IP','LB','OP','RS','SR','TN','YK']\n",
    "\n",
    "with open('parametre/Delete/Delete_list_trials_velocity_fct.pkl', 'rb') as fichier :\n",
    "    delete = pickle.load(fichier, encoding='latin1')\n",
    "    \n",
    "with open('parametre/Delete/Delete_list_Bad_trials_velocity.pkl', 'rb') as fichier :\n",
    "    Bad = pickle.load(fichier, encoding='latin1')\n",
    "\n",
    "redchi_good = []\n",
    "redchi_bad  = []\n",
    "\n",
    "for s in sujets :\n",
    "    with open('parametre/fct_velocity/param_Fit_%s_fct_velocity.pkl'%s, 'rb') as fichier :\n",
    "        param = pickle.load(fichier, encoding='latin1')\n",
    "                   \n",
    "    for b in range(param['N_blocks']) :\n",
    "        for t in range(param['N_trials']) :\n",
    "            \n",
    "            redchichi = param['goodness_of_fit']['redchi'][b][t]\n",
    "\n",
    "            if redchichi < 500 :\n",
    "                if t in Bad[s][b] or t in delete[s][b] : redchi_bad.append(redchichi)\n",
    "                else :                                   redchi_good.append(redchichi)\n",
    "            else :\n",
    "                print('bad' if t in Bad[s][b] or t in delete[s][b] else 'good' )"
   ]
  },
  {
   "cell_type": "code",
   "execution_count": 3,
   "metadata": {
    "scrolled": false
   },
   "outputs": [
    {
     "data": {
      "image/png": "[encoded data removed]",
      "text/plain": [
       "<Figure size 720x428.316 with 1 Axes>"
      ]
     },
     "metadata": {
      "needs_background": "light"
     },
     "output_type": "display_data"
    }
   ],
   "source": [
    "fig, ax = plt.subplots(1, 1, figsize=(10,10/1.681))\n",
    "ax.hist((redchi_good, redchi_bad), density=True, color=('r', 'k'), bins=100);"
   ]
  },
  {
   "cell_type": "markdown",
   "metadata": {},
   "source": [
    "# New Data"
   ]
  },
  {
   "cell_type": "code",
   "execution_count": 4,
   "metadata": {
    "scrolled": true
   },
   "outputs": [
    {
     "name": "stdout",
     "output_type": "stream",
     "text": [
      "good\n",
      "bad\n",
      "good\n",
      "bad\n",
      "bad\n",
      "good\n",
      "bad\n",
      "bad\n",
      "good\n",
      "good\n",
      "good\n",
      "good\n",
      "good\n",
      "good\n",
      "good\n",
      "good\n",
      "good\n",
      "good\n",
      "good\n",
      "good\n",
      "good\n",
      "good\n",
      "good\n",
      "good\n",
      "good\n",
      "bad\n",
      "good\n",
      "good\n",
      "bad\n",
      "bad\n",
      "good\n",
      "good\n",
      "good\n",
      "good\n",
      "good\n",
      "good\n",
      "good\n",
      "good\n",
      "good\n",
      "good\n",
      "good\n",
      "good\n",
      "good\n",
      "good\n",
      "good\n",
      "good\n",
      "good\n",
      "good\n",
      "good\n",
      "bad\n",
      "good\n",
      "bad\n",
      "bad\n",
      "good\n",
      "bad\n",
      "bad\n",
      "bad\n",
      "bad\n",
      "good\n",
      "bad\n",
      "good\n",
      "good\n",
      "good\n",
      "good\n",
      "good\n",
      "good\n",
      "good\n",
      "good\n",
      "bad\n",
      "good\n",
      "good\n",
      "bad\n",
      "good\n",
      "good\n",
      "good\n",
      "good\n",
      "good\n",
      "good\n",
      "good\n",
      "good\n",
      "bad\n",
      "good\n",
      "good\n",
      "good\n",
      "good\n",
      "good\n",
      "good\n",
      "good\n",
      "bad\n",
      "good\n",
      "bad\n",
      "bad\n",
      "bad\n",
      "good\n",
      "bad\n",
      "bad\n",
      "bad\n",
      "bad\n",
      "bad\n",
      "bad\n",
      "bad\n",
      "good\n",
      "bad\n",
      "bad\n",
      "bad\n",
      "good\n",
      "good\n",
      "bad\n",
      "bad\n",
      "bad\n",
      "bad\n",
      "good\n",
      "good\n",
      "good\n",
      "good\n",
      "good\n",
      "good\n",
      "good\n",
      "good\n",
      "good\n",
      "good\n",
      "bad\n",
      "good\n",
      "good\n",
      "good\n",
      "good\n",
      "good\n",
      "good\n",
      "good\n",
      "good\n",
      "good\n",
      "good\n",
      "bad\n",
      "good\n",
      "good\n",
      "good\n",
      "good\n",
      "good\n",
      "good\n",
      "good\n",
      "good\n",
      "good\n",
      "good\n",
      "good\n",
      "good\n",
      "good\n",
      "good\n",
      "good\n",
      "good\n",
      "good\n",
      "good\n",
      "good\n",
      "good\n",
      "good\n",
      "good\n",
      "good\n",
      "bad\n",
      "bad\n",
      "good\n",
      "good\n",
      "good\n",
      "bad\n",
      "good\n"
     ]
    }
   ],
   "source": [
    "sujet = np.arange(1, 20)\n",
    "sujet = np.delete(sujet, 8)\n",
    "sujet = np.delete(sujet, 12)\n",
    "\n",
    "redchi_good = []\n",
    "redchi_bad  = []\n",
    "\n",
    "for s in sujet :\n",
    "    \n",
    "    with open('parametre/new_data/fct_velocity/param_Fit_s%sBL50_fct_velocity.pkl'%s, 'rb') as fichier :\n",
    "        param = pickle.load(fichier, encoding='latin1')\n",
    "    \n",
    "    f = open('data/new_data/s%sBL50_errors.txt'%s, 'r')\n",
    "    delete = f.read()\n",
    "    delete = [int(x) for x in delete if x!='\\n']\n",
    "    \n",
    "    for t in range(len(delete)):#param['N_trials']) :\n",
    "\n",
    "        redchichi = param['goodness_of_fit']['redchi'][0][t]\n",
    "\n",
    "        if redchichi < 500 :\n",
    "            if delete[t] == 1 : redchi_bad.append(redchichi)\n",
    "            else :              redchi_good.append(redchichi)\n",
    "        else :\n",
    "            print('bad' if delete[t] == 1 else 'good')"
   ]
  },
  {
   "cell_type": "code",
   "execution_count": 5,
   "metadata": {
    "scrolled": false
   },
   "outputs": [
    {
     "data": {
      "image/png": "[encoded data removed]",
      "text/plain": [
       "<Figure size 720x428.316 with 1 Axes>"
      ]
     },
     "metadata": {
      "needs_background": "light"
     },
     "output_type": "display_data"
    }
   ],
   "source": [
    "fig, ax = plt.subplots(1, 1, figsize=(10,10/1.681))\n",
    "ax.hist((redchi_good, redchi_bad), density=True, color=('r', 'k'), bins=100);"
   ]
  },
  {
   "cell_type": "code",
   "execution_count": null,
   "metadata": {},
   "outputs": [],
   "source": []
  }
 ],
 "metadata": {
  "kernel_info": {
   "name": "python3"
  },
  "kernelspec": {
   "display_name": "Python 3",
   "language": "python",
   "name": "python3"
  },
  "language_info": {
   "codemirror_mode": {
    "name": "ipython",
    "version": 3
   },
   "file_extension": ".py",
   "mimetype": "text/x-python",
   "name": "python",
   "nbconvert_exporter": "python",
   "pygments_lexer": "ipython3",
   "version": "3.6.9"
  },
  "nteract": {
   "version": "0.15.0"
  },
  "toc": {
   "base_numbering": 1,
   "nav_menu": {},
   "number_sections": true,
   "sideBar": true,
   "skip_h1_title": false,
   "title_cell": "Table of Contents",
   "title_sidebar": "Contents",
   "toc_cell": false,
   "toc_position": {},
   "toc_section_display": true,
   "toc_window_display": false
  }
 },
 "nbformat": 4,
 "nbformat_minor": 4
}
