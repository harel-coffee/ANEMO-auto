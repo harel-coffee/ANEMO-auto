{
 "cells": [
  {
   "cell_type": "code",
   "execution_count": 1,
   "metadata": {
    "ExecuteTime": {
     "end_time": "2018-06-26T13:02:41.548994Z",
     "start_time": "2018-06-26T13:02:40.701470Z"
    },
    "collapsed": true
   },
   "outputs": [],
   "source": [
    "import numpy as np\n",
    "import matplotlib.pyplot as plt\n",
    "%matplotlib inline"
   ]
  },
  {
   "cell_type": "markdown",
   "metadata": {},
   "source": [
    "# extracting data and doing the fit on velocity"
   ]
  },
  {
   "cell_type": "code",
   "execution_count": 2,
   "metadata": {
    "ExecuteTime": {
     "end_time": "2018-06-26T13:02:51.940097Z",
     "start_time": "2018-06-26T13:02:41.553462Z"
    },
    "collapsed": true
   },
   "outputs": [],
   "source": [
    "from ANEMO.edfreader import read_edf\n",
    "\n",
    "import pickle\n",
    "with open('../demo/result/param_Fit_AM.pkl', 'rb') as fichier:\n",
    "    param = pickle.load(fichier, encoding='latin1')\n",
    "with open('../demo/data/enregistrement_AM_2017-10-23_100057.pkl', 'rb') as fichier:\n",
    "    file_exp = pickle.load(fichier, encoding='latin1')\n",
    "\n",
    "datafile = '../demo/data/enregistrement_AM_2017-10-23_100057.asc'\n",
    "file_data = read_edf(datafile, 'TRIALID')"
   ]
  },
  {
   "cell_type": "code",
   "execution_count": 3,
   "metadata": {
    "ExecuteTime": {
     "end_time": "2018-06-26T13:02:51.953386Z",
     "start_time": "2018-06-26T13:02:51.945219Z"
    },
    "collapsed": true
   },
   "outputs": [],
   "source": [
    "def deco(axs) :\n",
    "    axs.axvspan(arg.StimulusOn-start, arg.StimulusOf-start, color='k', alpha=0.2)\n",
    "    axs.axvspan(arg.StimulusOf-start, arg.TargetOn-start, color='r', alpha=0.2)\n",
    "    axs.axvspan(arg.TargetOn-start, arg.TargetOff-start, color='k', alpha=0.15)\n",
    "    for s in range(len(arg.saccades)) :\n",
    "        axs.axvspan(arg.saccades[s][0]-start, arg.saccades[s][1]-start, color='k', alpha=0.2)"
   ]
  },
  {
   "cell_type": "code",
   "execution_count": 4,
   "metadata": {
    "ExecuteTime": {
     "end_time": "2018-06-26T13:02:51.984332Z",
     "start_time": "2018-06-26T13:02:51.959544Z"
    },
    "collapsed": true
   },
   "outputs": [],
   "source": [
    "def saccade(x, x_0, tau, x1, x2, T0, t1, t2, tr):\n",
    "    \n",
    "    time = x-T0\n",
    "    T1 = t1\n",
    "    T2 = t1+t2\n",
    "    TR = T2+tr\n",
    "    \n",
    "    rho = (tau/T1) * np.log((1+np.exp(T1/tau))/2)\n",
    "    rhoT = int(np.round(T1*rho))\n",
    "    \n",
    "    r = (tau/T2) * np.log((np.exp(T1/tau) + np.exp(T2/tau)) /2)\n",
    "    rT = int(np.round(T2*r))\n",
    "    Umax1 = (1/tau) * x1 / ((2*rho-1)*T1 - tau*(2-np.exp(-(rho*T1)/tau) - np.exp((1-rho)*T1/tau)))\n",
    "    Umax2 = (1/tau) * (x2-x1) / ((2*r-1)*T2-T1)\n",
    "\n",
    "    xx = []\n",
    "    \n",
    "    for t in time :\n",
    "        if t < 0 :\n",
    "            xx.append(x_0)\n",
    "        elif t < rhoT :\n",
    "            xx.append((x_0 +      Umax1*tau * ((t)    - tau*(1-np.exp(-t/tau)))))\n",
    "        elif t < T1 :\n",
    "            xx.append(x_0 + (x1 + Umax1*tau * ((T1-t) + tau*(1-np.exp((T1-t)/tau)))))\n",
    "        elif t < rT :\n",
    "            xx.append(x_0 + (x1 + Umax2*tau * ((t-T1) - tau*(1-np.exp(-(t-T1)/tau)))))\n",
    "        elif t < TR :\n",
    "            xx.append(x_0 + (x2 + Umax2*tau * ((T2-t) + tau*(1-np.exp((T2-t)/tau)))))\n",
    "        else :\n",
    "            xx.append(xx[-1])\n",
    "    \n",
    "    return xx"
   ]
  },
  {
   "cell_type": "code",
   "execution_count": 5,
   "metadata": {
    "ExecuteTime": {
     "end_time": "2018-06-26T13:02:52.005711Z",
     "start_time": "2018-06-26T13:02:51.991178Z"
    },
    "collapsed": true
   },
   "outputs": [],
   "source": [
    "def position(x, bino, start_anti, a_anti, latency, tau, maxi, avant, apres):\n",
    "    \n",
    "    #gradient_deg = gradient_x * 1/px_per_deg * 1000 # gradient en deg/sec\n",
    "    ms = 1000\n",
    "    a_anti = (a_anti/1000) #/ms # pour passer de sec à ms\n",
    "    maxi = maxi /ms\n",
    "    \n",
    "    speed = ANEMO.fct_velocity(x, bino, start_anti, a_anti, latency, tau, maxi)\n",
    "    pos = np.cumsum(speed)\n",
    "\n",
    "    for sacc in arg.saccades :\n",
    "        if sacc[0]-t_0 > int(latency) :\n",
    "            if int(sacc[1]-t_0)+apres < len(pos) :\n",
    "                # [starttime, endtime, duration, startx, starty, endx, endy]\n",
    "                pos[int(sacc[0]-t_0)-avant:int(sacc[1]-t_0)+apres] = pos[int(sacc[0]-t_0)-avant-1]  #np.nan \n",
    "                pos[int(sacc[1]-t_0)+apres:] += ((data_x[int(sacc[1]-t_0)+apres]-data_x[int(sacc[0]-t_0)-avant-1])/ arg.px_per_deg) - np.mean(speed[int(sacc[0]-t_0):int(sacc[1]-t_0)]) * sacc[2]\n",
    "                \n",
    "            else :\n",
    "                if int(sacc[0]-t_0)-avant < len(pos) :\n",
    "                    pos[int(sacc[0]-t_0)-avant:] = pos[int(sacc[0]-t_0)-avant-1]  #np.nan \n",
    "\n",
    " \n",
    "    return pos"
   ]
  },
  {
   "cell_type": "markdown",
   "metadata": {},
   "source": [
    "# doing the fit"
   ]
  },
  {
   "cell_type": "code",
   "execution_count": 6,
   "metadata": {
    "ExecuteTime": {
     "end_time": "2018-06-26T13:02:52.232351Z",
     "start_time": "2018-06-26T13:02:52.011493Z"
    },
    "collapsed": true
   },
   "outputs": [],
   "source": [
    "def Fit_position(velocity_x, trackertime, bino, TargetOn, \n",
    "                 StimulusOf, saccades, avant=0, apres=15,\n",
    "                 param_fit=None, sup=True, time_sup=-280, step=2) :\n",
    "    \n",
    "\n",
    "    from lmfit import  Model, Parameters\n",
    "\n",
    "    t_0 = trackertime[0]\n",
    "\n",
    "    if param_fit is None :\n",
    "        param_fit={'tau':[15.,13.,80.], 'maxi':[15.,1.,40], 'a_anti':[0.,-100.,100.],\n",
    "                   'latency':[TargetOn-t_0+100, TargetOn-t_0+75,'STOP'],\n",
    "                   'start_anti':[TargetOn-t_0-100, StimulusOf-t_0-200, TargetOn-t_0+75]} #'a_anti':[0.,-40.,40.]\n",
    "\n",
    "    if param_fit['latency'][2]=='STOP' :\n",
    "        stop_latency = []\n",
    "        for s in range(len(saccades)) :\n",
    "            if (saccades[s][0]-t_0) >= (TargetOn-t_0+100) :\n",
    "                stop_latency.append((saccades[s][0]-t_0))\n",
    "        if stop_latency==[] :\n",
    "            stop_latency.append(len(trackertime))\n",
    "        stop = stop_latency[0]\n",
    "    else :\n",
    "        stop = param_fit['latency'][2]\n",
    "\n",
    "\n",
    "    if sup==True :\n",
    "        velocity_x = velocity_x[:time_sup]\n",
    "        trackertime = trackertime[:time_sup]\n",
    "    \n",
    "    model = Model(position)\n",
    "\n",
    "    params = Parameters()\n",
    "\n",
    "    if step == 1 :\n",
    "        vary = True\n",
    "    elif step == 2 :\n",
    "        vary = False\n",
    "\n",
    "    params.add('bino', value=bino, vary=False)\n",
    "    params.add('avant', value=avant, vary=False)\n",
    "    params.add('apres', value=apres, vary=False)\n",
    "    \n",
    "    params.add('maxi', value=param_fit['maxi'][0], min=param_fit['maxi'][1], max=param_fit['maxi'][2])\n",
    "    params.add('latency', value=param_fit['latency'][0], min=param_fit['latency'][1], max=stop)\n",
    "    params.add('tau', value=param_fit['tau'][0], min=param_fit['tau'][1], max=param_fit['tau'][2], vary=vary)\n",
    "    params.add('start_anti', value=param_fit['start_anti'][0], min=param_fit['start_anti'][1], max=param_fit['start_anti'][2], vary=vary)\n",
    "    params.add('a_anti', value=param_fit['a_anti'][0], min=param_fit['a_anti'][1], max=param_fit['a_anti'][2], vary=vary)\n",
    "\n",
    "    if step == 1 :\n",
    "        result_deg = model.fit(velocity_x, params, x=np.arange(len(trackertime)), nan_policy='omit')\n",
    "\n",
    "    elif step == 2 :\n",
    "        out = model.fit(velocity_x, params, x=np.arange(len(trackertime)), nan_policy='omit')\n",
    "        out.params['tau'].set(vary=True)\n",
    "        out.params['start_anti'].set(vary=True)\n",
    "        out.params['a_anti'].set(vary=True)\n",
    "\n",
    "        result_deg = model.fit(velocity_x, out.params, x=np.arange(len(trackertime)), method='nelder', nan_policy='omit')\n",
    "                                \n",
    "    return result_deg"
   ]
  },
  {
   "cell_type": "code",
   "execution_count": 7,
   "metadata": {
    "ExecuteTime": {
     "end_time": "2018-06-26T13:02:52.252373Z",
     "start_time": "2018-06-26T13:02:52.237701Z"
    },
    "collapsed": true
   },
   "outputs": [],
   "source": [
    "def Fit_saccade(position_x) :\n",
    "\n",
    "    from lmfit import  Model, Parameters\n",
    "\n",
    "    model = Model(saccade)\n",
    "\n",
    "    params = Parameters()\n",
    "    params.add('x_0', value=position_x[0], min=position_x[0]-0.1, max=position_x[0]+0.1, vary=False)\n",
    "    params.add('tau', value=13, min=5, max=40)\n",
    "    params.add('T0', value=0, min=-15, max=10)\n",
    "    params.add('t1', value=15, min=10, max=len(position_x)-10)\n",
    "    params.add('t2', value=12, min=10, max=len(position_x)-10, vary=False)\n",
    "    params.add('tr', value=1, min=0, max=15, vary=False)\n",
    "    params.add('x1', value=2, min=-5, max=5)\n",
    "    params.add('x2', value=1, min=-5, max=5, vary=False)\n",
    "\n",
    "    out = model.fit(position_x, params, x=np.arange(len(position_x)), nan_policy='omit')\n",
    "    out.params['x_0'].set(vary=True)\n",
    "    out.params['t2'].set(vary=True)\n",
    "    out.params['tr'].set(vary=True)\n",
    "    out.params['x2'].set(vary=True)\n",
    "\n",
    "    result_deg = model.fit(position_x, out.params, x=np.arange(len(position_x)), method='nelder', nan_policy='omit')\n",
    "\n",
    "    #result_deg = model.fit(position_x, params, x=np.arange(len(position_x)), nan_policy='omit')\n",
    "\n",
    "  \n",
    "    return result_deg\n"
   ]
  },
  {
   "cell_type": "markdown",
   "metadata": {},
   "source": [
    "# Residu!"
   ]
  },
  {
   "cell_type": "code",
   "execution_count": 8,
   "metadata": {
    "ExecuteTime": {
     "end_time": "2018-06-26T13:02:52.265118Z",
     "start_time": "2018-06-26T13:02:52.257964Z"
    },
    "collapsed": true
   },
   "outputs": [],
   "source": [
    "from ANEMO import ANEMO"
   ]
  },
  {
   "cell_type": "code",
   "execution_count": 9,
   "metadata": {
    "ExecuteTime": {
     "end_time": "2018-06-26T13:05:25.420582Z",
     "start_time": "2018-06-26T13:02:52.271916Z"
    },
    "scrolled": true
   },
   "outputs": [
    {
     "name": "stdout",
     "output_type": "stream",
     "text": [
      "0\n",
      "1\n",
      "2\n",
      "3\n",
      "4\n",
      "5\n",
      "6\n",
      "7\n",
      "8\n",
      "9\n",
      "10\n",
      "11\n",
      "12\n",
      "13\n",
      "14\n",
      "15\n",
      "16\n",
      "17\n",
      "18\n",
      "19\n",
      "20\n",
      "21\n",
      "22\n",
      "23\n",
      "24\n",
      "25\n",
      "26\n",
      "27\n",
      "28\n",
      "29\n",
      "30\n",
      "31\n",
      "32\n",
      "33\n",
      "34\n",
      "35\n",
      "36\n",
      "37\n",
      "38\n",
      "39\n",
      "40\n",
      "41\n",
      "42\n",
      "43\n",
      "44\n",
      "45\n",
      "46\n",
      "47\n",
      "48\n",
      "49\n"
     ]
    }
   ],
   "source": [
    "debut, fin = 0, 15\n",
    "\n",
    "block = 0\n",
    "#trial = 13\n",
    "\n",
    "demi_four, demi_freq = [],[]\n",
    "four, freq_four = [],[]\n",
    "\n",
    "for trial in range(50) :\n",
    "    \n",
    "    print(trial)\n",
    "\n",
    "    arg = ANEMO.arg(file_data, file_exp, trial, block)\n",
    "    trial_data = trial + arg.N_trials*block\n",
    "    time, t_0 = arg.trackertime, arg.t_0\n",
    "    start, start1 = arg.TargetOn, arg.TargetOn-t_0\n",
    "    data_x = arg.data_x -(arg.data_x[arg.StimulusOf-t_0])\n",
    "\n",
    "    kwarg = {'trackertime' : arg.trackertime, 'bino': arg.bino, 'TargetOn' : arg.TargetOn,\n",
    "         'StimulusOf':arg.StimulusOf, 'saccades':arg.saccades,\n",
    "         'param_fit':None,  'avant':debut, 'apres':fin,\n",
    "         'sup':True, 'time_sup':-280, 'step':2 }\n",
    "    \n",
    "    data_1 = np.copy(data_x)/arg.px_per_deg\n",
    "    data_2 = np.copy(data_1)\n",
    "\n",
    "    for s in range(len(arg.saccades)):\n",
    "        data_sacc  = data_1[arg.saccades[s][0]-t_0-debut:arg.saccades[s][1]-t_0+fin]\n",
    "        f = Fit_saccade(data_sacc)\n",
    "        data_2[arg.saccades[s][0]-t_0-debut:arg.saccades[s][1]-t_0+fin] = f.residual+f.values['x_0']\n",
    "\n",
    "    c = Fit_position(data_2,**kwarg)\n",
    "    residu = c.residual[start1-700:start1+600]\n",
    "    \n",
    "    \n",
    "    #-----------------------------------------------------------------------------\n",
    "    ms = 1000.0  # taux d'échantillonnage\n",
    "    dt = 1.0/ms  # intervalle d'échantillonnage\n",
    "    n =  len(residu) # longueur du signal\n",
    "    \n",
    "    k, T = np.arange(n), n/ms\n",
    "    frq = k/T # gamme de fréquence de deux côtés\n",
    "    \n",
    "    t = np.arange(0,T, dt) # vecteur de temps\n",
    "    \n",
    "    N = range(650) #range(int(n/2))\n",
    "    \n",
    "    frq = frq[N] # une gamme de fréquence latérale\n",
    "    freq = np.fft.fftfreq(1300, d=dt)\n",
    "\n",
    "    fourier = np.fft.fft(residu)/n # fft informatique et normalisation\n",
    "    \n",
    "    #-----------------------------------------------------------------------------\n",
    "    demi_four.append((abs(fourier[N])).tolist())\n",
    "    four.append(fourier.tolist())\n",
    "    demi_freq.append(frq.tolist())\n",
    "    freq_four.append(freq.tolist())"
   ]
  },
  {
   "cell_type": "raw",
   "metadata": {
    "ExecuteTime": {
     "end_time": "2018-06-26T13:05:25.758306Z",
     "start_time": "2018-06-26T13:05:25.426569Z"
    },
    "scrolled": true
   },
   "source": [
    "plt.plot(np.mean(freq_four, 0), abs(np.mean(four, 0)), 'k');"
   ]
  },
  {
   "cell_type": "markdown",
   "metadata": {},
   "source": [
    "## Fit Residu Power Law"
   ]
  },
  {
   "cell_type": "code",
   "execution_count": 10,
   "metadata": {
    "collapsed": true
   },
   "outputs": [],
   "source": [
    "from lmfit.models import PowerLawModel"
   ]
  },
  {
   "cell_type": "code",
   "execution_count": 11,
   "metadata": {},
   "outputs": [
    {
     "name": "stdout",
     "output_type": "stream",
     "text": [
      "[[Model]]\n",
      "    Model(powerlaw)\n",
      "[[Fit Statistics]]\n",
      "    # fitting method   = leastsq\n",
      "    # function evals   = 25\n",
      "    # data points      = 649\n",
      "    # variables        = 2\n",
      "    chi-square         = 1.6104e-04\n",
      "    reduced chi-square = 2.4890e-07\n",
      "    Akaike info crit   = -9866.83035\n",
      "    Bayesian info crit = -9857.87949\n",
      "[[Variables]]\n",
      "    amplitude:  0.03741619 +/- 4.1212e-04 (1.10%) (init = 0.002756999)\n",
      "    exponent:  -0.75291174 +/- 0.00557609 (0.74%) (init = -0.3776102)\n",
      "[[Correlations]] (unreported correlations are < 0.100)\n",
      "    C(amplitude, exponent) = -0.646\n",
      "\n"
     ]
    },
    {
     "name": "stderr",
     "output_type": "stream",
     "text": [
      "/home/drone/.local/lib/python3.5/site-packages/lmfit/lineshapes.py:396: RuntimeWarning: divide by zero encountered in power\n",
      "  return amplitude * x**exponent\n"
     ]
    }
   ],
   "source": [
    "mean_demi_four = np.mean(demi_four, 0)\n",
    "\n",
    "mod = PowerLawModel()\n",
    "\n",
    "pars = mod.guess(mean_demi_four, x=np.arange(len(mean_demi_four)))\n",
    "out = mod.fit(mean_demi_four, pars, x=np.arange(len(mean_demi_four)), nan_policy='omit')\n",
    "print(out.fit_report())"
   ]
  },
  {
   "cell_type": "code",
   "execution_count": 12,
   "metadata": {
    "scrolled": true
   },
   "outputs": [
    {
     "data": {
      "image/png": "[encoded data removed]",
      "text/plain": [
       "<Figure size 720x889.988 with 2 Axes>"
      ]
     },
     "metadata": {},
     "output_type": "display_data"
    }
   ],
   "source": [
    "fig_width= 10\n",
    "fig, axs = plt.subplots(2, 1, figsize=(fig_width, 2*(fig_width)/1.6180))\n",
    "\n",
    "axs[0].plot(np.mean(demi_freq, 0), np.mean(demi_four, 0), 'k')\n",
    "axs[0].plot(np.mean(demi_freq, 0),out.best_fit, 'r')\n",
    "\n",
    "axs[1].loglog(np.mean(demi_freq, 0), np.mean(demi_four, 0), 'k')\n",
    "axs[1].loglog(np.mean(demi_freq, 0), out.best_fit, 'r');"
   ]
  },
  {
   "cell_type": "code",
   "execution_count": null,
   "metadata": {
    "collapsed": true
   },
   "outputs": [],
   "source": []
  }
 ],
 "metadata": {
  "kernelspec": {
   "display_name": "Python 3",
   "language": "python",
   "name": "python3"
  },
  "language_info": {
   "codemirror_mode": {
    "name": "ipython",
    "version": 3
   },
   "file_extension": ".py",
   "mimetype": "text/x-python",
   "name": "python",
   "nbconvert_exporter": "python",
   "pygments_lexer": "ipython3",
   "version": "3.5.2"
  },
  "toc": {
   "base_numbering": 1,
   "nav_menu": {},
   "number_sections": true,
   "sideBar": true,
   "skip_h1_title": false,
   "title_cell": "Table of Contents",
   "title_sidebar": "Contents",
   "toc_cell": false,
   "toc_position": {},
   "toc_section_display": true,
   "toc_window_display": false
  }
 },
 "nbformat": 4,
 "nbformat_minor": 2
}
