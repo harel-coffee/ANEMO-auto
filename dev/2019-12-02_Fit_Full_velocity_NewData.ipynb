{
 "cells": [
  {
   "cell_type": "code",
   "execution_count": 1,
   "metadata": {},
   "outputs": [],
   "source": [
    "from ANEMO import ANEMO\n",
    "from ANEMO.edfreader import read_edf\n",
    "import pickle"
   ]
  },
  {
   "cell_type": "code",
   "execution_count": 2,
   "metadata": {},
   "outputs": [],
   "source": [
    "exp = {'px_per_deg': 27,\n",
    "      'N_trials': 400,\n",
    "      'N_blocks': 1,\n",
    "      'list_events': ['StimulusOn\\n', 'StimulusOff\\n',\n",
    "                      'TargetOn\\n', 'TargetOff\\n']}"
   ]
  },
  {
   "cell_type": "code",
   "execution_count": 3,
   "metadata": {},
   "outputs": [],
   "source": [
    "def fit(s) :\n",
    "    print(s)\n",
    "    \n",
    "    if s < 13 : datafile = 'data/new_data/s%sBLa50.asc'%(s)\n",
    "    else :      datafile = 'data/new_data/s%sBL50.asc'%(s)\n",
    "    data = read_edf(datafile, 'Trialinfo')\n",
    "    \n",
    "    exp['dir_target'] = [[]]\n",
    "    for t in range(exp['N_trials']) :\n",
    "        if data[t]['events']['msg'][0][1][-2] in ['0','2'] : exp['dir_target'][0].append(1)\n",
    "        else :                                               exp['dir_target'][0].append(0)\n",
    "    \n",
    "\n",
    "    Fit = ANEMO.Fit(exp)\n",
    "    \n",
    "    param_fit = Fit.Fit_full(data, equation='fct_velocity', plot=None)\n",
    "\n",
    "    with open('parametre/new_data/fct_velocity/param_Fit_s%sBL50_fct_velocity.pkl'%s, 'wb') as fichier:\n",
    "        f = pickle.Pickler(fichier)\n",
    "        f.dump(param_fit)"
   ]
  },
  {
   "cell_type": "raw",
   "metadata": {},
   "source": [
    "fit(1)"
   ]
  },
  {
   "cell_type": "code",
   "execution_count": null,
   "metadata": {
    "scrolled": true
   },
   "outputs": [
    {
     "name": "stdout",
     "output_type": "stream",
     "text": [
      "2\n",
      "block, trial =  0 0\n"
     ]
    },
    {
     "name": "stderr",
     "output_type": "stream",
     "text": [
      "/usr/local/lib/python3.6/dist-packages/lmfit/minimizer.py:789: RuntimeWarning: invalid value encountered in sqrt\n",
      "  (par.stderr * sqrt(self.result.covar[jvar, jvar])))\n",
      "/usr/local/lib/python3.6/dist-packages/lmfit/minimizer.py:782: RuntimeWarning: invalid value encountered in sqrt\n",
      "  par.stderr = sqrt(self.result.covar[ivar, ivar])\n"
     ]
    },
    {
     "name": "stdout",
     "output_type": "stream",
     "text": [
      "block, trial =  0 1\n",
      "block, trial =  0 2\n",
      "block, trial =  0 3\n",
      "block, trial =  0 4\n",
      "block, trial =  0 5\n"
     ]
    },
    {
     "name": "stderr",
     "output_type": "stream",
     "text": [
      "/usr/local/lib/python3.6/dist-packages/lmfit/minimizer.py:789: RuntimeWarning: invalid value encountered in sqrt\n",
      "  (par.stderr * sqrt(self.result.covar[jvar, jvar])))\n",
      "/usr/local/lib/python3.6/dist-packages/lmfit/minimizer.py:782: RuntimeWarning: invalid value encountered in sqrt\n",
      "  par.stderr = sqrt(self.result.covar[ivar, ivar])\n"
     ]
    },
    {
     "name": "stdout",
     "output_type": "stream",
     "text": [
      "block, trial =  0 6\n",
      "block, trial =  0 7\n",
      "block, trial =  0 8\n",
      "block, trial =  0 9\n",
      "block, trial =  0 10\n",
      "block, trial =  0 11\n",
      "block, trial =  0 12\n",
      "block, trial =  0 13\n",
      "block, trial =  0 14\n",
      "block, trial =  0 15\n"
     ]
    },
    {
     "name": "stderr",
     "output_type": "stream",
     "text": [
      "/usr/local/lib/python3.6/dist-packages/lmfit/minimizer.py:789: RuntimeWarning: invalid value encountered in sqrt\n",
      "  (par.stderr * sqrt(self.result.covar[jvar, jvar])))\n",
      "/usr/local/lib/python3.6/dist-packages/lmfit/minimizer.py:782: RuntimeWarning: invalid value encountered in sqrt\n",
      "  par.stderr = sqrt(self.result.covar[ivar, ivar])\n"
     ]
    },
    {
     "name": "stdout",
     "output_type": "stream",
     "text": [
      "block, trial =  0 16\n",
      "block, trial =  0 17\n",
      "block, trial =  0 18\n",
      "block, trial =  0 19\n",
      "block, trial =  0 20\n",
      "block, trial =  0 21\n",
      "block, trial =  0 22\n",
      "block, trial =  0 23\n",
      "block, trial =  0 24\n",
      "block, trial =  0 25\n",
      "block, trial =  0 26\n",
      "block, trial =  0 27\n",
      "block, trial =  0 28\n",
      "block, trial =  0 29\n",
      "block, trial =  0 30\n",
      "block, trial =  0 31\n"
     ]
    },
    {
     "name": "stderr",
     "output_type": "stream",
     "text": [
      "/usr/local/lib/python3.6/dist-packages/lmfit/minimizer.py:789: RuntimeWarning: invalid value encountered in sqrt\n",
      "  (par.stderr * sqrt(self.result.covar[jvar, jvar])))\n",
      "/usr/local/lib/python3.6/dist-packages/lmfit/minimizer.py:782: RuntimeWarning: invalid value encountered in sqrt\n",
      "  par.stderr = sqrt(self.result.covar[ivar, ivar])\n"
     ]
    },
    {
     "name": "stdout",
     "output_type": "stream",
     "text": [
      "block, trial =  0 32\n"
     ]
    },
    {
     "name": "stderr",
     "output_type": "stream",
     "text": [
      "/usr/local/lib/python3.6/dist-packages/lmfit/minimizer.py:789: RuntimeWarning: invalid value encountered in sqrt\n",
      "  (par.stderr * sqrt(self.result.covar[jvar, jvar])))\n",
      "/usr/local/lib/python3.6/dist-packages/lmfit/minimizer.py:782: RuntimeWarning: invalid value encountered in sqrt\n",
      "  par.stderr = sqrt(self.result.covar[ivar, ivar])\n"
     ]
    },
    {
     "name": "stdout",
     "output_type": "stream",
     "text": [
      "block, trial =  0 33\n",
      "block, trial =  0 34\n",
      "block, trial =  0 35\n",
      "block, trial =  0 36\n",
      "block, trial =  0 37\n",
      "block, trial =  0 38\n",
      "block, trial =  0 39\n",
      "block, trial =  0 40\n",
      "block, trial =  0 41\n",
      "block, trial =  0 42\n",
      "block, trial =  0 43\n"
     ]
    },
    {
     "name": "stderr",
     "output_type": "stream",
     "text": [
      "/usr/local/lib/python3.6/dist-packages/lmfit/minimizer.py:789: RuntimeWarning: invalid value encountered in sqrt\n",
      "  (par.stderr * sqrt(self.result.covar[jvar, jvar])))\n",
      "/usr/local/lib/python3.6/dist-packages/lmfit/minimizer.py:782: RuntimeWarning: invalid value encountered in sqrt\n",
      "  par.stderr = sqrt(self.result.covar[ivar, ivar])\n"
     ]
    },
    {
     "name": "stdout",
     "output_type": "stream",
     "text": [
      "block, trial =  0 44\n",
      "block, trial =  0 45\n",
      "block, trial =  0 46\n",
      "block, trial =  0 47\n",
      "block, trial =  0 48\n",
      "block, trial =  0 49\n",
      "block, trial =  0 50\n",
      "block, trial =  0 51\n",
      "block, trial =  0 52\n",
      "block, trial =  0 53\n",
      "block, trial =  0 54\n",
      "block, trial =  0 55\n",
      "block, trial =  0 56\n",
      "block, trial =  0 57\n",
      "block, trial =  0 58\n",
      "block, trial =  0 59\n",
      "block, trial =  0 60\n",
      "block, trial =  0 61\n",
      "block, trial =  0 62\n",
      "block, trial =  0 63\n"
     ]
    },
    {
     "name": "stderr",
     "output_type": "stream",
     "text": [
      "/usr/local/lib/python3.6/dist-packages/lmfit/minimizer.py:789: RuntimeWarning: invalid value encountered in sqrt\n",
      "  (par.stderr * sqrt(self.result.covar[jvar, jvar])))\n",
      "/usr/local/lib/python3.6/dist-packages/lmfit/minimizer.py:782: RuntimeWarning: invalid value encountered in sqrt\n",
      "  par.stderr = sqrt(self.result.covar[ivar, ivar])\n"
     ]
    },
    {
     "name": "stdout",
     "output_type": "stream",
     "text": [
      "block, trial =  0 64\n"
     ]
    },
    {
     "name": "stderr",
     "output_type": "stream",
     "text": [
      "/usr/local/lib/python3.6/dist-packages/lmfit/minimizer.py:789: RuntimeWarning: invalid value encountered in sqrt\n",
      "  (par.stderr * sqrt(self.result.covar[jvar, jvar])))\n",
      "/usr/local/lib/python3.6/dist-packages/lmfit/minimizer.py:782: RuntimeWarning: invalid value encountered in sqrt\n",
      "  par.stderr = sqrt(self.result.covar[ivar, ivar])\n"
     ]
    },
    {
     "name": "stdout",
     "output_type": "stream",
     "text": [
      "block, trial =  0 65\n",
      "block, trial =  0 66\n",
      "block, trial =  0 67\n",
      "block, trial =  0 68\n",
      "block, trial =  0 69\n",
      "block, trial =  0 70\n",
      "block, trial =  0 71\n",
      "block, trial =  0 72\n",
      "block, trial =  0 73\n",
      "block, trial =  0 74\n",
      "block, trial =  0 75\n",
      "block, trial =  0 76\n",
      "block, trial =  0 77\n",
      "block, trial =  0 78\n",
      "block, trial =  0 79\n",
      "block, trial =  0 80\n",
      "block, trial =  0 81\n",
      "block, trial =  0 82\n",
      "block, trial =  0 83\n",
      "block, trial =  0 84\n",
      "block, trial =  0 85\n"
     ]
    },
    {
     "name": "stderr",
     "output_type": "stream",
     "text": [
      "/usr/local/lib/python3.6/dist-packages/lmfit/minimizer.py:789: RuntimeWarning: invalid value encountered in sqrt\n",
      "  (par.stderr * sqrt(self.result.covar[jvar, jvar])))\n",
      "/usr/local/lib/python3.6/dist-packages/lmfit/minimizer.py:782: RuntimeWarning: invalid value encountered in sqrt\n",
      "  par.stderr = sqrt(self.result.covar[ivar, ivar])\n"
     ]
    },
    {
     "name": "stdout",
     "output_type": "stream",
     "text": [
      "block, trial =  0 86\n",
      "block, trial =  0 87\n",
      "block, trial =  0 88\n",
      "block, trial =  0 89\n",
      "block, trial =  0 90\n",
      "block, trial =  0 91\n",
      "block, trial =  0 92\n",
      "block, trial =  0 93\n",
      "block, trial =  0 94\n",
      "block, trial =  0 95\n",
      "block, trial =  0 96\n",
      "block, trial =  0 97\n",
      "block, trial =  0 98\n",
      "block, trial =  0 99\n",
      "block, trial =  0 100\n",
      "block, trial =  0 101\n",
      "block, trial =  0 102\n",
      "block, trial =  0 103\n",
      "block, trial =  0 104\n",
      "block, trial =  0 105\n",
      "block, trial =  0 106\n",
      "block, trial =  0 107\n",
      "block, trial =  0 108\n",
      "block, trial =  0 109\n",
      "block, trial =  0 110\n",
      "block, trial =  0 111\n",
      "block, trial =  0 112\n",
      "block, trial =  0 113\n",
      "block, trial =  0 114\n",
      "block, trial =  0 115\n",
      "block, trial =  0 116\n",
      "block, trial =  0 117\n",
      "block, trial =  0 118\n",
      "block, trial =  0 119\n",
      "block, trial =  0 120\n",
      "block, trial =  0 121\n",
      "block, trial =  0 122\n",
      "block, trial =  0 123\n",
      "block, trial =  0 124\n",
      "block, trial =  0 125\n",
      "block, trial =  0 126\n",
      "block, trial =  0 127\n",
      "block, trial =  0 128\n",
      "block, trial =  0 129\n",
      "block, trial =  0 130\n",
      "block, trial =  0 131\n",
      "block, trial =  0 132\n",
      "block, trial =  0 133\n"
     ]
    },
    {
     "name": "stderr",
     "output_type": "stream",
     "text": [
      "/usr/local/lib/python3.6/dist-packages/lmfit/minimizer.py:789: RuntimeWarning: invalid value encountered in sqrt\n",
      "  (par.stderr * sqrt(self.result.covar[jvar, jvar])))\n",
      "/usr/local/lib/python3.6/dist-packages/lmfit/minimizer.py:782: RuntimeWarning: invalid value encountered in sqrt\n",
      "  par.stderr = sqrt(self.result.covar[ivar, ivar])\n"
     ]
    },
    {
     "name": "stdout",
     "output_type": "stream",
     "text": [
      "block, trial =  0 134\n"
     ]
    },
    {
     "name": "stderr",
     "output_type": "stream",
     "text": [
      "/usr/local/lib/python3.6/dist-packages/lmfit/minimizer.py:789: RuntimeWarning: invalid value encountered in sqrt\n",
      "  (par.stderr * sqrt(self.result.covar[jvar, jvar])))\n",
      "/usr/local/lib/python3.6/dist-packages/lmfit/minimizer.py:782: RuntimeWarning: invalid value encountered in sqrt\n",
      "  par.stderr = sqrt(self.result.covar[ivar, ivar])\n"
     ]
    },
    {
     "name": "stdout",
     "output_type": "stream",
     "text": [
      "block, trial =  0 135\n"
     ]
    },
    {
     "name": "stderr",
     "output_type": "stream",
     "text": [
      "/usr/local/lib/python3.6/dist-packages/lmfit/minimizer.py:789: RuntimeWarning: invalid value encountered in sqrt\n",
      "  (par.stderr * sqrt(self.result.covar[jvar, jvar])))\n",
      "/usr/local/lib/python3.6/dist-packages/lmfit/minimizer.py:782: RuntimeWarning: invalid value encountered in sqrt\n",
      "  par.stderr = sqrt(self.result.covar[ivar, ivar])\n"
     ]
    },
    {
     "name": "stdout",
     "output_type": "stream",
     "text": [
      "block, trial =  0 136\n",
      "block, trial =  0 137\n",
      "block, trial =  0 138\n",
      "block, trial =  0 139\n",
      "block, trial =  0 140\n",
      "block, trial =  0 141\n",
      "block, trial =  0 142\n",
      "block, trial =  0 143\n"
     ]
    },
    {
     "name": "stderr",
     "output_type": "stream",
     "text": [
      "/usr/local/lib/python3.6/dist-packages/lmfit/minimizer.py:789: RuntimeWarning: invalid value encountered in sqrt\n",
      "  (par.stderr * sqrt(self.result.covar[jvar, jvar])))\n",
      "/usr/local/lib/python3.6/dist-packages/lmfit/minimizer.py:782: RuntimeWarning: invalid value encountered in sqrt\n",
      "  par.stderr = sqrt(self.result.covar[ivar, ivar])\n"
     ]
    },
    {
     "name": "stdout",
     "output_type": "stream",
     "text": [
      "block, trial =  0 144\n",
      "block, trial =  0 145\n",
      "block, trial =  0 146\n",
      "block, trial =  0 147\n",
      "block, trial =  0 148\n",
      "block, trial =  0 149\n",
      "block, trial =  0 150\n",
      "block, trial =  0 151\n",
      "block, trial =  0 152\n",
      "block, trial =  0 153\n",
      "block, trial =  0 154\n",
      "block, trial =  0 155\n",
      "block, trial =  0 156\n",
      "block, trial =  0 157\n",
      "block, trial =  0 158\n",
      "block, trial =  0 159\n",
      "block, trial =  0 160\n",
      "block, trial =  0 161\n",
      "block, trial =  0 162\n",
      "block, trial =  0 163\n",
      "block, trial =  0 164\n",
      "block, trial =  0 165\n"
     ]
    },
    {
     "name": "stderr",
     "output_type": "stream",
     "text": [
      "/usr/local/lib/python3.6/dist-packages/lmfit/minimizer.py:789: RuntimeWarning: invalid value encountered in sqrt\n",
      "  (par.stderr * sqrt(self.result.covar[jvar, jvar])))\n",
      "/usr/local/lib/python3.6/dist-packages/lmfit/minimizer.py:782: RuntimeWarning: invalid value encountered in sqrt\n",
      "  par.stderr = sqrt(self.result.covar[ivar, ivar])\n"
     ]
    },
    {
     "name": "stdout",
     "output_type": "stream",
     "text": [
      "block, trial =  0 166\n",
      "block, trial =  0 167\n",
      "block, trial =  0 168\n",
      "block, trial =  0 169\n",
      "block, trial =  0 170\n",
      "block, trial =  0 171\n",
      "block, trial =  0 172\n",
      "block, trial =  0 173\n",
      "block, trial =  0 174\n",
      "block, trial =  0 175\n",
      "block, trial =  0 176\n",
      "block, trial =  0 177\n",
      "block, trial =  0 178\n",
      "block, trial =  0 179\n",
      "block, trial =  0 180\n",
      "block, trial =  0 181\n",
      "block, trial =  0 182\n",
      "block, trial =  0 183\n",
      "block, trial =  0 184\n",
      "block, trial =  0 185\n",
      "block, trial =  0 186\n",
      "block, trial =  0 187\n"
     ]
    },
    {
     "name": "stderr",
     "output_type": "stream",
     "text": [
      "/usr/local/lib/python3.6/dist-packages/lmfit/minimizer.py:789: RuntimeWarning: invalid value encountered in sqrt\n",
      "  (par.stderr * sqrt(self.result.covar[jvar, jvar])))\n",
      "/usr/local/lib/python3.6/dist-packages/lmfit/minimizer.py:782: RuntimeWarning: invalid value encountered in sqrt\n",
      "  par.stderr = sqrt(self.result.covar[ivar, ivar])\n"
     ]
    },
    {
     "name": "stdout",
     "output_type": "stream",
     "text": [
      "block, trial =  0 188\n",
      "block, trial =  0 189\n"
     ]
    },
    {
     "name": "stderr",
     "output_type": "stream",
     "text": [
      "/usr/local/lib/python3.6/dist-packages/lmfit/minimizer.py:789: RuntimeWarning: invalid value encountered in sqrt\n",
      "  (par.stderr * sqrt(self.result.covar[jvar, jvar])))\n",
      "/usr/local/lib/python3.6/dist-packages/lmfit/minimizer.py:782: RuntimeWarning: invalid value encountered in sqrt\n",
      "  par.stderr = sqrt(self.result.covar[ivar, ivar])\n"
     ]
    },
    {
     "name": "stdout",
     "output_type": "stream",
     "text": [
      "block, trial =  0 190\n",
      "block, trial =  0 191\n",
      "block, trial =  0 192\n",
      "block, trial =  0 193\n",
      "block, trial =  0 194\n",
      "block, trial =  0 195\n",
      "block, trial =  0 196\n",
      "block, trial =  0 197\n",
      "block, trial =  0 198\n"
     ]
    },
    {
     "name": "stderr",
     "output_type": "stream",
     "text": [
      "/usr/local/lib/python3.6/dist-packages/lmfit/minimizer.py:789: RuntimeWarning: invalid value encountered in sqrt\n",
      "  (par.stderr * sqrt(self.result.covar[jvar, jvar])))\n",
      "/usr/local/lib/python3.6/dist-packages/lmfit/minimizer.py:782: RuntimeWarning: invalid value encountered in sqrt\n",
      "  par.stderr = sqrt(self.result.covar[ivar, ivar])\n"
     ]
    },
    {
     "name": "stdout",
     "output_type": "stream",
     "text": [
      "block, trial =  0 199\n",
      "block, trial =  0 200\n",
      "block, trial =  0 201\n",
      "block, trial =  0 202\n",
      "block, trial =  0 203\n",
      "block, trial =  0 204\n",
      "block, trial =  0 205\n",
      "block, trial =  0 206\n",
      "block, trial =  0 207\n",
      "block, trial =  0 208\n",
      "block, trial =  0 209\n",
      "block, trial =  0 210\n",
      "block, trial =  0 211\n",
      "block, trial =  0 212\n",
      "block, trial =  0 213\n",
      "block, trial =  0 214\n",
      "block, trial =  0 215\n",
      "block, trial =  0 216\n",
      "block, trial =  0 217\n",
      "block, trial =  0 218\n",
      "block, trial =  0 219\n",
      "block, trial =  0 220\n",
      "block, trial =  0 221\n",
      "block, trial =  0 222\n",
      "block, trial =  0 223\n",
      "block, trial =  0 224\n",
      "block, trial =  0 225\n",
      "block, trial =  0 226\n",
      "block, trial =  0 227\n",
      "block, trial =  0 228\n",
      "block, trial =  0 229\n",
      "block, trial =  0 230\n",
      "block, trial =  0 231\n",
      "block, trial =  0 232\n",
      "block, trial =  0 233\n",
      "block, trial =  0 234\n",
      "block, trial =  0 235\n",
      "block, trial =  0 236\n",
      "block, trial =  0 237\n",
      "block, trial =  0 238\n",
      "block, trial =  0 239\n",
      "block, trial =  0 240\n",
      "block, trial =  0 241\n",
      "block, trial =  0 242\n",
      "block, trial =  0 243\n",
      "block, trial =  0 244\n",
      "block, trial =  0 245\n",
      "block, trial =  0 246\n",
      "block, trial =  0 247\n",
      "block, trial =  0 248\n"
     ]
    },
    {
     "name": "stderr",
     "output_type": "stream",
     "text": [
      "/usr/local/lib/python3.6/dist-packages/lmfit/minimizer.py:789: RuntimeWarning: invalid value encountered in sqrt\n",
      "  (par.stderr * sqrt(self.result.covar[jvar, jvar])))\n",
      "/usr/local/lib/python3.6/dist-packages/lmfit/minimizer.py:782: RuntimeWarning: invalid value encountered in sqrt\n",
      "  par.stderr = sqrt(self.result.covar[ivar, ivar])\n"
     ]
    },
    {
     "name": "stdout",
     "output_type": "stream",
     "text": [
      "block, trial =  0 249\n",
      "block, trial =  0 250\n",
      "block, trial =  0 251\n",
      "block, trial =  0 252\n",
      "block, trial =  0 253\n",
      "block, trial =  0 254\n",
      "block, trial =  0 255\n",
      "block, trial =  0 256\n",
      "block, trial =  0 257\n",
      "block, trial =  0 258\n",
      "block, trial =  0 259\n",
      "block, trial =  0 260\n",
      "block, trial =  0 261\n",
      "block, trial =  0 262\n",
      "block, trial =  0 263\n"
     ]
    },
    {
     "name": "stderr",
     "output_type": "stream",
     "text": [
      "/usr/local/lib/python3.6/dist-packages/lmfit/minimizer.py:789: RuntimeWarning: invalid value encountered in sqrt\n",
      "  (par.stderr * sqrt(self.result.covar[jvar, jvar])))\n",
      "/usr/local/lib/python3.6/dist-packages/lmfit/minimizer.py:782: RuntimeWarning: invalid value encountered in sqrt\n",
      "  par.stderr = sqrt(self.result.covar[ivar, ivar])\n"
     ]
    },
    {
     "name": "stdout",
     "output_type": "stream",
     "text": [
      "block, trial =  0 264\n",
      "block, trial =  0 265\n",
      "block, trial =  0 266\n",
      "block, trial =  0 267\n"
     ]
    },
    {
     "name": "stderr",
     "output_type": "stream",
     "text": [
      "/usr/local/lib/python3.6/dist-packages/lmfit/minimizer.py:789: RuntimeWarning: invalid value encountered in sqrt\n",
      "  (par.stderr * sqrt(self.result.covar[jvar, jvar])))\n",
      "/usr/local/lib/python3.6/dist-packages/lmfit/minimizer.py:782: RuntimeWarning: invalid value encountered in sqrt\n",
      "  par.stderr = sqrt(self.result.covar[ivar, ivar])\n"
     ]
    },
    {
     "name": "stdout",
     "output_type": "stream",
     "text": [
      "block, trial =  0 268\n",
      "block, trial =  0 269\n",
      "block, trial =  0 270\n",
      "block, trial =  0 271\n",
      "block, trial =  0 272\n",
      "block, trial =  0 273\n",
      "block, trial =  0 274\n",
      "block, trial =  0 275\n",
      "block, trial =  0 276\n",
      "block, trial =  0 277\n",
      "block, trial =  0 278\n",
      "block, trial =  0 279\n",
      "block, trial =  0 280\n",
      "block, trial =  0 281\n",
      "block, trial =  0 282\n"
     ]
    },
    {
     "name": "stderr",
     "output_type": "stream",
     "text": [
      "/usr/local/lib/python3.6/dist-packages/lmfit/minimizer.py:789: RuntimeWarning: invalid value encountered in sqrt\n",
      "  (par.stderr * sqrt(self.result.covar[jvar, jvar])))\n",
      "/usr/local/lib/python3.6/dist-packages/lmfit/minimizer.py:782: RuntimeWarning: invalid value encountered in sqrt\n",
      "  par.stderr = sqrt(self.result.covar[ivar, ivar])\n"
     ]
    },
    {
     "name": "stdout",
     "output_type": "stream",
     "text": [
      "block, trial =  0 283\n",
      "block, trial =  0 284\n",
      "block, trial =  0 285\n"
     ]
    },
    {
     "name": "stderr",
     "output_type": "stream",
     "text": [
      "/usr/local/lib/python3.6/dist-packages/lmfit/minimizer.py:789: RuntimeWarning: invalid value encountered in sqrt\n",
      "  (par.stderr * sqrt(self.result.covar[jvar, jvar])))\n",
      "/usr/local/lib/python3.6/dist-packages/lmfit/minimizer.py:782: RuntimeWarning: invalid value encountered in sqrt\n",
      "  par.stderr = sqrt(self.result.covar[ivar, ivar])\n"
     ]
    },
    {
     "name": "stdout",
     "output_type": "stream",
     "text": [
      "block, trial =  0 286\n",
      "block, trial =  0 287\n",
      "block, trial =  0 288\n",
      "block, trial =  0 289\n",
      "block, trial =  0 290\n",
      "block, trial =  0 291\n",
      "block, trial =  0 292\n",
      "block, trial =  0 293\n",
      "block, trial =  0 294\n",
      "block, trial =  0 295\n",
      "block, trial =  0 296\n",
      "block, trial =  0 297\n",
      "block, trial =  0 298\n",
      "block, trial =  0 299\n"
     ]
    },
    {
     "name": "stderr",
     "output_type": "stream",
     "text": [
      "/usr/local/lib/python3.6/dist-packages/lmfit/minimizer.py:789: RuntimeWarning: invalid value encountered in sqrt\n",
      "  (par.stderr * sqrt(self.result.covar[jvar, jvar])))\n",
      "/usr/local/lib/python3.6/dist-packages/lmfit/minimizer.py:782: RuntimeWarning: invalid value encountered in sqrt\n",
      "  par.stderr = sqrt(self.result.covar[ivar, ivar])\n"
     ]
    },
    {
     "name": "stdout",
     "output_type": "stream",
     "text": [
      "block, trial =  0 300\n",
      "block, trial =  0 301\n",
      "block, trial =  0 302\n",
      "block, trial =  0 303\n",
      "block, trial =  0 304\n"
     ]
    },
    {
     "name": "stderr",
     "output_type": "stream",
     "text": [
      "/usr/local/lib/python3.6/dist-packages/lmfit/minimizer.py:789: RuntimeWarning: invalid value encountered in sqrt\n",
      "  (par.stderr * sqrt(self.result.covar[jvar, jvar])))\n",
      "/usr/local/lib/python3.6/dist-packages/lmfit/minimizer.py:782: RuntimeWarning: invalid value encountered in sqrt\n",
      "  par.stderr = sqrt(self.result.covar[ivar, ivar])\n"
     ]
    },
    {
     "name": "stdout",
     "output_type": "stream",
     "text": [
      "block, trial =  0 305\n",
      "block, trial =  0 306\n",
      "block, trial =  0 307\n",
      "block, trial =  0 308\n",
      "block, trial =  0 309\n",
      "block, trial =  0 310\n",
      "block, trial =  0 311\n",
      "block, trial =  0 312\n"
     ]
    },
    {
     "name": "stderr",
     "output_type": "stream",
     "text": [
      "/usr/local/lib/python3.6/dist-packages/lmfit/minimizer.py:789: RuntimeWarning: invalid value encountered in sqrt\n",
      "  (par.stderr * sqrt(self.result.covar[jvar, jvar])))\n",
      "/usr/local/lib/python3.6/dist-packages/lmfit/minimizer.py:782: RuntimeWarning: invalid value encountered in sqrt\n",
      "  par.stderr = sqrt(self.result.covar[ivar, ivar])\n"
     ]
    },
    {
     "name": "stdout",
     "output_type": "stream",
     "text": [
      "block, trial =  0 313\n",
      "block, trial =  0 314\n",
      "block, trial =  0 315\n",
      "block, trial =  0 316\n",
      "block, trial =  0 317\n",
      "block, trial =  0 318\n"
     ]
    }
   ],
   "source": [
    "fit(2)"
   ]
  },
  {
   "cell_type": "raw",
   "metadata": {},
   "source": [
    "fit(3)"
   ]
  },
  {
   "cell_type": "raw",
   "metadata": {},
   "source": [
    "fit(4)"
   ]
  },
  {
   "cell_type": "raw",
   "metadata": {},
   "source": [
    "fit(5)"
   ]
  },
  {
   "cell_type": "raw",
   "metadata": {},
   "source": [
    "fit(6)"
   ]
  },
  {
   "cell_type": "raw",
   "metadata": {
    "scrolled": true
   },
   "source": [
    "fit(7)"
   ]
  },
  {
   "cell_type": "raw",
   "metadata": {},
   "source": [
    "fit(8)"
   ]
  },
  {
   "cell_type": "raw",
   "metadata": {},
   "source": [
    "fit(10)"
   ]
  },
  {
   "cell_type": "raw",
   "metadata": {},
   "source": [
    "fit(11)"
   ]
  },
  {
   "cell_type": "raw",
   "metadata": {},
   "source": [
    "fit(12)"
   ]
  },
  {
   "cell_type": "raw",
   "metadata": {},
   "source": [
    "fit(13)"
   ]
  },
  {
   "cell_type": "raw",
   "metadata": {},
   "source": [
    "fit(15)"
   ]
  },
  {
   "cell_type": "raw",
   "metadata": {},
   "source": [
    "fit(16)"
   ]
  },
  {
   "cell_type": "raw",
   "metadata": {},
   "source": [
    "fit(17)"
   ]
  },
  {
   "cell_type": "raw",
   "metadata": {},
   "source": [
    "fit(18)"
   ]
  },
  {
   "cell_type": "raw",
   "metadata": {},
   "source": [
    "fit(19)"
   ]
  }
 ],
 "metadata": {
  "kernelspec": {
   "display_name": "Python 3",
   "language": "python",
   "name": "python3"
  },
  "language_info": {
   "codemirror_mode": {
    "name": "ipython",
    "version": 3
   },
   "file_extension": ".py",
   "mimetype": "text/x-python",
   "name": "python",
   "nbconvert_exporter": "python",
   "pygments_lexer": "ipython3",
   "version": "3.6.8"
  }
 },
 "nbformat": 4,
 "nbformat_minor": 2
}
