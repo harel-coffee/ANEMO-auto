{
  "cells": [
    {
      "cell_type": "code",
      "source": [
        "from ANEMO import ANEMO\n",
        "from ANEMO.edfreader import read_edf\n",
        "import pickle"
      ],
      "outputs": [],
      "execution_count": 1,
      "metadata": {}
    },
    {
      "cell_type": "code",
      "source": [
        "exp = {'px_per_deg': 27,\n",
        "      'N_trials': 400,\n",
        "      'N_blocks': 1,\n",
        "      'list_events': ['StimulusOn\\n', 'StimulusOff\\n',\n",
        "                      'TargetOn\\n', 'TargetOff\\n']}"
      ],
      "outputs": [],
      "execution_count": 2,
      "metadata": {}
    },
    {
      "cell_type": "code",
      "source": [
        "def fit(s) :\n",
        "    print(s)\n",
        "    \n",
        "    if s < 13 : datafile = 'data/new_data/s%sBLa50.asc'%(s)\n",
        "    else :      datafile = 'data/new_data/s%sBL50.asc'%(s)\n",
        "    data = read_edf(datafile, 'Trialinfo')\n",
        "    \n",
        "    exp['dir_target'] = [[]]\n",
        "    for t in range(exp['N_trials']) :\n",
        "        if data[t]['events']['msg'][0][1][-2] in ['0','2'] : exp['dir_target'][0].append(1)\n",
        "        else :                                               exp['dir_target'][0].append(0)\n",
        "    \n",
        "\n",
        "    Fit = ANEMO.Fit(exp)\n",
        "    \n",
        "    param_fit = Fit.Fit_full(data, equation='fct_velocity', plot=None)\n",
        "\n",
        "    with open('parametre/new_data/fct_velocity/param_Fit_s%sBL50_fct_velocity.pkl'%s, 'wb') as fichier:\n",
        "        f = pickle.Pickler(fichier)\n",
        "        f.dump(param_fit)"
      ],
      "outputs": [],
      "execution_count": 3,
      "metadata": {}
    },
    {
      "cell_type": "raw",
      "source": [
        "fit(1)"
      ],
      "metadata": {}
    },
    {
      "cell_type": "raw",
      "source": [
        "fit(2)"
      ],
      "metadata": {}
    },
    {
      "cell_type": "raw",
      "source": [
        "fit(3)"
      ],
      "metadata": {}
    },
    {
      "cell_type": "raw",
      "source": [
        "fit(4)"
      ],
      "metadata": {}
    },
    {
      "cell_type": "raw",
      "source": [
        "fit(5)"
      ],
      "metadata": {}
    },
    {
      "cell_type": "raw",
      "source": [
        "fit(6)"
      ],
      "metadata": {}
    },
    {
      "cell_type": "raw",
      "source": [
        "fit(7)"
      ],
      "metadata": {
        "scrolled": true
      }
    },
    {
      "cell_type": "raw",
      "source": [
        "fit(8)"
      ],
      "metadata": {}
    },
    {
      "cell_type": "raw",
      "source": [
        "fit(10)"
      ],
      "metadata": {}
    },
    {
      "cell_type": "raw",
      "source": [
        "fit(11)"
      ],
      "metadata": {}
    },
    {
      "cell_type": "raw",
      "source": [
        "fit(12)"
      ],
      "metadata": {}
    },
    {
      "cell_type": "raw",
      "source": [
        "fit(13)"
      ],
      "metadata": {}
    },
    {
      "cell_type": "raw",
      "source": [
        "fit(15)"
      ],
      "metadata": {}
    },
    {
      "cell_type": "raw",
      "source": [
        "fit(16)"
      ],
      "metadata": {}
    },
    {
      "cell_type": "raw",
      "source": [
        "fit(17)"
      ],
      "metadata": {}
    },
    {
      "cell_type": "raw",
      "source": [
        "fit(18)"
      ],
      "metadata": {}
    },
    {
      "cell_type": "raw",
      "source": [
        "fit(19)"
      ],
      "metadata": {}
    },
    {
      "cell_type": "code",
      "source": [],
      "outputs": [],
      "execution_count": null,
      "metadata": {}
    }
  ],
  "metadata": {
    "kernelspec": {
      "name": "python3",
      "language": "python",
      "display_name": "Python 3"
    },
    "language_info": {
      "name": "python",
      "version": "3.7.6",
      "mimetype": "text/x-python",
      "codemirror_mode": {
        "name": "ipython",
        "version": 3
      },
      "pygments_lexer": "ipython3",
      "nbconvert_exporter": "python",
      "file_extension": ".py"
    },
    "kernel_info": {
      "name": "python3"
    },
    "nteract": {
      "version": "0.15.0"
    }
  },
  "nbformat": 4,
  "nbformat_minor": 2
}