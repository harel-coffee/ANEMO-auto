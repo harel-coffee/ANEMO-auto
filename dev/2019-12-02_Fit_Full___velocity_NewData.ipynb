{
 "cells": [
  {
   "cell_type": "code",
   "execution_count": 1,
   "metadata": {},
   "outputs": [],
   "source": [
    "from ANEMO import ANEMO\n",
    "from ANEMO.edfreader import read_edf\n",
    "import pickle"
   ]
  },
  {
   "cell_type": "code",
   "execution_count": 2,
   "metadata": {},
   "outputs": [],
   "source": [
    "exp = {'px_per_deg': 27,\n",
    "      'N_trials': 400,\n",
    "      'N_blocks': 1,\n",
    "      'list_events': ['StimulusOn\\n', 'StimulusOff\\n',\n",
    "                      'TargetOn\\n', 'TargetOff\\n']}"
   ]
  },
  {
   "cell_type": "code",
   "execution_count": 3,
   "metadata": {},
   "outputs": [],
   "source": [
    "def fit(s) :\n",
    "    print(s)\n",
    "    \n",
    "    if s < 13 : datafile = 'data/new_data/s%sBLa50.asc'%(s)\n",
    "    else :      datafile = 'data/new_data/s%sBL50.asc'%(s)\n",
    "    data = read_edf(datafile, 'Trialinfo')\n",
    "    \n",
    "    exp['dir_target'] = [[]]\n",
    "    for t in range(exp['N_trials']) :\n",
    "        if data[t]['events']['msg'][0][1][-2] in ['0','2'] : exp['dir_target'][0].append(1)\n",
    "        else :                                               exp['dir_target'][0].append(0)\n",
    "    \n",
    "\n",
    "    Fit = ANEMO.Fit(exp)\n",
    "    \n",
    "    param_fit = Fit.Fit_full(data, equation='fct_velocity', plot=None)\n",
    "\n",
    "    with open('parametre/new_data/fct_velocity/param_Fit_s%sBL50_fct_velocity.pkl'%s, 'wb') as fichier:\n",
    "        f = pickle.Pickler(fichier)\n",
    "        f.dump(param_fit)"
   ]
  },
  {
   "cell_type": "raw",
   "metadata": {},
   "source": [
    "fit(1)"
   ]
  },
  {
   "cell_type": "raw",
   "metadata": {},
   "source": [
    "fit(2)"
   ]
  },
  {
   "cell_type": "raw",
   "metadata": {},
   "source": [
    "fit(3)"
   ]
  },
  {
   "cell_type": "raw",
   "metadata": {},
   "source": [
    "fit(4)"
   ]
  },
  {
   "cell_type": "raw",
   "metadata": {},
   "source": [
    "fit(5)"
   ]
  },
  {
   "cell_type": "raw",
   "metadata": {},
   "source": [
    "fit(6)"
   ]
  },
  {
   "cell_type": "raw",
   "metadata": {
    "scrolled": true
   },
   "source": [
    "fit(7)"
   ]
  },
  {
   "cell_type": "raw",
   "metadata": {},
   "source": [
    "fit(8)"
   ]
  },
  {
   "cell_type": "raw",
   "metadata": {},
   "source": [
    "fit(10)"
   ]
  },
  {
   "cell_type": "raw",
   "metadata": {},
   "source": [
    "fit(11)"
   ]
  },
  {
   "cell_type": "raw",
   "metadata": {},
   "source": [
    "fit(12)"
   ]
  },
  {
   "cell_type": "raw",
   "metadata": {},
   "source": [
    "fit(13)"
   ]
  },
  {
   "cell_type": "raw",
   "metadata": {},
   "source": [
    "fit(15)"
   ]
  },
  {
   "cell_type": "raw",
   "metadata": {},
   "source": [
    "fit(16)"
   ]
  },
  {
   "cell_type": "raw",
   "metadata": {},
   "source": [
    "fit(17)"
   ]
  },
  {
   "cell_type": "raw",
   "metadata": {},
   "source": [
    "fit(18)"
   ]
  },
  {
   "cell_type": "raw",
   "metadata": {},
   "source": [
    "fit(19)"
   ]
  },
  {
   "cell_type": "code",
   "execution_count": null,
   "metadata": {},
   "outputs": [],
   "source": []
  }
 ],
 "metadata": {
  "kernel_info": {
   "name": "python3"
  },
  "kernelspec": {
   "display_name": "Python 3",
   "language": "python",
   "name": "python3"
  },
  "language_info": {
   "codemirror_mode": {
    "name": "ipython",
    "version": 3
   },
   "file_extension": ".py",
   "mimetype": "text/x-python",
   "name": "python",
   "nbconvert_exporter": "python",
   "pygments_lexer": "ipython3",
   "version": "3.6.9"
  },
  "nteract": {
   "version": "0.15.0"
  }
 },
 "nbformat": 4,
 "nbformat_minor": 2
}
