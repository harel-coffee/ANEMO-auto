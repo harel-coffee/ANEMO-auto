{
 "cells": [
  {
   "cell_type": "code",
   "execution_count": 1,
   "metadata": {},
   "outputs": [],
   "source": [
    "%matplotlib inline\n",
    "%config InlineBackend.close_figures=False \n",
    "\n",
    "from ANEMO import ANEMO\n",
    "from ANEMO import read_edf\n",
    "\n",
    "import os\n",
    "import pickle\n",
    "import numpy as np"
   ]
  },
  {
   "cell_type": "code",
   "execution_count": 2,
   "metadata": {},
   "outputs": [],
   "source": [
    "sujets = ['AM','BMC','CS','DC','FM','IP','LB','OP','RS','SR','TN','YK']\n",
    "times = ['2017-10-23_100057','2017-09-26_095637', '2017-10-03_134421','2017-09-27_161040',\n",
    "        '2017-10-03_143803','2017-09-28_115250', '2017-09-20_151043','2017-10-26_121823',\n",
    "        '2017-11-08_094717','2017-11-16_153313', '2017-11-08_150410','2017-11-17_172706']"
   ]
  },
  {
   "cell_type": "code",
   "execution_count": 3,
   "metadata": {},
   "outputs": [],
   "source": [
    "num_suj = 6"
   ]
  },
  {
   "cell_type": "code",
   "execution_count": 4,
   "metadata": {},
   "outputs": [],
   "source": [
    "file = os.path.join('data', 'enregistrement_%s_%s.pkl'%(sujets[num_suj], times[num_suj]))\n",
    "with open(file, 'rb') as fichier :\n",
    "    param_exp = pickle.load(fichier, encoding='latin1')\n",
    "resultats = os.path.join('data', 'enregistrement_%s_%s.asc'%(sujets[num_suj], times[num_suj]))\n",
    "data = read_edf(resultats, 'TRIALID')\n",
    "\n",
    "Plot = ANEMO.Plot(param_exp)\n",
    "#Fit = ANEMO.Fit(param_exp)\n",
    "#ANEMO = ANEMO(param_exp)"
   ]
  },
  {
   "cell_type": "code",
   "execution_count": 5,
   "metadata": {},
   "outputs": [],
   "source": [
    "list_fct = {#'velocity':'fct_velocity',\n",
    "            'velocity':'fct_velocity_sigmo',\n",
    "            #'velocity':'fct_velocity_line',\n",
    "            #'position':'fct_position',\n",
    "            #'saccade':'fct_saccade'\n",
    "           }"
   ]
  },
  {
   "cell_type": "code",
   "execution_count": 6,
   "metadata": {},
   "outputs": [
    {
     "name": "stdout",
     "output_type": "stream",
     "text": [
      "fct_velocity_sigmo OK param\n"
     ]
    }
   ],
   "source": [
    "Full_param_fit = {}\n",
    "for fct in list_fct.values() :\n",
    "    #Full_param_fit[fct] = None\n",
    "    try :\n",
    "        file = os.path.join('parametre/param_Fit_%s_%s.pkl'%(sujets[num_suj], fct))\n",
    "        with open(file, 'rb') as fichier :\n",
    "            Full_param_fit[fct] = pickle.load(fichier, encoding='latin1')\n",
    "        print(fct, 'OK param')\n",
    "    except :\n",
    "        Full_param_fit[fct] = None"
   ]
  },
  {
   "cell_type": "markdown",
   "metadata": {},
   "source": [
    "# Figure"
   ]
  },
  {
   "cell_type": "code",
   "execution_count": 7,
   "metadata": {},
   "outputs": [
    {
     "name": "stdout",
     "output_type": "stream",
     "text": [
      "Delete [[10, 42, 82, 83, 90, 143, 150, 151, 163, 179], [72, 116, 118, 123, 162, 164, 178], [5, 11, 21, 32, 44, 53, 98]]\n",
      "Bad [[29, 36, 50, 52, 94, 100, 163, 170, 176, 190, 196, 198, 35, 133, 39, 156, 106, 101, 111, 56, 38, 146, 123, 69, 34, 133, 39, 106], [68, 72, 85, 91, 92, 132, 133, 135, 150, 155, 188, 181, 29, 58, 40, 144, 90, 131, 187, 23, 83, 194, 130], [52, 95, 113, 146, 154, 163, 10, 48, 41, 46, 50, 167, 156]]\n",
      "velocity \n",
      "-------------------------------------------\n",
      "No file!\n",
      "\n",
      "------------------------------------------- \n",
      "list_delete \n",
      "[[10, 42, 82, 83, 90, 143, 150, 151, 163, 179, 29, 36, 50, 52, 94, 100, 163, 170, 176, 190, 196, 198, 35, 133, 39, 156, 106, 101, 111, 56, 38, 146, 123, 69, 34, 133, 39, 106], [72, 116, 118, 123, 162, 164, 178, 68, 72, 85, 91, 92, 132, 133, 135, 150, 155, 188, 181, 29, 58, 40, 144, 90, 131, 187, 23, 83, 194, 130], [5, 11, 21, 32, 44, 53, 98, 52, 95, 113, 146, 154, 163, 10, 48, 41, 46, 50, 167, 156]]\n"
     ]
    }
   ],
   "source": [
    "with open('parametre/Delete_list_trials_velocity_fct.pkl', 'rb') as fichier :\n",
    "    Delete_list_trials = pickle.load(fichier, encoding='latin1')\n",
    "\n",
    "with open('parametre/Delete_list_new_Bad_trials_velocity.pkl', 'rb') as fichier :\n",
    "    Bad_Fit = pickle.load(fichier, encoding='latin1')\n",
    "\n",
    "Delete_list_trials = Delete_list_trials[sujets[num_suj]]\n",
    "Bad_Fit = Bad_Fit[sujets[num_suj]]\n",
    "print('Delete', Delete_list_trials)\n",
    "print('Bad', Bad_Fit)\n",
    "\n",
    "for fct in list_fct.keys():\n",
    "    print(fct, '\\n-------------------------------------------')\n",
    "    try :\n",
    "        with open('parametre/Delete_list_BadTrials_%s_%s.pkl'%(sujets[num_suj], list_fct[fct]), 'rb') as fichier:\n",
    "            f = pickle.load(fichier, encoding='latin1')\n",
    "        print(f)\n",
    "    except : print('No file!')\n",
    "\n",
    "print('\\n------------------------------------------- \\nlist_delete ')\n",
    "\n",
    "list_delete = []\n",
    "for b in range(param_exp['N_blocks']) :\n",
    "    list_delete.append([])\n",
    "    try : list_delete[b].extend(Delete_list_trials[b])\n",
    "    except : pass\n",
    "    try : list_delete[b].extend(Bad_Fit[b])\n",
    "    except : pass\n",
    "    try : list_delete[b].extend(f[b])\n",
    "    except : pass\n",
    "    \n",
    "print(list_delete)"
   ]
  },
  {
   "cell_type": "code",
   "execution_count": 8,
   "metadata": {},
   "outputs": [
    {
     "data": {
      "application/vnd.jupyter.widget-view+json": {
       "model_id": "3605a84d53d24f829f35cbf622a28684",
       "version_major": 2,
       "version_minor": 0
      },
      "text/plain": [
       "GridBox(children=(Dropdown(description='show', layout=Layout(grid_area='show', width='90%'), options=('data', …"
      ]
     },
     "metadata": {},
     "output_type": "display_data"
    }
   ],
   "source": [
    "Full_list = Plot.show_fig(data, list_fct, Full_param_fit, list_delete=list_delete, show_data='velocity')"
   ]
  },
  {
   "cell_type": "markdown",
   "metadata": {},
   "source": [
    "to retrieve the lists"
   ]
  },
  {
   "cell_type": "code",
   "execution_count": 9,
   "metadata": {},
   "outputs": [
    {
     "name": "stdout",
     "output_type": "stream",
     "text": [
      "data \n",
      "-------------------------------------------\n",
      "fct_velocity_sigmo :\n",
      "\tOK: [[], [], []] \n",
      "\tBad: [[], [182], [73]]\n",
      "\n",
      "fit \n",
      "-------------------------------------------\n",
      "fct_velocity_sigmo :\n",
      "\tOK: [[], [], []] \n",
      "\tBad: [[], [182], [73]]\n",
      "\n"
     ]
    }
   ],
   "source": [
    "list_ok, list_bad = {}, {}\n",
    "\n",
    "for s in ['data', 'fit'] :\n",
    "    \n",
    "    list_ok[s], list_bad[s] = {}, {}\n",
    "    print(s, '\\n-------------------------------------------')\n",
    "    \n",
    "    for fct in list_fct.keys():\n",
    "        list_ok[s][fct], list_bad[s][fct] = [], []\n",
    "        for block in range(3) :\n",
    "            list_ok[s][fct].append([])\n",
    "            list_bad[s][fct].append([])\n",
    "\n",
    "            for trial in range(200) :\n",
    "                if Full_list[s][fct][block][trial]=='OK' :\n",
    "                    list_ok[s][fct][block].append(trial)\n",
    "                elif Full_list[s][fct][block][trial]=='Bad' :\n",
    "                    list_bad[s][fct][block].append(trial)\n",
    "\n",
    "            list_bad[s][fct][block].sort(); list_ok[s][fct][block].sort()\n",
    "\n",
    "        print(list_fct[fct], ':\\n\\tOK:', list_ok[s][fct], '\\n\\tBad:', list_bad[s][fct], end='\\n\\n')"
   ]
  },
  {
   "cell_type": "code",
   "execution_count": 10,
   "metadata": {},
   "outputs": [
    {
     "name": "stdout",
     "output_type": "stream",
     "text": [
      "IP fct_velocity_sigmo\n"
     ]
    }
   ],
   "source": [
    "for fct in list_fct.keys():\n",
    "    print(sujets[num_suj], list_fct[fct])\n",
    "    with open('parametre/Delete_list_BadTrials_%s_%s.pkl'%(sujets[num_suj], list_fct[fct]), 'wb') as fichier:\n",
    "        f = pickle.Pickler(fichier)\n",
    "        f.dump(list_bad['fit'][fct])"
   ]
  },
  {
   "cell_type": "code",
   "execution_count": null,
   "metadata": {},
   "outputs": [],
   "source": []
  }
 ],
 "metadata": {
  "kernelspec": {
   "display_name": "Python 3",
   "language": "python",
   "name": "python3"
  },
  "language_info": {
   "codemirror_mode": {
    "name": "ipython",
    "version": 3
   },
   "file_extension": ".py",
   "mimetype": "text/x-python",
   "name": "python",
   "nbconvert_exporter": "python",
   "pygments_lexer": "ipython3",
   "version": "3.5.2"
  }
 },
 "nbformat": 4,
 "nbformat_minor": 2
}
