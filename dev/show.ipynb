{
 "cells": [
  {
   "cell_type": "code",
   "execution_count": 1,
   "metadata": {},
   "outputs": [],
   "source": [
    "%matplotlib inline\n",
    "%config InlineBackend.close_figures=False \n",
    "\n",
    "from ANEMO import ANEMO\n",
    "from ANEMO import read_edf\n",
    "\n",
    "import os\n",
    "import pickle\n",
    "import numpy as np"
   ]
  },
  {
   "cell_type": "code",
   "execution_count": 2,
   "metadata": {},
   "outputs": [],
   "source": [
    "sujets = ['AM','BMC','CS','DC','FM','IP','LB','OP','RS','SR','TN','YK']\n",
    "times = ['2017-10-23_100057','2017-09-26_095637', '2017-10-03_134421','2017-09-27_161040',\n",
    "        '2017-10-03_143803','2017-09-28_115250', '2017-09-20_151043','2017-10-26_121823',\n",
    "        '2017-11-08_094717','2017-11-16_153313', '2017-11-08_150410','2017-11-17_172706']"
   ]
  },
  {
   "cell_type": "code",
   "execution_count": 3,
   "metadata": {},
   "outputs": [
    {
     "data": {
      "text/plain": [
       "'OP'"
      ]
     },
     "execution_count": 3,
     "metadata": {},
     "output_type": "execute_result"
    }
   ],
   "source": [
    "num_suj = 7\n",
    "sujets[num_suj]"
   ]
  },
  {
   "cell_type": "code",
   "execution_count": 4,
   "metadata": {},
   "outputs": [],
   "source": [
    "file = os.path.join('data', 'enregistrement_%s_%s.pkl'%(sujets[num_suj], times[num_suj]))\n",
    "with open(file, 'rb') as fichier :\n",
    "    param_exp = pickle.load(fichier, encoding='latin1')\n",
    "resultats = os.path.join('data', 'enregistrement_%s_%s.asc'%(sujets[num_suj], times[num_suj]))\n",
    "data = read_edf(resultats, 'TRIALID')\n",
    "\n",
    "Plot = ANEMO.Plot(param_exp)\n",
    "#Fit = ANEMO.Fit(param_exp)\n",
    "#ANEMO = ANEMO(param_exp)"
   ]
  },
  {
   "cell_type": "code",
   "execution_count": 5,
   "metadata": {},
   "outputs": [],
   "source": [
    "list_fct = {#'velocity':'fct_velocity',\n",
    "            'velocity':'fct_velocity_sigmo',\n",
    "            #'velocity':'fct_velocity_line',\n",
    "            #'position':'fct_position',\n",
    "            #'saccade':'fct_saccade'\n",
    "           }"
   ]
  },
  {
   "cell_type": "code",
   "execution_count": 6,
   "metadata": {},
   "outputs": [
    {
     "name": "stdout",
     "output_type": "stream",
     "text": [
      "fct_velocity_sigmo OK param\n"
     ]
    }
   ],
   "source": [
    "Full_param_fit = {}\n",
    "for fct in list_fct.values() :\n",
    "    #Full_param_fit[fct] = None\n",
    "    try :\n",
    "        file = os.path.join('parametre/%s/param_Fit_%s_%s.pkl'%(fct, sujets[num_suj], fct))\n",
    "        with open(file, 'rb') as fichier :\n",
    "            Full_param_fit[fct] = pickle.load(fichier, encoding='latin1')\n",
    "        print(fct, 'OK param')\n",
    "    except :\n",
    "        Full_param_fit[fct] = None"
   ]
  },
  {
   "cell_type": "markdown",
   "metadata": {},
   "source": [
    "# Figure"
   ]
  },
  {
   "cell_type": "code",
   "execution_count": 7,
   "metadata": {
    "scrolled": true
   },
   "outputs": [
    {
     "name": "stdout",
     "output_type": "stream",
     "text": [
      "fct_velocity_sigmo \n",
      "-------------------------------------------\n",
      "[[26, 28, 32, 38, 40, 46, 52, 66, 68, 70, 71, 75, 79, 81, 85, 86, 89, 90, 98, 100, 122, 123, 126, 130, 131, 140, 143, 154, 157, 166, 171, 179, 183, 188, 196, 199], [0, 16, 36, 48, 86, 87, 94, 99, 120, 122, 128, 134, 137, 138, 149, 167, 182, 192, 194, 197], [5, 22, 26, 31, 33, 37, 44, 48, 84, 86, 87, 93, 95, 96, 104, 112, 114, 115, 126, 135, 137, 143, 144, 148, 160, 174, 199]]\n",
      "\n",
      "------------------------------------------- \n",
      "list_delete \n",
      "[[26, 28, 32, 38, 40, 46, 52, 66, 68, 70, 71, 75, 79, 81, 85, 86, 89, 90, 98, 100, 122, 123, 126, 130, 131, 140, 143, 154, 157, 166, 171, 179, 183, 188, 196, 199], [0, 16, 36, 48, 86, 87, 94, 99, 120, 122, 128, 134, 137, 138, 149, 167, 182, 192, 194, 197], [5, 22, 26, 31, 33, 37, 44, 48, 84, 86, 87, 93, 95, 96, 104, 112, 114, 115, 126, 135, 137, 143, 144, 148, 160, 174, 199]]\n"
     ]
    }
   ],
   "source": [
    "'''with open('parametre/Delete/Delete_list_trials_velocity_fct.pkl', 'rb') as fichier :\n",
    "    Delete_list_trials = pickle.load(fichier, encoding='latin1')\n",
    "\n",
    "with open('parametre/Delete/Delete_list_new_Bad_trials_velocity.pkl', 'rb') as fichier :\n",
    "    Bad_Fit = pickle.load(fichier, encoding='latin1')\n",
    "\n",
    "Delete_list_trials = Delete_list_trials[sujets[num_suj]]\n",
    "Bad_Fit = Bad_Fit[sujets[num_suj]]\n",
    "print('Delete', Delete_list_trials)\n",
    "print('Bad', Bad_Fit)'''\n",
    "\n",
    "for fct in list_fct.keys():\n",
    "    print(list_fct[fct], '\\n-------------------------------------------')\n",
    "    try :\n",
    "        with open('parametre/Delete/%s/Delete_list_BadTrials_%s_%s.pkl'%(list_fct[fct], sujets[num_suj], list_fct[fct]), 'rb') as fichier:\n",
    "            f = pickle.load(fichier, encoding='latin1')\n",
    "        print(f)\n",
    "    except : print('No file!')\n",
    "\n",
    "print('\\n------------------------------------------- \\nlist_delete ')\n",
    "\n",
    "list_delete = []\n",
    "for b in range(param_exp['N_blocks']) :\n",
    "    list_delete.append([])\n",
    "    try : list_delete[b].extend(Delete_list_trials[b])\n",
    "    except : pass\n",
    "    try : list_delete[b].extend(Bad_Fit[b])\n",
    "    except : pass\n",
    "    try : list_delete[b].extend(f[b])\n",
    "    except : pass\n",
    "    \n",
    "print(list_delete)"
   ]
  },
  {
   "cell_type": "code",
   "execution_count": 8,
   "metadata": {},
   "outputs": [
    {
     "data": {
      "application/vnd.jupyter.widget-view+json": {
       "model_id": "e3dc07114560496396dabb48dcc36591",
       "version_major": 2,
       "version_minor": 0
      },
      "text/plain": [
       "GridBox(children=(Dropdown(description='show', layout=Layout(grid_area='show', width='90%'), options=('data', …"
      ]
     },
     "metadata": {},
     "output_type": "display_data"
    }
   ],
   "source": [
    "Full_list = Plot.show_fig(data, list_fct, Full_param_fit, list_delete=list_delete, show_data='velocity')"
   ]
  },
  {
   "cell_type": "markdown",
   "metadata": {},
   "source": [
    "to retrieve the lists"
   ]
  },
  {
   "cell_type": "code",
   "execution_count": 9,
   "metadata": {},
   "outputs": [
    {
     "name": "stdout",
     "output_type": "stream",
     "text": [
      "data \n",
      "-------------------------------------------\n",
      "fct_velocity_sigmo :\n",
      "\tOK: [[], [], []] \n",
      "\tBad: [[26, 28, 32, 38, 40, 46, 52, 66, 68, 70, 71, 75, 79, 81, 85, 86, 89, 90, 98, 100, 122, 123, 126, 130, 131, 140, 143, 154, 157, 166, 171, 179, 183, 188, 196, 199], [0, 16, 36, 48, 86, 87, 94, 99, 120, 122, 128, 134, 137, 138, 149, 167, 182, 192, 194, 197], [5, 22, 26, 31, 33, 37, 44, 48, 84, 86, 87, 93, 95, 96, 104, 112, 114, 115, 126, 135, 137, 143, 144, 148, 160, 174, 199]]\n",
      "\n",
      "fit \n",
      "-------------------------------------------\n",
      "fct_velocity_sigmo :\n",
      "\tOK: [[], [], []] \n",
      "\tBad: [[26, 28, 32, 38, 40, 46, 52, 66, 68, 70, 71, 75, 79, 81, 85, 86, 89, 90, 98, 100, 122, 123, 126, 130, 131, 140, 143, 154, 157, 166, 171, 179, 183, 188, 196, 199], [0, 16, 36, 48, 86, 87, 94, 99, 120, 122, 128, 134, 137, 138, 149, 167, 182, 192, 194, 197], [5, 22, 26, 31, 33, 37, 44, 48, 84, 86, 87, 93, 95, 96, 104, 112, 114, 115, 126, 135, 137, 143, 144, 148, 160, 163, 174, 199]]\n",
      "\n"
     ]
    }
   ],
   "source": [
    "list_ok, list_bad = {}, {}\n",
    "\n",
    "for s in ['data', 'fit'] :\n",
    "    \n",
    "    list_ok[s], list_bad[s] = {}, {}\n",
    "    print(s, '\\n-------------------------------------------')\n",
    "    \n",
    "    for fct in list_fct.keys():\n",
    "        list_ok[s][fct], list_bad[s][fct] = [], []\n",
    "        for block in range(3) :\n",
    "            list_ok[s][fct].append([])\n",
    "            list_bad[s][fct].append([])\n",
    "\n",
    "            for trial in range(200) :\n",
    "                if Full_list[s][fct][block][trial]=='OK' :\n",
    "                    list_ok[s][fct][block].append(trial)\n",
    "                elif Full_list[s][fct][block][trial]=='Bad' :\n",
    "                    list_bad[s][fct][block].append(trial)\n",
    "\n",
    "            list_bad[s][fct][block].sort(); list_ok[s][fct][block].sort()\n",
    "\n",
    "        print(list_fct[fct], ':\\n\\tOK:', list_ok[s][fct], '\\n\\tBad:', list_bad[s][fct], end='\\n\\n')"
   ]
  },
  {
   "cell_type": "code",
   "execution_count": 10,
   "metadata": {},
   "outputs": [
    {
     "name": "stdout",
     "output_type": "stream",
     "text": [
      "OP fct_velocity_sigmo\n"
     ]
    }
   ],
   "source": [
    "for fct in list_fct.keys():\n",
    "    print(sujets[num_suj], list_fct[fct])\n",
    "    with open('parametre/Delete/%s/Delete_list_BadTrials_%s_%s.pkl'%(list_fct[fct], sujets[num_suj], list_fct[fct]), 'wb') as fichier:\n",
    "        f = pickle.Pickler(fichier)\n",
    "        f.dump(list_bad['fit'][fct])"
   ]
  },
  {
   "cell_type": "code",
   "execution_count": null,
   "metadata": {},
   "outputs": [],
   "source": []
  }
 ],
 "metadata": {
  "kernelspec": {
   "display_name": "Python 3",
   "language": "python",
   "name": "python3"
  },
  "language_info": {
   "codemirror_mode": {
    "name": "ipython",
    "version": 3
   },
   "file_extension": ".py",
   "mimetype": "text/x-python",
   "name": "python",
   "nbconvert_exporter": "python",
   "pygments_lexer": "ipython3",
   "version": "3.5.2"
  }
 },
 "nbformat": 4,
 "nbformat_minor": 2
}
