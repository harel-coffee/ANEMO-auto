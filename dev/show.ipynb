{
 "cells": [
  {
   "cell_type": "code",
   "execution_count": 1,
   "metadata": {},
   "outputs": [],
   "source": [
    "%matplotlib inline\n",
    "%config InlineBackend.close_figures=False \n",
    "\n",
    "from ANEMO import ANEMO\n",
    "from ANEMO import read_edf\n",
    "\n",
    "import os\n",
    "import pickle\n",
    "import numpy as np"
   ]
  },
  {
   "cell_type": "code",
   "execution_count": 2,
   "metadata": {},
   "outputs": [],
   "source": [
    "sujets = ['AM','BMC','CS','DC','FM','IP','LB','OP','RS','SR','TN','YK']\n",
    "times = ['2017-10-23_100057','2017-09-26_095637', '2017-10-03_134421','2017-09-27_161040',\n",
    "        '2017-10-03_143803','2017-09-28_115250', '2017-09-20_151043','2017-10-26_121823',\n",
    "        '2017-11-08_094717','2017-11-16_153313', '2017-11-08_150410','2017-11-17_172706']"
   ]
  },
  {
   "cell_type": "code",
   "execution_count": 3,
   "metadata": {},
   "outputs": [],
   "source": [
    "num_suj = 11"
   ]
  },
  {
   "cell_type": "code",
   "execution_count": 4,
   "metadata": {},
   "outputs": [],
   "source": [
    "file = os.path.join('data', 'enregistrement_%s_%s.pkl'%(sujets[num_suj], times[num_suj]))\n",
    "with open(file, 'rb') as fichier :\n",
    "    param_exp = pickle.load(fichier, encoding='latin1')\n",
    "resultats = os.path.join('data', 'enregistrement_%s_%s.asc'%(sujets[num_suj], times[num_suj]))\n",
    "data = read_edf(resultats, 'TRIALID')\n",
    "\n",
    "Plot = ANEMO.Plot(param_exp)\n",
    "#Fit = ANEMO.Fit(param_exp)\n",
    "#ANEMO = ANEMO(param_exp)"
   ]
  },
  {
   "cell_type": "code",
   "execution_count": 5,
   "metadata": {},
   "outputs": [],
   "source": [
    "list_fct = {#'velocity':'fct_velocity',\n",
    "            'velocity':'fct_velocity_sigmo',\n",
    "            #'velocity':'fct_velocity_line',\n",
    "            #'position':'fct_position',\n",
    "            #'saccade':'fct_saccade'\n",
    "           }"
   ]
  },
  {
   "cell_type": "code",
   "execution_count": 6,
   "metadata": {},
   "outputs": [
    {
     "name": "stdout",
     "output_type": "stream",
     "text": [
      "fct_velocity_sigmo OK param\n"
     ]
    }
   ],
   "source": [
    "Full_param_fit = {}\n",
    "for fct in list_fct.values() :\n",
    "    #Full_param_fit[fct] = None\n",
    "    try :\n",
    "        file = os.path.join('parametre/param_Fit_%s_%s.pkl'%(sujets[num_suj], fct))\n",
    "        with open(file, 'rb') as fichier :\n",
    "            Full_param_fit[fct] = pickle.load(fichier, encoding='latin1')\n",
    "        print(fct, 'OK param')\n",
    "    except :\n",
    "        Full_param_fit[fct] = None"
   ]
  },
  {
   "cell_type": "markdown",
   "metadata": {},
   "source": [
    "# Figure"
   ]
  },
  {
   "cell_type": "code",
   "execution_count": 7,
   "metadata": {
    "scrolled": true
   },
   "outputs": [
    {
     "name": "stdout",
     "output_type": "stream",
     "text": [
      "Delete [[47, 58, 62, 65, 66, 67, 68, 69, 70, 71, 72, 73, 75, 76, 78, 79, 84, 103, 112, 113, 114, 116, 117, 118, 123, 124, 127, 128, 132, 136, 137, 138, 141, 142, 143, 145, 147, 149, 153, 155, 156, 157, 158, 159, 160, 161, 162, 163, 164, 165, 166, 167, 168, 169, 170, 171, 172, 173, 174, 175, 176, 184, 185, 186, 189, 190], [14, 17, 22, 23, 25, 30, 31, 32, 34, 36, 40, 41, 42, 43, 46, 53, 54, 65, 67, 69, 76, 77, 93, 107, 109, 112, 113, 133, 137, 138, 139, 156, 176, 192, 197], [1, 3, 12, 26, 30, 69, 71, 81, 104, 105, 107, 108, 114, 117, 122, 144, 150, 172, 190, 192, 193, 197]]\n",
      "Bad [[66, 68, 71, 72, 73, 75, 76, 78, 79, 80, 82, 84, 85, 87, 92, 93, 113, 114, 117, 118, 123, 128, 130, 133, 136, 137, 138, 141, 142, 145, 149, 153, 155, 156, 157, 158, 159, 160, 161, 162, 163, 164, 165, 166, 167, 168, 169, 170, 171, 172, 173, 174, 175, 176, 180, 183, 185, 186, 187, 189, 190, 191, 195, 131, 31, 41, 199, 42, 39, 86, 181], [11, 15, 17, 19, 22, 23, 25, 29, 30, 31, 32, 33, 34, 35, 36, 37, 38, 39, 40, 41, 42, 43, 44, 45, 46, 54, 65, 67, 70, 71, 74, 76, 77, 81, 84, 87, 91, 92, 93, 94, 95, 96, 97, 99, 107, 109, 115, 126, 129, 132, 133, 134, 135, 137, 138, 139, 141, 142, 144, 145, 147, 148, 149, 151, 156, 157, 160, 169, 178, 180, 192, 193, 196, 198, 199, 117, 119, 8, 98, 84], [1, 2, 3, 4, 12, 16, 22, 25, 40, 44, 45, 47, 49, 50, 51, 53, 54, 58, 59, 60, 62, 65, 67, 68, 69, 70, 71, 73, 75, 76, 77, 78, 81, 87, 89, 91, 92, 94, 96, 97, 105, 106, 107, 121, 123, 125, 129, 131, 132, 135, 137, 139, 141, 143, 147, 148, 150, 158, 131, 172, 175, 180, 185, 191, 197, 198, 43, 74, 196, 146, 128, 103, 31]]\n",
      "velocity \n",
      "-------------------------------------------\n",
      "No file!\n",
      "\n",
      "------------------------------------------- \n",
      "list_delete \n",
      "[[47, 58, 62, 65, 66, 67, 68, 69, 70, 71, 72, 73, 75, 76, 78, 79, 84, 103, 112, 113, 114, 116, 117, 118, 123, 124, 127, 128, 132, 136, 137, 138, 141, 142, 143, 145, 147, 149, 153, 155, 156, 157, 158, 159, 160, 161, 162, 163, 164, 165, 166, 167, 168, 169, 170, 171, 172, 173, 174, 175, 176, 184, 185, 186, 189, 190, 66, 68, 71, 72, 73, 75, 76, 78, 79, 80, 82, 84, 85, 87, 92, 93, 113, 114, 117, 118, 123, 128, 130, 133, 136, 137, 138, 141, 142, 145, 149, 153, 155, 156, 157, 158, 159, 160, 161, 162, 163, 164, 165, 166, 167, 168, 169, 170, 171, 172, 173, 174, 175, 176, 180, 183, 185, 186, 187, 189, 190, 191, 195, 131, 31, 41, 199, 42, 39, 86, 181], [14, 17, 22, 23, 25, 30, 31, 32, 34, 36, 40, 41, 42, 43, 46, 53, 54, 65, 67, 69, 76, 77, 93, 107, 109, 112, 113, 133, 137, 138, 139, 156, 176, 192, 197, 11, 15, 17, 19, 22, 23, 25, 29, 30, 31, 32, 33, 34, 35, 36, 37, 38, 39, 40, 41, 42, 43, 44, 45, 46, 54, 65, 67, 70, 71, 74, 76, 77, 81, 84, 87, 91, 92, 93, 94, 95, 96, 97, 99, 107, 109, 115, 126, 129, 132, 133, 134, 135, 137, 138, 139, 141, 142, 144, 145, 147, 148, 149, 151, 156, 157, 160, 169, 178, 180, 192, 193, 196, 198, 199, 117, 119, 8, 98, 84], [1, 3, 12, 26, 30, 69, 71, 81, 104, 105, 107, 108, 114, 117, 122, 144, 150, 172, 190, 192, 193, 197, 1, 2, 3, 4, 12, 16, 22, 25, 40, 44, 45, 47, 49, 50, 51, 53, 54, 58, 59, 60, 62, 65, 67, 68, 69, 70, 71, 73, 75, 76, 77, 78, 81, 87, 89, 91, 92, 94, 96, 97, 105, 106, 107, 121, 123, 125, 129, 131, 132, 135, 137, 139, 141, 143, 147, 148, 150, 158, 131, 172, 175, 180, 185, 191, 197, 198, 43, 74, 196, 146, 128, 103, 31]]\n"
     ]
    }
   ],
   "source": [
    "with open('parametre/Delete_list_trials_velocity_fct.pkl', 'rb') as fichier :\n",
    "    Delete_list_trials = pickle.load(fichier, encoding='latin1')\n",
    "\n",
    "with open('parametre/Delete_list_new_Bad_trials_velocity.pkl', 'rb') as fichier :\n",
    "    Bad_Fit = pickle.load(fichier, encoding='latin1')\n",
    "\n",
    "Delete_list_trials = Delete_list_trials[sujets[num_suj]]\n",
    "Bad_Fit = Bad_Fit[sujets[num_suj]]\n",
    "print('Delete', Delete_list_trials)\n",
    "print('Bad', Bad_Fit)\n",
    "\n",
    "for fct in list_fct.keys():\n",
    "    print(fct, '\\n-------------------------------------------')\n",
    "    try :\n",
    "        with open('parametre/Delete_list_BadTrials_%s_%s.pkl'%(sujets[num_suj], list_fct[fct]), 'rb') as fichier:\n",
    "            f = pickle.load(fichier, encoding='latin1')\n",
    "        print(f)\n",
    "    except : print('No file!')\n",
    "\n",
    "print('\\n------------------------------------------- \\nlist_delete ')\n",
    "\n",
    "list_delete = []\n",
    "for b in range(param_exp['N_blocks']) :\n",
    "    list_delete.append([])\n",
    "    try : list_delete[b].extend(Delete_list_trials[b])\n",
    "    except : pass\n",
    "    try : list_delete[b].extend(Bad_Fit[b])\n",
    "    except : pass\n",
    "    try : list_delete[b].extend(f[b])\n",
    "    except : pass\n",
    "    \n",
    "print(list_delete)"
   ]
  },
  {
   "cell_type": "code",
   "execution_count": 8,
   "metadata": {},
   "outputs": [
    {
     "data": {
      "application/vnd.jupyter.widget-view+json": {
       "model_id": "b19fa678556a4803ba09dfb77704fc25",
       "version_major": 2,
       "version_minor": 0
      },
      "text/plain": [
       "GridBox(children=(Dropdown(description='show', layout=Layout(grid_area='show', width='90%'), options=('data', …"
      ]
     },
     "metadata": {},
     "output_type": "display_data"
    },
    {
     "name": "stderr",
     "output_type": "stream",
     "text": [
      "/usr/local/lib/python3.6/dist-packages/ANEMO-0.0.1-py3.6.egg/ANEMO/ANEMO.py:444: RuntimeWarning: divide by zero encountered in true_divide\n",
      "/usr/local/lib/python3.6/dist-packages/ANEMO-0.0.1-py3.6.egg/ANEMO/ANEMO.py:444: RuntimeWarning: invalid value encountered in true_divide\n"
     ]
    }
   ],
   "source": [
    "Full_list = Plot.show_fig(data, list_fct, Full_param_fit, list_delete=list_delete, show_data='velocity')"
   ]
  },
  {
   "cell_type": "markdown",
   "metadata": {},
   "source": [
    "to retrieve the lists"
   ]
  },
  {
   "cell_type": "code",
   "execution_count": 9,
   "metadata": {},
   "outputs": [
    {
     "name": "stdout",
     "output_type": "stream",
     "text": [
      "data \n",
      "-------------------------------------------\n",
      "fct_velocity_sigmo :\n",
      "\tOK: [[], [], []] \n",
      "\tBad: [[31, 39, 41, 42, 47, 58, 62, 65, 66, 67, 68, 69, 70, 71, 72, 73, 75, 76, 78, 79, 80, 82, 84, 85, 86, 87, 92, 93, 103, 112, 113, 114, 116, 117, 118, 123, 124, 127, 128, 130, 131, 132, 133, 136, 137, 138, 141, 142, 143, 145, 147, 149, 153, 155, 156, 157, 158, 159, 160, 161, 162, 163, 164, 165, 166, 167, 168, 169, 170, 171, 172, 173, 174, 175, 176, 180, 181, 183, 184, 185, 186, 187, 189, 190, 191, 195, 199], [8, 11, 14, 15, 17, 19, 22, 23, 25, 29, 30, 31, 32, 33, 34, 35, 36, 37, 38, 39, 40, 41, 42, 43, 44, 45, 46, 53, 54, 65, 67, 69, 70, 71, 74, 76, 77, 81, 84, 87, 91, 92, 93, 94, 95, 96, 97, 98, 99, 107, 109, 112, 113, 115, 117, 119, 126, 129, 132, 133, 134, 135, 137, 138, 139, 141, 142, 144, 145, 147, 148, 149, 151, 156, 157, 160, 169, 176, 178, 180, 192, 193, 196, 197, 198, 199], [1, 2, 3, 4, 12, 16, 22, 25, 26, 30, 31, 40, 43, 44, 45, 47, 49, 50, 51, 53, 54, 58, 59, 60, 62, 65, 67, 68, 69, 70, 71, 73, 74, 75, 76, 77, 78, 81, 87, 89, 91, 92, 94, 96, 97, 103, 104, 105, 106, 107, 108, 114, 117, 121, 122, 123, 125, 128, 129, 131, 132, 135, 137, 139, 141, 143, 144, 146, 147, 148, 150, 158, 172, 175, 180, 185, 190, 191, 192, 193, 196, 197, 198]]\n",
      "\n",
      "fit \n",
      "-------------------------------------------\n",
      "fct_velocity_sigmo :\n",
      "\tOK: [[31, 39, 41, 42, 47, 58, 62, 65, 67, 68, 69, 70, 71, 76, 77, 80, 83, 86, 93, 103, 112, 113, 114, 116, 117, 124, 127, 130, 131, 133, 136, 143, 145, 149, 156, 164, 177, 180, 181, 183, 184, 185, 187, 195, 199], [8, 11, 14, 15, 17, 19, 29, 30, 31, 32, 33, 34, 35, 43, 53, 54, 71, 74, 81, 87, 97, 98, 117, 119, 129, 132, 134, 135, 141, 145, 147, 176, 178, 180, 197], [2, 4, 16, 25, 30, 31, 43, 45, 49, 50, 53, 54, 60, 65, 67, 68, 70, 74, 77, 87, 91, 97, 103, 104, 106, 121, 128, 129, 132, 135, 143, 144, 146, 147, 148, 158, 175, 180, 185, 190, 193, 196, 199]] \n",
      "\tBad: [[66, 72, 73, 75, 78, 79, 82, 84, 85, 87, 92, 100, 118, 123, 128, 132, 137, 138, 141, 142, 147, 153, 155, 157, 158, 159, 160, 161, 162, 163, 165, 166, 167, 168, 169, 170, 171, 172, 173, 174, 175, 176, 186, 189, 190, 191], [22, 23, 25, 36, 37, 38, 39, 40, 41, 42, 44, 45, 46, 65, 67, 69, 70, 76, 77, 84, 91, 92, 93, 94, 95, 96, 99, 107, 109, 112, 113, 115, 126, 133, 137, 138, 139, 142, 144, 148, 149, 151, 156, 157, 160, 169, 192, 193, 196, 198, 199], [1, 3, 12, 22, 26, 40, 44, 47, 51, 58, 59, 62, 69, 71, 73, 75, 76, 78, 81, 89, 92, 94, 96, 105, 107, 108, 114, 117, 122, 123, 125, 131, 137, 139, 141, 150, 172, 191, 192, 197, 198]]\n",
      "\n"
     ]
    }
   ],
   "source": [
    "list_ok, list_bad = {}, {}\n",
    "\n",
    "for s in ['data', 'fit'] :\n",
    "    \n",
    "    list_ok[s], list_bad[s] = {}, {}\n",
    "    print(s, '\\n-------------------------------------------')\n",
    "    \n",
    "    for fct in list_fct.keys():\n",
    "        list_ok[s][fct], list_bad[s][fct] = [], []\n",
    "        for block in range(3) :\n",
    "            list_ok[s][fct].append([])\n",
    "            list_bad[s][fct].append([])\n",
    "\n",
    "            for trial in range(200) :\n",
    "                if Full_list[s][fct][block][trial]=='OK' :\n",
    "                    list_ok[s][fct][block].append(trial)\n",
    "                elif Full_list[s][fct][block][trial]=='Bad' :\n",
    "                    list_bad[s][fct][block].append(trial)\n",
    "\n",
    "            list_bad[s][fct][block].sort(); list_ok[s][fct][block].sort()\n",
    "\n",
    "        print(list_fct[fct], ':\\n\\tOK:', list_ok[s][fct], '\\n\\tBad:', list_bad[s][fct], end='\\n\\n')"
   ]
  },
  {
   "cell_type": "code",
   "execution_count": 10,
   "metadata": {},
   "outputs": [
    {
     "name": "stdout",
     "output_type": "stream",
     "text": [
      "YK fct_velocity_sigmo\n"
     ]
    }
   ],
   "source": [
    "for fct in list_fct.keys():\n",
    "    print(sujets[num_suj], list_fct[fct])\n",
    "    with open('parametre/Delete_list_BadTrials_%s_%s.pkl'%(sujets[num_suj], list_fct[fct]), 'wb') as fichier:\n",
    "        f = pickle.Pickler(fichier)\n",
    "        f.dump(list_bad['fit'][fct])"
   ]
  },
  {
   "cell_type": "code",
   "execution_count": null,
   "metadata": {},
   "outputs": [],
   "source": []
  }
 ],
 "metadata": {
  "kernelspec": {
   "display_name": "Python 3",
   "language": "python",
   "name": "python3"
  },
  "language_info": {
   "codemirror_mode": {
    "name": "ipython",
    "version": 3
   },
   "file_extension": ".py",
   "mimetype": "text/x-python",
   "name": "python",
   "nbconvert_exporter": "python",
   "pygments_lexer": "ipython3",
   "version": "3.6.7"
  }
 },
 "nbformat": 4,
 "nbformat_minor": 2
}
