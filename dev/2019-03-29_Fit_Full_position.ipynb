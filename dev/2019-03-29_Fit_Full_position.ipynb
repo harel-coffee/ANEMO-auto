{
 "cells": [
  {
   "cell_type": "code",
   "execution_count": 1,
   "metadata": {},
   "outputs": [],
   "source": [
    "from ANEMO import ANEMO\n",
    "from ANEMO.edfreader import read_edf\n",
    "import pickle"
   ]
  },
  {
   "cell_type": "code",
   "execution_count": 2,
   "metadata": {},
   "outputs": [],
   "source": [
    "sujets = ['AM','BMC','CS','DC','FM','IP','LB','OP','RS','SR','TN','YK']\n",
    "times = ['2017-10-23_100057','2017-09-26_095637', '2017-10-03_134421','2017-09-27_161040',\n",
    "        '2017-10-03_143803','2017-09-28_115250', '2017-09-20_151043','2017-10-26_121823',\n",
    "        '2017-11-08_094717','2017-11-16_153313', '2017-11-08_150410','2017-11-17_172706']"
   ]
  },
  {
   "cell_type": "code",
   "execution_count": 3,
   "metadata": {
    "scrolled": true
   },
   "outputs": [],
   "source": [
    "def fit(s) :\n",
    "    print(sujets[s])\n",
    "    \n",
    "    with open('data/enregistrement_%s_%s.pkl'%(sujets[s], times[s]), 'rb') as fichier :\n",
    "        exp = pickle.load(fichier, encoding='latin1')\n",
    "\n",
    "    datafile = 'data/enregistrement_%s_%s.asc'%(sujets[s], times[s])\n",
    "    data = read_edf(datafile, 'TRIALID')\n",
    "\n",
    "    Fit = ANEMO.Fit(exp)\n",
    "    \n",
    "    param_fit = Fit.Fit_full(data, equation='fct_position', plot=None,\n",
    "                             fig_width=10, t_label=15, t_text=12,\n",
    "                             file_fig='figures/Fit_fct_position_%s'%sujets[s])\n",
    "\n",
    "    with open('parametre/param_Fit_%s_fct_position.pkl'%sujets[s], 'wb') as fichier:\n",
    "        f = pickle.Pickler(fichier)\n",
    "        f.dump(param_fit)"
   ]
  },
  {
   "cell_type": "code",
   "execution_count": null,
   "metadata": {
    "scrolled": true
   },
   "outputs": [
    {
     "name": "stdout",
     "output_type": "stream",
     "text": [
      "CS\n",
      "block, trial =  0 0\n",
      "block, trial =  0 1\n",
      "block, trial =  0 2\n",
      "block, trial =  0 3\n",
      "block, trial =  0 4\n",
      "block, trial =  0 5\n",
      "block, trial =  0 6\n",
      "block, trial =  0 7\n",
      "block, trial =  0 8\n",
      "block, trial =  0 9\n",
      "block, trial =  0 10\n",
      "block, trial =  0 11\n",
      "block, trial =  0 12\n",
      "block, trial =  0 13\n",
      "block, trial =  0 14\n",
      "block, trial =  0 15\n",
      "block, trial =  0 16\n",
      "block, trial =  0 17\n",
      "block, trial =  0 18\n",
      "block, trial =  0 19\n",
      "block, trial =  0 20\n",
      "block, trial =  0 21\n",
      "block, trial =  0 22\n",
      "block, trial =  0 23\n",
      "block, trial =  0 24\n",
      "block, trial =  0 25\n",
      "block, trial =  0 26\n",
      "block, trial =  0 27\n",
      "block, trial =  0 28\n",
      "block, trial =  0 29\n",
      "block, trial =  0 30\n",
      "block, trial =  0 31\n",
      "block, trial =  0 32\n",
      "block, trial =  0 33\n",
      "block, trial =  0 34\n",
      "block, trial =  0 35\n",
      "block, trial =  0 36\n",
      "block, trial =  0 37\n",
      "block, trial =  0 38\n",
      "block, trial =  0 39\n",
      "block, trial =  0 40\n",
      "block, trial =  0 41\n",
      "block, trial =  0 42\n",
      "block, trial =  0 43\n",
      "block, trial =  0 44\n",
      "block, trial =  0 45\n",
      "block, trial =  0 46\n",
      "block, trial =  0 47\n",
      "block, trial =  0 48\n",
      "block, trial =  0 49\n",
      "block, trial =  0 50\n",
      "block, trial =  0 51\n",
      "block, trial =  0 52\n",
      "block, trial =  0 53\n",
      "block, trial =  0 54\n",
      "block, trial =  0 55\n",
      "block, trial =  0 56\n",
      "block, trial =  0 57\n",
      "block, trial =  0 58\n",
      "block, trial =  0 59\n",
      "block, trial =  0 60\n",
      "block, trial =  0 61\n"
     ]
    }
   ],
   "source": [
    "fit(2)"
   ]
  },
  {
   "cell_type": "code",
   "execution_count": null,
   "metadata": {},
   "outputs": [],
   "source": [
    "fit(3)"
   ]
  },
  {
   "cell_type": "code",
   "execution_count": null,
   "metadata": {},
   "outputs": [],
   "source": [
    "fit(4)"
   ]
  },
  {
   "cell_type": "code",
   "execution_count": null,
   "metadata": {},
   "outputs": [],
   "source": [
    "fit(5)"
   ]
  },
  {
   "cell_type": "code",
   "execution_count": null,
   "metadata": {},
   "outputs": [],
   "source": [
    "fit(6)"
   ]
  },
  {
   "cell_type": "code",
   "execution_count": null,
   "metadata": {},
   "outputs": [],
   "source": [
    "fit(7)"
   ]
  },
  {
   "cell_type": "code",
   "execution_count": null,
   "metadata": {},
   "outputs": [],
   "source": [
    "fit(8)"
   ]
  },
  {
   "cell_type": "code",
   "execution_count": null,
   "metadata": {},
   "outputs": [],
   "source": [
    "fit(9)"
   ]
  },
  {
   "cell_type": "code",
   "execution_count": null,
   "metadata": {},
   "outputs": [],
   "source": [
    "fit(10)"
   ]
  },
  {
   "cell_type": "code",
   "execution_count": null,
   "metadata": {},
   "outputs": [],
   "source": [
    "fit(11)"
   ]
  },
  {
   "cell_type": "code",
   "execution_count": null,
   "metadata": {},
   "outputs": [],
   "source": []
  }
 ],
 "metadata": {
  "kernelspec": {
   "display_name": "Python 3",
   "language": "python",
   "name": "python3"
  },
  "language_info": {
   "codemirror_mode": {
    "name": "ipython",
    "version": 3
   },
   "file_extension": ".py",
   "mimetype": "text/x-python",
   "name": "python",
   "nbconvert_exporter": "python",
   "pygments_lexer": "ipython3",
   "version": "3.5.2"
  }
 },
 "nbformat": 4,
 "nbformat_minor": 2
}
