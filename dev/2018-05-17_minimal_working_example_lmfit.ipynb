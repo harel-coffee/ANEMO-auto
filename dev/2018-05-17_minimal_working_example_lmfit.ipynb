{
 "cells": [
  {
   "cell_type": "code",
   "execution_count": 2,
   "metadata": {
    "ExecuteTime": {
     "end_time": "2018-05-22T13:05:01.398624Z",
     "start_time": "2018-05-22T13:05:00.125206Z"
    }
   },
   "outputs": [
    {
     "name": "stdout",
     "output_type": "stream",
     "text": [
      "Requirement already satisfied: virtualenv in /Users/laurentperrinet/Library/Python/3.6/lib/python/site-packages (16.0.0)\n",
      "\u001b[31mtensorboard 1.8.0 has requirement bleach==1.5.0, but you'll have bleach 2.1.3 which is incompatible.\u001b[0m\n",
      "\u001b[31mtensorboard 1.8.0 has requirement html5lib==0.9999999, but you'll have html5lib 1.0.1 which is incompatible.\u001b[0m\n"
     ]
    }
   ],
   "source": [
    "!pip install --user virtualenv"
   ]
  },
  {
   "cell_type": "code",
   "execution_count": 3,
   "metadata": {
    "ExecuteTime": {
     "end_time": "2018-05-22T13:05:04.487092Z",
     "start_time": "2018-05-22T13:05:04.255863Z"
    }
   },
   "outputs": [
    {
     "name": "stdout",
     "output_type": "stream",
     "text": [
      "/bin/sh: virtualenv: command not found\n",
      "/bin/sh: virtualenv: command not found\n"
     ]
    }
   ],
   "source": [
    "!virtualenv lmfit_7 -p /usr/bin/python3.5\n",
    "!virtualenv lmfit_9 -p /usr/bin/python3.5"
   ]
  },
  {
   "cell_type": "markdown",
   "metadata": {},
   "source": [
    "# 0.9.7"
   ]
  },
  {
   "cell_type": "code",
   "execution_count": 6,
   "metadata": {
    "ExecuteTime": {
     "end_time": "2018-05-22T13:07:43.189379Z",
     "start_time": "2018-05-22T13:07:43.185782Z"
    }
   },
   "outputs": [],
   "source": [
    "v7 = %run lmfit_7/bin/activate_this.py\n",
    "#!pip3 install lmfit==0.9.7"
   ]
  },
  {
   "cell_type": "code",
   "execution_count": 7,
   "metadata": {
    "ExecuteTime": {
     "end_time": "2018-05-22T13:07:43.471186Z",
     "start_time": "2018-05-22T13:07:43.466267Z"
    }
   },
   "outputs": [
    {
     "data": {
      "text/plain": [
       "'0.9.9'"
      ]
     },
     "execution_count": 7,
     "metadata": {},
     "output_type": "execute_result"
    }
   ],
   "source": [
    "import numpy as np\n",
    "import matplotlib.pyplot as plt\n",
    "%matplotlib inline\n",
    "import lmfit\n",
    "lmfit.__version__"
   ]
  },
  {
   "cell_type": "code",
   "execution_count": 8,
   "metadata": {
    "ExecuteTime": {
     "end_time": "2018-05-22T13:07:43.901549Z",
     "start_time": "2018-05-22T13:07:43.897513Z"
    }
   },
   "outputs": [],
   "source": [
    "def fct_exponentiel (x, bino, start_anti, v_anti, latence, tau, maxi) :\n",
    "    v_anti = v_anti/1000 # pour passer de sec à ms\n",
    "    time = np.arange(len(x))\n",
    "    vitesse = []\n",
    "\n",
    "    for t in range(len(time)):\n",
    "        if start_anti >= latence :\n",
    "            if time[t] < latence :\n",
    "                vitesse.append(0)\n",
    "            else :\n",
    "                vitesse.append((bino*2-1)*maxi*(1-np.exp(-1/tau*(time[t]-latence))))\n",
    "        else :\n",
    "            if time[t] < start_anti :\n",
    "                vitesse.append(0)\n",
    "            else :\n",
    "                if time[t] < latence :\n",
    "                    vitesse.append((time[t]-start_anti)*v_anti)\n",
    "                    x = (time[t]-start_anti)*v_anti\n",
    "                else :\n",
    "                    vitesse.append((bino*2-1)*maxi*(1-np.exp(-1/tau*(time[t]-latence)))+x)\n",
    "\n",
    "    return vitesse"
   ]
  },
  {
   "cell_type": "code",
   "execution_count": 9,
   "metadata": {
    "ExecuteTime": {
     "end_time": "2018-05-22T13:07:45.797132Z",
     "start_time": "2018-05-22T13:07:45.650147Z"
    }
   },
   "outputs": [
    {
     "ename": "TypeError",
     "evalue": "type object got multiple values for keyword argument 'nan_policy'",
     "output_type": "error",
     "traceback": [
      "\u001b[0;31m---------------------------------------------------------------------------\u001b[0m",
      "\u001b[0;31mTypeError\u001b[0m                                 Traceback (most recent call last)",
      "\u001b[0;32m<ipython-input-9-1bd47f69df6c>\u001b[0m in \u001b[0;36m<module>\u001b[0;34m()\u001b[0m\n\u001b[1;32m     21\u001b[0m \u001b[0mparams\u001b[0m\u001b[0;34m.\u001b[0m\u001b[0madd\u001b[0m\u001b[0;34m(\u001b[0m\u001b[0;34m'bino'\u001b[0m\u001b[0;34m,\u001b[0m \u001b[0mvalue\u001b[0m\u001b[0;34m=\u001b[0m\u001b[0mbino\u001b[0m\u001b[0;34m,\u001b[0m \u001b[0mvary\u001b[0m\u001b[0;34m=\u001b[0m\u001b[0;32mFalse\u001b[0m\u001b[0;34m)\u001b[0m\u001b[0;34m\u001b[0m\u001b[0m\n\u001b[1;32m     22\u001b[0m \u001b[0;34m\u001b[0m\u001b[0m\n\u001b[0;32m---> 23\u001b[0;31m \u001b[0mresult_deg\u001b[0m \u001b[0;34m=\u001b[0m \u001b[0mmodel\u001b[0m\u001b[0;34m.\u001b[0m\u001b[0mfit\u001b[0m\u001b[0;34m(\u001b[0m\u001b[0ma\u001b[0m\u001b[0;34m,\u001b[0m \u001b[0mparams\u001b[0m\u001b[0;34m,\u001b[0m \u001b[0mx\u001b[0m\u001b[0;34m=\u001b[0m\u001b[0mx\u001b[0m\u001b[0;34m,\u001b[0m \u001b[0mfit_kws\u001b[0m\u001b[0;34m=\u001b[0m\u001b[0;34m{\u001b[0m\u001b[0;34m'nan_policy'\u001b[0m\u001b[0;34m:\u001b[0m \u001b[0;34m'omit'\u001b[0m\u001b[0;34m}\u001b[0m\u001b[0;34m)\u001b[0m\u001b[0;34m\u001b[0m\u001b[0m\n\u001b[0m\u001b[1;32m     24\u001b[0m \u001b[0;34m\u001b[0m\u001b[0m\n\u001b[1;32m     25\u001b[0m \u001b[0mplt\u001b[0m\u001b[0;34m.\u001b[0m\u001b[0mplot\u001b[0m\u001b[0;34m(\u001b[0m\u001b[0ma\u001b[0m\u001b[0;34m,\u001b[0m \u001b[0mc\u001b[0m\u001b[0;34m=\u001b[0m\u001b[0;34m'k'\u001b[0m\u001b[0;34m,\u001b[0m \u001b[0malpha\u001b[0m\u001b[0;34m=\u001b[0m\u001b[0;36m0.6\u001b[0m\u001b[0;34m)\u001b[0m\u001b[0;34m\u001b[0m\u001b[0m\n",
      "\u001b[0;32m/usr/local/lib/python3.6/site-packages/lmfit/model.py\u001b[0m in \u001b[0;36mfit\u001b[0;34m(self, data, params, weights, method, iter_cb, scale_covar, verbose, fit_kws, nan_policy, **kwargs)\u001b[0m\n\u001b[1;32m    870\u001b[0m         output = ModelResult(self, params, method=method, iter_cb=iter_cb,\n\u001b[1;32m    871\u001b[0m                              \u001b[0mscale_covar\u001b[0m\u001b[0;34m=\u001b[0m\u001b[0mscale_covar\u001b[0m\u001b[0;34m,\u001b[0m \u001b[0mfcn_kws\u001b[0m\u001b[0;34m=\u001b[0m\u001b[0mkwargs\u001b[0m\u001b[0;34m,\u001b[0m\u001b[0;34m\u001b[0m\u001b[0m\n\u001b[0;32m--> 872\u001b[0;31m                              nan_policy=self.nan_policy, **fit_kws)\n\u001b[0m\u001b[1;32m    873\u001b[0m         \u001b[0moutput\u001b[0m\u001b[0;34m.\u001b[0m\u001b[0mfit\u001b[0m\u001b[0;34m(\u001b[0m\u001b[0mdata\u001b[0m\u001b[0;34m=\u001b[0m\u001b[0mdata\u001b[0m\u001b[0;34m,\u001b[0m \u001b[0mweights\u001b[0m\u001b[0;34m=\u001b[0m\u001b[0mweights\u001b[0m\u001b[0;34m)\u001b[0m\u001b[0;34m\u001b[0m\u001b[0m\n\u001b[1;32m    874\u001b[0m         \u001b[0moutput\u001b[0m\u001b[0;34m.\u001b[0m\u001b[0mcomponents\u001b[0m \u001b[0;34m=\u001b[0m \u001b[0mself\u001b[0m\u001b[0;34m.\u001b[0m\u001b[0mcomponents\u001b[0m\u001b[0;34m\u001b[0m\u001b[0m\n",
      "\u001b[0;31mTypeError\u001b[0m: type object got multiple values for keyword argument 'nan_policy'"
     ]
    }
   ],
   "source": [
    "from lmfit import  Model, Parameters\n",
    "\n",
    "x = np.arange(0,1500,1)\n",
    "bino, start_anti, v_anti, latence, tau, maxi = 1, 500, 3, 1000, 60, 2\n",
    "\n",
    "np.random.seed(7)\n",
    "\n",
    "a = fct_exponentiel(x, bino, start_anti, v_anti, latence, tau, maxi)+np.random.rand(len(x))*0.5\n",
    "a = a-np.random.rand(len(x))*0.5\n",
    "\n",
    "a[770:820] =  np.arange(0,50,1)*np.nan\n",
    "\n",
    "model = Model(fct_exponentiel)\n",
    "params = Parameters()\n",
    "\n",
    "params.add('tau', value=tau-60, min=13., max=80.)\n",
    "params.add('maxi', value=maxi-1, min=1., max=5.)\n",
    "params.add('latence', value=latence+150, min=600, max=len(x))\n",
    "params.add('start_anti', value=start_anti-500, min=0, max=600)\n",
    "params.add('v_anti', value=v_anti-3, min=-40., max=40.)\n",
    "params.add('bino', value=bino, vary=False)\n",
    "\n",
    "result_deg = model.fit(a, params, x=x, fit_kws={'nan_policy': 'omit'})\n",
    "\n",
    "plt.plot(a, c='k', alpha=0.6)\n",
    "plt.plot(result_deg.init_fit, c='k')\n",
    "plt.plot(result_deg.best_fit, c='r')\n",
    "\n",
    "print(result_deg.values)"
   ]
  },
  {
   "cell_type": "code",
   "execution_count": 5,
   "metadata": {
    "collapsed": true,
    "scrolled": false
   },
   "outputs": [],
   "source": [
    "quit(v7)"
   ]
  },
  {
   "cell_type": "markdown",
   "metadata": {},
   "source": [
    "# 0.9.9"
   ]
  },
  {
   "cell_type": "code",
   "execution_count": 1,
   "metadata": {},
   "outputs": [],
   "source": [
    "v9 = %run lmfit_9/bin/activate_this.py\n",
    "#!pip3 install lmfit==0.9.9"
   ]
  },
  {
   "cell_type": "code",
   "execution_count": 10,
   "metadata": {
    "ExecuteTime": {
     "end_time": "2018-05-22T13:07:55.971377Z",
     "start_time": "2018-05-22T13:07:55.966089Z"
    }
   },
   "outputs": [
    {
     "data": {
      "text/plain": [
       "'0.9.9'"
      ]
     },
     "execution_count": 10,
     "metadata": {},
     "output_type": "execute_result"
    }
   ],
   "source": [
    "import numpy as np\n",
    "import matplotlib.pyplot as plt\n",
    "%matplotlib inline\n",
    "import lmfit\n",
    "lmfit.__version__"
   ]
  },
  {
   "cell_type": "code",
   "execution_count": 11,
   "metadata": {
    "ExecuteTime": {
     "end_time": "2018-05-22T13:07:56.341667Z",
     "start_time": "2018-05-22T13:07:56.337440Z"
    }
   },
   "outputs": [],
   "source": [
    "def fct_exponentiel (x, bino, start_anti, v_anti, latence, tau, maxi) :\n",
    "    v_anti = v_anti/1000 # pour passer de sec à ms\n",
    "    time = np.arange(len(x))\n",
    "    vitesse = []\n",
    "\n",
    "    for t in range(len(time)):\n",
    "        if start_anti >= latence :\n",
    "            if time[t] < latence :\n",
    "                vitesse.append(0)\n",
    "            else :\n",
    "                vitesse.append((bino*2-1)*maxi*(1-np.exp(-1/tau*(time[t]-latence))))\n",
    "        else :\n",
    "            if time[t] < start_anti :\n",
    "                vitesse.append(0)\n",
    "            else :\n",
    "                if time[t] < latence :\n",
    "                    vitesse.append((time[t]-start_anti)*v_anti)\n",
    "                    x = (time[t]-start_anti)*v_anti\n",
    "                else :\n",
    "                    vitesse.append((bino*2-1)*maxi*(1-np.exp(-1/tau*(time[t]-latence)))+x)\n",
    "\n",
    "    return vitesse"
   ]
  },
  {
   "cell_type": "code",
   "execution_count": 12,
   "metadata": {
    "ExecuteTime": {
     "end_time": "2018-05-22T13:07:57.124799Z",
     "start_time": "2018-05-22T13:07:56.809886Z"
    }
   },
   "outputs": [
    {
     "name": "stdout",
     "output_type": "stream",
     "text": [
      "{'tau': 40.90276236773941, 'maxi': 1.6025157874805798, 'latence': 1112.0412899824005, 'start_anti': 5.388023360808347e-09, 'v_anti': 1.7316495255626734, 'bino': 1}\n"
     ]
    },
    {
     "data": {
      "image/png": "[encoded data removed]",
      "text/plain": [
       "<Figure size 432x288 with 1 Axes>"
      ]
     },
     "metadata": {},
     "output_type": "display_data"
    }
   ],
   "source": [
    "from lmfit import  Model, Parameters\n",
    "\n",
    "x = np.arange(0,1500,1)\n",
    "bino, start_anti, v_anti, latence, tau, maxi = 1, 500, 3, 1000, 60, 2\n",
    "\n",
    "np.random.seed(7)\n",
    "\n",
    "a = fct_exponentiel(x, bino, start_anti, v_anti, latence, tau, maxi)+np.random.rand(len(x))*0.5\n",
    "a = a-np.random.rand(len(x))*0.5\n",
    "\n",
    "a[770:820] =  np.arange(0,50,1)*np.nan\n",
    "\n",
    "model = Model(fct_exponentiel)\n",
    "params = Parameters()\n",
    "\n",
    "params.add('tau', value=tau-60, min=13., max=80.)\n",
    "params.add('maxi', value=maxi-1, min=1., max=5.)\n",
    "params.add('latence', value=latence+150, min=600, max=len(x))\n",
    "params.add('start_anti', value=start_anti-500, min=0, max=600)\n",
    "params.add('v_anti', value=v_anti-3, min=-40., max=40.)\n",
    "params.add('bino', value=bino, vary=False)\n",
    "\n",
    "result_deg = model.fit(a, params, x=x, nan_policy='omit')\n",
    "\n",
    "plt.plot(a, c='k', alpha=0.6)\n",
    "plt.plot(result_deg.init_fit, c='k')\n",
    "plt.plot(result_deg.best_fit, c='r')\n",
    "\n",
    "print(result_deg.values)"
   ]
  },
  {
   "cell_type": "code",
   "execution_count": 13,
   "metadata": {
    "ExecuteTime": {
     "end_time": "2018-05-22T13:07:57.582014Z",
     "start_time": "2018-05-22T13:07:57.575228Z"
    }
   },
   "outputs": [
    {
     "ename": "NameError",
     "evalue": "name 'v9' is not defined",
     "output_type": "error",
     "traceback": [
      "\u001b[0;31m---------------------------------------------------------------------------\u001b[0m",
      "\u001b[0;31mNameError\u001b[0m                                 Traceback (most recent call last)",
      "\u001b[0;32m<ipython-input-13-7c07ae585d61>\u001b[0m in \u001b[0;36m<module>\u001b[0;34m()\u001b[0m\n\u001b[0;32m----> 1\u001b[0;31m \u001b[0mquit\u001b[0m\u001b[0;34m(\u001b[0m\u001b[0mv9\u001b[0m\u001b[0;34m)\u001b[0m\u001b[0;34m\u001b[0m\u001b[0m\n\u001b[0m",
      "\u001b[0;31mNameError\u001b[0m: name 'v9' is not defined"
     ]
    }
   ],
   "source": [
    "quit(v9)"
   ]
  },
  {
   "cell_type": "code",
   "execution_count": null,
   "metadata": {},
   "outputs": [],
   "source": []
  },
  {
   "cell_type": "code",
   "execution_count": null,
   "metadata": {},
   "outputs": [],
   "source": []
  }
 ],
 "metadata": {
  "kernelspec": {
   "display_name": "Python 3",
   "language": "python",
   "name": "python3"
  },
  "language_info": {
   "codemirror_mode": {
    "name": "ipython",
    "version": 3
   },
   "file_extension": ".py",
   "mimetype": "text/x-python",
   "name": "python",
   "nbconvert_exporter": "python",
   "pygments_lexer": "ipython3",
   "version": "3.6.5"
  },
  "toc": {
   "base_numbering": 1,
   "nav_menu": {},
   "number_sections": true,
   "sideBar": true,
   "skip_h1_title": false,
   "title_cell": "Table of Contents",
   "title_sidebar": "Contents",
   "toc_cell": false,
   "toc_position": {},
   "toc_section_display": true,
   "toc_window_display": false
  }
 },
 "nbformat": 4,
 "nbformat_minor": 2
}
