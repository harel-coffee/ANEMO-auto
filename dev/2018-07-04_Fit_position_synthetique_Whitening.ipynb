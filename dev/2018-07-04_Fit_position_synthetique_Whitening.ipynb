{
 "cells": [
  {
   "cell_type": "code",
   "execution_count": 1,
   "metadata": {
    "ExecuteTime": {
     "end_time": "2018-06-14T09:15:04.819715Z",
     "start_time": "2018-06-14T09:15:03.900055Z"
    },
    "collapsed": true
   },
   "outputs": [],
   "source": [
    "import numpy as np\n",
    "import matplotlib.pyplot as plt\n",
    "%matplotlib inline"
   ]
  },
  {
   "cell_type": "markdown",
   "metadata": {},
   "source": [
    "# extracting data and doing the fit on velocity"
   ]
  },
  {
   "cell_type": "code",
   "execution_count": 2,
   "metadata": {
    "ExecuteTime": {
     "end_time": "2018-06-14T09:15:17.487280Z",
     "start_time": "2018-06-14T09:15:06.154173Z"
    },
    "collapsed": true
   },
   "outputs": [],
   "source": [
    "from ANEMO.edfreader import read_edf\n",
    "\n",
    "import pickle\n",
    "with open('../demo/result/param_Fit_AM.pkl', 'rb') as fichier:\n",
    "    param = pickle.load(fichier, encoding='latin1')\n",
    "with open('../demo/data/enregistrement_AM_2017-10-23_100057.pkl', 'rb') as fichier:\n",
    "    file_exp = pickle.load(fichier, encoding='latin1')\n",
    "\n",
    "datafile = '../demo/data/enregistrement_AM_2017-10-23_100057.asc'\n",
    "data = read_edf(datafile, 'TRIALID')"
   ]
  },
  {
   "cell_type": "code",
   "execution_count": 3,
   "metadata": {
    "collapsed": true
   },
   "outputs": [],
   "source": [
    "N_freq = 1301\n",
    "    \n",
    "def whitening_filt(N_freq, white_f_0, white_alpha, white_steepness):\n",
    "    \"\"\"\n",
    "    Returns the envelope of the whitening filter.\n",
    "\n",
    "        then we return a 1/f spectrum based on the assumption that the structure of signals\n",
    "        is self-similar and thus that the Fourier spectrum scales a priori in 1/f.\n",
    "\n",
    "    \"\"\"\n",
    "    freq = np.fft.fftfreq(N_freq, d=1.)\n",
    "    K = np.abs(freq)**(white_alpha)\n",
    "    K *= np.exp(-(np.abs(freq)/white_f_0)**white_steepness)\n",
    "    K /= np.mean(K)\n",
    "\n",
    "    return freq, K\n",
    "\n",
    "def whitening(position, white_f_0=.4, white_alpha=1., white_steepness=4):\n",
    "    \"\"\"\n",
    "    Returns the whitened image\n",
    "    \"\"\"\n",
    "    try :\n",
    "        N_freq = position.shape[0]\n",
    "    except AttributeError :\n",
    "        N_freq = len(position)\n",
    "    freq, K = whitening_filt(N_freq=N_freq, white_f_0=white_f_0, white_alpha=white_alpha, white_steepness=white_steepness)        \n",
    "    f_position = np.fft.fft(position)\n",
    "    return np.real(np.fft.ifft(f_position*K))"
   ]
  },
  {
   "cell_type": "code",
   "execution_count": 4,
   "metadata": {
    "collapsed": true
   },
   "outputs": [],
   "source": [
    "def fct_position(x, data_x, saccades, nb_sacc,\n",
    "             bino, start_anti, v_anti, latence, tau, maxi, px_per_deg,\n",
    "             t_0, avant=5, apres=10, do_whitening=True):\n",
    "    ms = 1000\n",
    "    v_anti = (v_anti/ms)\n",
    "    maxi = maxi /ms\n",
    "\n",
    "    speed = ANEMO.fct_velocity(x, bino, start_anti, v_anti, latence, tau, maxi)\n",
    "    pos = np.cumsum(speed)\n",
    "\n",
    "    i=0\n",
    "    for s in range(int(nb_sacc)) :\n",
    "        sacc = saccades[i:i+3] # obligation d'avoir les variable indé a la même taille :/\n",
    "                                # saccades[i] -> debut, saccades[i+1] -> fin, saccades[i+2] -> tps sacc\n",
    "        if sacc[0]-t_0 < len(pos) :\n",
    "            if sacc[0]-t_0 > int(latence) :\n",
    "                if int(sacc[1]-t_0)+apres <= len(pos) :\n",
    "                    pos[int(sacc[0]-t_0)-avant:int(sacc[1]-t_0)+apres] = pos[int(sacc[0]-t_0)-avant-1] # np.nan \n",
    "                    pos[int(sacc[1]-t_0)+apres:] += ((data_x[int(sacc[1]-t_0)+apres]-data_x[int(sacc[0]-t_0)-avant-1])/px_per_deg) - np.mean(speed[int(sacc[0]-t_0):int(sacc[1]-t_0)]) * sacc[2]\n",
    "\n",
    "                else :\n",
    "                    pos[int(sacc[0]-t_0)-avant:] = pos[int(sacc[0]-t_0)-avant-1] #np.nan\n",
    "        i = i+3\n",
    "    if do_whitening is True:\n",
    "        pos = whitening(pos)\n",
    "    return pos"
   ]
  },
  {
   "cell_type": "markdown",
   "metadata": {},
   "source": [
    "# doing the fit"
   ]
  },
  {
   "cell_type": "code",
   "execution_count": 5,
   "metadata": {
    "collapsed": true
   },
   "outputs": [],
   "source": [
    "def Fit_position(data_trial, trackertime, bino, fct_fit='fct_position', data_x=None, px_per_deg=None,\n",
    "              param_fit=None, TargetOn=None, StimulusOf=None, saccades=None, sup=True, time_sup=-280, step=2,\n",
    "              do_whitening=True, avant=5, apres=10) :\n",
    "\n",
    "\n",
    "    from lmfit import  Model, Parameters\n",
    "\n",
    "    t_0 = trackertime[0]\n",
    "\n",
    "    if param_fit is None :\n",
    "        param_fit={'tau':[15.,13.,80.], 'maxi':[15.,1.,40], 'v_anti':[0.,-40.,40.],\n",
    "                   'latence':[TargetOn-t_0+100,TargetOn-t_0+75,'STOP'],\n",
    "                   'start_anti':[TargetOn-t_0-100, StimulusOf-t_0-200, TargetOn-t_0+75]}\n",
    "\n",
    "    if param_fit['latence'][2]=='STOP' :\n",
    "        stop_latence = []\n",
    "        for s in range(len(saccades)) :\n",
    "            if (saccades[s][0]-t_0) >= (TargetOn-t_0+100) :\n",
    "                stop_latence.append((saccades[s][0]-t_0))\n",
    "        if stop_latence==[] :\n",
    "            stop_latence.append(len(trackertime))\n",
    "        stop = stop_latence[0]\n",
    "    else :\n",
    "        stop = param_fit['latence'][2]\n",
    "\n",
    "\n",
    "    if sup==True :\n",
    "        data_trial = data_trial[:time_sup]\n",
    "        trackertime = trackertime[:time_sup]\n",
    "        if fct_fit == 'fct_position' :\n",
    "            data_x = data_x[:time_sup]\n",
    "\n",
    "    if do_whitening:\n",
    "        data_trial = whitening(data_trial)\n",
    "        data_x = whitening(data_x)\n",
    "            \n",
    "            \n",
    "    params = Parameters()\n",
    "\n",
    "    if fct_fit == 'fct_velocity' :\n",
    "        model = Model(ANEMO.fct_velocity)\n",
    "    elif fct_fit == 'fct_position' :\n",
    "        model = Model(ANEMO.fct_position, independent_vars=['x', 'data_x', 'saccades'])\n",
    "        params.add('t_0', value=t_0, vary=False)\n",
    "        params.add('avant', value=avant, vary=False)\n",
    "        params.add('apres', value=apres, vary=False)\n",
    "        params.add('px_per_deg', value=px_per_deg, vary=False)\n",
    "\n",
    "\n",
    "        params.add('nb_sacc', value=int(len(saccades)), vary=False)\n",
    "\n",
    "        sacc = np.zeros(len(trackertime))\n",
    "        i=0\n",
    "        for s in range(len(saccades)):\n",
    "            sacc[i] = saccades[s][0] # debut sacc\n",
    "            sacc[i+1] = saccades[s][1] # fin sacc\n",
    "            sacc[i+2] = saccades[s][2] # tps sacc\n",
    "            i = i+3\n",
    "\n",
    "    if step == 1 :\n",
    "        vary = True\n",
    "    elif step == 2 :\n",
    "        vary = False\n",
    "\n",
    "    params.add('maxi', value=param_fit['maxi'][0], min=param_fit['maxi'][1], max=param_fit['maxi'][2])\n",
    "    params.add('latence', value=param_fit['latence'][0], min=param_fit['latence'][1], max=stop)\n",
    "\n",
    "    params.add('bino', value=bino, vary=False)\n",
    "    params.add('do_whitening', value=do_whitening, vary=False)\n",
    "\n",
    "    params.add('tau', value=param_fit['tau'][0], min=param_fit['tau'][1], max=param_fit['tau'][2], vary=vary)\n",
    "    params.add('start_anti', value=param_fit['start_anti'][0], min=param_fit['start_anti'][1], max=param_fit['start_anti'][2], vary=vary)\n",
    "    params.add('v_anti', value=param_fit['v_anti'][0], min=param_fit['v_anti'][1], max=param_fit['v_anti'][2], vary=vary)\n",
    "\n",
    "    if step == 1 :\n",
    "        if fct_fit=='fct_velocity' :\n",
    "            result_deg = model.fit(data_trial, params, x=np.arange(len(trackertime)), nan_policy='omit')\n",
    "        elif fct_fit=='fct_position' :\n",
    "            result_deg = model.fit(data_trial, params, x=np.arange(len(trackertime)), data_x=data_x, saccades=sacc, nan_policy='omit')\n",
    "\n",
    "\n",
    "    elif step == 2 :\n",
    "        if fct_fit=='fct_velocity' :\n",
    "            out = model.fit(data_trial, params, x=np.arange(len(trackertime)), nan_policy='omit')\n",
    "        elif fct_fit=='fct_position' :\n",
    "            out = model.fit(data_trial, params, x=np.arange(len(trackertime)), data_x=data_x, saccades=sacc, nan_policy='omit')\n",
    "\n",
    "        # make the other parameters vary now\n",
    "        out.params['tau'].set(vary=True)\n",
    "        out.params['start_anti'].set(vary=True)\n",
    "        out.params['v_anti'].set(vary=True)\n",
    "\n",
    "        if fct_fit=='fct_velocity' :\n",
    "            result_deg = model.fit(data_trial, out.params,\n",
    "                                x=np.arange(len(trackertime)),\n",
    "                                method='nelder', nan_policy='omit')\n",
    "        elif fct_fit=='fct_position' :\n",
    "            result_deg = model.fit(data_trial, out.params, x=np.arange(len(trackertime)), data_x=data_x, saccades=sacc, method='nelder', nan_policy='omit')\n",
    "\n",
    "    return result_deg"
   ]
  },
  {
   "cell_type": "markdown",
   "metadata": {},
   "source": [
    "# Residu!"
   ]
  },
  {
   "cell_type": "code",
   "execution_count": 6,
   "metadata": {
    "collapsed": true
   },
   "outputs": [],
   "source": [
    "def regress(ax, p, data, minx, miny, maxx, maxy, t_label=12) :\n",
    "    from scipy import stats\n",
    "    slope, intercept, r_, p_value, std_err = stats.linregress(p, data)\n",
    "    x_test = np.linspace(np.min(p), np.max(p), 100)\n",
    "    fitLine = slope * x_test + intercept\n",
    "    ax.plot(x_test, fitLine, c='k', linewidth=2)\n",
    "    ax.text(maxx-((maxx-minx)/16.180),miny+((maxy-miny)/10), 'r = %0.3f'%(r_), fontsize=t_label/1.2, ha='right')\n",
    "\n",
    "    return ax"
   ]
  },
  {
   "cell_type": "code",
   "execution_count": 7,
   "metadata": {
    "collapsed": true
   },
   "outputs": [],
   "source": [
    "from ANEMO import ANEMO"
   ]
  },
  {
   "cell_type": "code",
   "execution_count": 8,
   "metadata": {
    "scrolled": true
   },
   "outputs": [
    {
     "name": "stdout",
     "output_type": "stream",
     "text": [
      "7\n",
      "True\n",
      "False\n",
      "8\n",
      "True\n",
      "False\n"
     ]
    },
    {
     "ename": "ValueError",
     "evalue": "The array returned by a function changed size between calls",
     "output_type": "error",
     "traceback": [
      "\u001b[0;31m---------------------------------------------------------------------------\u001b[0m",
      "\u001b[0;31mValueError\u001b[0m                                Traceback (most recent call last)",
      "\u001b[0;32m<ipython-input-8-ba85df47731e>\u001b[0m in \u001b[0;36m<module>\u001b[0;34m()\u001b[0m\n\u001b[1;32m     47\u001b[0m                     \u001b[0mparam\u001b[0m\u001b[0;34m[\u001b[0m\u001b[0;34m'maxi'\u001b[0m\u001b[0;34m]\u001b[0m\u001b[0;34m[\u001b[0m\u001b[0mblock\u001b[0m\u001b[0;34m]\u001b[0m\u001b[0;34m[\u001b[0m\u001b[0mtrial\u001b[0m\u001b[0;34m]\u001b[0m\u001b[0;34m,\u001b[0m \u001b[0marg\u001b[0m\u001b[0;34m.\u001b[0m\u001b[0mpx_per_deg\u001b[0m\u001b[0;34m,\u001b[0m \u001b[0mt_0\u001b[0m\u001b[0;34m,\u001b[0m \u001b[0mdebut\u001b[0m\u001b[0;34m,\u001b[0m \u001b[0mfin\u001b[0m\u001b[0;34m,\u001b[0m\u001b[0;34m\u001b[0m\u001b[0m\n\u001b[1;32m     48\u001b[0m                     do_whitening)\n\u001b[0;32m---> 49\u001b[0;31m         \u001b[0mc\u001b[0m \u001b[0;34m=\u001b[0m \u001b[0mFit_position\u001b[0m\u001b[0;34m(\u001b[0m\u001b[0mpopo\u001b[0m\u001b[0;34m,\u001b[0m \u001b[0mdo_whitening\u001b[0m\u001b[0;34m=\u001b[0m\u001b[0mdo_whitening\u001b[0m\u001b[0;34m,\u001b[0m \u001b[0;34m**\u001b[0m\u001b[0mkwarg\u001b[0m\u001b[0;34m)\u001b[0m\u001b[0;34m\u001b[0m\u001b[0m\n\u001b[0m\u001b[1;32m     50\u001b[0m \u001b[0;34m\u001b[0m\u001b[0m\n\u001b[1;32m     51\u001b[0m \u001b[0;34m\u001b[0m\u001b[0m\n",
      "\u001b[0;32m<ipython-input-5-02333d25177a>\u001b[0m in \u001b[0;36mFit_position\u001b[0;34m(data_trial, trackertime, bino, fct_fit, data_x, px_per_deg, param_fit, TargetOn, StimulusOf, saccades, sup, time_sup, step, do_whitening, avant, apres)\u001b[0m\n\u001b[1;32m     84\u001b[0m             \u001b[0mout\u001b[0m \u001b[0;34m=\u001b[0m \u001b[0mmodel\u001b[0m\u001b[0;34m.\u001b[0m\u001b[0mfit\u001b[0m\u001b[0;34m(\u001b[0m\u001b[0mdata_trial\u001b[0m\u001b[0;34m,\u001b[0m \u001b[0mparams\u001b[0m\u001b[0;34m,\u001b[0m \u001b[0mx\u001b[0m\u001b[0;34m=\u001b[0m\u001b[0mnp\u001b[0m\u001b[0;34m.\u001b[0m\u001b[0marange\u001b[0m\u001b[0;34m(\u001b[0m\u001b[0mlen\u001b[0m\u001b[0;34m(\u001b[0m\u001b[0mtrackertime\u001b[0m\u001b[0;34m)\u001b[0m\u001b[0;34m)\u001b[0m\u001b[0;34m,\u001b[0m \u001b[0mnan_policy\u001b[0m\u001b[0;34m=\u001b[0m\u001b[0;34m'omit'\u001b[0m\u001b[0;34m)\u001b[0m\u001b[0;34m\u001b[0m\u001b[0m\n\u001b[1;32m     85\u001b[0m         \u001b[0;32melif\u001b[0m \u001b[0mfct_fit\u001b[0m\u001b[0;34m==\u001b[0m\u001b[0;34m'fct_position'\u001b[0m \u001b[0;34m:\u001b[0m\u001b[0;34m\u001b[0m\u001b[0m\n\u001b[0;32m---> 86\u001b[0;31m             \u001b[0mout\u001b[0m \u001b[0;34m=\u001b[0m \u001b[0mmodel\u001b[0m\u001b[0;34m.\u001b[0m\u001b[0mfit\u001b[0m\u001b[0;34m(\u001b[0m\u001b[0mdata_trial\u001b[0m\u001b[0;34m,\u001b[0m \u001b[0mparams\u001b[0m\u001b[0;34m,\u001b[0m \u001b[0mx\u001b[0m\u001b[0;34m=\u001b[0m\u001b[0mnp\u001b[0m\u001b[0;34m.\u001b[0m\u001b[0marange\u001b[0m\u001b[0;34m(\u001b[0m\u001b[0mlen\u001b[0m\u001b[0;34m(\u001b[0m\u001b[0mtrackertime\u001b[0m\u001b[0;34m)\u001b[0m\u001b[0;34m)\u001b[0m\u001b[0;34m,\u001b[0m \u001b[0mdata_x\u001b[0m\u001b[0;34m=\u001b[0m\u001b[0mdata_x\u001b[0m\u001b[0;34m,\u001b[0m \u001b[0msaccades\u001b[0m\u001b[0;34m=\u001b[0m\u001b[0msacc\u001b[0m\u001b[0;34m,\u001b[0m \u001b[0mnan_policy\u001b[0m\u001b[0;34m=\u001b[0m\u001b[0;34m'omit'\u001b[0m\u001b[0;34m)\u001b[0m\u001b[0;34m\u001b[0m\u001b[0m\n\u001b[0m\u001b[1;32m     87\u001b[0m \u001b[0;34m\u001b[0m\u001b[0m\n\u001b[1;32m     88\u001b[0m         \u001b[0;31m# make the other parameters vary now\u001b[0m\u001b[0;34m\u001b[0m\u001b[0;34m\u001b[0m\u001b[0m\n",
      "\u001b[0;32m/home/drone/.local/lib/python3.5/site-packages/lmfit/model.py\u001b[0m in \u001b[0;36mfit\u001b[0;34m(self, data, params, weights, method, iter_cb, scale_covar, verbose, fit_kws, nan_policy, **kwargs)\u001b[0m\n\u001b[1;32m    871\u001b[0m                              \u001b[0mscale_covar\u001b[0m\u001b[0;34m=\u001b[0m\u001b[0mscale_covar\u001b[0m\u001b[0;34m,\u001b[0m \u001b[0mfcn_kws\u001b[0m\u001b[0;34m=\u001b[0m\u001b[0mkwargs\u001b[0m\u001b[0;34m,\u001b[0m\u001b[0;34m\u001b[0m\u001b[0m\n\u001b[1;32m    872\u001b[0m                              nan_policy=self.nan_policy, **fit_kws)\n\u001b[0;32m--> 873\u001b[0;31m         \u001b[0moutput\u001b[0m\u001b[0;34m.\u001b[0m\u001b[0mfit\u001b[0m\u001b[0;34m(\u001b[0m\u001b[0mdata\u001b[0m\u001b[0;34m=\u001b[0m\u001b[0mdata\u001b[0m\u001b[0;34m,\u001b[0m \u001b[0mweights\u001b[0m\u001b[0;34m=\u001b[0m\u001b[0mweights\u001b[0m\u001b[0;34m)\u001b[0m\u001b[0;34m\u001b[0m\u001b[0m\n\u001b[0m\u001b[1;32m    874\u001b[0m         \u001b[0moutput\u001b[0m\u001b[0;34m.\u001b[0m\u001b[0mcomponents\u001b[0m \u001b[0;34m=\u001b[0m \u001b[0mself\u001b[0m\u001b[0;34m.\u001b[0m\u001b[0mcomponents\u001b[0m\u001b[0;34m\u001b[0m\u001b[0m\n\u001b[1;32m    875\u001b[0m         \u001b[0;32mreturn\u001b[0m \u001b[0moutput\u001b[0m\u001b[0;34m\u001b[0m\u001b[0m\n",
      "\u001b[0;32m/home/drone/.local/lib/python3.5/site-packages/lmfit/model.py\u001b[0m in \u001b[0;36mfit\u001b[0;34m(self, data, params, weights, method, nan_policy, **kwargs)\u001b[0m\n\u001b[1;32m   1215\u001b[0m         \u001b[0mself\u001b[0m\u001b[0;34m.\u001b[0m\u001b[0muserkws\u001b[0m\u001b[0;34m.\u001b[0m\u001b[0mupdate\u001b[0m\u001b[0;34m(\u001b[0m\u001b[0mkwargs\u001b[0m\u001b[0;34m)\u001b[0m\u001b[0;34m\u001b[0m\u001b[0m\n\u001b[1;32m   1216\u001b[0m         \u001b[0mself\u001b[0m\u001b[0;34m.\u001b[0m\u001b[0minit_fit\u001b[0m \u001b[0;34m=\u001b[0m \u001b[0mself\u001b[0m\u001b[0;34m.\u001b[0m\u001b[0mmodel\u001b[0m\u001b[0;34m.\u001b[0m\u001b[0meval\u001b[0m\u001b[0;34m(\u001b[0m\u001b[0mparams\u001b[0m\u001b[0;34m=\u001b[0m\u001b[0mself\u001b[0m\u001b[0;34m.\u001b[0m\u001b[0mparams\u001b[0m\u001b[0;34m,\u001b[0m \u001b[0;34m**\u001b[0m\u001b[0mself\u001b[0m\u001b[0;34m.\u001b[0m\u001b[0muserkws\u001b[0m\u001b[0;34m)\u001b[0m\u001b[0;34m\u001b[0m\u001b[0m\n\u001b[0;32m-> 1217\u001b[0;31m         \u001b[0m_ret\u001b[0m \u001b[0;34m=\u001b[0m \u001b[0mself\u001b[0m\u001b[0;34m.\u001b[0m\u001b[0mminimize\u001b[0m\u001b[0;34m(\u001b[0m\u001b[0mmethod\u001b[0m\u001b[0;34m=\u001b[0m\u001b[0mself\u001b[0m\u001b[0;34m.\u001b[0m\u001b[0mmethod\u001b[0m\u001b[0;34m)\u001b[0m\u001b[0;34m\u001b[0m\u001b[0m\n\u001b[0m\u001b[1;32m   1218\u001b[0m \u001b[0;34m\u001b[0m\u001b[0m\n\u001b[1;32m   1219\u001b[0m         \u001b[0;32mfor\u001b[0m \u001b[0mattr\u001b[0m \u001b[0;32min\u001b[0m \u001b[0mdir\u001b[0m\u001b[0;34m(\u001b[0m\u001b[0m_ret\u001b[0m\u001b[0;34m)\u001b[0m\u001b[0;34m:\u001b[0m\u001b[0;34m\u001b[0m\u001b[0m\n",
      "\u001b[0;32m/home/drone/.local/lib/python3.5/site-packages/lmfit/minimizer.py\u001b[0m in \u001b[0;36mminimize\u001b[0;34m(self, method, params, **kws)\u001b[0m\n\u001b[1;32m   1806\u001b[0m                         val.lower().startswith(user_method)):\n\u001b[1;32m   1807\u001b[0m                     \u001b[0mkwargs\u001b[0m\u001b[0;34m[\u001b[0m\u001b[0;34m'method'\u001b[0m\u001b[0;34m]\u001b[0m \u001b[0;34m=\u001b[0m \u001b[0mval\u001b[0m\u001b[0;34m\u001b[0m\u001b[0m\n\u001b[0;32m-> 1808\u001b[0;31m         \u001b[0;32mreturn\u001b[0m \u001b[0mfunction\u001b[0m\u001b[0;34m(\u001b[0m\u001b[0;34m**\u001b[0m\u001b[0mkwargs\u001b[0m\u001b[0;34m)\u001b[0m\u001b[0;34m\u001b[0m\u001b[0m\n\u001b[0m\u001b[1;32m   1809\u001b[0m \u001b[0;34m\u001b[0m\u001b[0m\n\u001b[1;32m   1810\u001b[0m \u001b[0;34m\u001b[0m\u001b[0m\n",
      "\u001b[0;32m/home/drone/.local/lib/python3.5/site-packages/lmfit/minimizer.py\u001b[0m in \u001b[0;36mleastsq\u001b[0;34m(self, params, **kws)\u001b[0m\n\u001b[1;32m   1294\u001b[0m \u001b[0;34m\u001b[0m\u001b[0m\n\u001b[1;32m   1295\u001b[0m         \u001b[0;32mtry\u001b[0m\u001b[0;34m:\u001b[0m\u001b[0;34m\u001b[0m\u001b[0m\n\u001b[0;32m-> 1296\u001b[0;31m             \u001b[0mlsout\u001b[0m \u001b[0;34m=\u001b[0m \u001b[0mscipy_leastsq\u001b[0m\u001b[0;34m(\u001b[0m\u001b[0mself\u001b[0m\u001b[0;34m.\u001b[0m\u001b[0m__residual\u001b[0m\u001b[0;34m,\u001b[0m \u001b[0mvariables\u001b[0m\u001b[0;34m,\u001b[0m \u001b[0;34m**\u001b[0m\u001b[0mlskws\u001b[0m\u001b[0;34m)\u001b[0m\u001b[0;34m\u001b[0m\u001b[0m\n\u001b[0m\u001b[1;32m   1297\u001b[0m             \u001b[0m_best\u001b[0m\u001b[0;34m,\u001b[0m \u001b[0m_cov\u001b[0m\u001b[0;34m,\u001b[0m \u001b[0minfodict\u001b[0m\u001b[0;34m,\u001b[0m \u001b[0merrmsg\u001b[0m\u001b[0;34m,\u001b[0m \u001b[0mier\u001b[0m \u001b[0;34m=\u001b[0m \u001b[0mlsout\u001b[0m\u001b[0;34m\u001b[0m\u001b[0m\n\u001b[1;32m   1298\u001b[0m             \u001b[0mresult\u001b[0m\u001b[0;34m.\u001b[0m\u001b[0mresidual\u001b[0m \u001b[0;34m=\u001b[0m \u001b[0minfodict\u001b[0m\u001b[0;34m[\u001b[0m\u001b[0;34m'fvec'\u001b[0m\u001b[0;34m]\u001b[0m\u001b[0;34m\u001b[0m\u001b[0m\n",
      "\u001b[0;32m/usr/local/lib/python3.5/dist-packages/scipy/optimize/minpack.py\u001b[0m in \u001b[0;36mleastsq\u001b[0;34m(func, x0, args, Dfun, full_output, col_deriv, ftol, xtol, gtol, maxfev, epsfcn, factor, diag)\u001b[0m\n\u001b[1;32m    385\u001b[0m             \u001b[0mmaxfev\u001b[0m \u001b[0;34m=\u001b[0m \u001b[0;36m200\u001b[0m\u001b[0;34m*\u001b[0m\u001b[0;34m(\u001b[0m\u001b[0mn\u001b[0m \u001b[0;34m+\u001b[0m \u001b[0;36m1\u001b[0m\u001b[0;34m)\u001b[0m\u001b[0;34m\u001b[0m\u001b[0m\n\u001b[1;32m    386\u001b[0m         retval = _minpack._lmdif(func, x0, args, full_output, ftol, xtol,\n\u001b[0;32m--> 387\u001b[0;31m                                  gtol, maxfev, epsfcn, factor, diag)\n\u001b[0m\u001b[1;32m    388\u001b[0m     \u001b[0;32melse\u001b[0m\u001b[0;34m:\u001b[0m\u001b[0;34m\u001b[0m\u001b[0m\n\u001b[1;32m    389\u001b[0m         \u001b[0;32mif\u001b[0m \u001b[0mcol_deriv\u001b[0m\u001b[0;34m:\u001b[0m\u001b[0;34m\u001b[0m\u001b[0m\n",
      "\u001b[0;31mValueError\u001b[0m: The array returned by a function changed size between calls"
     ]
    }
   ],
   "source": [
    "block = 0\n",
    "num1, num2 = 7, 9\n",
    "\n",
    "fifi = {'start_anti' : [], 'v_anti' : [], 'latence' : [], 'tau' : [], 'maxi' : []}\n",
    "fifi2 = {'start_anti' : [], 'v_anti' : [], 'latence' : [], 'tau' : [], 'maxi' : []}\n",
    "\n",
    "for trial in np.arange(num1,num2) :\n",
    "    \n",
    "    print(trial)\n",
    "\n",
    "    \n",
    "    arg = ANEMO.arg(data, file_exp, trial, block)\n",
    "    trial_data = trial + arg.N_trials*block\n",
    "    time, t_0 = arg.trackertime, arg.trackertime_0\n",
    "    start, start1 = arg.TargetOn, arg.TargetOn-t_0\n",
    "    data_x = arg.data_x - (arg.data_x[arg.StimulusOf-t_0])\n",
    "    \n",
    "    debut, fin = 0, 15\n",
    "    kwarg = {'data_x':data_x, 'trackertime': arg.trackertime, 'bino': arg.bino, 'TargetOn': arg.TargetOn,\n",
    "             'StimulusOf': arg.StimulusOf, 'saccades': arg.saccades, 'px_per_deg':arg.px_per_deg,\n",
    "             'param_fit': None,  'avant': debut, 'apres': fin,\n",
    "             'sup': True, 'time_sup': -280, 'step': 2}\n",
    "    \n",
    "\n",
    "    sacc = np.zeros(len(arg.trackertime))\n",
    "    i=0\n",
    "    for s in range(len(arg.saccades)):\n",
    "        sacc[i] = arg.saccades[s][0] # debut sacc\n",
    "        sacc[i+1] = arg.saccades[s][1] # fin sacc\n",
    "        sacc[i+2] = arg.saccades[s][2] # tps sacc\n",
    "        i = i+3\n",
    "\n",
    "\n",
    "\n",
    "    for do_whitening in [True, False] :\n",
    "        \n",
    "        print(do_whitening)\n",
    "        \n",
    "        if do_whitening==True :\n",
    "            fi = fifi\n",
    "        else :\n",
    "            fi = fifi2\n",
    "            \n",
    "        popo = fct_position(range(len(arg.trackertime)), data_x, sacc, int(len(arg.saccades)), arg.bino,\n",
    "                    param['start_anti'][block][trial]+start1, param['v_anti'][block][trial],\n",
    "                    param['latence'][block][trial]+start1, param['tau'][block][trial],\n",
    "                    param['maxi'][block][trial], arg.px_per_deg, t_0, debut, fin,\n",
    "                    do_whitening)\n",
    "        c = Fit_position(popo, do_whitening=do_whitening, **kwarg)\n",
    "\n",
    "\n",
    "        fi['start_anti'].append(c.values['start_anti']-start1)\n",
    "        fi['v_anti'].append(c.values['v_anti'])\n",
    "        fi['latence'].append(c.values['latence']-start1)\n",
    "        fi['tau'].append(c.values['tau'])\n",
    "        fi['maxi'].append(c.values['maxi'])"
   ]
  },
  {
   "cell_type": "code",
   "execution_count": null,
   "metadata": {
    "scrolled": false
   },
   "outputs": [],
   "source": [
    "fig_width= 5\n",
    "fig, axs = plt.subplots(6, 2, figsize=(2*fig_width, 6*(fig_width)/1.6180))\n",
    "\n",
    "t_titre = 20\n",
    "\n",
    "liste = ['start_anti', 'v_anti', 'latence', 'tau', 'maxi']\n",
    "lo = [fifi, fifi2]\n",
    "for b, fi in enumerate(lo) :\n",
    "\n",
    "    for a, lala in enumerate(liste) :\n",
    "        axs[a][b].set_title('%s'%lala, fontsize=t_titre)\n",
    "        axs[a][b].set_xlabel('True', fontsize=t_titre/1.3)\n",
    "        axs[a][b].set_ylabel('Fit', fontsize=t_titre/1.3)\n",
    "\n",
    "        axs[a][b].plot([-2000, 2000], [-2000, 2000], '--k', alpha=0.5)\n",
    "\n",
    "        axs[a][b].scatter(param['%s'%lala][block][num1:num2], fi['%s'%lala], c='k')\n",
    "\n",
    "        min_x, min_y = min(param['%s'%lala][block][num1:num2]), min(fi['%s'%lala])\n",
    "        max_x, max_y = max(param['%s'%lala][block][num1:num2]), max(fi['%s'%lala])\n",
    "        axs[a][b] = regress(axs[a][b], param['%s'%lala][block][num1:num2], fi['%s'%lala], min_x, min_y, max_x, max_y, t_label=t_titre/1.5)\n",
    "        axs[a][b].axis([min_x-((max_x-min_x)/10), max_x+((max_x-min_x)/10), min_y-((max_y-min_y)/10), max_y+((max_y-min_y)/10)]) \n",
    "\n",
    "\n",
    "    seuil = 3\n",
    "    new_start_anti_fit = []\n",
    "    new_start_anti_true = []\n",
    "    for s in range(num2-num1) :\n",
    "        if abs(param['v_anti'][block][s]) > seuil :\n",
    "            if abs(fi['v_anti'][s]) > seuil :\n",
    "                new_start_anti_fit.append(fi['start_anti'][s])\n",
    "                new_start_anti_true.append(param['start_anti'][block][s])\n",
    "\n",
    "    axs[5][b].set_title('start_anti for v_anti > 3°/s$^2$', fontsize=t_titre)\n",
    "    axs[5][b].set_xlabel('True', fontsize=t_titre/1.3)\n",
    "    axs[5][b].set_ylabel('Fit', fontsize=t_titre/1.3)\n",
    "\n",
    "    axs[5][b].plot([-2000, 2000], [-2000, 2000], '--k', alpha=0.5)\n",
    "\n",
    "    axs[5][b].scatter(new_start_anti_true, new_start_anti_fit, c='k')\n",
    "\n",
    "    min_x, min_y = min(new_start_anti_true), min(new_start_anti_fit)\n",
    "    max_x, max_y = max(new_start_anti_true), max(new_start_anti_fit)\n",
    "    axs[5][b] = regress(axs[5][b], new_start_anti_true, new_start_anti_fit, min_x, min_y, max_x, max_y, t_label=t_titre/1.5)\n",
    "    axs[5][b].axis([min_x-((max_x-min_x)/10), max_x+((max_x-min_x)/10), min_y-((max_y-min_y)/10), max_y+((max_y-min_y)/10)]) \n",
    "\n",
    "plt.tight_layout();"
   ]
  },
  {
   "cell_type": "code",
   "execution_count": null,
   "metadata": {
    "collapsed": true
   },
   "outputs": [],
   "source": []
  }
 ],
 "metadata": {
  "kernelspec": {
   "display_name": "Python 3",
   "language": "python",
   "name": "python3"
  },
  "toc": {
   "base_numbering": 1,
   "nav_menu": {},
   "number_sections": true,
   "sideBar": true,
   "skip_h1_title": false,
   "title_cell": "Table of Contents",
   "title_sidebar": "Contents",
   "toc_cell": false,
   "toc_position": {},
   "toc_section_display": true,
   "toc_window_display": false
  }
 },
 "nbformat": 4,
 "nbformat_minor": 2
}
