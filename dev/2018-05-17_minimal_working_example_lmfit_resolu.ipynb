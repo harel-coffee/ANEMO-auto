{
 "cells": [
  {
   "cell_type": "raw",
   "metadata": {
    "ExecuteTime": {
     "end_time": "2018-05-22T13:05:01.398624Z",
     "start_time": "2018-05-22T13:05:00.125206Z"
    }
   },
   "source": [
    "!pip install --user virtualenv"
   ]
  },
  {
   "cell_type": "raw",
   "metadata": {
    "ExecuteTime": {
     "end_time": "2018-05-22T13:05:04.487092Z",
     "start_time": "2018-05-22T13:05:04.255863Z"
    }
   },
   "source": [
    "!virtualenv lmfit_7 -p /usr/bin/python3.5\n",
    "!virtualenv lmfit_9 -p /usr/bin/python3.5"
   ]
  },
  {
   "cell_type": "markdown",
   "metadata": {},
   "source": [
    "# 0.9.7"
   ]
  },
  {
   "cell_type": "code",
   "execution_count": 1,
   "metadata": {
    "ExecuteTime": {
     "end_time": "2018-05-22T13:07:43.189379Z",
     "start_time": "2018-05-22T13:07:43.185782Z"
    },
    "collapsed": true
   },
   "outputs": [],
   "source": [
    "v7 = %run lmfit_7/bin/activate_this.py\n",
    "#!pip3 install lmfit==0.9.7"
   ]
  },
  {
   "cell_type": "code",
   "execution_count": 2,
   "metadata": {
    "ExecuteTime": {
     "end_time": "2018-05-22T13:07:43.471186Z",
     "start_time": "2018-05-22T13:07:43.466267Z"
    }
   },
   "outputs": [
    {
     "data": {
      "text/plain": [
       "'0.9.7'"
      ]
     },
     "execution_count": 2,
     "metadata": {},
     "output_type": "execute_result"
    }
   ],
   "source": [
    "import numpy as np\n",
    "import matplotlib.pyplot as plt\n",
    "%matplotlib inline\n",
    "import lmfit\n",
    "lmfit.__version__"
   ]
  },
  {
   "cell_type": "code",
   "execution_count": 3,
   "metadata": {
    "ExecuteTime": {
     "end_time": "2018-05-22T13:07:43.901549Z",
     "start_time": "2018-05-22T13:07:43.897513Z"
    },
    "collapsed": true
   },
   "outputs": [],
   "source": [
    "def fct_velocity (x, bino, start_anti, v_anti, latence, tau, maxi) :\n",
    "    v_anti = v_anti/1000 # pour passer de sec à ms\n",
    "    time = np.arange(len(x))\n",
    "    vitesse = []\n",
    "\n",
    "    for t in range(len(time)):\n",
    "        if start_anti >= latence :\n",
    "            if time[t] < latence :\n",
    "                vitesse.append(0)\n",
    "            else :\n",
    "                vitesse.append((bino*2-1)*maxi*(1-np.exp(-1/tau*(time[t]-latence))))\n",
    "        else :\n",
    "            if time[t] < start_anti :\n",
    "                vitesse.append(0)\n",
    "            else :\n",
    "                if time[t] < latence :\n",
    "                    vitesse.append((time[t]-start_anti)*v_anti)\n",
    "                    x = (time[t]-start_anti)*v_anti\n",
    "                else :\n",
    "                    vitesse.append((bino*2-1)*maxi*(1-np.exp(-1/tau*(time[t]-latence)))+x)\n",
    "\n",
    "    return vitesse"
   ]
  },
  {
   "cell_type": "code",
   "execution_count": 4,
   "metadata": {
    "ExecuteTime": {
     "end_time": "2018-05-22T13:07:45.797132Z",
     "start_time": "2018-05-22T13:07:45.650147Z"
    }
   },
   "outputs": [
    {
     "name": "stdout",
     "output_type": "stream",
     "text": [
      "{'start_anti': 512.395335584866, 'v_anti': 3.281238800650385, 'latence': 1007.0076019295295, 'tau': 63.54401805656503, 'bino': 1, 'maxi': 1.8150158656645865}\n"
     ]
    },
    {
     "data": {
      "image/png": "[encoded data removed]",
      "text/plain": [
       "<Figure size 432x288 with 1 Axes>"
      ]
     },
     "metadata": {},
     "output_type": "display_data"
    }
   ],
   "source": [
    "from lmfit import  Model, Parameters\n",
    "\n",
    "x = np.arange(0,1500,1)\n",
    "bino, start_anti, v_anti, latence, tau, maxi = 1, 500, 3, 1000, 60, 2\n",
    "\n",
    "np.random.seed(7)\n",
    "\n",
    "a = fct_velocity(x, bino, start_anti, v_anti, latence, tau, maxi)+np.random.rand(len(x))*0.5\n",
    "a = a-np.random.rand(len(x))*0.5\n",
    "\n",
    "a[770:820] =  np.arange(0,50,1)*np.nan\n",
    "\n",
    "model = Model(fct_velocity)\n",
    "params = Parameters()\n",
    "\n",
    "params.add('tau', value=13., min=13., max=80.)\n",
    "params.add('maxi', value=maxi-1, min=1., max=5.)\n",
    "params.add('latence', value=latence+150, min=600, max=len(x))\n",
    "params.add('start_anti', value=start_anti-500, min=0, max=600)\n",
    "params.add('v_anti', value=v_anti-3, min=-40., max=40.)\n",
    "params.add('bino', value=bino, vary=False)\n",
    "\n",
    "result_deg = model.fit(a, params, x=x, fit_kws={'nan_policy': 'omit'})\n",
    "\n",
    "plt.plot(a, c='k', alpha=0.6)\n",
    "plt.plot(result_deg.init_fit, c='k')\n",
    "plt.plot(result_deg.best_fit, c='r')\n",
    "\n",
    "print(result_deg.values)"
   ]
  },
  {
   "cell_type": "code",
   "execution_count": 5,
   "metadata": {
    "collapsed": true,
    "scrolled": false
   },
   "outputs": [],
   "source": [
    "quit(v7)"
   ]
  },
  {
   "cell_type": "markdown",
   "metadata": {},
   "source": [
    "# 0.9.9"
   ]
  },
  {
   "cell_type": "code",
   "execution_count": 1,
   "metadata": {
    "collapsed": true
   },
   "outputs": [],
   "source": [
    "v9 = %run lmfit_9/bin/activate_this.py\n",
    "#!pip3 install lmfit==0.9.9"
   ]
  },
  {
   "cell_type": "code",
   "execution_count": 2,
   "metadata": {
    "ExecuteTime": {
     "end_time": "2018-05-22T13:07:55.971377Z",
     "start_time": "2018-05-22T13:07:55.966089Z"
    }
   },
   "outputs": [
    {
     "data": {
      "text/plain": [
       "'0.9.9'"
      ]
     },
     "execution_count": 2,
     "metadata": {},
     "output_type": "execute_result"
    }
   ],
   "source": [
    "import numpy as np\n",
    "import matplotlib.pyplot as plt\n",
    "%matplotlib inline\n",
    "import lmfit\n",
    "lmfit.__version__"
   ]
  },
  {
   "cell_type": "code",
   "execution_count": 3,
   "metadata": {
    "ExecuteTime": {
     "end_time": "2018-05-22T13:07:56.341667Z",
     "start_time": "2018-05-22T13:07:56.337440Z"
    },
    "collapsed": true
   },
   "outputs": [],
   "source": [
    "def fct_velocity (x, bino, start_anti, v_anti, latence, tau, maxi) :\n",
    "    v_anti = v_anti/1000 # pour passer de sec à ms\n",
    "    time = np.arange(len(x))\n",
    "    vitesse = []\n",
    "\n",
    "    for t in range(len(time)):\n",
    "        if start_anti >= latence :\n",
    "            if time[t] < latence :\n",
    "                vitesse.append(0)\n",
    "            else :\n",
    "                vitesse.append((bino*2-1)*maxi*(1-np.exp(-1/tau*(time[t]-latence))))\n",
    "        else :\n",
    "            if time[t] < start_anti :\n",
    "                vitesse.append(0)\n",
    "            else :\n",
    "                if time[t] < latence :\n",
    "                    vitesse.append((time[t]-start_anti)*v_anti)\n",
    "                    x = (time[t]-start_anti)*v_anti\n",
    "                else :\n",
    "                    vitesse.append((bino*2-1)*maxi*(1-np.exp(-1/tau*(time[t]-latence)))+x)\n",
    "\n",
    "    return vitesse"
   ]
  },
  {
   "cell_type": "code",
   "execution_count": 4,
   "metadata": {
    "ExecuteTime": {
     "end_time": "2018-05-22T13:07:57.124799Z",
     "start_time": "2018-05-22T13:07:56.809886Z"
    }
   },
   "outputs": [
    {
     "name": "stdout",
     "output_type": "stream",
     "text": [
      "{'start_anti': 5.388023360808347e-09, 'maxi': 1.6025157874805798, 'v_anti': 1.7316495255626734, 'tau': 40.90276236773941, 'bino': 1, 'latence': 1112.0412899824007}\n"
     ]
    },
    {
     "data": {
      "image/png": "[encoded data removed]",
      "text/plain": [
       "<Figure size 432x288 with 1 Axes>"
      ]
     },
     "metadata": {},
     "output_type": "display_data"
    }
   ],
   "source": [
    "from lmfit import  Model, Parameters\n",
    "\n",
    "x = np.arange(0,1500,1)\n",
    "bino, start_anti, v_anti, latence, tau, maxi = 1, 500, 3, 1000, 60, 2\n",
    "\n",
    "np.random.seed(7)\n",
    "\n",
    "a = fct_velocity(x, bino, start_anti, v_anti, latence, tau, maxi)+np.random.rand(len(x))*0.5\n",
    "a = a-np.random.rand(len(x))*0.5\n",
    "\n",
    "a[770:820] =  np.arange(0,50,1)*np.nan\n",
    "\n",
    "model = Model(fct_velocity)\n",
    "params = Parameters()\n",
    "\n",
    "params.add('tau', value=13., min=13., max=80.)\n",
    "params.add('maxi', value=maxi-1, min=1., max=5.)\n",
    "params.add('latence', value=latence+150, min=600, max=len(x))\n",
    "params.add('start_anti', value=start_anti-500, min=0, max=600)\n",
    "params.add('v_anti', value=v_anti-3, min=-40., max=40.)\n",
    "params.add('bino', value=bino, vary=False)\n",
    "\n",
    "result_deg = model.fit(a, params, x=x, nan_policy='omit')\n",
    "\n",
    "plt.plot(a, c='k', alpha=0.6)\n",
    "plt.plot(result_deg.init_fit, c='k')\n",
    "plt.plot(result_deg.best_fit, c='r')\n",
    "\n",
    "print(result_deg.values)"
   ]
  },
  {
   "cell_type": "markdown",
   "metadata": {
    "collapsed": true
   },
   "source": [
    "## Résolution !"
   ]
  },
  {
   "cell_type": "code",
   "execution_count": 5,
   "metadata": {
    "ExecuteTime": {
     "end_time": "2018-05-22T13:07:56.341667Z",
     "start_time": "2018-05-22T13:07:56.337440Z"
    },
    "collapsed": true
   },
   "outputs": [],
   "source": [
    "def fct_velocity (x, bino, start_anti, v_anti, latence, tau, maxi) :\n",
    "    v_anti = v_anti/1000 # pour passer de sec à ms\n",
    "    time = x #np.arange(len(x))\n",
    "    vitesse = []\n",
    "\n",
    "    for t in range(len(time)):\n",
    "        if start_anti >= latence :\n",
    "            if time[t] < latence :\n",
    "                vitesse.append(0)\n",
    "            else :\n",
    "                vitesse.append((bino*2-1)*maxi*(1-np.exp(-1/tau*(time[t]-latence))))\n",
    "        else :\n",
    "            if time[t] < start_anti :\n",
    "                vitesse.append(0)\n",
    "            else :\n",
    "                if time[t] < latence :\n",
    "                    vitesse.append((time[t]-start_anti)*v_anti)\n",
    "                    x = (time[t]-start_anti)*v_anti\n",
    "                else :\n",
    "                    vitesse.append((bino*2-1)*maxi*(1-np.exp(-1/tau*(time[t]-latence)))+x)\n",
    "\n",
    "    return vitesse"
   ]
  },
  {
   "cell_type": "code",
   "execution_count": 6,
   "metadata": {
    "ExecuteTime": {
     "end_time": "2018-05-22T13:07:57.124799Z",
     "start_time": "2018-05-22T13:07:56.809886Z"
    }
   },
   "outputs": [
    {
     "name": "stdout",
     "output_type": "stream",
     "text": [
      "{'start_anti': 512.395335584866, 'maxi': 1.8150158656645865, 'v_anti': 3.281238800650385, 'tau': 63.54401805656503, 'bino': 1, 'latence': 1007.0076019295295}\n"
     ]
    },
    {
     "data": {
      "image/png": "[encoded data removed]",
      "text/plain": [
       "<Figure size 432x288 with 1 Axes>"
      ]
     },
     "metadata": {},
     "output_type": "display_data"
    }
   ],
   "source": [
    "from lmfit import  Model, Parameters\n",
    "\n",
    "x = np.arange(0,1500,1)\n",
    "bino, start_anti, v_anti, latence, tau, maxi = 1, 500, 3, 1000, 60, 2\n",
    "\n",
    "np.random.seed(7)\n",
    "\n",
    "a = fct_velocity(x, bino, start_anti, v_anti, latence, tau, maxi)+np.random.rand(len(x))*0.5\n",
    "a = a-np.random.rand(len(x))*0.5\n",
    "\n",
    "a[770:820] =  np.arange(0,50,1)*np.nan\n",
    "\n",
    "model = Model(fct_velocity)\n",
    "params = Parameters()\n",
    "\n",
    "params.add('tau', value=13., min=13., max=80.)\n",
    "params.add('maxi', value=maxi-1, min=1., max=5.)\n",
    "params.add('latence', value=latence+150, min=600, max=len(x))\n",
    "params.add('start_anti', value=start_anti-500, min=0, max=600)\n",
    "params.add('v_anti', value=v_anti-3, min=-40., max=40.)\n",
    "params.add('bino', value=bino, vary=False)\n",
    "\n",
    "result_deg = model.fit(a, params, x=x, nan_policy='omit')\n",
    "\n",
    "plt.plot(a, c='k', alpha=0.6)\n",
    "\n",
    "\n",
    "init_fit = fct_velocity(x, bino, start_anti-500, v_anti-3, latence+150, 13., maxi-1)\n",
    "best_fit = fct_velocity(x, bino, result_deg.values['start_anti'], result_deg.values['v_anti'], result_deg.values['latence'], result_deg.values['tau'], result_deg.values['maxi'])\n",
    "\n",
    "plt.plot(init_fit, c='k')\n",
    "plt.plot(best_fit, c='r')\n",
    "\n",
    "print(result_deg.values)"
   ]
  },
  {
   "cell_type": "code",
   "execution_count": 7,
   "metadata": {
    "ExecuteTime": {
     "end_time": "2018-05-22T13:07:57.582014Z",
     "start_time": "2018-05-22T13:07:57.575228Z"
    },
    "collapsed": true
   },
   "outputs": [],
   "source": [
    "quit(v9)"
   ]
  },
  {
   "cell_type": "code",
   "execution_count": null,
   "metadata": {
    "collapsed": true
   },
   "outputs": [],
   "source": []
  }
 ],
 "metadata": {
  "kernelspec": {
   "display_name": "Python 3",
   "language": "python",
   "name": "python3"
  },
  "language_info": {
   "codemirror_mode": {
    "name": "ipython",
    "version": 3
   },
   "file_extension": ".py",
   "mimetype": "text/x-python",
   "name": "python",
   "nbconvert_exporter": "python",
   "pygments_lexer": "ipython3",
   "version": "3.5.2"
  },
  "toc": {
   "base_numbering": 1,
   "nav_menu": {},
   "number_sections": true,
   "sideBar": true,
   "skip_h1_title": false,
   "title_cell": "Table of Contents",
   "title_sidebar": "Contents",
   "toc_cell": false,
   "toc_position": {},
   "toc_section_display": true,
   "toc_window_display": false
  }
 },
 "nbformat": 4,
 "nbformat_minor": 2
}
