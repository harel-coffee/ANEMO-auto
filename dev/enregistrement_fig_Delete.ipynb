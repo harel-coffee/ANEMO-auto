{
 "cells": [
  {
   "cell_type": "code",
   "execution_count": 1,
   "metadata": {},
   "outputs": [],
   "source": [
    "%matplotlib inline\n",
    "%config InlineBackend.close_figures=False \n",
    "\n",
    "from ANEMO import ANEMO\n",
    "from ANEMO import read_edf\n",
    "\n",
    "import os\n",
    "import pickle\n",
    "import numpy as np"
   ]
  },
  {
   "cell_type": "code",
   "execution_count": 2,
   "metadata": {},
   "outputs": [],
   "source": [
    "sujets = ['AM','BMC','CS','DC','FM','IP','LB','OP','RS','SR','TN','YK']\n",
    "times = ['2017-10-23_100057','2017-09-26_095637', '2017-10-03_134421','2017-09-27_161040',\n",
    "        '2017-10-03_143803','2017-09-28_115250', '2017-09-20_151043','2017-10-26_121823',\n",
    "        '2017-11-08_094717','2017-11-16_153313', '2017-11-08_150410','2017-11-17_172706']"
   ]
  },
  {
   "cell_type": "code",
   "execution_count": 12,
   "metadata": {},
   "outputs": [],
   "source": [
    "num_suj = 1"
   ]
  },
  {
   "cell_type": "code",
   "execution_count": 13,
   "metadata": {},
   "outputs": [],
   "source": [
    "file = os.path.join('data', 'enregistrement_%s_%s.pkl'%(sujets[num_suj], times[num_suj]))\n",
    "with open(file, 'rb') as fichier :\n",
    "    param_exp = pickle.load(fichier, encoding='latin1')\n",
    "resultats = os.path.join('data', 'enregistrement_%s_%s.asc'%(sujets[num_suj], times[num_suj]))\n",
    "data = read_edf(resultats, 'TRIALID')\n",
    "\n",
    "Plot = ANEMO.Plot(param_exp)"
   ]
  },
  {
   "cell_type": "code",
   "execution_count": 14,
   "metadata": {},
   "outputs": [],
   "source": [
    "list_fct = {'velocity':'fct_velocity',\n",
    "            #'velocity':'fct_velocity_sigmo',\n",
    "            #'velocity':'fct_velocity_line',\n",
    "            #'position':'fct_position',\n",
    "            #'saccade':'fct_saccade'\n",
    "           }"
   ]
  },
  {
   "cell_type": "code",
   "execution_count": 15,
   "metadata": {},
   "outputs": [
    {
     "name": "stdout",
     "output_type": "stream",
     "text": [
      "fct_velocity OK param\n"
     ]
    }
   ],
   "source": [
    "Full_param_fit = {}\n",
    "for fct in list_fct.values() :\n",
    "    #Full_param_fit[fct] = None\n",
    "    try :\n",
    "        file = os.path.join('parametre/param_Fit_%s_%s.pkl'%(sujets[num_suj], fct))\n",
    "        with open(file, 'rb') as fichier :\n",
    "            Full_param_fit[fct] = pickle.load(fichier, encoding='latin1')\n",
    "        print(fct, 'OK param')\n",
    "    except :\n",
    "        Full_param_fit[fct] = None"
   ]
  },
  {
   "cell_type": "code",
   "execution_count": 16,
   "metadata": {},
   "outputs": [
    {
     "name": "stdout",
     "output_type": "stream",
     "text": [
      "velocity \n",
      "-------------------------------------------\n",
      "[[1, 7, 25, 30, 81, 156, 179, 187], [57, 66, 71, 80, 97, 126, 128, 129, 137], [19, 30, 33, 79, 96, 118, 123, 137, 157, 167, 190]]\n"
     ]
    }
   ],
   "source": [
    "list_delete = {}\n",
    "for fct in list_fct.keys():\n",
    "    print(fct, '\\n-------------------------------------------')\n",
    "    try :\n",
    "        with open('parametre/Delete_list_BadTrials_%s_%s.pkl'%(sujets[num_suj], list_fct[fct]), 'rb') as fichier:\n",
    "            f = pickle.load(fichier, encoding='latin1')\n",
    "        print(f)\n",
    "        list_delete[list_fct[fct]] = f\n",
    "        \n",
    "    except : list_delete[list_fct[fct]] = None ; print('No file!')"
   ]
  },
  {
   "cell_type": "code",
   "execution_count": 17,
   "metadata": {},
   "outputs": [
    {
     "name": "stdout",
     "output_type": "stream",
     "text": [
      "{'fct_velocity': [[1, 7, 25, 30, 81, 156, 179, 187], [57, 66, 71, 80, 97, 126, 128, 129, 137], [19, 30, 33, 79, 96, 118, 123, 137, 157, 167, 190]]}\n"
     ]
    }
   ],
   "source": [
    "print(list_delete)"
   ]
  },
  {
   "cell_type": "code",
   "execution_count": 18,
   "metadata": {},
   "outputs": [],
   "source": [
    "import matplotlib.pyplot as plt"
   ]
  },
  {
   "cell_type": "code",
   "execution_count": 19,
   "metadata": {},
   "outputs": [],
   "source": [
    "list_param_enre = {}\n",
    "list_param_enre['fct_velocity'] = ['start_anti', 'a_anti', 'latency', 'tau', 'steady_state']\n",
    "list_param_enre['fct_velocity_sigmo'] = ['start_anti', 'a_anti', 'latency', 'ramp_pursuit', 'steady_state']\n",
    "list_param_enre['fct_velocity_line'] = ['start_anti', 'a_anti', 'latency', 'ramp_pursuit', 'steady_state']\n",
    "list_param_enre['fct_position'] = ['start_anti', 'a_anti', 'latency', 'tau', 'steady_state']\n",
    "list_param_enre['fct_saccade'] =  ['T0', 't1', 't2', 'tr', 'x_0', 'x1', 'x2', 'tau']"
   ]
  },
  {
   "cell_type": "code",
   "execution_count": 20,
   "metadata": {},
   "outputs": [
    {
     "name": "stdout",
     "output_type": "stream",
     "text": [
      "0 [1, 7, 25, 30, 81, 156, 179, 187]\n",
      "1 [57, 66, 71, 80, 97, 126, 128, 129, 137]\n",
      "2 [19, 30, 33, 79, 96, 118, 123, 137, 157, 167, 190]\n"
     ]
    }
   ],
   "source": [
    "for fct in list_fct.keys():\n",
    "    \n",
    "    for block in range(param_exp['N_blocks']) :\n",
    "        \n",
    "        trials = list_delete[list_fct[fct]][block]\n",
    "        print(block, trials)\n",
    "        \n",
    "        \n",
    "        fig_width=15\n",
    "        fig, axs = plt.subplots(len(trials), 1, figsize=(fig_width, (fig_width*(len(trials)/2)/1.6180)))\n",
    "        \n",
    "        for t, trial in enumerate(trials) :\n",
    "            \n",
    "            param_fit_trial = {}\n",
    "            for name in list_param_enre[list_fct[fct]] :\n",
    "                if type(Full_param_fit[list_fct[fct]][name][block][trial])!= list :\n",
    "                    if np.isnan(Full_param_fit[list_fct[fct]][name][block][trial]) : param_fit_trial = None ; break\n",
    "                    else : param_fit_trial[name] = Full_param_fit[list_fct[fct]][name][block][trial]\n",
    "                else : param_fit_trial[name] = Full_param_fit[list_fct[fct]][name][block][trial]\n",
    "            #print(param_fit_trial)\n",
    "            axs[t] = Plot.generate_fig(axs[t], data, trial, block, \n",
    "                                     show='fit', show_data='velocity', equation='fct_velocity',\n",
    "                                     N_blocks=param_exp['N_blocks'], N_trials=param_exp['N_trials'],\n",
    "                                     time_sup=280, step_fit=2, do_whitening=False,\n",
    "                                     list_param_enre=None, param_fit=param_fit_trial, inde_vars=None,\n",
    "                                     before_sacc=5, after_sacc=15, stop_search_misac=None,\n",
    "                                     filt=None, cutoff=30, sample_rate=1000,\n",
    "                                     show_pos_sacc=True, plot_detail=None,\n",
    "                                     show_target=False, show_num_trial=True, write_step_trial=False,\n",
    "                                     title='', c='k', fig=fig, out=None, report=None,\n",
    "                                     fig_width=fig_width, t_label=20, t_text=14) \n",
    "\n",
    "        \n",
    "        plt.tight_layout()\n",
    "        plt.subplots_adjust(hspace=0)\n",
    "        plt.savefig('parametre/Delete/Delete_list_BadTrials_%s_%s_%s.pdf'%(sujets[num_suj], list_fct[fct], block+1))\n",
    "        plt.close()"
   ]
  },
  {
   "cell_type": "code",
   "execution_count": null,
   "metadata": {},
   "outputs": [],
   "source": []
  }
 ],
 "metadata": {
  "kernelspec": {
   "display_name": "Python 3",
   "language": "python",
   "name": "python3"
  },
  "language_info": {
   "codemirror_mode": {
    "name": "ipython",
    "version": 3
   },
   "file_extension": ".py",
   "mimetype": "text/x-python",
   "name": "python",
   "nbconvert_exporter": "python",
   "pygments_lexer": "ipython3",
   "version": "3.5.2"
  }
 },
 "nbformat": 4,
 "nbformat_minor": 2
}
