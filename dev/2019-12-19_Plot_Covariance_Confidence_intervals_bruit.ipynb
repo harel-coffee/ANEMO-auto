{
 "cells": [
  {
   "cell_type": "code",
   "execution_count": 1,
   "metadata": {
    "ExecuteTime": {
     "end_time": "2018-06-26T12:38:04.141125Z",
     "start_time": "2018-06-26T12:38:03.240588Z"
    }
   },
   "outputs": [],
   "source": [
    "import numpy as np\n",
    "import matplotlib.pyplot as plt\n",
    "%matplotlib inline"
   ]
  },
  {
   "cell_type": "code",
   "execution_count": 2,
   "metadata": {},
   "outputs": [],
   "source": [
    "def fct_velocity(x, latency, tau, steady_state) :\n",
    "\n",
    "    time = x\n",
    "    velocity = []\n",
    "    maxi = steady_state\n",
    "    for t in range(len(time)) :\n",
    "\n",
    "        if time[t] < latency :\n",
    "            velocity.append(0)\n",
    "        else :\n",
    "            velocity.append(maxi*(1-np.exp(-1/tau*(time[t]-latency))))\n",
    "\n",
    "    return velocity\n"
   ]
  },
  {
   "cell_type": "code",
   "execution_count": 11,
   "metadata": {},
   "outputs": [
    {
     "data": {
      "image/png": "[encoded data removed]",
      "text/plain": [
       "<Figure size 432x288 with 1 Axes>"
      ]
     },
     "metadata": {
      "needs_background": "light"
     },
     "output_type": "display_data"
    }
   ],
   "source": [
    "x = np.asarray(range(0, 1000, 2))\n",
    "latency = 500\n",
    "tau = 50\n",
    "steady_state = 15\n",
    "np.random.seed(0)\n",
    "\n",
    "velo = fct_velocity(x, latency, tau, steady_state)\n",
    "velo += 10*np.random.randn(x.size)\n",
    "\n",
    "plt.plot(x, velo, 'k');"
   ]
  },
  {
   "cell_type": "code",
   "execution_count": 4,
   "metadata": {},
   "outputs": [],
   "source": [
    "param_fit = [{'name':'steady_state', 'value':12,  'min':5.,  'max':40.},\n",
    "             {'name':'latency',      'value':500, 'min':100, 'max':700},\n",
    "             {'name':'tau',          'value':15., 'min':13., 'max':80.}]\n",
    "\n",
    "inde_vars = {'x': x}\n",
    "\n",
    "from lmfit import  Model, Parameters\n",
    "\n",
    "equation = fct_velocity\n",
    "\n",
    "params = Parameters()\n",
    "model = Model(equation, independent_vars=inde_vars.keys())\n",
    "\n",
    "for num_par in range(len(param_fit)) :\n",
    "    params.add(param_fit[num_par]['name'],\n",
    "               value = param_fit[num_par]['value'],\n",
    "               min   = param_fit[num_par]['min'],\n",
    "               max   = param_fit[num_par]['max'])\n",
    "\n",
    "result_deg = model.fit(velo, params, nan_policy='omit', **inde_vars)\n"
   ]
  },
  {
   "cell_type": "code",
   "execution_count": 5,
   "metadata": {
    "scrolled": true
   },
   "outputs": [
    {
     "data": {
      "text/html": [
       "<h2> Model</h2> Model(fct_velocity) <h2>Fit Statistics</h2><table><tr><td>fitting method</td><td>leastsq</td><td></td></tr><tr><td># function evals</td><td>36</td><td></td></tr><tr><td># data points</td><td>500</td><td></td></tr><tr><td># variables</td><td>3</td><td></td></tr><tr><td>chi-square</td><td> 495.871131</td><td></td></tr><tr><td>reduced chi-square</td><td> 0.99772863</td><td></td></tr><tr><td>Akaike info crit.</td><td> 1.85398933</td><td></td></tr><tr><td>Bayesian info crit.</td><td> 14.4978136</td><td></td></tr></table><h2>Variables</h2><table><tr><th> name </th><th> value </th><th> standard error </th><th> relative error </th><th> initial value </th><th> min </th><th> max </th><th> vary </th></tr><tr><td> steady_state </td><td>  14.9039223 </td><td>  0.08097143 </td><td> (0.54%) </td><td> 12 </td><td>  5.00000000 </td><td>  40.0000000 </td><td> True </td></tr><tr><td> latency </td><td>  501.507192 </td><td>  1.31713015 </td><td> (0.26%) </td><td> 500 </td><td>  100.000000 </td><td>  700.000000 </td><td> True </td></tr><tr><td> tau </td><td>  48.4425146 </td><td>  2.12057505 </td><td> (4.38%) </td><td> 15.0 </td><td>  13.0000000 </td><td>  80.0000000 </td><td> True </td></tr></table><h2>Correlations (unreported correlations are < 0.100)</h2><table><tr><td>latency</td><td>tau</td><td>-0.6925</td></tr><tr><td>steady_state</td><td>tau</td><td>0.4911</td></tr><tr><td>steady_state</td><td>latency</td><td>-0.1916</td></tr></table>"
      ],
      "text/plain": [
       "<lmfit.model.ModelResult at 0x7f7f2d5a1400>"
      ]
     },
     "execution_count": 5,
     "metadata": {},
     "output_type": "execute_result"
    }
   ],
   "source": [
    "result_deg"
   ]
  },
  {
   "cell_type": "code",
   "execution_count": 6,
   "metadata": {},
   "outputs": [
    {
     "data": {
      "text/plain": [
       "501.5071921687859"
      ]
     },
     "execution_count": 6,
     "metadata": {},
     "output_type": "execute_result"
    }
   ],
   "source": [
    "result_deg.values['latency']"
   ]
  },
  {
   "cell_type": "code",
   "execution_count": 12,
   "metadata": {},
   "outputs": [],
   "source": []
  },
  {
   "cell_type": "code",
   "execution_count": 13,
   "metadata": {},
   "outputs": [
    {
     "data": {
      "text/plain": [
       "array([0. , 0.1, 0.2, 0.3, 0.4, 0.5, 0.6, 0.7, 0.8, 0.9, 1. , 1.1, 1.2,\n",
       "       1.3, 1.4, 1.5, 1.6, 1.7, 1.8, 1.9, 2. , 2.1, 2.2, 2.3, 2.4, 2.5,\n",
       "       2.6, 2.7, 2.8, 2.9, 3. , 3.1, 3.2, 3.3, 3.4, 3.5, 3.6, 3.7, 3.8,\n",
       "       3.9, 4. , 4.1, 4.2, 4.3, 4.4, 4.5, 4.6, 4.7, 4.8, 4.9, 5. , 5.1,\n",
       "       5.2, 5.3, 5.4, 5.5, 5.6, 5.7, 5.8, 5.9, 6. , 6.1, 6.2, 6.3, 6.4,\n",
       "       6.5, 6.6, 6.7, 6.8, 6.9, 7. , 7.1, 7.2, 7.3, 7.4, 7.5, 7.6, 7.7,\n",
       "       7.8, 7.9, 8. , 8.1, 8.2, 8.3, 8.4, 8.5, 8.6, 8.7, 8.8, 8.9, 9. ,\n",
       "       9.1, 9.2, 9.3, 9.4, 9.5, 9.6, 9.7, 9.8, 9.9])"
      ]
     },
     "execution_count": 13,
     "metadata": {},
     "output_type": "execute_result"
    }
   ],
   "source": [
    "bruit"
   ]
  },
  {
   "cell_type": "markdown",
   "metadata": {},
   "source": [
    "# bruit"
   ]
  },
  {
   "cell_type": "code",
   "execution_count": 15,
   "metadata": {
    "scrolled": true
   },
   "outputs": [
    {
     "name": "stdout",
     "output_type": "stream",
     "text": [
      "0.0 = 500.00 +/- 0.00 (ms); covar = 0.00 +/- 0.00 \n",
      "0.1 = 500.22 +/- 0.00 (ms); covar = 0.02 +/- 0.00 \n",
      "0.2 = 499.89 +/- 0.00 (ms); covar = 0.06 +/- 0.00 \n",
      "0.30000000000000004 = 500.02 +/- 0.00 (ms); covar = 0.19 +/- 0.00 \n",
      "0.4 = 500.25 +/- 0.00 (ms); covar = 0.32 +/- 0.00 \n",
      "0.5 = 498.99 +/- 0.00 (ms); covar = 0.49 +/- 0.00 \n",
      "0.6000000000000001 = 498.83 +/- 0.00 (ms); covar = 0.66 +/- 0.00 \n",
      "0.7000000000000001 = 500.05 +/- 0.00 (ms); covar = 1.12 +/- 0.00 \n",
      "0.8 = 500.68 +/- 0.00 (ms); covar = 1.01 +/- 0.00 \n",
      "0.9 = 499.35 +/- 0.00 (ms); covar = 1.41 +/- 0.00 \n",
      "1.0 = 504.82 +/- 0.00 (ms); covar = 1.54 +/- 0.00 \n",
      "1.1 = 501.45 +/- 0.00 (ms); covar = 2.29 +/- 0.00 \n",
      "1.2000000000000002 = 499.20 +/- 0.66 (ms); covar = 2.64 +/- 0.03 \n",
      "1.3 = 499.86 +/- 0.00 (ms); covar = 3.07 +/- 0.00 \n",
      "1.4000000000000001 = 498.73 +/- 0.00 (ms); covar = 3.93 +/- 0.00 \n",
      "1.5 = 503.34 +/- 0.00 (ms); covar = 3.97 +/- 0.00 \n",
      "1.6 = 501.75 +/- 0.00 (ms); covar = 3.84 +/- 0.00 \n",
      "1.7000000000000002 = 502.90 +/- 0.00 (ms); covar = 4.94 +/- 0.00 \n",
      "1.8 = 496.96 +/- 1.22 (ms); covar = 6.66 +/- 0.33 \n",
      "1.9000000000000001 = 501.18 +/- 0.00 (ms); covar = 6.21 +/- 0.00 \n",
      "2.0 = 502.00 +/- 0.00 (ms); covar = 7.20 +/- 0.00 \n",
      "2.1 = 497.35 +/- 0.00 (ms); covar = 7.53 +/- 0.00 \n",
      "2.2 = 497.74 +/- 0.00 (ms); covar = 8.36 +/- 0.00 \n",
      "2.3000000000000003 = 498.99 +/- 0.76 (ms); covar = 8.89 +/- 0.10 \n",
      "2.4000000000000004 = 493.39 +/- 0.00 (ms); covar = 11.74 +/- 0.01 \n",
      "2.5 = 503.95 +/- 0.36 (ms); covar = 10.91 +/- 0.49 \n",
      "2.6 = 502.35 +/- 0.00 (ms); covar = 13.31 +/- 0.00 \n",
      "2.7 = 489.10 +/- 0.00 (ms); covar = 16.68 +/- 0.01 \n",
      "2.8000000000000003 = 503.77 +/- 7.32 (ms); covar = 13.88 +/- 1.88 \n",
      "2.9000000000000004 = 494.06 +/- 0.90 (ms); covar = 13.41 +/- 0.16 \n",
      "3.0 = 497.43 +/- 0.81 (ms); covar = 19.34 +/- 0.40 \n",
      "3.1 = 499.88 +/- 0.68 (ms); covar = 16.16 +/- 0.19 \n",
      "3.2 = 498.15 +/- 0.26 (ms); covar = 21.70 +/- 0.99 \n",
      "3.3000000000000003 = 500.00 +/- 0.00 (ms); covar = 24.26 +/- 0.02 \n",
      "3.4000000000000004 = 496.76 +/- 0.00 (ms); covar = 20.37 +/- 0.02 \n",
      "3.5 = 496.73 +/- 0.00 (ms); covar = 27.29 +/- 0.04 \n",
      "3.6 = 500.18 +/- 0.00 (ms); covar = 27.09 +/- 0.01 \n",
      "3.7 = 504.63 +/- 0.00 (ms); covar = 26.24 +/- 0.02 \n",
      "3.8000000000000003 = 503.29 +/- 0.00 (ms); covar = 26.88 +/- 0.03 \n",
      "3.9000000000000004 = 503.46 +/- 0.00 (ms); covar = 30.47 +/- 0.03 \n",
      "4.0 = 495.66 +/- 0.21 (ms); covar = 38.40 +/- 0.41 \n",
      "4.1000000000000005 = 497.37 +/- 4.12 (ms); covar = 38.25 +/- 4.46 \n",
      "4.2 = 504.00 +/- 0.00 (ms); covar = 29.98 +/- 0.72 \n",
      "4.3 = 493.75 +/- 0.00 (ms); covar = 36.37 +/- 0.03 \n",
      "4.4 = 504.99 +/- 3.16 (ms); covar = 31.09 +/- 1.33 \n",
      "4.5 = 502.04 +/- 0.00 (ms); covar = 41.51 +/- 0.06 \n",
      "4.6000000000000005 = 502.01 +/- 0.01 (ms); covar = 40.70 +/- 0.09 \n",
      "4.7 = 493.25 +/- 0.01 (ms); covar = 43.21 +/- 0.11 \n",
      "4.800000000000001 = 500.31 +/- 1.72 (ms); covar = 45.14 +/- 2.82 \n",
      "4.9 = 498.21 +/- 3.64 (ms); covar = 47.81 +/- 6.96 \n",
      "5.0 = 520.00 +/- 0.00 (ms); covar = 31.60 +/- 0.55 \n",
      "5.1000000000000005 = 504.89 +/- 0.17 (ms); covar = 39.27 +/- 0.52 \n",
      "5.2 = 501.77 +/- 1.88 (ms); covar = 37.73 +/- 3.12 \n",
      "5.300000000000001 = 511.90 +/- 8.66 (ms); covar = 37.11 +/- 9.68 \n",
      "5.4 = 490.00 +/- 0.00 (ms); covar = 84.65 +/- 1.48 \n",
      "5.5 = 502.00 +/- 0.00 (ms); covar = 51.11 +/- 2.39 \n",
      "5.6000000000000005 = 498.00 +/- 0.00 (ms); covar = 61.14 +/- 2.41 \n",
      "5.7 = 516.00 +/- 0.00 (ms); covar = 47.23 +/- 0.07 \n",
      "5.800000000000001 = 506.00 +/- 0.00 (ms); covar = 26.01 +/- 1.00 \n",
      "5.9 = 503.48 +/- 4.37 (ms); covar = 35.14 +/- 7.18 \n",
      "6.0 = 504.48 +/- 7.38 (ms); covar = 51.32 +/- 8.03 \n",
      "6.1000000000000005 = 497.28 +/- 2.58 (ms); covar = 54.31 +/- 4.31 \n",
      "6.2 = 504.51 +/- 21.84 (ms); covar = 79.39 +/- 30.45 \n",
      "6.300000000000001 = 497.33 +/- 18.94 (ms); covar = 78.25 +/- 25.75 \n",
      "6.4 = 510.39 +/- 4.05 (ms); covar = 72.25 +/- 10.17 \n",
      "6.5 = 491.79 +/- 2.28 (ms); covar = 68.82 +/- 1.91 \n",
      "6.6000000000000005 = 514.33 +/- 13.66 (ms); covar = 85.06 +/- 19.44 \n",
      "6.7 = 487.64 +/- 4.51 (ms); covar = 105.62 +/- 9.76 \n",
      "6.800000000000001 = 518.86 +/- 9.36 (ms); covar = 58.74 +/- 15.35 \n",
      "6.9 = 500.67 +/- 0.01 (ms); covar = 69.52 +/- 0.20 \n",
      "7.0 = 511.52 +/- 0.42 (ms); covar = 39.29 +/- 4.20 \n",
      "7.1000000000000005 = 502.77 +/- 0.00 (ms); covar = 95.50 +/- 0.22 \n",
      "7.2 = 499.23 +/- 0.69 (ms); covar = 97.26 +/- 0.66 \n",
      "7.300000000000001 = 509.80 +/- 11.58 (ms); covar = 50.12 +/- 16.17 \n",
      "7.4 = 484.48 +/- 10.59 (ms); covar = 146.37 +/- 25.37 \n",
      "7.5 = 490.00 +/- 0.00 (ms); covar = 132.03 +/- 9.15 \n",
      "7.6000000000000005 = 499.77 +/- 20.12 (ms); covar = 153.74 +/- 43.06 \n",
      "7.7 = 491.18 +/- 1.86 (ms); covar = 87.09 +/- 9.73 \n",
      "7.800000000000001 = 472.72 +/- 14.17 (ms); covar = 176.96 +/- 31.00 \n",
      "7.9 = 477.72 +/- 25.87 (ms); covar = 170.62 +/- 61.37 \n",
      "8.0 = 505.71 +/- 2.85 (ms); covar = 89.97 +/- 20.33 \n",
      "8.1 = 474.84 +/- 27.96 (ms); covar = 139.17 +/- 55.61 \n",
      "8.200000000000001 = 497.99 +/- 0.01 (ms); covar = 129.13 +/- 2.17 \n",
      "8.3 = 530.19 +/- 2.73 (ms); covar = 59.72 +/- 10.93 \n",
      "8.4 = 500.26 +/- 2.63 (ms); covar = 118.40 +/- 9.79 \n",
      "8.5 = 489.05 +/- 2.14 (ms); covar = 144.42 +/- 14.12 \n",
      "8.6 = 501.92 +/- 21.91 (ms); covar = 155.07 +/- 46.50 \n",
      "8.700000000000001 = 491.46 +/- 22.26 (ms); covar = 157.92 +/- 59.06 \n",
      "8.8 = 512.04 +/- 11.60 (ms); covar = 111.57 +/- 17.66 \n",
      "8.9 = 495.44 +/- 3.73 (ms); covar = 139.11 +/- 20.80 \n",
      "9.0 = 489.54 +/- 19.82 (ms); covar = 164.52 +/- 39.67 \n",
      "9.1 = 505.21 +/- 1.97 (ms); covar = 96.57 +/- 13.21 \n",
      "9.200000000000001 = 518.62 +/- 6.86 (ms); covar = 77.05 +/- 12.00 \n",
      "9.3 = 505.27 +/- 2.72 (ms); covar = 179.03 +/- 10.74 \n",
      "9.4 = 486.51 +/- 17.40 (ms); covar = 282.41 +/- 65.78 \n",
      "9.5 = 479.09 +/- 3.00 (ms); covar = 229.89 +/- 15.27 \n",
      "9.600000000000001 = 477.03 +/- 5.97 (ms); covar = 251.21 +/- 17.35 \n",
      "9.700000000000001 = 499.05 +/- 9.32 (ms); covar = 124.93 +/- 37.22 \n",
      "9.8 = 523.95 +/- 10.59 (ms); covar = 94.94 +/- 21.86 \n",
      "9.9 = 501.26 +/- 6.62 (ms); covar = 185.61 +/- 25.94 \n"
     ]
    }
   ],
   "source": [
    "N_test = 200\n",
    "bruit = np.arange(0,10,0.1)\n",
    "\n",
    "\n",
    "std_lat, covars = [], []\n",
    "for b in bruit :\n",
    "    \n",
    "    velo = fct_velocity(x, latency, tau, steady_state)\n",
    "    velo += b*np.random.randn(x.size)\n",
    "    \n",
    "    Lats, covars_ = [], []\n",
    "    for i_test in range(N_test):\n",
    "        \n",
    "        for num_par in range(len(param_fit)) :\n",
    "            if param_fit[num_par]['name'] == 'latency' :\n",
    "                val = param_fit[num_par]['value']+50*np.random.randn()\n",
    "            else :\n",
    "                val = param_fit[num_par]['value']\n",
    "            params.add(param_fit[num_par]['name'],\n",
    "                       value =  val,\n",
    "                       min   = param_fit[num_par]['min'],\n",
    "                       max   = param_fit[num_par]['max'])\n",
    "\n",
    "        result_deg = model.fit(velo, params, nan_policy='omit', **inde_vars)\n",
    "        Lats.append(result_deg.values['latency'])\n",
    "        covars_.append(result_deg.covar[1, 1])\n",
    "        \n",
    "    covars.append(np.mean(covars_))\n",
    "    std_lat.append(np.std(Lats))\n",
    "    print(f'{b} = {np.mean(Lats):.2f} +/- {np.std(Lats):.2f} (ms); covar = {np.mean(covars_):.2f} +/- {np.std(covars_):.2f} ')"
   ]
  },
  {
   "cell_type": "code",
   "execution_count": 16,
   "metadata": {},
   "outputs": [
    {
     "data": {
      "image/png": "[encoded data removed]",
      "text/plain": [
       "<Figure size 432x288 with 1 Axes>"
      ]
     },
     "metadata": {
      "needs_background": "light"
     },
     "output_type": "display_data"
    }
   ],
   "source": [
    "plt.plot(bruit, std_lat, 'k')\n",
    "plt.plot(bruit, np.array(covars)/10, 'r');"
   ]
  }
 ],
 "metadata": {
  "kernel_info": {
   "name": "python3"
  },
  "kernelspec": {
   "display_name": "Python 3",
   "language": "python",
   "name": "python3"
  },
  "language_info": {
   "codemirror_mode": {
    "name": "ipython",
    "version": 3
   },
   "file_extension": ".py",
   "mimetype": "text/x-python",
   "name": "python",
   "nbconvert_exporter": "python",
   "pygments_lexer": "ipython3",
   "version": "3.6.8"
  },
  "nteract": {
   "version": "0.15.0"
  },
  "toc": {
   "base_numbering": 1,
   "nav_menu": {},
   "number_sections": true,
   "sideBar": true,
   "skip_h1_title": false,
   "title_cell": "Table of Contents",
   "title_sidebar": "Contents",
   "toc_cell": false,
   "toc_position": {},
   "toc_section_display": true,
   "toc_window_display": false
  }
 },
 "nbformat": 4,
 "nbformat_minor": 4
}
