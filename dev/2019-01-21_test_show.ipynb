{
 "cells": [
  {
   "cell_type": "code",
   "execution_count": 1,
   "metadata": {},
   "outputs": [],
   "source": [
    "%matplotlib inline\n",
    "%config InlineBackend.close_figures=False \n",
    "\n",
    "from ANEMO import ANEMO\n",
    "from ANEMO import read_edf\n",
    "\n",
    "import os\n",
    "import pickle\n",
    "import numpy as np"
   ]
  },
  {
   "cell_type": "code",
   "execution_count": 2,
   "metadata": {},
   "outputs": [],
   "source": [
    "sujet = ['AM','BMC','CS','DC','FM','IP','LB','OP','RS','SR','TN','YK']\n",
    "time = ['2017-10-23_100057','2017-09-26_095637',\n",
    "        '2017-10-03_134421','2017-09-27_161040',\n",
    "        '2017-10-03_143803','2017-09-28_115250',\n",
    "        '2017-09-20_151043','2017-10-26_121823',\n",
    "        '2017-11-08_094717','2017-11-16_153313',\n",
    "        '2017-11-08_150410','2017-11-17_172706']"
   ]
  },
  {
   "cell_type": "code",
   "execution_count": 3,
   "metadata": {},
   "outputs": [],
   "source": [
    "x = 0"
   ]
  },
  {
   "cell_type": "code",
   "execution_count": 4,
   "metadata": {},
   "outputs": [],
   "source": [
    "file = os.path.join('data', 'enregistrement_' + sujet[x] + '_' + time[x] + '.pkl')\n",
    "with open(file, 'rb') as fichier :\n",
    "    param_exp = pickle.load(fichier, encoding='latin1')\n",
    "\n",
    "\n",
    "resultats = os.path.join('data', 'enregistrement_' + sujet[x] + '_' + time[x] + '.asc')\n",
    "data = read_edf(resultats, 'TRIALID')\n",
    "\n",
    "list_fct = {'velocity':'fct_velocity', 'position':'fct_position', 'saccade':'fct_saccade'}\n",
    "Full_param_fit = {}\n",
    "for fct in list_fct.values() :\n",
    "    try :\n",
    "        file = os.path.join('parametre/param_Fit_'+ sujet[x] +'_' + fct + '_2_step_False_whitening.pkl')\n",
    "        with open(file, 'rb') as fichier :\n",
    "            Full_param_fit[fct] = pickle.load(fichier, encoding='latin1')\n",
    "            \n",
    "    except :\n",
    "        Full_param_fit[fct] = None"
   ]
  },
  {
   "cell_type": "code",
   "execution_count": 5,
   "metadata": {},
   "outputs": [],
   "source": [
    "Plot = ANEMO.Plot(param_exp)\n",
    "Fit = ANEMO.Fit(param_exp)\n",
    "ANEMO = ANEMO(param_exp)"
   ]
  },
  {
   "cell_type": "code",
   "execution_count": 6,
   "metadata": {
    "scrolled": false
   },
   "outputs": [
    {
     "data": {
      "application/vnd.jupyter.widget-view+json": {
       "model_id": "a9dd55bfff344d2c9de53e77b5355e2b",
       "version_major": 2,
       "version_minor": 0
      },
      "text/plain": [
       "GridBox(children=(Dropdown(description='show', layout=Layout(grid_area='show', width='90%'), options=('data', …"
      ]
     },
     "metadata": {},
     "output_type": "display_data"
    }
   ],
   "source": [
    "Full_list = Plot.show_fit(data, list_fct, Full_param_fit, show_data='saccade')"
   ]
  },
  {
   "cell_type": "code",
   "execution_count": 7,
   "metadata": {},
   "outputs": [
    {
     "name": "stdout",
     "output_type": "stream",
     "text": [
      "data \n",
      "-------------------------------------------\n",
      "saccade :\n",
      "\tOK: [[31], [], []] \n",
      "\tBad: [[29], [], []]\n",
      "\n",
      "velocity :\n",
      "\tOK: [[], [], []] \n",
      "\tBad: [[], [], []]\n",
      "\n",
      "position :\n",
      "\tOK: [[], [], []] \n",
      "\tBad: [[], [], []]\n",
      "\n",
      "fit \n",
      "-------------------------------------------\n",
      "saccade :\n",
      "\tOK: [[], [], [111, 112, 113, 114]] \n",
      "\tBad: [[], [], [109, 116]]\n",
      "\n",
      "velocity :\n",
      "\tOK: [[], [26, 33], [100]] \n",
      "\tBad: [[], [28, 31], [105]]\n",
      "\n",
      "position :\n",
      "\tOK: [[], [], [105]] \n",
      "\tBad: [[], [], [106]]\n",
      "\n"
     ]
    }
   ],
   "source": [
    "for s in ['data', 'fit'] :\n",
    "    print(s, '\\n-------------------------------------------')\n",
    "    \n",
    "    for fct in list_fct.keys():\n",
    "        list_ok, list_bad = [], []\n",
    "        for block in range(3) :\n",
    "            list_ok.append([])\n",
    "            list_bad.append([])\n",
    "\n",
    "            for trial in range(200) :\n",
    "                if Full_list[s][fct][block][trial]=='OK' :\n",
    "                    list_ok[block].append(trial)\n",
    "                elif Full_list[s][fct][block][trial]=='Bad' :\n",
    "                    list_bad[block].append(trial)\n",
    "\n",
    "            list_bad[block].sort(); list_ok[block].sort()\n",
    "\n",
    "        print(fct, ':\\n\\tOK:', list_ok, '\\n\\tBad:', list_bad, end='\\n\\n')"
   ]
  },
  {
   "cell_type": "code",
   "execution_count": null,
   "metadata": {},
   "outputs": [],
   "source": []
  }
 ],
 "metadata": {
  "kernelspec": {
   "display_name": "Python 3",
   "language": "python",
   "name": "python3"
  },
  "language_info": {
   "codemirror_mode": {
    "name": "ipython",
    "version": 3
   },
   "file_extension": ".py",
   "mimetype": "text/x-python",
   "name": "python",
   "nbconvert_exporter": "python",
   "pygments_lexer": "ipython3",
   "version": "3.5.2"
  }
 },
 "nbformat": 4,
 "nbformat_minor": 2
}
