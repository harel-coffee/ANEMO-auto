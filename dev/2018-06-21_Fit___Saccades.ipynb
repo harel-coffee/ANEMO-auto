{
 "cells": [
  {
   "cell_type": "code",
   "execution_count": 1,
   "metadata": {
    "ExecuteTime": {
     "end_time": "2018-06-14T09:15:04.819715Z",
     "start_time": "2018-06-14T09:15:03.900055Z"
    },
    "collapsed": true
   },
   "outputs": [],
   "source": [
    "import numpy as np\n",
    "import matplotlib.pyplot as plt\n",
    "%matplotlib inline"
   ]
  },
  {
   "cell_type": "markdown",
   "metadata": {},
   "source": [
    "# extracting data and doing the fit on velocity"
   ]
  },
  {
   "cell_type": "code",
   "execution_count": 2,
   "metadata": {
    "ExecuteTime": {
     "end_time": "2018-06-14T09:15:17.487280Z",
     "start_time": "2018-06-14T09:15:06.154173Z"
    },
    "collapsed": true
   },
   "outputs": [],
   "source": [
    "from ANEMO.edfreader import read_edf\n",
    "\n",
    "import pickle\n",
    "with open('../demo/result/param_Fit_AM.pkl', 'rb') as fichier:\n",
    "    param = pickle.load(fichier, encoding='latin1')\n",
    "with open('../demo/data/enregistrement_AM_2017-10-23_100057.pkl', 'rb') as fichier:\n",
    "    file_exp = pickle.load(fichier, encoding='latin1')\n",
    "\n",
    "datafile = '../demo/data/enregistrement_AM_2017-10-23_100057.asc'\n",
    "data = read_edf(datafile, 'TRIALID')"
   ]
  },
  {
   "cell_type": "code",
   "execution_count": 3,
   "metadata": {
    "ExecuteTime": {
     "end_time": "2018-06-14T09:15:17.518331Z",
     "start_time": "2018-06-14T09:15:17.510086Z"
    },
    "collapsed": true
   },
   "outputs": [],
   "source": [
    "def deco(axs) :\n",
    "    axs.axvspan(arg.StimulusOn-start, arg.StimulusOf-start, color='k', alpha=0.2)\n",
    "    axs.axvspan(arg.StimulusOf-start, arg.TargetOn-start, color='r', alpha=0.2)\n",
    "    axs.axvspan(arg.TargetOn-start, arg.TargetOff-start, color='k', alpha=0.15)\n",
    "    for s in range(len(arg.saccades)) :\n",
    "        axs.axvspan(arg.saccades[s][0]-start, arg.saccades[s][1]-start, color='k', alpha=0.2)"
   ]
  },
  {
   "cell_type": "code",
   "execution_count": 4,
   "metadata": {
    "ExecuteTime": {
     "end_time": "2018-06-14T09:15:17.556221Z",
     "start_time": "2018-06-14T09:15:17.525873Z"
    },
    "collapsed": true
   },
   "outputs": [],
   "source": [
    "def saccade(x, x_0, tau, x1, x2, T0, t1, t2, tr):\n",
    "    \n",
    "    time = x-T0\n",
    "    T1 = t1\n",
    "    T2 = t1+t2\n",
    "    TR = T2+tr\n",
    "    \n",
    "    rho = (tau/T1) * np.log((1+np.exp(T1/tau))/2)\n",
    "    rhoT = int(np.round(T1*rho))\n",
    "    \n",
    "    r = (tau/T2) * np.log((np.exp(T1/tau) + np.exp(T2/tau)) /2)\n",
    "    rT = int(np.round(T2*r))\n",
    "    Umax1 = (1/tau) * x1 / ((2*rho-1)*T1 - tau*(2-np.exp(-(rho*T1)/tau) - np.exp((1-rho)*T1/tau)))\n",
    "    Umax2 = (1/tau) * (x2-x1) / ((2*r-1)*T2-T1)\n",
    "\n",
    "    xx = []\n",
    "    \n",
    "    for t in time :\n",
    "        if t < 0 :\n",
    "            xx.append(x_0)\n",
    "        elif t < rhoT :\n",
    "            xx.append((x_0 +      Umax1*tau * ((t)    - tau*(1-np.exp(-t/tau)))))\n",
    "        elif t < T1 :\n",
    "            xx.append(x_0 + (x1 + Umax1*tau * ((T1-t) + tau*(1-np.exp((T1-t)/tau)))))\n",
    "        elif t < rT :\n",
    "            xx.append(x_0 + (x1 + Umax2*tau * ((t-T1) - tau*(1-np.exp(-(t-T1)/tau)))))\n",
    "        elif t < TR :\n",
    "            xx.append(x_0 + (x2 + Umax2*tau * ((T2-t) + tau*(1-np.exp((T2-t)/tau)))))\n",
    "        else :\n",
    "            xx.append(xx[-1])\n",
    "    \n",
    "    return xx"
   ]
  },
  {
   "cell_type": "code",
   "execution_count": 5,
   "metadata": {
    "ExecuteTime": {
     "end_time": "2018-06-14T09:15:18.296857Z",
     "start_time": "2018-06-14T09:15:18.272080Z"
    },
    "collapsed": true
   },
   "outputs": [],
   "source": [
    "def Fit_saccade(position_x) :\n",
    "\n",
    "    from lmfit import  Model, Parameters\n",
    "\n",
    "    model = Model(saccade)\n",
    "\n",
    "    params = Parameters()\n",
    "    params.add('x_0', value=position_x[0], vary=False)\n",
    "    params.add('tau', value=13, min=1, max=40)\n",
    "    params.add('T0', value=2, min=0, max=len(position_x))\n",
    "    params.add('t1', value=15, min=10, max=20)#len(position_x))\n",
    "    params.add('t2', value=20, min=0, max=len(position_x)/2)\n",
    "    params.add('tr', value=0, min=0, max=10)\n",
    "    params.add('x1', value=-2, min=-5, max=5)\n",
    "    params.add('x2', value=-3, min=-5, max=5)\n",
    "\n",
    "    result_deg = model.fit(position_x, params, x=np.arange(len(position_x)), nan_policy='omit')\n",
    "\n",
    "  \n",
    "    return result_deg\n"
   ]
  },
  {
   "cell_type": "code",
   "execution_count": 6,
   "metadata": {
    "collapsed": true
   },
   "outputs": [],
   "source": [
    "from ANEMO import ANEMO\n",
    "\n",
    "block, trial, sacc = 0, 99, 0\n",
    "arg = ANEMO.arg(data, file_exp, trial, block)\n",
    "\n",
    "\n",
    "trial_data = trial + arg.N_trials*block\n",
    "time, t_0 = arg.trackertime, arg.t_0\n",
    "start, start1 = arg.TargetOn, arg.TargetOn-t_0\n",
    "\n",
    "data_1 = (arg.data_x-(arg.data_x[arg.StimulusOf-t_0])) / arg.px_per_deg"
   ]
  },
  {
   "cell_type": "code",
   "execution_count": 7,
   "metadata": {
    "ExecuteTime": {
     "start_time": "2018-06-14T09:15:04.006Z"
    }
   },
   "outputs": [
    {
     "name": "stdout",
     "output_type": "stream",
     "text": [
      "0.5504123817372344 2.3213776549363834 -1.2209328678391431 -0.6420743151580197 \n",
      " 1.9601634409761484 13.100854344918359 14.11274734556632 0.0\n"
     ]
    },
    {
     "data": {
      "image/png": "[encoded data removed]",
      "text/plain": [
       "<Figure size 1080x333.745 with 1 Axes>"
      ]
     },
     "metadata": {},
     "output_type": "display_data"
    }
   ],
   "source": [
    "fig_width= 15\n",
    "fig, axs = plt.subplots(1, 1, figsize=(fig_width, (fig_width/2)/1.6180))\n",
    "\n",
    "debut, fin = 0, 15\n",
    "data_sacc  = data_1[arg.saccades[sacc][0]-t_0+debut:arg.saccades[sacc][1]-t_0+fin]\n",
    "f = Fit_saccade(data_sacc)\n",
    "\n",
    "print(f.values['x_0'], f.values['tau'], f.values['x1'], f.values['x2'],\n",
    "      '\\n', f.values['T0'], f.values['t1'],f.values['t2'], f.values['tr'])\n",
    "\n",
    "axs.axvspan(f.values['T0'], f.values['T0']+f.values['t1'], color='r', alpha=0.2)\n",
    "\n",
    "axs.axvspan(f.values['T0']+f.values['t1'], f.values['T0']+f.values['t1']+f.values['t2'], color='k', alpha=0.2)\n",
    "axs.axvspan(f.values['T0']+f.values['t1']+f.values['t2'],\n",
    "            f.values['T0']+f.values['t1']+f.values['t2']+f.values['tr'], color='r', alpha=0.2)\n",
    "\n",
    "\n",
    "axs.hlines(f.values['x1']+f.values['x_0'], f.values['T0'], len(data_sacc), color='k', lw=1)\n",
    "axs.hlines(f.values['x2']+f.values['x_0'], f.values['T0'], len(data_sacc), color='r', lw=1)\n",
    "\n",
    "axs.plot(data_sacc, color='k', alpha=0.4)\n",
    "axs.plot(f.best_fit, color='R');"
   ]
  },
  {
   "cell_type": "code",
   "execution_count": 8,
   "metadata": {},
   "outputs": [
    {
     "data": {
      "image/png": "[encoded data removed]",
      "text/plain": [
       "<Figure size 1080x333.745 with 1 Axes>"
      ]
     },
     "metadata": {},
     "output_type": "display_data"
    }
   ],
   "source": [
    "fig_width= 15\n",
    "fig, axs = plt.subplots(1, 1, figsize=(fig_width, (fig_width/2)/1.6180))\n",
    "\n",
    "deco(axs)\n",
    "axs.plot(time-start, data_1, color='k', alpha=0.4)\n",
    "\n",
    "debut, fin = 0, 15\n",
    "\n",
    "for s in range(len(arg.saccades)):\n",
    "    data_sacc  = data_1[arg.saccades[s][0]-t_0+debut:arg.saccades[s][1]-t_0+fin]\n",
    "    f = Fit_saccade(data_sacc)\n",
    "    axs.plot(time[arg.saccades[s][0]-t_0+debut:arg.saccades[s][1]-t_0+fin]-start,\n",
    "             f.best_fit , 'r')"
   ]
  },
  {
   "cell_type": "code",
   "execution_count": null,
   "metadata": {
    "collapsed": true
   },
   "outputs": [],
   "source": []
  }
 ],
 "metadata": {
  "kernelspec": {
   "display_name": "Python 3",
   "language": "python",
   "name": "python3"
  },
  "language_info": {
   "codemirror_mode": {
    "name": "ipython",
    "version": 3
   },
   "file_extension": ".py",
   "mimetype": "text/x-python",
   "name": "python",
   "nbconvert_exporter": "python",
   "pygments_lexer": "ipython3",
   "version": "3.6.9"
  },
  "toc": {
   "base_numbering": 1,
   "nav_menu": {},
   "number_sections": true,
   "sideBar": true,
   "skip_h1_title": false,
   "title_cell": "Table of Contents",
   "title_sidebar": "Contents",
   "toc_cell": false,
   "toc_position": {},
   "toc_section_display": true,
   "toc_window_display": false
  }
 },
 "nbformat": 4,
 "nbformat_minor": 2
}
