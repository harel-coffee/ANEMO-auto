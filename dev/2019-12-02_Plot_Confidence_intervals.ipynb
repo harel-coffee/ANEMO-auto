{
  "cells": [
    {
      "cell_type": "code",
      "source": [
        "import numpy as np\n",
        "import matplotlib.pyplot as plt\n",
        "%matplotlib inline"
      ],
      "outputs": [],
      "execution_count": 1,
      "metadata": {
        "ExecuteTime": {
          "end_time": "2018-06-26T12:38:04.141125Z",
          "start_time": "2018-06-26T12:38:03.240588Z"
        }
      }
    },
    {
      "cell_type": "markdown",
      "source": [
        "# inspiration de lmfit\n",
        "\n",
        "https://lmfit.github.io/lmfit-py/confidence.html\n"
      ],
      "metadata": {}
    },
    {
      "cell_type": "code",
      "source": [
        "x = np.linspace(-10, 10, 100)\n",
        "np.random.seed(0)\n",
        "#y = 1/(0.1*x) + 2 \n",
        "y = x * 1/(1 + 2.*np.exp(-(x-1.2)))\n",
        "\n",
        "y += 0.1*np.random.randn(x.size)\n",
        "\n",
        "plt.plot(x, y)"
      ],
      "outputs": [
        {
          "output_type": "execute_result",
          "execution_count": 2,
          "data": {
            "text/plain": [
              "[<matplotlib.lines.Line2D at 0x7fd0ed13c4e0>]"
            ]
          },
          "metadata": {}
        },
        {
          "output_type": "display_data",
          "data": {
            "image/png": "[encoded data removed]",
            "text/plain": [
              "<Figure size 432x288 with 1 Axes>"
            ]
          },
          "metadata": {
            "needs_background": "light"
          }
        }
      ],
      "execution_count": 2,
      "metadata": {}
    },
    {
      "cell_type": "code",
      "source": [
        "import lmfit\n",
        "pars = lmfit.Parameters()\n",
        "pars.add_many(('a', 0.1), ('b', 4))\n",
        "\n",
        "\n",
        "def residual(p):\n",
        "    model = x  /(1 + p['b'] * np.exp(-(x-p['a'])))\n",
        "\n",
        "    return model - y"
      ],
      "outputs": [],
      "execution_count": 3,
      "metadata": {}
    },
    {
      "cell_type": "code",
      "source": [
        "mini = lmfit.Minimizer(residual, pars)\n",
        "result = mini.minimize()"
      ],
      "outputs": [],
      "execution_count": 4,
      "metadata": {}
    },
    {
      "cell_type": "code",
      "source": [
        "result"
      ],
      "outputs": [
        {
          "output_type": "execute_result",
          "execution_count": 5,
          "data": {
            "text/html": [
              "<h2>Fit Statistics</h2><table><tr><td>fitting method</td><td>leastsq</td><td></td></tr><tr><td># function evals</td><td>24</td><td></td></tr><tr><td># data points</td><td>100</td><td></td></tr><tr><td># variables</td><td>2</td><td></td></tr><tr><td>chi-square</td><td> 0.99386371</td><td></td></tr><tr><td>reduced chi-square</td><td> 0.01014147</td><td></td></tr><tr><td>Akaike info crit.</td><td>-457.132538</td><td></td></tr><tr><td>Bayesian info crit.</td><td>-451.922197</td><td></td></tr></table><h2>Variables</h2><table><tr><th> name </th><th> value </th><th> standard error </th><th> relative error </th><th> initial value </th><th> min </th><th> max </th><th> vary </th></tr><tr><td> a </td><td>  0.48793085 </td><td>  153458.619 </td><td> (31450894.81%) </td><td> 0.1 </td><td>        -inf </td><td>         inf </td><td> True </td></tr><tr><td> b </td><td>  4.40943097 </td><td>  676665.158 </td><td> (15345861.25%) </td><td> 4 </td><td>        -inf </td><td>         inf </td><td> True </td></tr></table><h2>Correlations (unreported correlations are < 0.100)</h2><table><tr><td>a</td><td>b</td><td>-1.0000</td></tr></table>"
            ],
            "text/plain": [
              "<lmfit.minimizer.MinimizerResult at 0x7fd0ed1c2358>"
            ]
          },
          "metadata": {}
        }
      ],
      "execution_count": 5,
      "metadata": {}
    },
    {
      "cell_type": "code",
      "source": [
        "print(lmfit.fit_report(result.params))"
      ],
      "outputs": [
        {
          "output_type": "stream",
          "name": "stdout",
          "text": [
            "[[Variables]]\n",
            "    a:  0.48793085 +/- 153458.619 (31450894.81%) (init = 0.1)\n",
            "    b:  4.40943097 +/- 676665.158 (15345861.25%) (init = 4)\n",
            "[[Correlations]] (unreported correlations are < 0.100)\n",
            "    C(a, b) = -1.000\n"
          ]
        }
      ],
      "execution_count": 6,
      "metadata": {}
    },
    {
      "cell_type": "code",
      "source": [
        "ci = lmfit.conf_interval(mini, result)\n",
        "lmfit.printfuncs.report_ci(ci)"
      ],
      "outputs": [
        {
          "output_type": "stream",
          "name": "stdout",
          "text": [
            "      99.73%    95.45%    68.27%    _BEST_    68.27%    95.45%    99.73%\n",
            " a:      -inf      -inf      -inf   0.48793      +inf      +inf      +inf\n",
            " b:      -inf      -inf      -inf   4.40943      +inf      +inf      +inf\n"
          ]
        },
        {
          "output_type": "stream",
          "name": "stderr",
          "text": [
            "/usr/local/lib/python3.6/dist-packages/lmfit/confidence.py:318: UserWarning: rel_change=0.0 < 1e-05 at iteration 1 and prob(a=0.3903446826650657) = 0.0 < max(sigmas).\n",
            "  warn(errmsg)\n",
            "/usr/local/lib/python3.6/dist-packages/lmfit/confidence.py:318: UserWarning: rel_change=0.0 < 1e-05 at iteration 1 and prob(a=0.5855170239975985) = 0.0 < max(sigmas).\n",
            "  warn(errmsg)\n",
            "/usr/local/lib/python3.6/dist-packages/lmfit/confidence.py:318: UserWarning: rel_change=0.0 < 1e-05 at iteration 1 and prob(b=3.5275447726482554) = 0.0 < max(sigmas).\n",
            "  warn(errmsg)\n",
            "/usr/local/lib/python3.6/dist-packages/lmfit/confidence.py:318: UserWarning: rel_change=0.0 < 1e-05 at iteration 1 and prob(b=5.291317158972383) = 0.0 < max(sigmas).\n",
            "  warn(errmsg)\n"
          ]
        }
      ],
      "execution_count": 7,
      "metadata": {}
    },
    {
      "cell_type": "code",
      "source": [
        "result.params['a'].value"
      ],
      "outputs": [
        {
          "output_type": "execute_result",
          "execution_count": 8,
          "data": {
            "text/plain": [
              "0.4879308533313321"
            ]
          },
          "metadata": {}
        }
      ],
      "execution_count": 8,
      "metadata": {}
    },
    {
      "cell_type": "markdown",
      "source": [
        "# obtenir une variabilité\n",
        "\n",
        "une idée: \n",
        "\n",
        "* introduires des Nans dans les données\n",
        "* faire une boucle dans laquelle:\n",
        " * on ajoute du bruit dans les conditions initiales\n",
        " * on refait le fit\n",
        "* la variabilité devrait dépendre "
      ],
      "metadata": {}
    },
    {
      "cell_type": "code",
      "source": [
        "N_test = 200\n",
        "As = []\n",
        "\n",
        "for i_test in range(N_test):\n",
        "    pars = lmfit.Parameters()\n",
        "    pars.add_many(('a', 0.1+0.1*np.random.randn()), ('b', 4+0.1*np.random.randn()))\n",
        "    \n",
        "    mini = lmfit.Minimizer(residual, pars)\n",
        "    result = mini.minimize()\n",
        "\n",
        "    As.append(result.params['a'].value)\n",
        "    \n",
        "print(np.mean(As), np.std(As))"
      ],
      "outputs": [
        {
          "output_type": "stream",
          "name": "stdout",
          "text": [
            "0.42434142992861096 0.7164102274057743\n"
          ]
        }
      ],
      "execution_count": 9,
      "metadata": {}
    },
    {
      "cell_type": "code",
      "source": [
        "As"
      ],
      "outputs": [
        {
          "output_type": "execute_result",
          "execution_count": 10,
          "data": {
            "text/plain": [
              "[0.623335990968839,\n",
              " -0.5974108003817026,\n",
              " 1.1811226507668948,\n",
              " 1.205754746418091,\n",
              " -0.3103807857984127,\n",
              " 0.7343792921636068,\n",
              " -0.4222653985644048,\n",
              " 1.1983061821094723,\n",
              " 1.352829235356314,\n",
              " 1.0951384367853791,\n",
              " 0.4810498136627196,\n",
              " -0.4667639314563266,\n",
              " -0.6101212909682362,\n",
              " 0.44312904709284884,\n",
              " -0.693132831964806,\n",
              " -0.3274093083496232,\n",
              " 0.9807342466626754,\n",
              " 0.09142203177802298,\n",
              " 1.105156122206611,\n",
              " 1.0108325544702677,\n",
              " 0.7797222956006777,\n",
              " 0.5023639496870145,\n",
              " 0.5917560676329873,\n",
              " 0.9458351932540118,\n",
              " -0.554227072282789,\n",
              " 1.0225058830272913,\n",
              " -0.023035442260313274,\n",
              " -0.6276839579718209,\n",
              " 0.2616268220926277,\n",
              " 0.8548707610678202,\n",
              " 1.2243751348055723,\n",
              " -0.6863913984656171,\n",
              " -0.23083210964168324,\n",
              " 0.24897242520546867,\n",
              " -0.4579290606814171,\n",
              " 0.23030856977835376,\n",
              " 1.3394597565399107,\n",
              " 0.9406689978227892,\n",
              " 0.8195473186682605,\n",
              " -0.425158537748201,\n",
              " 1.2148984684253465,\n",
              " -0.02446791216084683,\n",
              " 0.2956068551046201,\n",
              " -0.40091721854106094,\n",
              " 0.41538187132212023,\n",
              " 0.7983317555200954,\n",
              " 0.4471876469928062,\n",
              " 1.0940031461088244,\n",
              " -0.47210686371023186,\n",
              " -0.3853354552052501,\n",
              " 1.2468755557305635,\n",
              " -0.6356403145144147,\n",
              " 1.0029781232831447,\n",
              " 1.2272630521647228,\n",
              " 0.4542261769178675,\n",
              " 0.2091135627463655,\n",
              " 0.22236042226823047,\n",
              " -0.5124259429961324,\n",
              " -0.7076094240364109,\n",
              " -0.25923768712929457,\n",
              " -0.5561337801932583,\n",
              " -0.4323897486827281,\n",
              " -0.07016391281276187,\n",
              " 0.49528309711353874,\n",
              " 1.1779511028044196,\n",
              " 0.9864019738030837,\n",
              " -0.43447998055550063,\n",
              " 0.865084336688983,\n",
              " 1.1180861395684563,\n",
              " 0.26057759462651425,\n",
              " 0.919746876907352,\n",
              " -0.6243384192191308,\n",
              " 1.2608516390522466,\n",
              " 1.4412135538667041,\n",
              " 0.8458470515299684,\n",
              " 1.0887556019789961,\n",
              " 1.2388593716805152,\n",
              " -0.69918340789003,\n",
              " 1.075400741259173,\n",
              " -0.5491658233521611,\n",
              " 0.8425700385118788,\n",
              " 1.1867365885000196,\n",
              " -0.06429348131835708,\n",
              " -0.6991832244663009,\n",
              " -0.44396077202681367,\n",
              " 1.329921117210101,\n",
              " 0.5182137680182688,\n",
              " 0.9758101670540991,\n",
              " 0.28467148013512295,\n",
              " -0.12025926785852997,\n",
              " 1.219567220031029,\n",
              " -0.6790892687340959,\n",
              " 1.2826125884239548,\n",
              " -0.33439696523205026,\n",
              " -0.460301489820306,\n",
              " 0.9879635690797697,\n",
              " 0.7554084881102643,\n",
              " 0.9328366115253488,\n",
              " 0.17912632044801086,\n",
              " 1.189180405332894,\n",
              " -0.4337446805786485,\n",
              " 1.2709300992705863,\n",
              " 1.322216765295983,\n",
              " 0.78838541421229,\n",
              " -0.46021256494036106,\n",
              " 1.2190692595624164,\n",
              " 1.0308434091592094,\n",
              " 0.992801868858457,\n",
              " 1.2331886736217097,\n",
              " -0.6974616933669993,\n",
              " -0.6022925460327476,\n",
              " 1.0669475451189154,\n",
              " -0.5243645536444189,\n",
              " 1.2553015402939334,\n",
              " 0.9006850456288865,\n",
              " 1.3355600399582328,\n",
              " 1.1173682758039696,\n",
              " 0.9294161348856284,\n",
              " 0.7562758399277841,\n",
              " 0.42990471397798075,\n",
              " 1.355271484560974,\n",
              " -0.3387479844154251,\n",
              " 0.9297504686642627,\n",
              " 1.2035872085366843,\n",
              " 0.27208305053531834,\n",
              " 1.1071192380079975,\n",
              " 1.5616310650577139,\n",
              " 0.9768317938493944,\n",
              " -0.5127657014362902,\n",
              " 1.1811782016971484,\n",
              " 1.3308067405877428,\n",
              " 1.3365426395792814,\n",
              " 0.49561494904654885,\n",
              " 0.19533713787011805,\n",
              " 0.9499034615691355,\n",
              " -0.4118945336538019,\n",
              " -0.4565638754645323,\n",
              " -0.7096538147136014,\n",
              " 1.1043384211926206,\n",
              " -0.7075216796885104,\n",
              " -0.3853117912635846,\n",
              " 0.9122750308805021,\n",
              " -0.5975473657842066,\n",
              " -0.36412045879693666,\n",
              " 1.565268229140442,\n",
              " -0.45533996276575,\n",
              " -0.5755919143203794,\n",
              " 0.07176074052718476,\n",
              " -0.6583228019246129,\n",
              " 0.4562136363342701,\n",
              " -0.22470008950810524,\n",
              " 1.2812655385255505,\n",
              " 0.7975613024117733,\n",
              " 1.3294117197550293,\n",
              " 0.13088305062572472,\n",
              " -0.3921744298730642,\n",
              " 1.2106334211550551,\n",
              " 1.0309094995767254,\n",
              " -0.4515595356145474,\n",
              " 1.7251496383946445,\n",
              " -0.44368997970191193,\n",
              " 0.14731319046857275,\n",
              " 0.96008235975773,\n",
              " 1.1515564788031871,\n",
              " 0.06184125922703171,\n",
              " 0.9374872478430183,\n",
              " -0.4608489665201264,\n",
              " -0.47687470193957815,\n",
              " 1.2889804588841165,\n",
              " -0.6862664981641909,\n",
              " -0.006652324250926574,\n",
              " 0.25196624101178705,\n",
              " 1.0590242181182243,\n",
              " 0.2933132823818063,\n",
              " 0.9739651028809035,\n",
              " -0.0447172160694614,\n",
              " 1.3094820878462843,\n",
              " 1.074168331018987,\n",
              " 3.0848186139761455e-05,\n",
              " 0.9835083830259642,\n",
              " 1.1893675147052434,\n",
              " 0.9389455695067634,\n",
              " -0.695005556174994,\n",
              " 0.864428603831176,\n",
              " -0.37748888613812687,\n",
              " -0.3899799318308245,\n",
              " 1.2575267114706212,\n",
              " -0.44294727741384265,\n",
              " 0.5809022061544475,\n",
              " 0.3089108833059539,\n",
              " 1.1054020756189018,\n",
              " 0.13233533429730224,\n",
              " 0.4975774629663198,\n",
              " 0.48177927547446886,\n",
              " 0.9459335703703805,\n",
              " 0.8658323939844125,\n",
              " -0.7095404484612042,\n",
              " 0.21785956813132862,\n",
              " 1.2252587658771943,\n",
              " -0.0570972871111223]"
            ]
          },
          "metadata": {}
        }
      ],
      "execution_count": 10,
      "metadata": {}
    },
    {
      "cell_type": "markdown",
      "source": [
        "# NaN"
      ],
      "metadata": {}
    },
    {
      "cell_type": "code",
      "source": [
        "x = np.linspace(-10, 10, 100)\n",
        "np.random.seed(0)\n",
        "#y = 1/(0.1*x) + 2 \n",
        "y = x * 1/(1 + 2.*np.exp(-(x-1.2)))\n",
        "y += 0.1*np.random.randn(x.size)\n",
        "y[45:55] = np.nan*10\n",
        "\n",
        "plt.plot(x, y)"
      ],
      "outputs": [
        {
          "output_type": "execute_result",
          "execution_count": 11,
          "data": {
            "text/plain": [
              "[<matplotlib.lines.Line2D at 0x7fd0b3611908>]"
            ]
          },
          "metadata": {}
        },
        {
          "output_type": "display_data",
          "data": {
            "image/png": "[encoded data removed]",
            "text/plain": [
              "<Figure size 432x288 with 1 Axes>"
            ]
          },
          "metadata": {
            "needs_background": "light"
          }
        }
      ],
      "execution_count": 11,
      "metadata": {}
    },
    {
      "cell_type": "code",
      "source": [
        "N_test = 200\n",
        "\n",
        "for y1 in range(0, 100, 10) :\n",
        "    \n",
        "    y2 = y1+10\n",
        "    \n",
        "    y = x * 1/(1 + 2.*np.exp(-(x-1.2)))\n",
        "    y += 0.1*np.random.randn(x.size)\n",
        "    y[y1:y2] = np.nan*10\n",
        "    \n",
        "    As = []\n",
        "    for i_test in range(N_test):\n",
        "        pars = lmfit.Parameters()\n",
        "        pars.add_many(('a', 0.1+0.1*np.random.randn()), ('b', 4+0.1*np.random.randn()))\n",
        "\n",
        "        mini = lmfit.Minimizer(residual, pars,nan_policy='omit')\n",
        "        result = mini.minimize()\n",
        "\n",
        "        As.append(result.params['a'].value)\n",
        "\n",
        "    print('y[', y1, ',', y2, '] =', np.mean(As), '+/-', np.std(As))"
      ],
      "outputs": [
        {
          "output_type": "stream",
          "name": "stdout",
          "text": [
            "y[ 0 , 10 ] = 0.39547935485236446 +/- 0.7039189936171978\n",
            "y[ 10 , 20 ] = 0.475189036702711 +/- 0.695813980148438\n",
            "y[ 20 , 30 ] = 0.3591404250973666 +/- 0.6005529843561578\n",
            "y[ 30 , 40 ] = 0.5455471614322996 +/- 0.697633922127737\n",
            "y[ 40 , 50 ] = 0.4970594195792929 +/- 0.6974985319536927\n",
            "y[ 50 , 60 ] = 0.36171498867066065 +/- 0.727240273563647\n",
            "y[ 60 , 70 ] = 0.4460794601805247 +/- 0.727261135322074\n",
            "y[ 70 , 80 ] = 0.44268810515230833 +/- 0.7266288316285862\n",
            "y[ 80 , 90 ] = 0.37026098366631616 +/- 0.6802014261211431\n",
            "y[ 90 , 100 ] = 0.48542540400834333 +/- 0.7084716321445381\n"
          ]
        }
      ],
      "execution_count": 12,
      "metadata": {}
    },
    {
      "cell_type": "code",
      "source": [],
      "outputs": [],
      "execution_count": null,
      "metadata": {}
    }
  ],
  "metadata": {
    "kernelspec": {
      "name": "python3",
      "language": "python",
      "display_name": "Python 3"
    },
    "language_info": {
      "name": "python",
      "version": "3.7.6",
      "mimetype": "text/x-python",
      "codemirror_mode": {
        "name": "ipython",
        "version": 3
      },
      "pygments_lexer": "ipython3",
      "nbconvert_exporter": "python",
      "file_extension": ".py"
    },
    "toc": {
      "toc_position": {},
      "skip_h1_title": false,
      "number_sections": true,
      "title_cell": "Table of Contents",
      "toc_window_display": false,
      "base_numbering": 1,
      "toc_section_display": true,
      "title_sidebar": "Contents",
      "toc_cell": false,
      "nav_menu": {},
      "sideBar": true
    },
    "kernel_info": {
      "name": "python3"
    },
    "nteract": {
      "version": "0.15.0"
    }
  },
  "nbformat": 4,
  "nbformat_minor": 4
}