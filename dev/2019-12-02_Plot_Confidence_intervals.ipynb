{
 "cells": [
  {
   "cell_type": "code",
   "execution_count": 1,
   "metadata": {
    "ExecuteTime": {
     "end_time": "2018-06-26T12:38:04.141125Z",
     "start_time": "2018-06-26T12:38:03.240588Z"
    }
   },
   "outputs": [],
   "source": [
    "import numpy as np\n",
    "import matplotlib.pyplot as plt\n",
    "%matplotlib inline"
   ]
  },
  {
   "cell_type": "markdown",
   "metadata": {},
   "source": [
    "# inspiration de lmfit\n",
    "\n",
    "https://lmfit.github.io/lmfit-py/confidence.html\n"
   ]
  },
  {
   "cell_type": "code",
   "execution_count": 3,
   "metadata": {},
   "outputs": [
    {
     "data": {
      "text/plain": [
       "[<matplotlib.lines.Line2D at 0x11614f990>]"
      ]
     },
     "execution_count": 3,
     "metadata": {},
     "output_type": "execute_result"
    },
    {
     "data": {
      "image/png": "[encoded data removed]",
      "text/plain": [
       "<Figure size 432x288 with 1 Axes>"
      ]
     },
     "metadata": {
      "needs_background": "light"
     },
     "output_type": "display_data"
    }
   ],
   "source": [
    "\n",
    "x = np.linspace(-10, 10, 100)\n",
    "np.random.seed(0)\n",
    "#y = 1/(0.1*x) + 2 \n",
    "y = x * 1/(1 + 2.*np.exp(-(x-1.2)))\n",
    "\n",
    "y += 0.1*np.random.randn(x.size)\n",
    "\n",
    "plt.plot(x, y)"
   ]
  },
  {
   "cell_type": "code",
   "execution_count": 6,
   "metadata": {},
   "outputs": [],
   "source": [
    "import lmfit\n",
    "pars = lmfit.Parameters()\n",
    "pars.add_many(('a', 0.1), ('b', 4))\n",
    "\n",
    "\n",
    "def residual(p):\n",
    "    model = x  /(1 + p['b'] * np.exp(-(x-p['a'])))\n",
    "\n",
    "    return model - y"
   ]
  },
  {
   "cell_type": "code",
   "execution_count": 7,
   "metadata": {},
   "outputs": [],
   "source": [
    "mini = lmfit.Minimizer(residual, pars)\n",
    "result = mini.minimize()"
   ]
  },
  {
   "cell_type": "code",
   "execution_count": 8,
   "metadata": {},
   "outputs": [
    {
     "data": {
      "text/html": [
       "<h2>Fit Statistics</h2><table><tr><td>fitting method</td><td>leastsq</td><td></td></tr><tr><td># function evals</td><td>24</td><td></td></tr><tr><td># data points</td><td>100</td><td></td></tr><tr><td># variables</td><td>2</td><td></td></tr><tr><td>chi-square</td><td> 0.99386372</td><td></td></tr><tr><td>reduced chi-square</td><td> 0.01014147</td><td></td></tr><tr><td>Akaike info crit.</td><td>-457.132537</td><td></td></tr><tr><td>Bayesian info crit.</td><td>-451.922197</td><td></td></tr></table><h2>Variables</h2><table><tr><th> name </th><th> value </th><th> standard error </th><th> relative error </th><th> initial value </th><th> min </th><th> max </th><th> vary </th></tr><tr><td> a </td><td>  2.07174586 </td><td>  350036.328 </td><td> (16895717.48%) </td><td> 0.1 </td><td>        -inf </td><td>         inf </td><td> True </td></tr><tr><td> b </td><td>  0.90476768 </td><td>  316701.558 </td><td> (35003633.12%) </td><td> 1 </td><td>        -inf </td><td>         inf </td><td> True </td></tr></table><h2>Correlations (unreported correlations are < 0.100)</h2><table><tr><td>a</td><td>b</td><td>-1.0000</td></tr></table>"
      ],
      "text/plain": [
       "<lmfit.minimizer.MinimizerResult at 0x1162eda10>"
      ]
     },
     "execution_count": 8,
     "metadata": {},
     "output_type": "execute_result"
    }
   ],
   "source": [
    "result"
   ]
  },
  {
   "cell_type": "code",
   "execution_count": 9,
   "metadata": {},
   "outputs": [
    {
     "name": "stdout",
     "output_type": "stream",
     "text": [
      "[[Variables]]\n",
      "    a:  2.07174586 +/- 350036.328 (16895717.48%) (init = 0.1)\n",
      "    b:  0.90476768 +/- 316701.558 (35003633.12%) (init = 1)\n",
      "[[Correlations]] (unreported correlations are < 0.100)\n",
      "    C(a, b) = -1.000\n"
     ]
    }
   ],
   "source": [
    "print(lmfit.fit_report(result.params))"
   ]
  },
  {
   "cell_type": "code",
   "execution_count": null,
   "metadata": {},
   "outputs": [],
   "source": [
    "ci = lmfit.conf_interval(mini, result)\n",
    "lmfit.printfuncs.report_ci(ci)"
   ]
  },
  {
   "cell_type": "code",
   "execution_count": 15,
   "metadata": {},
   "outputs": [
    {
     "data": {
      "text/plain": [
       "0.46764788240568"
      ]
     },
     "execution_count": 15,
     "metadata": {},
     "output_type": "execute_result"
    }
   ],
   "source": [
    "result.params['a'].value"
   ]
  },
  {
   "cell_type": "markdown",
   "metadata": {},
   "source": [
    "# obtenir une variabilité\n",
    "\n",
    "une idée: \n",
    "\n",
    "* introduires des Nans dans les données\n",
    "* faire une boucle dans laquelle:\n",
    " * on ajoute du bruit dans les conditions initiales\n",
    " * on refait le fit\n",
    "* la variabilité devrait dépendre "
   ]
  },
  {
   "cell_type": "code",
   "execution_count": 16,
   "metadata": {},
   "outputs": [
    {
     "name": "stdout",
     "output_type": "stream",
     "text": [
      "0.46900842622104905 0.7101565311237605\n"
     ]
    }
   ],
   "source": [
    "N_test = 200\n",
    "As = []\n",
    "\n",
    "for i_test in range(N_test):\n",
    "    pars = lmfit.Parameters()\n",
    "    pars.add_many(('a', 0.1+0.1*np.random.randn()), ('b', 4+0.1*np.random.randn()))\n",
    "    \n",
    "    mini = lmfit.Minimizer(residual, pars)\n",
    "    result = mini.minimize()\n",
    "\n",
    "    As.append(result.params['a'].value)\n",
    "    \n",
    "print(np.mean(As), np.std(As))"
   ]
  },
  {
   "cell_type": "code",
   "execution_count": 17,
   "metadata": {},
   "outputs": [
    {
     "data": {
      "text/plain": [
       "[-0.391971950022915,\n",
       " 1.0780173485702247,\n",
       " 0.8740405860395647,\n",
       " -0.4430756532115653,\n",
       " 0.2882435253822346,\n",
       " 1.022370842220798,\n",
       " -0.43931946711931974,\n",
       " 0.9685237824705697,\n",
       " 1.2234816649082818,\n",
       " -0.330272697626951,\n",
       " -0.3476795931542471,\n",
       " 1.2528600032424013,\n",
       " -0.43492942867978057,\n",
       " 1.4520208361526477,\n",
       " 0.5070220469678252,\n",
       " 1.0457732640498232,\n",
       " 1.233059720216864,\n",
       " 0.9275068075170465,\n",
       " 0.8122856443749134,\n",
       " 0.880128953403025,\n",
       " -0.43970985727990464,\n",
       " 1.2795068988781846,\n",
       " 0.2910960106592321,\n",
       " 0.9982305735671604,\n",
       " 1.3268823406274073,\n",
       " 0.1808919917793,\n",
       " 1.2351217636545786,\n",
       " 0.32909008511777865,\n",
       " 0.9467722422034545,\n",
       " 0.785265037818057,\n",
       " 1.2205474288795042,\n",
       " -0.05221520143578223,\n",
       " 1.0059602359252524,\n",
       " -0.4520666996379578,\n",
       " 1.0245665538633524,\n",
       " 1.113752719238765,\n",
       " 1.2921363079791264,\n",
       " 1.2396356083048414,\n",
       " -0.5859521401115869,\n",
       " 0.99523203496962,\n",
       " 0.22363013604038914,\n",
       " 0.5396078688927962,\n",
       " 1.0006690501032889,\n",
       " -0.37432349422560957,\n",
       " 0.9758992542676765,\n",
       " 0.47688291148450945,\n",
       " -0.7083118426750041,\n",
       " 1.2898363053525415,\n",
       " -0.25755868977487956,\n",
       " 0.22100108051607978,\n",
       " 0.45871751150850426,\n",
       " 0.007832856614950636,\n",
       " -0.3705519433510753,\n",
       " 0.9887199028161686,\n",
       " 0.762670777687159,\n",
       " 0.024156335929970383,\n",
       " -0.011431713223826074,\n",
       " 1.2597777724110772,\n",
       " 1.6035600771099505,\n",
       " -0.48935759269288537,\n",
       " -0.26587744360855653,\n",
       " 1.4247168366425949,\n",
       " 0.9663432380848792,\n",
       " 1.2385976823791047,\n",
       " 0.808135725658413,\n",
       " -0.5811922787688443,\n",
       " 0.8325758486317225,\n",
       " -0.47795272556497,\n",
       " 1.3509396922295585,\n",
       " -0.4900523826393014,\n",
       " 0.20339419692696661,\n",
       " 1.0440198651974517,\n",
       " 0.265779871334221,\n",
       " -0.17659785560885852,\n",
       " 0.4722705038388586,\n",
       " 0.9964353322268891,\n",
       " 1.077913277319784,\n",
       " -0.4213331480112806,\n",
       " -0.34646615638755024,\n",
       " 0.9894595891913046,\n",
       " 0.2718113053425856,\n",
       " 1.176942798616011,\n",
       " -0.4213921576460231,\n",
       " 1.2450653881456117,\n",
       " -0.6947194299026636,\n",
       " 1.3487951866218897,\n",
       " 0.9758638354272222,\n",
       " 0.251073844154417,\n",
       " 0.9194025229938662,\n",
       " 1.0212829770026424,\n",
       " 0.25507137537750846,\n",
       " -0.38081226552108266,\n",
       " 1.1162369871583875,\n",
       " 0.46345092265967414,\n",
       " 0.23812588549558014,\n",
       " 0.5317981344157118,\n",
       " 0.9137895397074329,\n",
       " 0.9140439589481589,\n",
       " 1.2164283945872603,\n",
       " -0.06371734834714796,\n",
       " -0.6846176880677692,\n",
       " 0.22109758074359553,\n",
       " 1.2002255700637294,\n",
       " 0.9578886237100401,\n",
       " 1.3597761459804987,\n",
       " 1.2091384411020834,\n",
       " -0.35667697358217515,\n",
       " -0.627901942029339,\n",
       " -0.47659506218372216,\n",
       " -0.7008829648630882,\n",
       " 1.5500221771010898,\n",
       " 1.245347713018268,\n",
       " 0.2221481620310911,\n",
       " 0.4781957783569977,\n",
       " -0.40351327972872275,\n",
       " 0.7710510342527209,\n",
       " 0.8478497474837866,\n",
       " 1.2597225200822564,\n",
       " -0.3916901266101753,\n",
       " 1.6958506786281793,\n",
       " 1.2971836989021002,\n",
       " 0.32546752024724546,\n",
       " 0.9971842376816106,\n",
       " 1.2637065552177045,\n",
       " -0.7152451262113638,\n",
       " 1.238193773963955,\n",
       " 1.259193481851898,\n",
       " 0.9807055320604987,\n",
       " 1.2297651308288524,\n",
       " 0.06132791250178266,\n",
       " 0.6077694128096031,\n",
       " -0.3338612282603112,\n",
       " 0.25006829959391486,\n",
       " 0.4332272180885586,\n",
       " -0.4120308620166987,\n",
       " -0.03536037244257729,\n",
       " -0.5363595324198049,\n",
       " -0.7198293816586809,\n",
       " 0.47503547986014705,\n",
       " 0.8142354246732274,\n",
       " -0.6421897827489125,\n",
       " 1.086355055465502,\n",
       " 1.1953015409864751,\n",
       " 1.255897699644636,\n",
       " -0.46283149575705806,\n",
       " 1.0350404002684932,\n",
       " 1.0005238638037002,\n",
       " -0.480435317697155,\n",
       " -0.4638250521478099,\n",
       " 0.09615162032918269,\n",
       " -0.46413242688943296,\n",
       " -0.750201731735606,\n",
       " 0.9773679671113131,\n",
       " 1.5369135573094745,\n",
       " 1.2523281141078826,\n",
       " -0.7291318293316598,\n",
       " 0.7886955920047527,\n",
       " 1.1840228686476935,\n",
       " 0.49682711430545545,\n",
       " -0.5317965786210839,\n",
       " -0.49444287606878684,\n",
       " 0.951094525345438,\n",
       " 1.2851653332890687,\n",
       " 1.2144342438708815,\n",
       " 0.9935405514447767,\n",
       " 1.2935695888761203,\n",
       " 1.023656598031685,\n",
       " -0.3005699358573018,\n",
       " -0.0517667775756815,\n",
       " 0.9334098976438586,\n",
       " -0.6544016939878607,\n",
       " -0.6283256457348089,\n",
       " -0.6645072481618546,\n",
       " 0.9877575453876793,\n",
       " 1.2308916113529338,\n",
       " 0.5634174751959324,\n",
       " 0.05691746063253073,\n",
       " -0.5494692057794044,\n",
       " 1.1667797657080263,\n",
       " -0.4336367812821872,\n",
       " 1.2878552666843528,\n",
       " -0.516202289341104,\n",
       " 0.4391058227721591,\n",
       " -0.4187569216682627,\n",
       " 0.9553507662840046,\n",
       " 1.1003211237945012,\n",
       " 1.0198696937098601,\n",
       " 0.5019273435361876,\n",
       " 0.8796128642855783,\n",
       " -0.3896394628903065,\n",
       " -0.48871626171888705,\n",
       " -0.48612617107909806,\n",
       " 1.0807903621622295,\n",
       " -0.45174282638186497,\n",
       " 1.1158477744007205,\n",
       " 0.8105663828327029,\n",
       " 0.7813092132097978,\n",
       " -0.49069501466213966,\n",
       " 0.9130445986542756,\n",
       " 0.2528457976741683]"
      ]
     },
     "execution_count": 17,
     "metadata": {},
     "output_type": "execute_result"
    }
   ],
   "source": [
    "As"
   ]
  },
  {
   "cell_type": "code",
   "execution_count": null,
   "metadata": {},
   "outputs": [],
   "source": []
  }
 ],
 "metadata": {
  "kernelspec": {
   "display_name": "Python 3",
   "language": "python",
   "name": "python3"
  },
  "language_info": {
   "codemirror_mode": {
    "name": "ipython",
    "version": 3
   },
   "file_extension": ".py",
   "mimetype": "text/x-python",
   "name": "python",
   "nbconvert_exporter": "python",
   "pygments_lexer": "ipython3",
   "version": "3.7.5"
  },
  "toc": {
   "base_numbering": 1,
   "nav_menu": {},
   "number_sections": true,
   "sideBar": true,
   "skip_h1_title": false,
   "title_cell": "Table of Contents",
   "title_sidebar": "Contents",
   "toc_cell": false,
   "toc_position": {},
   "toc_section_display": true,
   "toc_window_display": false
  }
 },
 "nbformat": 4,
 "nbformat_minor": 4
}
