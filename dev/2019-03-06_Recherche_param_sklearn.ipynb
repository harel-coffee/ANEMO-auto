{
 "cells": [
  {
   "cell_type": "code",
   "execution_count": 1,
   "metadata": {},
   "outputs": [],
   "source": [
    "import numpy as np\n",
    "import matplotlib.pyplot as plt\n",
    "\n",
    "import pickle\n",
    "import os\n",
    "from ANEMO import read_edf\n",
    "from ANEMO import ANEMO\n",
    "\n",
    "from scipy import stats\n",
    "import scipy as sp\n",
    "\n",
    "%matplotlib inline"
   ]
  },
  {
   "cell_type": "code",
   "execution_count": 2,
   "metadata": {},
   "outputs": [],
   "source": [
    "sujet = ['AM','BMC','CS','DC','FM','IP','LB','OP','RS','SR','TN','YK']\n",
    "time = ['2017-10-23_100057','2017-09-26_095637', '2017-10-03_134421','2017-09-27_161040',\n",
    "        '2017-10-03_143803','2017-09-28_115250', '2017-09-20_151043','2017-10-26_121823',\n",
    "        '2017-11-08_094717','2017-11-16_153313', '2017-11-08_150410','2017-11-17_172706']"
   ]
  },
  {
   "cell_type": "code",
   "execution_count": 3,
   "metadata": {},
   "outputs": [],
   "source": [
    "file = os.path.join('parametre', 'Delete_list_trials_velocity_fct.pkl')\n",
    "with open(file, 'rb') as fichier :\n",
    "    Delete_list_trials = pickle.load(fichier, encoding='latin1')\n",
    "\n",
    "file = os.path.join('parametre', 'Delete_list_Bad_trials_velocity.pkl')\n",
    "#file = os.path.join('parametre', 'Delete_list_Bad_trials_position.pkl')\n",
    "with open(file, 'rb') as fichier :\n",
    "    Bad_Fit = pickle.load(fichier, encoding='latin1')"
   ]
  },
  {
   "cell_type": "code",
   "execution_count": 4,
   "metadata": {
    "scrolled": true
   },
   "outputs": [
    {
     "name": "stdout",
     "output_type": "stream",
     "text": [
      "AM BMC CS DC FM IP LB "
     ]
    },
    {
     "name": "stderr",
     "output_type": "stream",
     "text": [
      "/home/drone/.local/lib/python3.5/site-packages/ipykernel_launcher.py:105: RuntimeWarning: Mean of empty slice\n"
     ]
    },
    {
     "name": "stdout",
     "output_type": "stream",
     "text": [
      "OP "
     ]
    },
    {
     "name": "stderr",
     "output_type": "stream",
     "text": [
      "/home/drone/.local/lib/python3.5/site-packages/ipykernel_launcher.py:108: RuntimeWarning: Mean of empty slice\n"
     ]
    },
    {
     "name": "stdout",
     "output_type": "stream",
     "text": [
      "RS SR "
     ]
    },
    {
     "name": "stderr",
     "output_type": "stream",
     "text": [
      "/usr/local/lib/python3.5/dist-packages/numpy/core/fromnumeric.py:3118: RuntimeWarning: Mean of empty slice.\n",
      "  out=out, **kwargs)\n",
      "/usr/local/lib/python3.5/dist-packages/numpy/core/_methods.py:85: RuntimeWarning: invalid value encountered in double_scalars\n",
      "  ret = ret.dtype.type(ret / rcount)\n",
      "/home/drone/.local/lib/python3.5/site-packages/ipykernel_launcher.py:167: RuntimeWarning: Mean of empty slice\n",
      "/usr/local/lib/python3.5/dist-packages/ANEMO-0.0.1-py3.5.egg/ANEMO/ANEMO.py:438: RuntimeWarning: divide by zero encountered in true_divide\n",
      "/usr/local/lib/python3.5/dist-packages/ANEMO-0.0.1-py3.5.egg/ANEMO/ANEMO.py:438: RuntimeWarning: invalid value encountered in true_divide\n"
     ]
    },
    {
     "name": "stdout",
     "output_type": "stream",
     "text": [
      "TN YK "
     ]
    }
   ],
   "source": [
    "cool = {}\n",
    "bad = {}\n",
    "\n",
    "list_keys_param_fit = ['start_anti', 'tau', 'a_anti', 'latency', 'maxi']\n",
    "for dic in [cool, bad] :\n",
    "    dic['nb_nan_GAP'] = []\n",
    "    dic['nb_nan_anti'] = []\n",
    "    dic['nb_nan_rise'] = []\n",
    "    \n",
    "    dic['residu_GAP'] = []\n",
    "    dic['residu_anti'] = []\n",
    "    dic['residu_rise'] = []\n",
    "    \n",
    "    dic['comp_fit_pos'] = []\n",
    "    dic['larg_sacc'] = []\n",
    "    dic['integrale_pos'] = []\n",
    "    dic['nb_sacc'] = []\n",
    "    for key in list_keys_param_fit :\n",
    "        dic[key]=[]\n",
    "\n",
    "\n",
    "a=0\n",
    "for x in range(len(sujet)) :\n",
    "    print(sujet[x], end=' ')\n",
    "    \n",
    "    #--------------------------------------------------------------------------------------\n",
    "    file = os.path.join('data', 'enregistrement_' + sujet[x] + '_' + time[x] + '.pkl')\n",
    "    with open(file, 'rb') as fichier : param_exp = pickle.load(fichier, encoding='latin1')\n",
    "    \n",
    "    resultats = os.path.join('data', 'enregistrement_' + sujet[x] + '_' + time[x] + '.asc')\n",
    "    data = read_edf(resultats, 'TRIALID')\n",
    "\n",
    "    file = os.path.join('parametre/param_Fit_'+ sujet[x] +'_fct_velocity_2_step_False_whitening.pkl')\n",
    "    with open(file, 'rb') as fichier : param_fit = pickle.load(fichier, encoding='latin1')\n",
    "\n",
    "    file = os.path.join('parametre/goodness_of_fit/goodness_of_fit_'+ sujet[x] +'.pkl')\n",
    "    with open(file, 'rb') as fichier : goodness_of_fit = pickle.load(fichier, encoding='latin1')\n",
    "    #--------------------------------------------------------------------------------------\n",
    "    \n",
    "    \n",
    "    A = ANEMO(param_exp)\n",
    "    Plot = A.Plot(param_exp)\n",
    "    \n",
    "    N_trials, N_blocks = param_exp['N_trials'], param_exp['N_blocks']\n",
    "\n",
    "    for block in range(N_blocks) :\n",
    "        for trial in range(N_trials) :\n",
    "\n",
    "            if trial in Delete_list_trials[sujet[x]][block] : dic = bad\n",
    "            elif trial in Bad_Fit[sujet[x]][block] : dic = bad\n",
    "            else : dic = cool\n",
    "\n",
    "\n",
    "                \n",
    "                \n",
    "            trial_data = trial + N_trials*block\n",
    "            arg = A.arg(data[trial_data], trial=trial, block=block)\n",
    "            velocity_NAN = A.velocity_NAN(**arg)\n",
    "            \n",
    "            onset = arg.TargetOn-arg.t_0\n",
    "            xx = np.arange(len(arg.trackertime))\n",
    "\n",
    "            start_anti = int(param_fit['start_anti'][block][trial] + onset)\n",
    "            a_anti = param_fit['a_anti'][block][trial]\n",
    "\n",
    "            latency = int(param_fit['latency'][block][trial] + onset)\n",
    "            tau = param_fit['tau'][block][trial]\n",
    "            maxi = param_fit['maxi'][block][trial]\n",
    "            start, stop = start_anti, -1\n",
    "            \n",
    "            #------------------------------------------------\n",
    "            # Param_Fit\n",
    "            #------------------------------------------------\n",
    "            for key in list_keys_param_fit :\n",
    "                if key=='a_anti' :\n",
    "                    dic[key].append((param_fit[key][block][trial])*arg.dir_target)\n",
    "                else :\n",
    "                    dic[key].append(param_fit[key][block][trial])\n",
    "            \n",
    "            #--------------------------------------------------------------------------------------\n",
    "            \n",
    "            \n",
    "            #------------------------------------------------\n",
    "            # Nb_NaN\n",
    "            #------------------------------------------------\n",
    "            nb_nan = [x for x in velocity_NAN[arg.StimulusOf-arg.t_0:arg.TargetOn-arg.t_0] if str(x)=='nan']\n",
    "            dic['nb_nan_GAP'].append(len(nb_nan)/len(velocity_NAN[arg.StimulusOf-arg.t_0:arg.TargetOn-arg.t_0]))\n",
    "            \n",
    "            nb_nan = [x for x in velocity_NAN[start_anti:latency] if str(x)=='nan']\n",
    "            dic['nb_nan_anti'].append(len(nb_nan)/len(velocity_NAN[start_anti:latency]))\n",
    "            \n",
    "            nb_nan = [x for x in velocity_NAN[latency:len(velocity_NAN)-280] if str(x)=='nan']\n",
    "            dic['nb_nan_rise'].append(len(nb_nan)/len(velocity_NAN[latency:len(velocity_NAN)-280]))\n",
    "            #--------------------------------------------------------------------------------------\n",
    "            \n",
    "            \n",
    "            #------------------------------------------------\n",
    "            # Residu\n",
    "            #------------------------------------------------\n",
    "            t1 , res = 0, np.zeros(len(velocity_NAN)-280)\n",
    "            for t in range(len(velocity_NAN)-280) :\n",
    "                if np.isnan(velocity_NAN[t]) : res[t] = np.nan\n",
    "                else : res[t] = abs(goodness_of_fit['residual'][block][trial][t1]) ; t1 = t1+1\n",
    "\n",
    "            if np.isnan(np.nanmean(res[arg.StimulusOf-arg.t_0:arg.TargetOn-arg.t_0])) : dic['residu_GAP'].append(0)\n",
    "            else : dic['residu_GAP'].append(np.nanmean(res[arg.StimulusOf-arg.t_0:arg.TargetOn-arg.t_0]))\n",
    "                \n",
    "            if np.isnan(np.nanmean(res[start_anti:latency])) : dic['residu_anti'].append(0)\n",
    "            else : dic['residu_anti'].append(np.nanmean(res[start_anti:latency]))\n",
    "                \n",
    "            if np.isnan(np.nanmean(res[latency:])) : dic['residu_rise'].append(0)\n",
    "            else : dic['residu_rise'].append(np.nanmean(res[latency:]))\n",
    "            #--------------------------------------------------------------------------------------\n",
    "            \n",
    "            after_sacc, before_sacc = 15, 5\n",
    "            sacc = np.zeros(len(arg.trackertime))\n",
    "            i=0\n",
    "            for s in range(len(arg.saccades)):\n",
    "                for j in range(3) : sacc[i+j] = arg.saccades[s][j]\n",
    "                i = i+3                    \n",
    "\n",
    "            fit = A.Equation.fct_position(xx, arg.data_x, sacc, len(arg.saccades), arg.dir_target,\n",
    "                                          start_anti , a_anti, latency, tau, maxi, arg.t_0, arg.px_per_deg,\n",
    "                                          before_sacc, after_sacc, do_whitening=False)\n",
    "            d_x = A.data_deg(arg.data_x, arg.StimulusOf, arg.t_0, arg.saccades, before_sacc, after_sacc)\n",
    "            \n",
    "            fit = fit[:-280]\n",
    "            d_x = d_x[:-280]\n",
    "            #--------------------------------------------------------------------------------------\n",
    "            \n",
    "            # Méthode des trapèzes\n",
    "            d_x_2 = np.ma.masked_array(d_x[start_anti:], mask=np.isnan(fit[start_anti:])).compressed()\n",
    "            dic['integrale_pos'].append(sp.trapz(d_x_2)*arg.dir_target)\n",
    "            \n",
    "            #--------------------------------------------------------------------------------------\n",
    "            larg_sacc, nb_sacc = 0, 0\n",
    "            for s in range(len(arg.saccades)) :\n",
    "                sacc = arg.saccades[s]\n",
    "                \n",
    "                start_sacc = int(sacc[0]-arg.t_0)-int(before_sacc)\n",
    "                stop_sacc = int(sacc[1]-arg.t_0)+int(after_sacc)\n",
    "                \n",
    "                if stop_sacc+1 <= len(arg.data_x[:-280]) :\n",
    "                    \n",
    "                    if s < len(arg.saccades)-1 :\n",
    "                        start_s2 = int(arg.saccades[s+1][0]-arg.t_0)-int(before_sacc)-1\n",
    "                    \n",
    "                        d_x[stop_sacc:] = d_x[stop_sacc:]-np.mean(d_x[stop_sacc:start_s2])\n",
    "                        fit[stop_sacc:] = fit[stop_sacc:]-np.mean(fit[stop_sacc:start_s2])\n",
    "                    else :\n",
    "                        d_x[stop_sacc:] = d_x[stop_sacc:]-np.mean(d_x[stop_sacc:])\n",
    "                        fit[stop_sacc:] = fit[stop_sacc:]-np.mean(fit[stop_sacc:])\n",
    "\n",
    "                    if sacc[0] >= arg.StimulusOf :\n",
    "                        nb_sacc = nb_sacc + 1\n",
    "                        larg_sacc = larg_sacc+abs((arg.data_x[stop_sacc]-arg.data_x[start_sacc-1])/arg.px_per_deg)\n",
    "            #--------------------------------------------------------------------------------------\n",
    "            \n",
    "            dic['nb_sacc'].append(nb_sacc)\n",
    "            dic['larg_sacc'].append(larg_sacc)\n",
    "            \n",
    "            #--------------------------------------------------------------------------------------\n",
    "            d_x_ss_nan = np.ma.masked_array(d_x[start:stop], mask=np.isnan(fit[start:stop])).compressed()\n",
    "            fit_ss_nan = np.ma.masked_array(fit[start:stop], mask=np.isnan(fit[start:stop])).compressed()\n",
    "            #--------------------------------------------------------------------------------------\n",
    "        \n",
    "            dic['comp_fit_pos'].append(np.nanmean((d_x_ss_nan-fit_ss_nan)**2))"
   ]
  },
  {
   "cell_type": "code",
   "execution_count": 5,
   "metadata": {},
   "outputs": [
    {
     "name": "stdout",
     "output_type": "stream",
     "text": [
      "6585\n",
      "615\n"
     ]
    }
   ],
   "source": [
    "print(len(cool['comp_fit_pos']))\n",
    "print(len(bad['comp_fit_pos']))"
   ]
  },
  {
   "cell_type": "code",
   "execution_count": 6,
   "metadata": {},
   "outputs": [
    {
     "name": "stdout",
     "output_type": "stream",
     "text": [
      "larg_sacc  \t--\tcool: 3.861 \tbad: 5.655 \t--\t bad  \t68.3\n",
      "residu_anti  \t--\tcool: 3.113 \tbad: 3.741 \t--\t bad  \t83.2\n",
      "nb_nan_anti  \t--\tcool: 0.025 \tbad: 0.135 \t--\t bad  \t18.2\n",
      "residu_rise  \t--\tcool: 5.214 \tbad: 6.460 \t--\t bad  \t80.7\n",
      "start_anti  \t--\tcool: -95.556 \tbad: -128.620 \t--\t bad  \t74.3\n",
      "residu_GAP  \t--\tcool: 2.992 \tbad: 3.474 \t--\t bad  \t86.1\n",
      "integrale_pos  \t--\tcool: 1920.637 \tbad: 1756.781 \t--\t cool \t91.5\n",
      "nb_nan_GAP  \t--\tcool: 0.042 \tbad: 0.155 \t--\t bad  \t27.4\n",
      "tau     \t--\tcool: 45.928 \tbad: 48.064 \t--\t bad  \t95.6\n",
      "nb_nan_rise  \t--\tcool: 0.178 \tbad: 0.281 \t--\t bad  \t63.3\n",
      "latency  \t--\tcool: 175.207 \tbad: 171.497 \t--\t cool \t97.9\n",
      "nb_sacc  \t--\tcool: 1.868 \tbad: 2.185 \t--\t bad  \t85.5\n",
      "a_anti     \t--\tcool: 10.244 \tbad: 0.108 \t--\t cool \t1.1\n",
      "comp_fit_pos  \t--\tcool: 0.008 \tbad: 0.027 \t--\t bad  \t31.5\n",
      "maxi     \t--\tcool: 12.207 \tbad: 11.295 \t--\t cool \t92.5\n"
     ]
    }
   ],
   "source": [
    "for k in cool.keys() :\n",
    "    if len(k)<7 : t= ' '*3\n",
    "    else : t=''\n",
    "    if abs(np.nanmean(cool[k]))>abs(np.nanmean(bad[k])) :\n",
    "        g = 'cool'\n",
    "        p = (np.nanmean(bad[k])/np.nanmean(cool[k]))*100\n",
    "    else:\n",
    "        g='bad '\n",
    "        p = (np.nanmean(cool[k])/np.nanmean(bad[k]))*100\n",
    "    print(k, t, '\\t--\\tcool: %0.3f \\tbad: %0.3f'%(np.nanmean(cool[k]), np.nanmean(bad[k])),\n",
    "         '\\t--\\t', g, '\\t%0.1f'%p)"
   ]
  },
  {
   "cell_type": "code",
   "execution_count": null,
   "metadata": {},
   "outputs": [],
   "source": []
  }
 ],
 "metadata": {
  "kernelspec": {
   "display_name": "Python 3",
   "language": "python",
   "name": "python3"
  },
  "language_info": {
   "codemirror_mode": {
    "name": "ipython",
    "version": 3
   },
   "file_extension": ".py",
   "mimetype": "text/x-python",
   "name": "python",
   "nbconvert_exporter": "python",
   "pygments_lexer": "ipython3",
   "version": "3.5.2"
  }
 },
 "nbformat": 4,
 "nbformat_minor": 2
}
