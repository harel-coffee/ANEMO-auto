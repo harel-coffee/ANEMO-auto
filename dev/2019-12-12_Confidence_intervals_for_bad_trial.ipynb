{
 "cells": [
  {
   "cell_type": "code",
   "execution_count": 1,
   "metadata": {
    "ExecuteTime": {
     "end_time": "2018-06-26T12:38:04.141125Z",
     "start_time": "2018-06-26T12:38:03.240588Z"
    }
   },
   "outputs": [],
   "source": [
    "import pickle\n",
    "import numpy as np\n",
    "import matplotlib.pyplot as plt\n",
    "%matplotlib inline"
   ]
  },
  {
   "cell_type": "markdown",
   "metadata": {},
   "source": [
    "# Old Data"
   ]
  },
  {
   "cell_type": "code",
   "execution_count": 2,
   "metadata": {
    "scrolled": true
   },
   "outputs": [
    {
     "name": "stdout",
     "output_type": "stream",
     "text": [
      "DC 0 170 tau 320.724 \t\tBad = False\n",
      "DC 1 101 tau 532.012 \t\tBad = False\n",
      "DC 2 14 tau 248.194 \t\tBad = False\n",
      "DC 2 85 tau 252.436 \t\tBad = False\n",
      "FM 0 92 tau 216.502 \t\tBad = False\n",
      "FM 0 167 tau 296.547 \t\tBad = True\n",
      "FM 1 172 tau 384.744 \t\tBad = False\n",
      "FM 2 120 tau 224.374 \t\tBad = False\n",
      "LB 0 82 tau 4285.822 \t\tBad = True\n",
      "LB 1 85 tau 517.279 \t\tBad = True\n",
      "OP 0 48 tau 899.583 \t\tBad = False\n",
      "OP 1 135 tau 296.033 \t\tBad = True\n",
      "RS 1 92 tau 200.399 \t\tBad = False\n",
      "RS 1 105 steady_state 424.940 \t\tBad = False\n",
      "RS 1 105 tau 2991.950 \t\tBad = False\n",
      "RS 2 24 tau 207.859 \t\tBad = False\n",
      "RS 2 61 steady_state 235.174 \t\tBad = False\n",
      "RS 2 85 tau 215.559 \t\tBad = True\n",
      "RS 2 127 tau 206.773 \t\tBad = False\n",
      "SR 0 137 tau 703.044 \t\tBad = True\n",
      "SR 0 159 tau 715.855 \t\tBad = False\n",
      "SR 2 7 tau 201.729 \t\tBad = False\n",
      "TN 0 119 tau 494.965 \t\tBad = False\n",
      "TN 2 97 latency 394.861 \t\tBad = True\n",
      "TN 2 97 tau 2305.164 \t\tBad = True\n",
      "YK 0 70 tau 234.035 \t\tBad = True\n",
      "YK 0 71 tau 716.593 \t\tBad = True\n",
      "YK 0 75 steady_state 407.027 \t\tBad = True\n",
      "YK 0 76 steady_state 934.285 \t\tBad = True\n",
      "YK 0 110 tau 329.320 \t\tBad = False\n",
      "YK 0 157 tau 392.354 \t\tBad = True\n",
      "YK 0 171 steady_state 602.207 \t\tBad = True\n",
      "YK 2 3 tau 234.231 \t\tBad = True\n"
     ]
    }
   ],
   "source": [
    "sujets = ['AM','BMC','CS','DC','FM','IP','LB','OP','RS','SR','TN','YK']\n",
    "\n",
    "with open('parametre/Delete/Delete_list_trials_velocity_fct.pkl', 'rb') as fichier :\n",
    "    delete = pickle.load(fichier, encoding='latin1')\n",
    "    \n",
    "with open('parametre/Delete/Delete_list_Bad_trials_velocity.pkl', 'rb') as fichier :\n",
    "    Bad = pickle.load(fichier, encoding='latin1')\n",
    "\n",
    "relative_error_good = {'steady_state':[], 'latency':[], 'tau':[]} # , 'a_anti':[], 'start_anti':[]\n",
    "relative_error_bad = {'steady_state':[], 'latency':[], 'tau':[]} # , 'a_anti':[], 'start_anti':[]\n",
    "\n",
    "for s in sujets :\n",
    "    with open('parametre/fct_velocity/param_Fit_%s_fct_velocity.pkl'%s, 'rb') as fichier :\n",
    "        param = pickle.load(fichier, encoding='latin1')\n",
    "                   \n",
    "    for b in range(param['N_blocks']) :\n",
    "        for t in range(param['N_trials']) :\n",
    "            for p in relative_error_good.keys() :\n",
    "\n",
    "                param_ = param['fit_values'][b][t]\n",
    "                \n",
    "                try : relative_error = abs((param_[p].stderr / param_[p].value) *100)\n",
    "                except : relative_error = np.nan\n",
    "                if not relative_error : relative_error = np.nan\n",
    "                \n",
    "                if abs(relative_error)<200:\n",
    "                    if t in Bad[s][b] or t in delete[s][b] :\n",
    "                        relative_error_bad[p].append(relative_error)\n",
    "                    else :\n",
    "                        relative_error_good[p].append(relative_error)\n",
    "                else :\n",
    "                    if not np.isnan(relative_error) :\n",
    "                        print(s, b, t, p, '%.3f'%relative_error, '\\t\\tBad =', t in Bad[s][b] or t in delete[s][b])"
   ]
  },
  {
   "cell_type": "code",
   "execution_count": 3,
   "metadata": {
    "scrolled": true
   },
   "outputs": [
    {
     "data": {
      "image/png": "[encoded data removed]",
      "text/plain": [
       "<Figure size 720x1284.95 with 3 Axes>"
      ]
     },
     "metadata": {
      "needs_background": "light"
     },
     "output_type": "display_data"
    }
   ],
   "source": [
    "nb_param = len(relative_error_good.keys())\n",
    "fig, ax = plt.subplots(nb_param, 1, figsize=(10,10*nb_param/1.681))\n",
    "for num_p, p in enumerate(relative_error_good.keys()) :\n",
    "    ax[num_p].hist([relative_error_good[p], relative_error_bad[p]],\n",
    "                   color=['r', 'k'], density=True, bins=100)#, histtype='step', align='mid')\n",
    "    \n",
    "    ax[num_p].set_title(p)\n",
    "    #ax[num_p].set_ylim(0,1)"
   ]
  },
  {
   "cell_type": "markdown",
   "metadata": {},
   "source": [
    "# New Data"
   ]
  },
  {
   "cell_type": "code",
   "execution_count": 4,
   "metadata": {},
   "outputs": [
    {
     "name": "stdout",
     "output_type": "stream",
     "text": [
      "2 2 46 tau 211.196 \t\tBad = False\n",
      "2 2 89 tau 287.678 \t\tBad = False\n",
      "2 2 269 tau 200.672 \t\tBad = False\n",
      "2 2 337 tau 200.496 \t\tBad = False\n",
      "3 2 71 tau 587.457 \t\tBad = False\n",
      "3 2 233 tau 207.792 \t\tBad = True\n",
      "3 2 287 tau 245.275 \t\tBad = False\n",
      "3 2 314 tau 221.650 \t\tBad = False\n",
      "3 2 356 tau 839.637 \t\tBad = False\n",
      "3 2 375 tau 226.285 \t\tBad = False\n",
      "4 2 11 tau 310.206 \t\tBad = False\n",
      "4 2 49 steady_state 408.990 \t\tBad = True\n",
      "4 2 49 tau 6195.213 \t\tBad = True\n",
      "4 2 85 steady_state 358.054 \t\tBad = True\n",
      "4 2 238 steady_state 238.729 \t\tBad = False\n",
      "6 2 112 steady_state 318.028 \t\tBad = False\n",
      "6 2 112 tau 4782.270 \t\tBad = False\n",
      "6 2 185 tau 1724.314 \t\tBad = False\n",
      "6 2 206 steady_state 315.171 \t\tBad = False\n",
      "6 2 206 tau 4440.843 \t\tBad = False\n",
      "6 2 353 steady_state 203.343 \t\tBad = False\n",
      "6 2 353 tau 2206.152 \t\tBad = False\n",
      "7 2 38 steady_state 291.866 \t\tBad = False\n",
      "7 2 38 tau 2265.743 \t\tBad = False\n",
      "7 2 162 steady_state 1082.055 \t\tBad = False\n",
      "7 2 162 latency 519.505 \t\tBad = False\n",
      "7 2 162 tau 12848.743 \t\tBad = False\n",
      "7 2 200 steady_state 601.291 \t\tBad = True\n",
      "7 2 200 tau 8320.283 \t\tBad = True\n",
      "7 2 222 steady_state 314.334 \t\tBad = False\n",
      "7 2 259 latency 201.649 \t\tBad = False\n",
      "7 2 310 steady_state 533.682 \t\tBad = False\n",
      "7 2 310 tau 3553.534 \t\tBad = False\n",
      "7 2 335 tau 2300.282 \t\tBad = False\n",
      "8 2 5 steady_state 812.120 \t\tBad = False\n",
      "8 2 5 latency 238.691 \t\tBad = False\n",
      "8 2 5 tau 2783.817 \t\tBad = False\n",
      "8 2 66 steady_state 1042.871 \t\tBad = False\n",
      "8 2 66 latency 1400.071 \t\tBad = False\n",
      "8 2 66 tau 13097.516 \t\tBad = False\n",
      "8 2 137 steady_state 540.588 \t\tBad = False\n",
      "8 2 137 latency 219.940 \t\tBad = False\n",
      "8 2 137 tau 5931.474 \t\tBad = False\n",
      "10 2 83 tau 214.913 \t\tBad = False\n",
      "10 2 203 tau 240.131 \t\tBad = False\n",
      "10 2 227 tau 325.058 \t\tBad = False\n",
      "10 2 331 tau 450.711 \t\tBad = False\n",
      "11 2 3 steady_state 451.476 \t\tBad = False\n",
      "11 2 105 steady_state 266.568 \t\tBad = False\n",
      "11 2 105 tau 4279.221 \t\tBad = False\n",
      "11 2 150 steady_state 489.475 \t\tBad = False\n",
      "11 2 150 latency 797.345 \t\tBad = False\n",
      "11 2 150 tau 5596.785 \t\tBad = False\n",
      "11 2 214 tau 2650.465 \t\tBad = False\n",
      "11 2 226 steady_state 553.352 \t\tBad = False\n",
      "11 2 226 tau 2813.518 \t\tBad = False\n",
      "11 2 233 steady_state 353.802 \t\tBad = False\n",
      "11 2 233 tau 3357.711 \t\tBad = False\n",
      "11 2 300 tau 1097.753 \t\tBad = True\n",
      "12 2 15 steady_state 231.688 \t\tBad = False\n",
      "12 2 15 latency 251.717 \t\tBad = False\n",
      "12 2 15 tau 2742.367 \t\tBad = False\n",
      "12 2 53 steady_state 260.214 \t\tBad = False\n",
      "12 2 53 tau 1089.829 \t\tBad = False\n",
      "12 2 179 tau 217.754 \t\tBad = False\n",
      "15 2 236 steady_state 297.699 \t\tBad = False\n",
      "15 2 388 tau 941.698 \t\tBad = False\n",
      "16 2 99 steady_state 468.916 \t\tBad = False\n",
      "16 2 99 tau 2667.430 \t\tBad = False\n",
      "16 2 112 steady_state 542.772 \t\tBad = False\n",
      "16 2 114 steady_state 253.945 \t\tBad = False\n",
      "16 2 114 tau 2443.998 \t\tBad = False\n",
      "16 2 115 tau 11232.891 \t\tBad = True\n",
      "16 2 219 steady_state 237.649 \t\tBad = True\n",
      "16 2 219 tau 1659.287 \t\tBad = True\n",
      "16 2 222 tau 209.605 \t\tBad = False\n",
      "16 2 229 latency 25250.280 \t\tBad = True\n",
      "16 2 259 steady_state 217.488 \t\tBad = True\n",
      "16 2 280 steady_state 201.021 \t\tBad = True\n",
      "16 2 280 tau 1090.861 \t\tBad = True\n",
      "16 2 283 steady_state 347.164 \t\tBad = True\n",
      "16 2 287 steady_state 207.303 \t\tBad = True\n",
      "16 2 335 tau 521.298 \t\tBad = True\n",
      "17 2 7 tau 2585.686 \t\tBad = False\n",
      "17 2 71 steady_state 253.354 \t\tBad = False\n",
      "17 2 71 tau 1918.544 \t\tBad = False\n",
      "17 2 111 steady_state 274.839 \t\tBad = False\n",
      "17 2 111 tau 2478.825 \t\tBad = False\n",
      "17 2 147 steady_state 238.492 \t\tBad = False\n",
      "17 2 147 tau 1597.655 \t\tBad = False\n",
      "17 2 151 tau 2739.054 \t\tBad = False\n",
      "17 2 163 tau 4219.507 \t\tBad = False\n",
      "17 2 204 tau 1148.376 \t\tBad = True\n",
      "17 2 220 steady_state 203.847 \t\tBad = False\n",
      "17 2 220 tau 2073.197 \t\tBad = False\n",
      "17 2 222 tau 1379.913 \t\tBad = False\n",
      "17 2 235 tau 2593.496 \t\tBad = False\n",
      "17 2 256 tau 1462.619 \t\tBad = False\n",
      "17 2 260 steady_state 221.992 \t\tBad = False\n",
      "17 2 260 tau 2142.014 \t\tBad = False\n",
      "17 2 263 tau 3231.777 \t\tBad = False\n",
      "17 2 265 steady_state 288.398 \t\tBad = False\n",
      "17 2 265 tau 2318.949 \t\tBad = False\n",
      "17 2 284 tau 1686.155 \t\tBad = False\n",
      "17 2 285 tau 2576.551 \t\tBad = False\n",
      "17 2 287 tau 1590.044 \t\tBad = False\n",
      "17 2 299 tau 1312.289 \t\tBad = False\n",
      "17 2 310 steady_state 235.793 \t\tBad = False\n",
      "17 2 310 tau 2963.511 \t\tBad = False\n",
      "17 2 314 steady_state 242.694 \t\tBad = False\n",
      "17 2 318 tau 2197.152 \t\tBad = False\n",
      "17 2 341 tau 1468.967 \t\tBad = False\n",
      "17 2 342 tau 1459.907 \t\tBad = False\n",
      "17 2 343 steady_state 303.306 \t\tBad = False\n",
      "17 2 343 tau 2330.229 \t\tBad = False\n",
      "18 2 342 steady_state 260.261 \t\tBad = False\n",
      "18 2 342 tau 1614.105 \t\tBad = False\n",
      "18 2 387 steady_state 245.324 \t\tBad = False\n",
      "18 2 387 tau 417.320 \t\tBad = False\n",
      "19 2 99 tau 239.711 \t\tBad = True\n",
      "19 2 103 tau 216.354 \t\tBad = False\n",
      "19 2 386 tau 419.598 \t\tBad = False\n"
     ]
    }
   ],
   "source": [
    "relative_error_good = {'steady_state':[], 'latency':[], 'tau':[]} # , 'a_anti':[], 'start_anti':[]\n",
    "relative_error_bad = {'steady_state':[], 'latency':[], 'tau':[]} # , 'a_anti':[], 'start_anti':[]\n",
    "\n",
    "sujet = np.arange(1, 20)\n",
    "sujet = np.delete(sujet, 8)\n",
    "sujet = np.delete(sujet, 12)\n",
    "\n",
    "for s in sujet :\n",
    "    with open('parametre/new_data/fct_velocity/param_Fit_s%sBL50_fct_velocity.pkl'%s, 'rb') as fichier :\n",
    "        param = pickle.load(fichier, encoding='latin1')\n",
    "    \n",
    "    f = open('data/new_data/s%sBL50_errors.txt'%s, 'r')\n",
    "    delete = f.read()\n",
    "    delete = [int(x) for x in delete if x!='\\n']\n",
    "    \n",
    "    for t in range(len(delete)):#param['N_trials']) :\n",
    "        \n",
    "        for p in relative_error_good.keys() :\n",
    "            \n",
    "            param_ = param['fit_values'][0][t]\n",
    "            \n",
    "            \n",
    "            try : relative_error = abs((param_[p].stderr / param_[p].value) *100)\n",
    "            except : relative_error = np.nan\n",
    "            if not relative_error : relative_error = np.nan\n",
    "            \n",
    "            \n",
    "            if abs(relative_error)<200:\n",
    "                if delete[t] == 1 : relative_error_bad[p].append(relative_error)\n",
    "                else :              relative_error_good[p].append(relative_error)\n",
    "            else :\n",
    "                if not np.isnan(relative_error) :\n",
    "                    print(s, b, t, p, '%.3f'%relative_error, '\\t\\tBad =', delete[t] == 1)"
   ]
  },
  {
   "cell_type": "code",
   "execution_count": 5,
   "metadata": {},
   "outputs": [
    {
     "data": {
      "image/png": "[encoded data removed]",
      "text/plain": [
       "<Figure size 720x1284.95 with 3 Axes>"
      ]
     },
     "metadata": {
      "needs_background": "light"
     },
     "output_type": "display_data"
    }
   ],
   "source": [
    "nb_param = len(relative_error_good.keys())\n",
    "fig, ax = plt.subplots(nb_param, 1, figsize=(10,10*nb_param/1.681))\n",
    "for num_p, p in enumerate(relative_error_good.keys()) :\n",
    "    ax[num_p].hist((relative_error_good[p], relative_error_bad[p]),\n",
    "                   density=True, color=('r', 'k'), bins=100)\n",
    "    ax[num_p].set_title(p)"
   ]
  },
  {
   "cell_type": "raw",
   "metadata": {},
   "source": [
    "for s in sujet :\n",
    "    f = open('data/new_data/s%sBL50_errors.txt'%s, 'r')\n",
    "    delete = f.read()\n",
    "    \n",
    "    delete = [int(x) for x in delete if x!='\\n']\n",
    "    print(s, len(delete))"
   ]
  },
  {
   "cell_type": "code",
   "execution_count": null,
   "metadata": {},
   "outputs": [],
   "source": []
  }
 ],
 "metadata": {
  "kernel_info": {
   "name": "python3"
  },
  "kernelspec": {
   "display_name": "Python 3",
   "language": "python",
   "name": "python3"
  },
  "language_info": {
   "codemirror_mode": {
    "name": "ipython",
    "version": 3
   },
   "file_extension": ".py",
   "mimetype": "text/x-python",
   "name": "python",
   "nbconvert_exporter": "python",
   "pygments_lexer": "ipython3",
   "version": "3.6.8"
  },
  "nteract": {
   "version": "0.15.0"
  },
  "toc": {
   "base_numbering": 1,
   "nav_menu": {},
   "number_sections": true,
   "sideBar": true,
   "skip_h1_title": false,
   "title_cell": "Table of Contents",
   "title_sidebar": "Contents",
   "toc_cell": false,
   "toc_position": {},
   "toc_section_display": true,
   "toc_window_display": false
  }
 },
 "nbformat": 4,
 "nbformat_minor": 4
}
