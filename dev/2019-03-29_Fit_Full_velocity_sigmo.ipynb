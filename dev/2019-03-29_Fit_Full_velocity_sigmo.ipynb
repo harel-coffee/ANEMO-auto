{
 "cells": [
  {
   "cell_type": "code",
   "execution_count": null,
   "metadata": {},
   "outputs": [],
   "source": [
    "from ANEMO import ANEMO\n",
    "from ANEMO.edfreader import read_edf\n",
    "import pickle"
   ]
  },
  {
   "cell_type": "code",
   "execution_count": null,
   "metadata": {},
   "outputs": [],
   "source": [
    "sujets = ['AM','BMC','CS','DC','FM','IP','LB','OP','RS','SR','TN','YK']\n",
    "times = ['2017-10-23_100057','2017-09-26_095637', '2017-10-03_134421','2017-09-27_161040',\n",
    "        '2017-10-03_143803','2017-09-28_115250', '2017-09-20_151043','2017-10-26_121823',\n",
    "        '2017-11-08_094717','2017-11-16_153313', '2017-11-08_150410','2017-11-17_172706']"
   ]
  },
  {
   "cell_type": "code",
   "execution_count": null,
   "metadata": {
    "scrolled": true
   },
   "outputs": [],
   "source": [
    "def fit(s) :\n",
    "    print(sujets[s])\n",
    "    \n",
    "    with open('data/enregistrement_%s_%s.pkl'%(sujets[s], times[s]), 'rb') as fichier :\n",
    "        exp = pickle.load(fichier, encoding='latin1')\n",
    "\n",
    "    datafile = 'data/enregistrement_%s_%s.asc'%(sujets[s], times[s])\n",
    "    data = read_edf(datafile, 'TRIALID')\n",
    "\n",
    "    Fit = ANEMO.Fit(exp)\n",
    "    \n",
    "    param_fit = Fit.Fit_full(data, equation='fct_velocity_sigmo', plot=None,\n",
    "                             fig_width=10, t_label=15, t_text=12,\n",
    "                             file_fig='figures/Fit_fct_velocity_sigmo_%s'%sujets[s])\n",
    "\n",
    "    with open('parametre/param_Fit_%s_fct_velocity_sigmo.pkl'%sujets[s], 'wb') as fichier:\n",
    "        f = pickle.Pickler(fichier)\n",
    "        f.dump(param_fit)"
   ]
  },
  {
   "cell_type": "code",
   "execution_count": null,
   "metadata": {
    "scrolled": true
   },
   "outputs": [],
   "source": [
    "fit(0)"
   ]
  },
  {
   "cell_type": "raw",
   "metadata": {},
   "source": [
    "fit(1)"
   ]
  },
  {
   "cell_type": "raw",
   "metadata": {},
   "source": [
    "fit(2)"
   ]
  },
  {
   "cell_type": "raw",
   "metadata": {},
   "source": [
    "fit(3)"
   ]
  },
  {
   "cell_type": "raw",
   "metadata": {},
   "source": [
    "fit(4)"
   ]
  },
  {
   "cell_type": "raw",
   "metadata": {},
   "source": [
    "fit(5)"
   ]
  },
  {
   "cell_type": "raw",
   "metadata": {},
   "source": [
    "fit(6)"
   ]
  },
  {
   "cell_type": "raw",
   "metadata": {},
   "source": [
    "fit(7)"
   ]
  },
  {
   "cell_type": "raw",
   "metadata": {},
   "source": [
    "fit(8)"
   ]
  },
  {
   "cell_type": "raw",
   "metadata": {},
   "source": [
    "fit(9)"
   ]
  },
  {
   "cell_type": "raw",
   "metadata": {
    "scrolled": true
   },
   "source": [
    "fit(10)"
   ]
  },
  {
   "cell_type": "raw",
   "metadata": {},
   "source": [
    "fit(11)"
   ]
  },
  {
   "cell_type": "code",
   "execution_count": null,
   "metadata": {},
   "outputs": [],
   "source": []
  }
 ],
 "metadata": {
  "kernelspec": {
   "display_name": "Python 3",
   "language": "python",
   "name": "python3"
  },
  "language_info": {
   "codemirror_mode": {
    "name": "ipython",
    "version": 3
   },
   "file_extension": ".py",
   "mimetype": "text/x-python",
   "name": "python",
   "nbconvert_exporter": "python",
   "pygments_lexer": "ipython3",
   "version": "3.5.2"
  }
 },
 "nbformat": 4,
 "nbformat_minor": 2
}
