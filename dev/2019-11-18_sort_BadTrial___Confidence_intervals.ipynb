{
 "cells": [
  {
   "cell_type": "code",
   "execution_count": 1,
   "metadata": {},
   "outputs": [],
   "source": [
    "from ANEMO import ANEMO\n",
    "from ANEMO.edfreader import read_edf\n",
    "import pickle\n",
    "import numpy as np"
   ]
  },
  {
   "cell_type": "raw",
   "metadata": {},
   "source": [
    "import lmfit"
   ]
  },
  {
   "cell_type": "code",
   "execution_count": 2,
   "metadata": {},
   "outputs": [],
   "source": [
    "sujets = ['AM','BMC','CS','DC','FM','IP','LB','OP','RS','SR','TN','YK']\n",
    "times = ['2017-10-23_100057','2017-09-26_095637', '2017-10-03_134421','2017-09-27_161040',\n",
    "        '2017-10-03_143803','2017-09-28_115250', '2017-09-20_151043','2017-10-26_121823',\n",
    "        '2017-11-08_094717','2017-11-16_153313', '2017-11-08_150410','2017-11-17_172706']"
   ]
  },
  {
   "cell_type": "code",
   "execution_count": 3,
   "metadata": {},
   "outputs": [],
   "source": [
    "def Fit_trial(trial=22, block=0, s=0,\n",
    "              time_sup=280, step_fit=2, do_whitening=False,\n",
    "              before_sacc=5, after_sacc=15) :\n",
    "\n",
    "\n",
    "    with open('data/enregistrement_%s_%s.pkl'%(sujets[s], times[s]), 'rb') as fichier :\n",
    "        exp = pickle.load(fichier, encoding='latin1')\n",
    "    data = read_edf('data/enregistrement_%s_%s.asc'%(sujets[s], times[s]), 'TRIALID')\n",
    "\n",
    "    Fit = ANEMO.Fit(exp)\n",
    "    A = ANEMO(exp)\n",
    "    \n",
    "    \n",
    "    from lmfit import  Model, Parameters\n",
    "\n",
    "    \n",
    "    #-----------------------------------------------------------------------------\n",
    "    data_trial_ = data[trial+200*block]\n",
    "    arg = A.arg(data_trial_, trial=trial, block=block)\n",
    "    \n",
    "    data_trial = A.velocity_NAN(**arg)\n",
    "    \n",
    "    trackertime = arg.trackertime\n",
    "    TargetOn, StimulusOf    = arg.TargetOn, arg.StimulusOf\n",
    "    saccades    = arg.saccades\n",
    "\n",
    "    trackertime = arg.trackertime\n",
    "    t_0 = trackertime[0]\n",
    "\n",
    "    dir_target = arg.dir_target\n",
    "    #-----------------------------------------------------------------------------\n",
    "\n",
    "    if   step_fit == 1 : vary = True\n",
    "    elif step_fit == 2 : vary = False\n",
    "\n",
    "\n",
    "    if time_sup is not None :\n",
    "        data_trial = data_trial[:-time_sup]\n",
    "        trackertime = trackertime[:-time_sup]\n",
    "\n",
    "    if do_whitening :\n",
    "        for x in range(len(data_trial)) :\n",
    "            if np.isnan(data_trial[x]) :\n",
    "                if x == 0 : data_trial[x] = 0\n",
    "                else :      data_trial[x] = data_trial[x-1]\n",
    "\n",
    "        data_trial = whitening(data_trial)\n",
    "\n",
    "    \n",
    "    value_latency, value_steady_state, value_anti = A.classical_method.Full(data_trial, TargetOn-t_0)\n",
    "        \n",
    "    \n",
    "\n",
    "    #----------------------------------------------\n",
    "    max_latency = []\n",
    "    for s in range(len(saccades)) :\n",
    "        if (saccades[s][0]-t_0) >= (TargetOn-t_0+100) : max_latency.append((saccades[s][0]-t_0))\n",
    "    if max_latency == [] :                              max_latency.append(len(trackertime))\n",
    "    max_latency = max_latency[0]\n",
    "\n",
    "    if value_latency >= max_latency-50 : value_latency = max_latency-150\n",
    "    if value_latency > 250 :             value_latency = TargetOn-t_0+100\n",
    "    #----------------------------------------------\n",
    "\n",
    "    param_fit=[{'name':'steady_state', 'value':value_steady_state, 'min':5.,                 'max':40.,             'vary':True  },\n",
    "               {'name':'dir_target',   'value':dir_target,         'min':None,               'max':None,            'vary':False },\n",
    "               {'name':'a_anti',       'value':value_anti,         'min':-40.,               'max':40.,             'vary':True  },\n",
    "               {'name':'latency',      'value':value_latency,      'min':TargetOn-t_0+75,    'max':max_latency,     'vary':True  },\n",
    "               {'name':'start_anti',   'value':TargetOn-t_0-100,   'min':StimulusOf-t_0-200, 'max':TargetOn-t_0+75, 'vary':'vary'},\n",
    "               {'name':'tau',          'value':15.,                'min':13.,                'max':80.,             'vary':'vary'}]\n",
    "\n",
    "    inde_vars = {'x':np.arange(len(trackertime))}\n",
    "\n",
    "    equation = A.Equation.fct_velocity\n",
    "\n",
    "    params = Parameters()\n",
    "    model = Model(equation, independent_vars=inde_vars.keys())\n",
    "\n",
    "    for num_par in range(len(param_fit)) :\n",
    "\n",
    "        if 'expr' in param_fit[num_par].keys() :\n",
    "            params.add(param_fit[num_par]['name'], expr=param_fit[num_par]['expr'])\n",
    "        else :\n",
    "            if param_fit[num_par]['vary'] == 'vary' : var = vary\n",
    "            else :                                    var = param_fit[num_par]['vary']\n",
    "            params.add(param_fit[num_par]['name'],\n",
    "                       value=param_fit[num_par]['value'],\n",
    "                       min=param_fit[num_par]['min'],\n",
    "                       max=param_fit[num_par]['max'],\n",
    "                       vary=var)\n",
    "\n",
    "    params.add('do_whitening', value=do_whitening, vary=False)\n",
    "\n",
    "    if step_fit == 1 :\n",
    "\n",
    "        result_deg = model.fit(data_trial, params, nan_policy='omit', **inde_vars)\n",
    "\n",
    "    elif step_fit == 2 :\n",
    "\n",
    "        out = model.fit(data_trial, params, nan_policy='omit', **inde_vars)\n",
    "\n",
    "        # make the other parameters vary now\n",
    "        for num_par in range(len(param_fit)) :\n",
    "            if 'vary' in param_fit[num_par].keys() :\n",
    "                if param_fit[num_par]['vary'] == 'vary' :\n",
    "                    out.params[param_fit[num_par]['name']].set(vary=True)\n",
    "\n",
    "        result_deg = model.fit(data_trial, out.params, method='nelder', nan_policy='omit', **inde_vars)\n",
    "\n",
    "    return result_deg"
   ]
  },
  {
   "cell_type": "code",
   "execution_count": 4,
   "metadata": {},
   "outputs": [],
   "source": [
    "lala = Fit_trial()"
   ]
  },
  {
   "cell_type": "code",
   "execution_count": 5,
   "metadata": {
    "scrolled": true
   },
   "outputs": [
    {
     "data": {
      "text/html": [
       "<h2> Model</h2> Model(fct_velocity) <h2>Fit Statistics</h2><table><tr><td>fitting method</td><td>Nelder-Mead</td><td></td></tr><tr><td># function evals</td><td>589</td><td></td></tr><tr><td># data points</td><td>1589</td><td></td></tr><tr><td># variables</td><td>5</td><td></td></tr><tr><td>chi-square</td><td> 34652.7438</td><td></td></tr><tr><td>reduced chi-square</td><td> 21.8767322</td><td></td></tr><tr><td>Akaike info crit.</td><td> 4907.73024</td><td></td></tr><tr><td>Bayesian info crit.</td><td> 4934.58454</td><td></td></tr></table><h2>Variables</h2><table><tr><th> name </th><th> value </th><th> standard error </th><th> relative error </th><th> initial value </th><th> min </th><th> max </th><th> vary </th></tr><tr><td> steady_state </td><td>  5.00000007 </td><td>  1.5336e-04 </td><td> (0.00%) </td><td> 5.0 </td><td>  5.00000000 </td><td>  40.0000000 </td><td> True </td></tr><tr><td> dir_target </td><td> -1.00000000 </td><td>  0.00000000 </td><td> (0.00%) </td><td> -1.0 </td><td>        -inf </td><td>         inf </td><td> False </td></tr><tr><td> a_anti </td><td>  5.31395372 </td><td>  2.43289157 </td><td> (45.78%) </td><td> 6.435169637226267 </td><td> -40.0000000 </td><td>  40.0000000 </td><td> True </td></tr><tr><td> latency </td><td>  1300.07397 </td><td>  4.75433367 </td><td> (0.37%) </td><td> 1254.0 </td><td>  1229.00000 </td><td>  1348.00000 </td><td> True </td></tr><tr><td> start_anti </td><td>  975.999655 </td><td>  82.6048276 </td><td> (8.46%) </td><td> 1054 </td><td>  654.000000 </td><td>  1229.00000 </td><td> True </td></tr><tr><td> tau </td><td>  25.4413926 </td><td>  5.34805741 </td><td> (21.02%) </td><td> 15.0 </td><td>  13.0000000 </td><td>  80.0000000 </td><td> True </td></tr><tr><td> do_whitening </td><td>  0.00000000 </td><td>  0.00000000 </td><td>  </td><td> False </td><td>        -inf </td><td>         inf </td><td> False </td></tr></table><h2>Correlations (unreported correlations are < 0.100)</h2><table><tr><td>a_anti</td><td>start_anti</td><td>0.8265</td></tr><tr><td>latency</td><td>tau</td><td>-0.3518</td></tr><tr><td>a_anti</td><td>latency</td><td>-0.2280</td></tr><tr><td>latency</td><td>start_anti</td><td>-0.1133</td></tr></table>"
      ],
      "text/plain": [
       "<lmfit.model.ModelResult at 0x7fc2cd518160>"
      ]
     },
     "execution_count": 5,
     "metadata": {},
     "output_type": "execute_result"
    }
   ],
   "source": [
    "lala"
   ]
  },
  {
   "cell_type": "code",
   "execution_count": 6,
   "metadata": {},
   "outputs": [
    {
     "name": "stderr",
     "output_type": "stream",
     "text": [
      "/usr/local/lib/python3.6/dist-packages/lmfit/confidence.py:318: UserWarning: rel_change=0.0 < 1e-05 at iteration 2 and prob(steady_state=4.9996933475860335) = 0.005363616297350077 < max(sigmas).\n",
      "  warn(errmsg)\n",
      "/usr/local/lib/python3.6/dist-packages/lmfit/confidence.py:310: UserWarning: maxiter=200 reached and prob(steady_state=5.030825672694556) = 0.46280670155752085 < max(sigmas).\n",
      "  warn(errmsg)\n",
      "/usr/local/lib/python3.6/dist-packages/lmfit/confidence.py:318: UserWarning: rel_change=-1.0 < 1e-05 at iteration 4 and prob(latency=1319.09130035226) = 0.0 < max(sigmas).\n",
      "  warn(errmsg)\n",
      "/usr/local/lib/python3.6/dist-packages/lmfit/confidence.py:318: UserWarning: rel_change=0.0 < 1e-05 at iteration 4 and prob(tau=4.049162978018495) = 0.9884404041459219 < max(sigmas).\n",
      "  warn(errmsg)\n"
     ]
    },
    {
     "name": "stdout",
     "output_type": "stream",
     "text": [
      "                 99.73%    95.45%    68.27%    _BEST_    68.27%    95.45%    99.73%\n",
      " steady_state:      -inf      -inf      -inf   5.00000      +inf      +inf      +inf\n",
      " a_anti      :  -3.96047  -2.63993  -1.32163   5.31395  +1.31001  +2.75519  +3.94885\n",
      " latency     : -21.81416 -16.69852  -4.451641300.07397      +inf      +inf      +inf\n",
      " start_anti  :-138.33275 -94.55131 -49.06810 975.99966 +42.57387 +94.26798+175.50848\n",
      " tau         :      -inf  -9.88653  -5.06434  25.44139  +4.86154 +10.13943 +15.73523\n"
     ]
    }
   ],
   "source": [
    "print(lala.ci_report())"
   ]
  },
  {
   "cell_type": "code",
   "execution_count": 7,
   "metadata": {},
   "outputs": [
    {
     "name": "stdout",
     "output_type": "stream",
     "text": [
      "steady_state 0.0030672241056896774\n",
      "dir_target -0.0\n",
      "a_anti 45.78307780557688\n",
      "latency 0.36569716737371893\n",
      "start_anti 8.463612378393579\n",
      "tau 21.021087523211463\n"
     ]
    },
    {
     "ename": "ZeroDivisionError",
     "evalue": "division by zero",
     "output_type": "error",
     "traceback": [
      "\u001b[0;31m---------------------------------------------------------------------------\u001b[0m",
      "\u001b[0;31mZeroDivisionError\u001b[0m                         Traceback (most recent call last)",
      "\u001b[0;32m<ipython-input-7-e6b4ec243fe7>\u001b[0m in \u001b[0;36m<module>\u001b[0;34m\u001b[0m\n\u001b[1;32m      1\u001b[0m \u001b[0;32mfor\u001b[0m \u001b[0ma\u001b[0m \u001b[0;32min\u001b[0m \u001b[0mlala\u001b[0m\u001b[0;34m.\u001b[0m\u001b[0mparams\u001b[0m \u001b[0;34m:\u001b[0m\u001b[0;34m\u001b[0m\u001b[0;34m\u001b[0m\u001b[0m\n\u001b[1;32m      2\u001b[0m     \u001b[0mb\u001b[0m \u001b[0;34m=\u001b[0m \u001b[0mlala\u001b[0m\u001b[0;34m.\u001b[0m\u001b[0mparams\u001b[0m\u001b[0;34m[\u001b[0m\u001b[0ma\u001b[0m\u001b[0;34m]\u001b[0m\u001b[0;34m\u001b[0m\u001b[0;34m\u001b[0m\u001b[0m\n\u001b[0;32m----> 3\u001b[0;31m     \u001b[0mprint\u001b[0m\u001b[0;34m(\u001b[0m\u001b[0ma\u001b[0m\u001b[0;34m,\u001b[0m \u001b[0;34m(\u001b[0m\u001b[0mb\u001b[0m\u001b[0;34m.\u001b[0m\u001b[0mstderr\u001b[0m\u001b[0;34m/\u001b[0m\u001b[0mb\u001b[0m\u001b[0;34m.\u001b[0m\u001b[0mvalue\u001b[0m\u001b[0;34m)\u001b[0m\u001b[0;34m*\u001b[0m\u001b[0;36m100\u001b[0m\u001b[0;34m)\u001b[0m\u001b[0;34m\u001b[0m\u001b[0;34m\u001b[0m\u001b[0m\n\u001b[0m",
      "\u001b[0;31mZeroDivisionError\u001b[0m: division by zero"
     ]
    }
   ],
   "source": [
    "for a in lala.params :\n",
    "    b = lala.params[a]\n",
    "    print(a, (b.stderr/b.value)*100)"
   ]
  },
  {
   "cell_type": "code",
   "execution_count": null,
   "metadata": {},
   "outputs": [],
   "source": []
  }
 ],
 "metadata": {
  "kernelspec": {
   "display_name": "Python 3",
   "language": "python",
   "name": "python3"
  },
  "language_info": {
   "codemirror_mode": {
    "name": "ipython",
    "version": 3
   },
   "file_extension": ".py",
   "mimetype": "text/x-python",
   "name": "python",
   "nbconvert_exporter": "python",
   "pygments_lexer": "ipython3",
   "version": "3.6.9"
  }
 },
 "nbformat": 4,
 "nbformat_minor": 2
}
