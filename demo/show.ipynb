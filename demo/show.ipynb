{
 "cells": [
  {
   "cell_type": "code",
   "execution_count": null,
   "metadata": {},
   "outputs": [],
   "source": [
    "%matplotlib inline\n",
    "%config InlineBackend.close_figures=False \n",
    "\n",
    "from ANEMO import ANEMO\n",
    "from ANEMO import read_edf\n",
    "\n",
    "import os\n",
    "import pickle\n",
    "import numpy as np"
   ]
  },
  {
   "cell_type": "markdown",
   "metadata": {},
   "source": [
    "to retrieve the parameters of the experiment"
   ]
  },
  {
   "cell_type": "code",
   "execution_count": null,
   "metadata": {},
   "outputs": [],
   "source": [
    "file = os.path.join('data', 'enregistrement_AM_2017-10-23_100057.pkl')\n",
    "with open(file, 'rb') as fichier :\n",
    "    param_exp = pickle.load(fichier, encoding='latin1')"
   ]
  },
  {
   "cell_type": "code",
   "execution_count": null,
   "metadata": {},
   "outputs": [],
   "source": [
    "Plot = ANEMO.Plot(param_exp)\n",
    "Fit = ANEMO.Fit(param_exp)\n",
    "ANEMO = ANEMO(param_exp)"
   ]
  },
  {
   "cell_type": "markdown",
   "metadata": {},
   "source": [
    "to retrieve the data"
   ]
  },
  {
   "cell_type": "code",
   "execution_count": null,
   "metadata": {},
   "outputs": [],
   "source": [
    "resultats = os.path.join('data', 'enregistrement_AM_2017-10-23_100057.asc')\n",
    "data = read_edf(resultats, 'TRIALID')"
   ]
  },
  {
   "cell_type": "markdown",
   "metadata": {},
   "source": [
    "to generate the fit parameters"
   ]
  },
  {
   "cell_type": "code",
   "execution_count": null,
   "metadata": {},
   "outputs": [],
   "source": [
    "list_fct = {'velocity':'fct_velocity', 'position':'fct_position', 'saccade':'fct_saccade'}"
   ]
  },
  {
   "cell_type": "raw",
   "metadata": {},
   "source": [
    "for fct in list_fct.values() :\n",
    "    param = Fit.Fit_full(data, equation=fct, step_fit=2, do_whitening=False)\n",
    "    \n",
    "    os.makedirs('parametre')\n",
    "    name_param = 'param_Fit_AM_%s_2_step_False_whitening.pkl'%(fct)\n",
    "    file = os.path.join('parametre', name_param)\n",
    "    with open(file, 'wb') as fichier:\n",
    "        f = pickle.Pickler(fichier)\n",
    "        f.dump(param)"
   ]
  },
  {
   "cell_type": "markdown",
   "metadata": {},
   "source": [
    "to retrieve the fit parameters"
   ]
  },
  {
   "cell_type": "code",
   "execution_count": null,
   "metadata": {},
   "outputs": [],
   "source": [
    "Full_param_fit = {}\n",
    "for fct in list_fct.values() :\n",
    "    try :\n",
    "        file = os.path.join('parametre/param_Fit_AM_' + fct + '_2_step_False_whitening.pkl')\n",
    "        with open(file, 'rb') as fichier :\n",
    "            Full_param_fit[fct] = pickle.load(fichier, encoding='latin1')   \n",
    "    except :\n",
    "        Full_param_fit[fct] = None"
   ]
  },
  {
   "cell_type": "markdown",
   "metadata": {},
   "source": [
    "# Figure"
   ]
  },
  {
   "cell_type": "code",
   "execution_count": null,
   "metadata": {
    "scrolled": false
   },
   "outputs": [],
   "source": [
    "Full_list = Plot.show_fit(data, list_fct, Full_param_fit, show_data='velocity')"
   ]
  },
  {
   "cell_type": "markdown",
   "metadata": {},
   "source": [
    "to retrieve the lists"
   ]
  },
  {
   "cell_type": "code",
   "execution_count": null,
   "metadata": {},
   "outputs": [],
   "source": [
    "for s in ['data', 'fit'] :\n",
    "    print(s, '\\n-------------------------------------------')\n",
    "    \n",
    "    for fct in list_fct.keys():\n",
    "        list_ok, list_bad = [], []\n",
    "        for block in range(3) :\n",
    "            list_ok.append([])\n",
    "            list_bad.append([])\n",
    "\n",
    "            for trial in range(200) :\n",
    "                if Full_list[s][fct][block][trial]=='OK' :\n",
    "                    list_ok[block].append(trial)\n",
    "                elif Full_list[s][fct][block][trial]=='Bad' :\n",
    "                    list_bad[block].append(trial)\n",
    "\n",
    "            list_bad[block].sort(); list_ok[block].sort()\n",
    "\n",
    "        print(fct, ':\\n\\tOK:', list_ok, '\\n\\tBad:', list_bad, end='\\n\\n')"
   ]
  },
  {
   "cell_type": "code",
   "execution_count": null,
   "metadata": {},
   "outputs": [],
   "source": []
  }
 ],
 "metadata": {
  "kernelspec": {
   "display_name": "Python 3",
   "language": "python",
   "name": "python3"
  },
  "language_info": {
   "codemirror_mode": {
    "name": "ipython",
    "version": 3
   },
   "file_extension": ".py",
   "mimetype": "text/x-python",
   "name": "python",
   "nbconvert_exporter": "python",
   "pygments_lexer": "ipython3",
   "version": "3.5.2"
  }
 },
 "nbformat": 4,
 "nbformat_minor": 2
}
